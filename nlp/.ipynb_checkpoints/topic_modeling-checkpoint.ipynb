{
 "cells": [
  {
   "cell_type": "code",
   "execution_count": 1,
   "metadata": {},
   "outputs": [],
   "source": [
    "import numpy as np\n",
    "import nltk\n",
    "import gensim"
   ]
  },
  {
   "cell_type": "markdown",
   "metadata": {},
   "source": [
    "# Topic modeling"
   ]
  },
  {
   "cell_type": "code",
   "execution_count": 2,
   "metadata": {},
   "outputs": [],
   "source": [
    "text = \"Buda Castle (Hungarian: Budavári Palota, German: Burgpalast) is the historical castle and palace complex of the Hungarian kings in Budapest. It was first completed in 1265, but the massive Baroque palace today occupying most of the site was built between 1749 and 1769. The complex in the past was referred to as either the Royal Palace (Hungarian: Királyi-palota) or the Royal Castle (Hungarian: Királyi Vár, German: Königliche Burg). The castle now houses the Hungarian National Gallery and The Budapest History Museum. \\\n",
    "Buda Castle sits on the south tip of Castle Hill, bounded on the north by what is known as the Castle District (Várnegyed), which is famous for medieval, Baroque and 19th-century houses, churches and public buildings. The hill is linked to Clark Ádám Square and the Széchenyi Chain Bridge by the Castle Hill Funicular. The castle is a part of the Budapest World Heritage Site, so declared in 1987.\""
   ]
  },
  {
   "cell_type": "code",
   "execution_count": 3,
   "metadata": {},
   "outputs": [
    {
     "data": {
      "text/plain": [
       "'Buda Castle (Hungarian: Budavári Palota, German: Burgpalast) is the historical castle and palace complex of the Hungarian kings in Budapest. It was first completed in 1265, but the massive Baroque palace today occupying most of the site was built between 1749 and 1769. The complex in the past was referred to as either the Royal Palace (Hungarian: Királyi-palota) or the Royal Castle (Hungarian: Királyi Vár, German: Königliche Burg). The castle now houses the Hungarian National Gallery and The Budapest History Museum. Buda Castle sits on the south tip of Castle Hill, bounded on the north by what is known as the Castle District (Várnegyed), which is famous for medieval, Baroque and 19th-century houses, churches and public buildings. The hill is linked to Clark Ádám Square and the Széchenyi Chain Bridge by the Castle Hill Funicular. The castle is a part of the Budapest World Heritage Site, so declared in 1987.'"
      ]
     },
     "execution_count": 3,
     "metadata": {},
     "output_type": "execute_result"
    }
   ],
   "source": [
    "text"
   ]
  },
  {
   "cell_type": "code",
   "execution_count": null,
   "metadata": {},
   "outputs": [],
   "source": []
  }
 ],
 "metadata": {
  "file_extension": ".py",
  "kernelspec": {
   "display_name": "Python 3",
   "language": "python",
   "name": "python3"
  },
  "language_info": {
   "codemirror_mode": {
    "name": "ipython",
    "version": 3
   },
   "file_extension": ".py",
   "mimetype": "text/x-python",
   "name": "python",
   "nbconvert_exporter": "python",
   "pygments_lexer": "ipython3",
   "version": "3.7.4"
  },
  "mimetype": "text/x-python",
  "name": "python",
  "npconvert_exporter": "python",
  "pygments_lexer": "ipython3",
  "version": 3
 },
 "nbformat": 4,
 "nbformat_minor": 2
}
