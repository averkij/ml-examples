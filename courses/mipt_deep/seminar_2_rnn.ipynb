{
 "cells": [
  {
   "cell_type": "markdown",
   "metadata": {
    "colab_type": "text",
    "id": "C1IMoqFPZ-_E"
   },
   "source": [
    "<!-- #  Семинар: Рекурентные нейронные сети. -->\n",
    "\n",
    "В данной работе вам предлагается посмотреть на всю мощь рекурентных нейронных сетей решив небольшую задачу. \n",
    "\n",
    " Предлагаю решить вам задачу расшифровки сообщения с помощью RNN. \n",
    " Представьте, что вам даны сообщения зашифрованные с помощью шифра Цезаря, являющимся одним из самый простых шифров в криптографии.\n",
    " "
   ]
  },
  {
   "cell_type": "markdown",
   "metadata": {
    "colab_type": "text",
    "id": "1YNGZnxua61K"
   },
   "source": [
    "Шифр цезаря работает следующим образом: каждя буква \n",
    "исходного алфавита сдвигается на K символов вправо: \n",
    "\n",
    "Пусть нам дано сообщение: message=\"RNN IS NOT AI\", тогда наше шифрование выполняющиеся по правилу f, с K=2, даст нам результат:\n",
    "f(message, K) = TPPAKUAPQVACK\n",
    "\n",
    "Для удобство можно взять символы только одного регистра в нашей имплементации, и сказать, что все буквы не английского алфавита будут отмечены как прочерк \"-\"."
   ]
  },
  {
   "cell_type": "code",
   "execution_count": 4,
   "metadata": {
    "colab": {},
    "colab_type": "code",
    "id": "zPH9sAiDe77A"
   },
   "outputs": [],
   "source": [
    "import random\n",
    "import torch\n",
    "import torch.nn as nn\n",
    "import torch.nn.functional as F\n"
   ]
  },
  {
   "cell_type": "code",
   "execution_count": 5,
   "metadata": {
    "colab": {},
    "colab_type": "code",
    "id": "xoZVmCuEdO7Y"
   },
   "outputs": [],
   "source": [
    "# Определим ключ и словарь\n",
    "key = 2\n",
    "vocab = [char for char in ' -ABCDEFGHIJKLMNOPQRSTUVWXYZ']"
   ]
  },
  {
   "cell_type": "code",
   "execution_count": 7,
   "metadata": {
    "colab": {
     "base_uri": "https://localhost:8080/",
     "height": 34
    },
    "colab_type": "code",
    "id": "yAsJDtSsGgOV",
    "outputId": "26271074-0e8a-43b4-8e1a-7320e080e3bd"
   },
   "outputs": [
    {
     "name": "stdout",
     "output_type": "stream",
     "text": [
      "TPPAKUAPQVACK\n"
     ]
    }
   ],
   "source": [
    "# Напишем функiteцию, которая делает \n",
    "def encrypt(text, key):\n",
    "    \"\"\"Returns the encrypted form of 'text'.\"\"\"\n",
    "\n",
    "    indexes = [vocab.index(char) for char in text]\n",
    "    encrypted_indexes = [(key + idx) % len(vocab) for idx in indexes]   \n",
    "    encrypted_chars = [vocab[idx] for idx in encrypted_indexes]\n",
    "    encrypted = ''.join(encrypted_chars)\n",
    "\n",
    "    return encrypted\n",
    "\n",
    "print(encrypt('RNN IS NOT AI', key))"
   ]
  },
  {
   "cell_type": "markdown",
   "metadata": {
    "colab_type": "text",
    "id": "Z6QNnDJPdxXC"
   },
   "source": [
    "Теперь нам необходимо нагенерировать датасет для решения задачи обучения с учителем. Нашим датасетом может быть случайно зашифрованные фразы, и тогда его структура будет следующей:\n",
    "message --- encrypted message\n",
    "\n",
    "Это пример параллельного корпуса из НЛП.\n",
    "\n",
    "Но нам необходимо представить каждую букву в виде ее номера в словаре, чтобы далее воспользоваться Embedding слоем. \n",
    "\n",
    "Для простоты давайте допустим, что все строки имеют одинаковую длину seq_len"
   ]
  },
  {
   "cell_type": "code",
   "execution_count": 8,
   "metadata": {
    "colab": {},
    "colab_type": "code",
    "id": "Te9ugR1AIjEw"
   },
   "outputs": [],
   "source": [
    "num_examples = 256 # размер датасета\n",
    "seq_len = 18 # максимальная длина строки\n",
    "\n",
    "\n",
    "def encrypted_dataset(dataset_len, k):\n",
    "    \"\"\"\n",
    "    Return: List(Tuple(Tensor encrypted, Tensor source))\n",
    "    \"\"\"\n",
    "    dataset = []\n",
    "    for x in range(dataset_len):\n",
    "        random_message  = ''.join([random.choice(vocab) for _ in range(seq_len)])\n",
    "        encrypt_random_message = encrypt(''.join(random_message), k)\n",
    "        src = [vocab.index(char) for char in random_message]\n",
    "        tgt = [vocab.index(char) for char in encrypt_random_message]\n",
    "        dataset.append([torch.tensor(tgt), torch.tensor(src)])\n",
    "    return dataset"
   ]
  },
  {
   "cell_type": "code",
   "execution_count": 11,
   "metadata": {},
   "outputs": [
    {
     "data": {
      "text/plain": [
       "(tensor([ 4, 14,  9, 18,  3,  6,  1, 27, 19, 18, 23, 12, 18, 11,  1, 11,  0,  0]),\n",
       " tensor([ 2, 12,  7, 16,  1,  4, 27, 25, 17, 16, 21, 10, 16,  9, 27,  9, 26, 26]))"
      ]
     },
     "execution_count": 11,
     "metadata": {},
     "output_type": "execute_result"
    }
   ],
   "source": [
    "df = encrypted_dataset(num_examples, k=2)\n",
    "df[0][0], df[0][1]"
   ]
  },
  {
   "cell_type": "markdown",
   "metadata": {
    "colab_type": "text",
    "id": "0RUxQqTCGUtx"
   },
   "source": [
    "**Pytorch RNN:**\n",
    "$$h_t = \\text{tanh}(W_{ih} x_t + b_{ih} + W_{hh} h_{(t-1)} + b_{hh})$$\n",
    "\n",
    "**where : $h_t$ is the hidden state at time $t$, $x_t$ is\n",
    "    the input at time $t$, and $h_{(t-1)}$ is the hidden state of the\n",
    "    previous layer at time $t-1$ or the initial hidden state at time $0$.**\n",
    "    \n",
    "Args: \n",
    "\n",
    "$input\\_size$: The number of expected features in the input $x$ <br>\n",
    "$hidden\\_size$: The number of features in the hidden state $h$ <br>\n",
    "$num\\_layers$: Number of recurrent layers. E.g., setting <br>\n",
    "\n",
    "![img](https://neuralnet.info/wp-content/uploads/2017/08/3-tanh-activation-function.png)"
   ]
  },
  {
   "cell_type": "code",
   "execution_count": 69,
   "metadata": {},
   "outputs": [
    {
     "data": {
      "text/plain": [
       "(tensor(4), tensor(3))"
      ]
     },
     "execution_count": 69,
     "metadata": {},
     "output_type": "execute_result"
    }
   ],
   "source": [
    "(model.rnn.weight_ih_l0.data.abs() > 1).sum(), (model.rnn.weight_hh_l0.data.abs() > 0.2).sum()\n"
   ]
  },
  {
   "cell_type": "code",
   "execution_count": 71,
   "metadata": {},
   "outputs": [
    {
     "data": {
      "text/plain": [
       "[4.2361503, 1.0022643]"
      ]
     },
     "execution_count": 71,
     "metadata": {},
     "output_type": "execute_result"
    }
   ],
   "source": [
    "from scipy import linalg\n",
    "list(map(linalg.norm, [model.rnn.weight_ih_l0.data, model.rnn.weight_hh_l0.data]))"
   ]
  },
  {
   "cell_type": "code",
   "execution_count": 41,
   "metadata": {
    "colab": {},
    "colab_type": "code",
    "id": "03y7VB9QLorQ"
   },
   "outputs": [],
   "source": [
    "class Decipher(nn.Module):\n",
    "    def __init__(self, vocab_size, embedding_dim, hidden_dim, num_layers,\n",
    "                 rnn_type='simple'):\n",
    "        \"\"\"\n",
    "        :params: int vocab_size \n",
    "        :params: int embedding_dim\n",
    "        :params\n",
    "        \"\"\"\n",
    "        super().__init__()\n",
    "        self.embed = nn.Embedding(num_embeddings=vocab_size, embedding_dim=embedding_dim)\n",
    "        if rnn_type == 'simple':\n",
    "            self.rnn = nn.RNN(input_size=embedding_dim, hidden_size=hidden_dim, num_layers=num_layers)\n",
    "         \n",
    "        self.fc = nn.Linear(hidden_dim, vocab_size)\n",
    "        self.initial_hidden = torch.zeros(num_layers, 1, hidden_dim)\n",
    "\n",
    "        \n",
    "    def forward(self, cipher):\n",
    "        # CHECK INPUT SIZE\n",
    "        # Unsqueeze 1 dimension for batches\n",
    "        embd_x = self.embed(cipher).unsqueeze(1)\n",
    "        \n",
    "        out_rnn, hidden = self.rnn(embd_x, self.initial_hidden)\n",
    "\n",
    "        #print(out_rnn.shape, hidden.shape)\n",
    "        # Apply the affine transform and transpose output in appropriate way\n",
    "        # because you want to get the softmax on vocabulary dimension\n",
    "        # in order to get probability of every letter\n",
    "        \n",
    "        return self.fc(out_rnn).transpose(1, 2)\n",
    "      "
   ]
  },
  {
   "cell_type": "code",
   "execution_count": 44,
   "metadata": {},
   "outputs": [
    {
     "data": {
      "text/plain": [
       "torch.Size([3, 28, 1])"
      ]
     },
     "execution_count": 44,
     "metadata": {},
     "output_type": "execute_result"
    }
   ],
   "source": [
    "model(torch.tensor([1, 2, 3])).shape"
   ]
  },
  {
   "cell_type": "code",
   "execution_count": 20,
   "metadata": {},
   "outputs": [
    {
     "data": {
      "text/plain": [
       "Decipher(\n",
       "  (embed): Embedding(28, 5)\n",
       "  (rnn): RNN(5, 10)\n",
       "  (fc): Linear(in_features=10, out_features=28, bias=True)\n",
       ")"
      ]
     },
     "execution_count": 20,
     "metadata": {},
     "output_type": "execute_result"
    }
   ],
   "source": [
    "model"
   ]
  },
  {
   "cell_type": "code",
   "execution_count": 60,
   "metadata": {
    "colab": {},
    "colab_type": "code",
    "id": "5rnb-2qIIjM7"
   },
   "outputs": [],
   "source": [
    "# определим параметры нашей модели\n",
    "embedding_dim = 5\n",
    "hidden_dim = 10\n",
    "num_layers=2\n",
    "vocab_size = len(vocab) \n",
    "lr = 1e-3\n",
    "\n",
    "criterion = torch.nn.CrossEntropyLoss()\n",
    "\n",
    "# Инициализируйте модель\n",
    "model = Decipher(vocab_size, embedding_dim, hidden_dim, num_layers)\n",
    "\n",
    "# Инициализируйте оптимизатор: рекомендуется Adam\n",
    "optimizer = torch.optim.Adam(model.parameters(), lr=lr, weight_decay=1e-4)\n",
    "\n",
    "num_epochs = 7"
   ]
  },
  {
   "cell_type": "code",
   "execution_count": 73,
   "metadata": {},
   "outputs": [
    {
     "data": {
      "text/plain": [
       "tensor([ 0.0596, -1.2664, -1.8104, -1.2119, -0.7414],\n",
       "       grad_fn=<EmbeddingBackward>)"
      ]
     },
     "execution_count": 73,
     "metadata": {},
     "output_type": "execute_result"
    }
   ],
   "source": [
    "model.embed(torch.tensor(1))"
   ]
  },
  {
   "cell_type": "code",
   "execution_count": 31,
   "metadata": {
    "scrolled": true
   },
   "outputs": [
    {
     "data": {
      "text/plain": [
       "tensor([ 0.7629, -1.0680,  0.1297, -0.6863,  0.5259])"
      ]
     },
     "execution_count": 31,
     "metadata": {},
     "output_type": "execute_result"
    }
   ],
   "source": [
    "torch.FloatTensor([0] + [1] + [0] * 26) @ model.embed.weight.data"
   ]
  },
  {
   "cell_type": "code",
   "execution_count": null,
   "metadata": {},
   "outputs": [],
   "source": [
    "(28) (28, 5) -> (1, 5)"
   ]
  },
  {
   "cell_type": "code",
   "execution_count": 26,
   "metadata": {
    "colab": {},
    "colab_type": "code",
    "id": "zRVee5_lz2or"
   },
   "outputs": [
    {
     "name": "stdout",
     "output_type": "stream",
     "text": [
      "The model has 618 trainable parameters\n"
     ]
    }
   ],
   "source": [
    "def count_parameters(model):\n",
    "    return sum(p.numel() for p in model.parameters() if p.requires_grad)\n",
    "\n",
    "print(f'The model has {count_parameters(model):,} trainable parameters')"
   ]
  },
  {
   "cell_type": "code",
   "execution_count": 0,
   "metadata": {
    "colab": {},
    "colab_type": "code",
    "id": "B4ilJFcwKFGD"
   },
   "outputs": [],
   "source": [
    "# ...."
   ]
  },
  {
   "cell_type": "code",
   "execution_count": 61,
   "metadata": {
    "colab": {},
    "colab_type": "code",
    "id": "yZO1uR7fIjQ9",
    "scrolled": false
   },
   "outputs": [
    {
     "name": "stdout",
     "output_type": "stream",
     "text": [
      "Epoch: 0\n",
      "Loss: 2.7464\n"
     ]
    },
    {
     "data": {
      "image/png": "[encoded data removed]",
      "text/plain": [
       "<Figure size 432x288 with 1 Axes>"
      ]
     },
     "metadata": {
      "needs_background": "light"
     },
     "output_type": "display_data"
    },
    {
     "name": "stdout",
     "output_type": "stream",
     "text": [
      "Epoch: 1\n",
      "Loss: 1.9064\n"
     ]
    },
    {
     "data": {
      "image/png": "[encoded data removed]",
      "text/plain": [
       "<Figure size 432x288 with 1 Axes>"
      ]
     },
     "metadata": {
      "needs_background": "light"
     },
     "output_type": "display_data"
    },
    {
     "name": "stdout",
     "output_type": "stream",
     "text": [
      "Epoch: 2\n",
      "Loss: 1.3674\n"
     ]
    },
    {
     "data": {
      "image/png": "[encoded data removed]",
      "text/plain": [
       "<Figure size 432x288 with 1 Axes>"
      ]
     },
     "metadata": {
      "needs_background": "light"
     },
     "output_type": "display_data"
    },
    {
     "name": "stdout",
     "output_type": "stream",
     "text": [
      "Epoch: 3\n",
      "Loss: 0.8913\n"
     ]
    },
    {
     "data": {
      "image/png": "[encoded data removed]",
      "text/plain": [
       "<Figure size 432x288 with 1 Axes>"
      ]
     },
     "metadata": {
      "needs_background": "light"
     },
     "output_type": "display_data"
    },
    {
     "name": "stdout",
     "output_type": "stream",
     "text": [
      "Epoch: 4\n",
      "Loss: 0.6446\n"
     ]
    },
    {
     "data": {
      "image/png": "[encoded data removed]",
      "text/plain": [
       "<Figure size 432x288 with 1 Axes>"
      ]
     },
     "metadata": {
      "needs_background": "light"
     },
     "output_type": "display_data"
    },
    {
     "name": "stdout",
     "output_type": "stream",
     "text": [
      "Epoch: 5\n",
      "Loss: 0.4201\n"
     ]
    },
    {
     "data": {
      "image/png": "[encoded data removed]",
      "text/plain": [
       "<Figure size 432x288 with 1 Axes>"
      ]
     },
     "metadata": {
      "needs_background": "light"
     },
     "output_type": "display_data"
    },
    {
     "name": "stdout",
     "output_type": "stream",
     "text": [
      "Epoch: 6\n",
      "Loss: 0.2812\n"
     ]
    },
    {
     "data": {
      "image/png": "[encoded data removed]",
      "text/plain": [
       "<Figure size 432x288 with 1 Axes>"
      ]
     },
     "metadata": {
      "needs_background": "light"
     },
     "output_type": "display_data"
    }
   ],
   "source": [
    "k = 10\n",
    "for x in range(num_epochs):\n",
    "    print('Epoch: {}'.format(x))\n",
    "    for encrypted, original in encrypted_dataset(num_examples, k):\n",
    "\n",
    "        scores = model(encrypted)\n",
    "        original = original.unsqueeze(1)\n",
    "        # Calculate loss\n",
    "        loss = criterion(scores, original)\n",
    "        # Zero grads\n",
    "        optimizer.zero_grad()\n",
    "        # Backpropagate\n",
    "        loss.backward()\n",
    "        # Update weights\n",
    "        optimizer.step()\n",
    "    print('Loss: {:6.4f}'.format(loss.item()))\n",
    "\n",
    "    with torch.no_grad():\n",
    "        matches, total = 0, 0\n",
    "        for encrypted, original in encrypted_dataset(num_examples, k):\n",
    "            # Compute a softmax over the outputs\n",
    "            predictions = F.softmax(model(encrypted), dim=1)\n",
    "            # Choose the character with the maximum probability (greedy decoding)\n",
    "            _, batch_out = predictions.max(dim=1)\n",
    "            # Remove batch\n",
    "            batch_out = batch_out.squeeze(1)\n",
    "            # Calculate accuracy\n",
    "            matches += torch.eq(batch_out, original).sum().item()\n",
    "            total += torch.numel(batch_out)\n",
    "        accuracy = matches / total\n",
    "\n",
    "\n",
    "        import matplotlib.pyplot as plt\n",
    "        import numpy as np\n",
    "\n",
    "        plt.title('Accuracy: {:4.2f}%'.format(accuracy * 100))\n",
    "        plt.plot(range(1, len(vocab)), (np.arange(1, len(vocab)) - 10) %  len(vocab))\n",
    "        with torch.no_grad():\n",
    "            plt.plot(range(1, len(vocab)), F.softmax(model(torch.tensor(range(1, len(vocab)))), 1).max(dim=1)[1])\n",
    "        plt.show()"
   ]
  },
  {
   "cell_type": "code",
   "execution_count": 0,
   "metadata": {
    "colab": {},
    "colab_type": "code",
    "id": "krOVEf61IjUJ"
   },
   "outputs": [],
   "source": [
    "# ..."
   ]
  },
  {
   "cell_type": "code",
   "execution_count": 0,
   "metadata": {
    "colab": {},
    "colab_type": "code",
    "id": "u9C5aMv1GUu9"
   },
   "outputs": [],
   "source": []
  },
  {
   "cell_type": "code",
   "execution_count": 0,
   "metadata": {
    "colab": {},
    "colab_type": "code",
    "id": "-8E9YhMsGUvL"
   },
   "outputs": [],
   "source": []
  }
 ],
 "metadata": {
  "colab": {
   "collapsed_sections": [],
   "name": "Seminar_2(write).ipynb",
   "provenance": []
  },
  "kernelspec": {
   "display_name": "Python 3",
   "language": "python",
   "name": "python3"
  },
  "language_info": {
   "codemirror_mode": {
    "name": "ipython",
    "version": 3
   },
   "file_extension": ".py",
   "mimetype": "text/x-python",
   "name": "python",
   "nbconvert_exporter": "python",
   "pygments_lexer": "ipython3",
   "version": "3.7.4"
  },
  "toc": {
   "base_numbering": 1,
   "nav_menu": {},
   "number_sections": true,
   "sideBar": true,
   "skip_h1_title": false,
   "title_cell": "Table of Contents",
   "title_sidebar": "Contents",
   "toc_cell": false,
   "toc_position": {},
   "toc_section_display": true,
   "toc_window_display": false
  },
  "varInspector": {
   "cols": {
    "lenName": 16,
    "lenType": 16,
    "lenVar": 40
   },
   "kernels_config": {
    "python": {
     "delete_cmd_postfix": "",
     "delete_cmd_prefix": "del ",
     "library": "var_list.py",
     "varRefreshCmd": "print(var_dic_list())"
    },
    "r": {
     "delete_cmd_postfix": ") ",
     "delete_cmd_prefix": "rm(",
     "library": "var_list.r",
     "varRefreshCmd": "cat(var_dic_list()) "
    }
   },
   "types_to_exclude": [
    "module",
    "function",
    "builtin_function_or_method",
    "instance",
    "_Feature"
   ],
   "window_display": false
  }
 },
 "nbformat": 4,
 "nbformat_minor": 1
}
