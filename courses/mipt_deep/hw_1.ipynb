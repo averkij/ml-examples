{
 "cells": [
  {
   "cell_type": "code",
   "execution_count": 1,
   "metadata": {},
   "outputs": [],
   "source": [
    "import numpy as np\n",
    "from nltk.tokenize import RegexpTokenizer\n",
    "import gensim\n",
    "import pandas as pd\n",
    "import re\n",
    "import nltk\n",
    "import string\n",
    "from tqdm import tqdm"
   ]
  },
  {
   "cell_type": "code",
   "execution_count": 2,
   "metadata": {},
   "outputs": [],
   "source": [
    "model_path = u'D:\\models\\GoogleNews-vectors-negative300.bin'\n",
    "wv_embeddings = gensim.models.KeyedVectors.load_word2vec_format(fname=model_path, limit=500000, binary=True)"
   ]
  },
  {
   "cell_type": "code",
   "execution_count": 5,
   "metadata": {},
   "outputs": [],
   "source": [
    "def read_corpus(filename):\n",
    "    data = []\n",
    "    for line in open(filename, encoding='utf-8'):\n",
    "        data.append(line.strip().split('\\t'))\n",
    "    return data"
   ]
  },
  {
   "cell_type": "code",
   "execution_count": 6,
   "metadata": {},
   "outputs": [],
   "source": [
    "data = read_corpus('so_questions.tsv')"
   ]
  },
  {
   "cell_type": "markdown",
   "metadata": {},
   "source": [
    "## Вопрос 1"
   ]
  },
  {
   "cell_type": "markdown",
   "metadata": {},
   "source": [
    "**Входит ли слово cat в топ-5 близких слов к слову dog?**"
   ]
  },
  {
   "cell_type": "code",
   "execution_count": 7,
   "metadata": {},
   "outputs": [
    {
     "data": {
      "text/plain": [
       "[('cats', 0.8099378943443298),\n",
       " ('dog', 0.760945737361908),\n",
       " ('kitten', 0.7464984655380249),\n",
       " ('feline', 0.7326234579086304),\n",
       " ('beagle', 0.7150583267211914),\n",
       " ('puppy', 0.7075453996658325),\n",
       " ('pup', 0.6934290528297424),\n",
       " ('pet', 0.6891531348228455),\n",
       " ('felines', 0.6755931377410889),\n",
       " ('chihuahua', 0.6709762215614319)]"
      ]
     },
     "execution_count": 7,
     "metadata": {},
     "output_type": "execute_result"
    }
   ],
   "source": [
    "wv_embeddings.most_similar(positive=['cat'])"
   ]
  },
  {
   "cell_type": "markdown",
   "metadata": {},
   "source": [
    "**Ответ: да.**"
   ]
  },
  {
   "cell_type": "markdown",
   "metadata": {},
   "source": [
    "#### Векторные представления текста"
   ]
  },
  {
   "cell_type": "code",
   "execution_count": 8,
   "metadata": {},
   "outputs": [],
   "source": [
    "tokenizer = RegexpTokenizer(r'\\w+')"
   ]
  },
  {
   "cell_type": "code",
   "execution_count": 9,
   "metadata": {},
   "outputs": [],
   "source": [
    "def question_to_vec(question, embeddings, dim=300):\n",
    "    words =  tokenizer.tokenize(question)\n",
    "    n_known = 0\n",
    "    result = np.array([0] * dim, dtype=float)    \n",
    "    for word in words:\n",
    "        if word in embeddings:\n",
    "            result += embeddings[word]\n",
    "            n_known += 1\n",
    "            \n",
    "    if n_known != 0:\n",
    "        return result / n_known\n",
    "    else:\n",
    "        return result"
   ]
  },
  {
   "cell_type": "code",
   "execution_count": 10,
   "metadata": {},
   "outputs": [],
   "source": [
    "q = 'I like dark themes. However, the default theme of Jupyter notebooks is light, and I cant find the option to change the theme/background-color. How is this done?'"
   ]
  },
  {
   "cell_type": "code",
   "execution_count": 11,
   "metadata": {
    "scrolled": true
   },
   "outputs": [
    {
     "data": {
      "text/plain": [
       "array([ 0.09819946,  0.08552979,  0.02617798,  0.10978516, -0.05410885,\n",
       "        0.01544922,  0.08193115, -0.07053467,  0.11806641,  0.0185083 ,\n",
       "       -0.04598206, -0.07106689, -0.00578369, -0.01892578, -0.09141602,\n",
       "        0.11324707,  0.0459082 ,  0.08457031,  0.0205896 , -0.17009521,\n",
       "       -0.04350586,  0.12529785,  0.06759521, -0.02728973, -0.0307766 ,\n",
       "       -0.00048126, -0.07328613,  0.04516602,  0.03177185,  0.0094281 ,\n",
       "       -0.07897217,  0.03314283,  0.03263672,  0.03050682,  0.02820801,\n",
       "        0.05157562, -0.02617188, -0.02082764,  0.03863037,  0.0336084 ,\n",
       "        0.11003906,  0.01725708,  0.04221436, -0.0097171 ,  0.01095947,\n",
       "        0.00229919, -0.0186731 , -0.04037598, -0.00190674,  0.0013504 ,\n",
       "       -0.04914185,  0.07050293,  0.00696533, -0.05645508,  0.00242432,\n",
       "        0.03453125, -0.02273071, -0.05413208,  0.02813232, -0.06486145,\n",
       "        0.00998169,  0.06753906, -0.12299561, -0.06290344, -0.0172168 ,\n",
       "       -0.03997559, -0.08246887,  0.13952148, -0.03980103,  0.06386719,\n",
       "        0.01452271,  0.02625977,  0.10352295, -0.00448975, -0.10605469,\n",
       "       -0.10766602,  0.14806152,  0.07294678,  0.03624268,  0.17935059,\n",
       "        0.06406738, -0.07647827,  0.0517952 , -0.01455566, -0.05464844,\n",
       "       -0.04367126, -0.1015332 ,  0.11339783,  0.02095825,  0.09422852,\n",
       "        0.07450439, -0.03448364, -0.06831543, -0.03621338, -0.06827759,\n",
       "       -0.03779297,  0.09700684,  0.04466797, -0.00383057, -0.01942383,\n",
       "       -0.03966515, -0.00236206, -0.01164795,  0.03064941, -0.08184326,\n",
       "       -0.01601318, -0.04589844, -0.08284912, -0.04665527, -0.0794458 ,\n",
       "       -0.08872559, -0.00697266, -0.00586792,  0.0313623 ,  0.13842651,\n",
       "       -0.01628662,  0.03831543, -0.04509766,  0.10899963,  0.06481689,\n",
       "       -0.06573242, -0.04606445, -0.04536621,  0.0661084 , -0.01210938,\n",
       "        0.028591  , -0.05557129,  0.02119019, -0.0138269 ,  0.00129333,\n",
       "       -0.08737549, -0.14893433, -0.07371094, -0.00102539, -0.01309814,\n",
       "       -0.02534668,  0.00344727,  0.02191406, -0.00315186,  0.09722168,\n",
       "        0.0585498 , -0.04960022,  0.03796631, -0.00492188,  0.06273437,\n",
       "       -0.02907227, -0.00219971, -0.03587158,  0.00944275, -0.01960937,\n",
       "        0.04513245,  0.02674316, -0.042146  ,  0.04164551, -0.05312408,\n",
       "        0.01201538, -0.06390625, -0.12612793, -0.03846558, -0.01566559,\n",
       "        0.00172974,  0.03071777,  0.01257629,  0.07399902, -0.02563599,\n",
       "       -0.03594727,  0.03243164, -0.0258667 ,  0.00777832, -0.00156738,\n",
       "       -0.10401367,  0.00374329, -0.04813232, -0.03645142, -0.03157654,\n",
       "        0.00883789,  0.11841309, -0.15037598,  0.00099121, -0.02591675,\n",
       "       -0.13569336, -0.04722961, -0.03109741,  0.00990967, -0.01763489,\n",
       "       -0.04277344, -0.03811523,  0.00471069,  0.10086121,  0.02844299,\n",
       "        0.01717651, -0.01180542, -0.01163208, -0.04832764, -0.00550049,\n",
       "        0.05203247, -0.06658203,  0.02986694, -0.0578479 , -0.06806152,\n",
       "        0.05294922,  0.02333557, -0.10898437, -0.02454346,  0.00709106,\n",
       "        0.05377686, -0.02925781, -0.01537506,  0.01915833,  0.01466797,\n",
       "       -0.03962769,  0.05578247, -0.02300415,  0.01582275, -0.08563965,\n",
       "       -0.0012262 ,  0.11099609,  0.00723145, -0.10249512,  0.00519043,\n",
       "       -0.052677  ,  0.05128418, -0.08423981,  0.08794678,  0.02108032,\n",
       "       -0.07429199,  0.01073242,  0.02107178, -0.00481201,  0.03715504,\n",
       "       -0.01946091, -0.04608643, -0.0037915 ,  0.0545752 ,  0.02974457,\n",
       "       -0.01961426, -0.03676392, -0.02634857,  0.0917627 ,  0.03044189,\n",
       "        0.00740356, -0.01554199, -0.01263672, -0.08667908,  0.00738098,\n",
       "        0.00633179,  0.02331055,  0.05953125, -0.01419434, -0.00248718,\n",
       "        0.02389893,  0.05995605,  0.05533447,  0.0220813 , -0.00249512,\n",
       "       -0.0932666 , -0.00700439, -0.01268036, -0.01963623, -0.05921265,\n",
       "        0.02783203,  0.00626465, -0.06040039, -0.00808213,  0.03646088,\n",
       "        0.12088501, -0.01597534, -0.00988037, -0.10215454, -0.03381989,\n",
       "        0.00839447,  0.02625977,  0.07000732,  0.10594238,  0.06447418,\n",
       "       -0.03014648, -0.02441895, -0.14171387, -0.05409302,  0.02045166,\n",
       "        0.03944824,  0.0099073 ,  0.037146  ,  0.08620361,  0.03694336,\n",
       "        0.00072357, -0.04817627, -0.08018066, -0.02616577,  0.03489883,\n",
       "       -0.12640045,  0.06310425, -0.05546387,  0.00563477, -0.01816895,\n",
       "       -0.059665  ,  0.04324707, -0.03770996,  0.03504242,  0.0092041 ])"
      ]
     },
     "execution_count": 11,
     "metadata": {},
     "output_type": "execute_result"
    }
   ],
   "source": [
    "question_to_vec(q, wv_embeddings)"
   ]
  },
  {
   "cell_type": "markdown",
   "metadata": {},
   "source": [
    "#### Оценка близости текстов"
   ]
  },
  {
   "cell_type": "code",
   "execution_count": 12,
   "metadata": {},
   "outputs": [],
   "source": [
    "def hits_count(dup_ranks, k):\n",
    "    N = len(dup_ranks)    \n",
    "    hits_value = np.sum([1 for r in dup_ranks if r <=k]) / N\n",
    "    return hits_value\n",
    "\n",
    "def dcg_score(dup_ranks, k):\n",
    "    N = len(dup_ranks)\n",
    "    dcg_value = np.sum([1/np.log2(1 + r) for r in dup_ranks if r <=k]) / N\n",
    "    return dcg_value"
   ]
  },
  {
   "cell_type": "code",
   "execution_count": 13,
   "metadata": {},
   "outputs": [
    {
     "data": {
      "text/plain": [
       "1.0"
      ]
     },
     "execution_count": 13,
     "metadata": {},
     "output_type": "execute_result"
    }
   ],
   "source": [
    "hits_count([2],4)"
   ]
  },
  {
   "cell_type": "code",
   "execution_count": 14,
   "metadata": {},
   "outputs": [
    {
     "data": {
      "text/plain": [
       "0.2103099178571525"
      ]
     },
     "execution_count": 14,
     "metadata": {},
     "output_type": "execute_result"
    }
   ],
   "source": [
    "dcg_score([2,3,5],2)"
   ]
  },
  {
   "cell_type": "markdown",
   "metadata": {},
   "source": [
    "#### Протестируем функции"
   ]
  },
  {
   "cell_type": "code",
   "execution_count": 15,
   "metadata": {},
   "outputs": [
    {
     "name": "stdout",
     "output_type": "stream",
     "text": [
      "Ваш ответ HIT: [0.0, 1.0, 1.0, 1.0]\n",
      "Ваш ответ DCG: [0.0, 0.63093, 0.63093, 0.63093]\n"
     ]
    }
   ],
   "source": [
    "copy_answers = [\"How does the catch keyword determine the type of exception that was thrown\"]\n",
    "\n",
    "candidates_ranking = [[\"How Can I Make These Links Rotate in PHP\",\n",
    "                       \"How does the catch keyword determine the type of exception that was thrown\",\n",
    "                       \"NSLog array description not memory address\",\n",
    "                       \"PECL_HTTP not recognised php ubuntu\"]]\n",
    "\n",
    "dup_ranks = [candidates_ranking[0].index(copy_answers[i]) + 1 for i in range(len(copy_answers))]\n",
    "\n",
    "print('Ваш ответ HIT:', [hits_count(dup_ranks,k) for k in range(1, 5)])\n",
    "print('Ваш ответ DCG:', [round(dcg_score(dup_ranks,k), 5) for k in range(1, 5)])"
   ]
  },
  {
   "cell_type": "markdown",
   "metadata": {},
   "source": [
    "#### Ранжирование вопросов StackOverflow"
   ]
  },
  {
   "cell_type": "code",
   "execution_count": 16,
   "metadata": {},
   "outputs": [
    {
     "data": {
      "text/plain": [
       "3760"
      ]
     },
     "execution_count": 16,
     "metadata": {},
     "output_type": "execute_result"
    }
   ],
   "source": [
    "len(data)"
   ]
  },
  {
   "cell_type": "markdown",
   "metadata": {},
   "source": [
    "Реализуйте функцию ранжирования кандидатов на основе косинусного расстояния. Функция должна по списку кандидатов вернуть отсортированный список пар (позиция в исходном списке кандидатов, кандидат). При этом позиция кандидата в полученном списке является его рейтингом (первый - лучший). Например, если исходный список кандидатов был [a, b, c], и самый похожий на исходный вопрос среди них - c, затем a, и в конце b, то функция должна вернуть список **[(2, c), (0, a), (1, b)]**."
   ]
  },
  {
   "cell_type": "code",
   "execution_count": 17,
   "metadata": {},
   "outputs": [],
   "source": [
    "from sklearn.metrics.pairwise import cosine_similarity\n",
    "from copy import deepcopy"
   ]
  },
  {
   "cell_type": "code",
   "execution_count": 18,
   "metadata": {},
   "outputs": [],
   "source": [
    "def rank_candidates(question, candidates, embeddings, dim=300):\n",
    "    vec_question = question_to_vec(question, embeddings)\n",
    "    vec_candidates = np.array([question_to_vec(candidates[i], embeddings)\n",
    "                      for i in range(len(candidates))])\n",
    "    rank = np.array([(i, candidates[i]) for i in range(len(candidates))])\n",
    "    dist_s = cosine_similarity(vec_candidates, np.array([vec_question]))[:, 0]\n",
    "    return deepcopy(rank[dist_s.argsort()[::-1]])"
   ]
  },
  {
   "cell_type": "code",
   "execution_count": 19,
   "metadata": {},
   "outputs": [],
   "source": [
    "questions = ['converting string to list', 'Sending array via Ajax fails'] \n",
    "\n",
    "candidates = [['Convert Google results object (pure js) to Python object', # первый эксперимент\n",
    "               'C# create cookie from string and send it',\n",
    "               'How to use jQuery AJAX for an outside domain?'],\n",
    "              \n",
    "              ['Getting all list items of an unordered list in PHP',      # второй эксперимент\n",
    "               'WPF- How to update the changes in list item of a list',\n",
    "               'select2 not displaying search results']]"
   ]
  },
  {
   "cell_type": "markdown",
   "metadata": {},
   "source": [
    "**Ответ**"
   ]
  },
  {
   "cell_type": "code",
   "execution_count": 20,
   "metadata": {
    "scrolled": true
   },
   "outputs": [
    {
     "name": "stdout",
     "output_type": "stream",
     "text": [
      "[['1' 'C# create cookie from string and send it']\n",
      " ['0' 'Convert Google results object (pure js) to Python object']\n",
      " ['2' 'How to use jQuery AJAX for an outside domain?']]\n",
      "[['0' 'Getting all list items of an unordered list in PHP']\n",
      " ['2' 'select2 not displaying search results']\n",
      " ['1' 'WPF- How to update the changes in list item of a list']]\n"
     ]
    }
   ],
   "source": [
    "for question, q_candidates in zip(questions, candidates):\n",
    "    ranks = rank_candidates(question, q_candidates, wv_embeddings, 300)\n",
    "    print(ranks)"
   ]
  },
  {
   "cell_type": "markdown",
   "metadata": {},
   "source": [
    "Теперь мы можем оценить качество нашего метода. Запустите следующие два блока кода для получения результата. Обратите внимание, что вычисление расстояния между векторами занимает некоторое время (примерно 10 минут)."
   ]
  },
  {
   "cell_type": "code",
   "execution_count": 21,
   "metadata": {},
   "outputs": [],
   "source": [
    "wv_ranking = []\n",
    "for line in data:\n",
    "    q, *ex = line\n",
    "    ranks = rank_candidates(q, ex, wv_embeddings)\n",
    "    wv_ranking.append([r[0] for r in ranks].index('0') + 1)"
   ]
  },
  {
   "cell_type": "code",
   "execution_count": 22,
   "metadata": {},
   "outputs": [
    {
     "name": "stdout",
     "output_type": "stream",
     "text": [
      "DCG@   1: 0.259 | Hits@   1: 0.259\n",
      "DCG@   5: 0.314 | Hits@   5: 0.364\n",
      "DCG@  10: 0.332 | Hits@  10: 0.420\n",
      "DCG@ 100: 0.374 | Hits@ 100: 0.627\n",
      "DCG@ 500: 0.401 | Hits@ 500: 0.840\n",
      "DCG@1000: 0.418 | Hits@1000: 1.000\n"
     ]
    }
   ],
   "source": [
    "for k in [1, 5, 10, 100, 500, 1000]:\n",
    "    print(\"DCG@%4d: %.3f | Hits@%4d: %.3f\" % (k, dcg_score(wv_ranking, k), k, hits_count(wv_ranking, k)))"
   ]
  },
  {
   "cell_type": "markdown",
   "metadata": {},
   "source": [
    "Если вы проделали все шаги правильно, то вы должны немного разочароваться полученными результатами. Давайте попробуем понять, почему качество модели такое низкое. Когда вы работаете с какими-либо данными, очень полезно первым делом посмотреть на них глазами. Выведим несколько вопросов из наших данных:"
   ]
  },
  {
   "cell_type": "code",
   "execution_count": 23,
   "metadata": {},
   "outputs": [
    {
     "name": "stdout",
     "output_type": "stream",
     "text": [
      "How to print a binary heap tree without recursion? How do you best convert a recursive function to an iterative one? How can i use ng-model with directive in angular js flash: drawing and erasing\n",
      "\n",
      "How to start PhoneStateListener programmatically? PhoneStateListener and service Java cast object[] to model WCF and What does this mean?\n",
      "\n",
      "jQuery: Show a div2 when mousenter over div1 is over when hover on div1 depenting on if it is on div2 or not it should act differently How to run selenium in google app engine/cloud? Python Comparing two lists of strings for similarities\n",
      "\n"
     ]
    }
   ],
   "source": [
    "for line in data[:3]:\n",
    "    q, *examples = line\n",
    "    print(q, *examples[:3])\n",
    "    print()"
   ]
  },
  {
   "cell_type": "markdown",
   "metadata": {},
   "source": [
    "#### Предобработка текста"
   ]
  },
  {
   "cell_type": "code",
   "execution_count": 24,
   "metadata": {},
   "outputs": [
    {
     "name": "stderr",
     "output_type": "stream",
     "text": [
      "[nltk_data] Downloading package stopwords to\n",
      "[nltk_data]     C:\\Users\\Sergei\\AppData\\Roaming\\nltk_data...\n",
      "[nltk_data]   Package stopwords is already up-to-date!\n"
     ]
    }
   ],
   "source": [
    "nltk.download('stopwords')\n",
    "from nltk.corpus import stopwords"
   ]
  },
  {
   "cell_type": "code",
   "execution_count": 25,
   "metadata": {},
   "outputs": [
    {
     "data": {
      "text/plain": [
       "179"
      ]
     },
     "execution_count": 25,
     "metadata": {},
     "output_type": "execute_result"
    }
   ],
   "source": [
    "stopWords = set(stopwords.words('english'))\n",
    "len(stopWords)"
   ]
  },
  {
   "cell_type": "code",
   "execution_count": 26,
   "metadata": {},
   "outputs": [],
   "source": [
    "tokenizer = RegexpTokenizer(r'\\w+')\n",
    "stopWords = set(stopwords.words('english'))\n",
    "\n",
    "def text_prepare(text):\n",
    "    text = text.lower()\n",
    "    tokens = tokenizer.tokenize(text)\n",
    "    return ' '.join(t for t in tokens if t not in stopWords)"
   ]
  },
  {
   "cell_type": "code",
   "execution_count": 27,
   "metadata": {},
   "outputs": [
    {
     "name": "stderr",
     "output_type": "stream",
     "text": [
      "100%|█████████████████████████████████████████████████████████████████████████████| 3760/3760 [00:23<00:00, 158.14it/s]\n"
     ]
    }
   ],
   "source": [
    "new_data = deepcopy(data)\n",
    "\n",
    "for i in tqdm(range(len(data))):\n",
    "    for j in range(len(data[i])):\n",
    "        new_data[i][j] = text_prepare(data[i][j])"
   ]
  },
  {
   "cell_type": "code",
   "execution_count": 28,
   "metadata": {},
   "outputs": [
    {
     "name": "stderr",
     "output_type": "stream",
     "text": [
      "100%|██████████████████████████████████████████████████████████████████████████████| 3760/3760 [04:57<00:00, 12.64it/s]\n"
     ]
    }
   ],
   "source": [
    "wv_ranking = []\n",
    "\n",
    "for line in tqdm(new_data):\n",
    "    q, *ex = line\n",
    "    ranks = rank_candidates(q, ex, wv_embeddings)\n",
    "    wv_ranking.append([r[0] for r in ranks].index('0') + 1)"
   ]
  },
  {
   "cell_type": "code",
   "execution_count": 29,
   "metadata": {},
   "outputs": [
    {
     "name": "stdout",
     "output_type": "stream",
     "text": [
      "DCG@   1: 0.335 | Hits@   1: 0.335\n",
      "DCG@   5: 0.406 | Hits@   5: 0.470\n",
      "DCG@  10: 0.421 | Hits@  10: 0.517\n",
      "DCG@ 100: 0.457 | Hits@ 100: 0.696\n",
      "DCG@ 500: 0.477 | Hits@ 500: 0.850\n",
      "DCG@1000: 0.493 | Hits@1000: 1.000\n"
     ]
    }
   ],
   "source": [
    "for k in [1, 5, 10, 100, 500, 1000]:\n",
    "    print(\"DCG@%4d: %.3f | Hits@%4d: %.3f\" % (k, dcg_score(wv_ranking, k), k, hits_count(wv_ranking, k)))"
   ]
  },
  {
   "cell_type": "markdown",
   "metadata": {},
   "source": [
    "#### Визуализация (вопросы со Stack Overflow)"
   ]
  },
  {
   "cell_type": "markdown",
   "metadata": {},
   "source": [
    "Сделаем плоский список и возьмем первые 1000 вопросов, чтобы не мучать t-SNE."
   ]
  },
  {
   "cell_type": "code",
   "execution_count": 30,
   "metadata": {},
   "outputs": [],
   "source": [
    "#import pickle\n",
    "#new_data_flat = pickle.load(open('new_data_flat.dmp','rb'))"
   ]
  },
  {
   "cell_type": "code",
   "execution_count": 31,
   "metadata": {},
   "outputs": [],
   "source": [
    "so_questions_flat = deepcopy(data)\n",
    "so_questions_flat = [item for sublist in so_questions_flat for item in sublist]"
   ]
  },
  {
   "cell_type": "code",
   "execution_count": 32,
   "metadata": {},
   "outputs": [],
   "source": [
    "cleaned_so_questions_flat = [item for sublist in new_data for item in sublist]"
   ]
  },
  {
   "cell_type": "code",
   "execution_count": 33,
   "metadata": {},
   "outputs": [
    {
     "data": {
      "text/plain": [
       "3763048"
      ]
     },
     "execution_count": 33,
     "metadata": {},
     "output_type": "execute_result"
    }
   ],
   "source": [
    "len(so_questions_flat)"
   ]
  },
  {
   "cell_type": "code",
   "execution_count": 34,
   "metadata": {},
   "outputs": [
    {
     "name": "stderr",
     "output_type": "stream",
     "text": [
      "100%|███████████████████████████████████████████████████████████████████████████| 1000/1000 [00:00<00:00, 12950.18it/s]\n"
     ]
    }
   ],
   "source": [
    "so_embeddings = []\n",
    "for q in tqdm(cleaned_so_questions_flat[0:1000]):\n",
    "        so_embeddings.append(question_to_vec(q, wv_embeddings))"
   ]
  },
  {
   "cell_type": "code",
   "execution_count": 35,
   "metadata": {},
   "outputs": [
    {
     "data": {
      "text/plain": [
       "['print binary heap tree without recursion',\n",
       " 'best convert recursive function iterative one',\n",
       " 'use ng model directive angular js',\n",
       " 'flash drawing erasing',\n",
       " 'toggle react component using hide show classname',\n",
       " 'use usercontrol another project current webpage',\n",
       " 'paths resolved differently upgrading asp net 4',\n",
       " 'materialize datepicker rendering icon clicked',\n",
       " 'creating pypi package could find version satisfies requirement iso8601',\n",
       " 'analyze confusion matrix']"
      ]
     },
     "execution_count": 35,
     "metadata": {},
     "output_type": "execute_result"
    }
   ],
   "source": [
    "cleaned_so_questions_flat[0:10]"
   ]
  },
  {
   "cell_type": "code",
   "execution_count": 36,
   "metadata": {},
   "outputs": [],
   "source": [
    "#from sklearn.decomposition import PCA\n",
    "#pca = PCA(n_components=2)\n",
    "#so_embeddings_pca = pca.fit_transform(so_embeddings)"
   ]
  },
  {
   "cell_type": "code",
   "execution_count": 37,
   "metadata": {},
   "outputs": [
    {
     "data": {
      "text/html": [
       "\n",
       "    <div class=\"bk-root\">\n",
       "        <a href=\"https://bokeh.org\" target=\"_blank\" class=\"bk-logo bk-logo-small bk-logo-notebook\"></a>\n",
       "        <span id=\"1001\">Loading BokehJS ...</span>\n",
       "    </div>"
      ]
     },
     "metadata": {},
     "output_type": "display_data"
    },
    {
     "data": {
      "application/javascript": [
       "\n",
       "(function(root) {\n",
       "  function now() {\n",
       "    return new Date();\n",
       "  }\n",
       "\n",
       "  var force = true;\n",
       "\n",
       "  if (typeof root._bokeh_onload_callbacks === \"undefined\" || force === true) {\n",
       "    root._bokeh_onload_callbacks = [];\n",
       "    root._bokeh_is_loading = undefined;\n",
       "  }\n",
       "\n",
       "  var JS_MIME_TYPE = 'application/javascript';\n",
       "  var HTML_MIME_TYPE = 'text/html';\n",
       "  var EXEC_MIME_TYPE = 'application/vnd.bokehjs_exec.v0+json';\n",
       "  var CLASS_NAME = 'output_bokeh rendered_html';\n",
       "\n",
       "  /**\n",
       "   * Render data to the DOM node\n",
       "   */\n",
       "  function render(props, node) {\n",
       "    var script = document.createElement(\"script\");\n",
       "    node.appendChild(script);\n",
       "  }\n",
       "\n",
       "  /**\n",
       "   * Handle when an output is cleared or removed\n",
       "   */\n",
       "  function handleClearOutput(event, handle) {\n",
       "    var cell = handle.cell;\n",
       "\n",
       "    var id = cell.output_area._bokeh_element_id;\n",
       "    var server_id = cell.output_area._bokeh_server_id;\n",
       "    // Clean up Bokeh references\n",
       "    if (id != null && id in Bokeh.index) {\n",
       "      Bokeh.index[id].model.document.clear();\n",
       "      delete Bokeh.index[id];\n",
       "    }\n",
       "\n",
       "    if (server_id !== undefined) {\n",
       "      // Clean up Bokeh references\n",
       "      var cmd = \"from bokeh.io.state import curstate; print(curstate().uuid_to_server['\" + server_id + \"'].get_sessions()[0].document.roots[0]._id)\";\n",
       "      cell.notebook.kernel.execute(cmd, {\n",
       "        iopub: {\n",
       "          output: function(msg) {\n",
       "            var id = msg.content.text.trim();\n",
       "            if (id in Bokeh.index) {\n",
       "              Bokeh.index[id].model.document.clear();\n",
       "              delete Bokeh.index[id];\n",
       "            }\n",
       "          }\n",
       "        }\n",
       "      });\n",
       "      // Destroy server and session\n",
       "      var cmd = \"import bokeh.io.notebook as ion; ion.destroy_server('\" + server_id + \"')\";\n",
       "      cell.notebook.kernel.execute(cmd);\n",
       "    }\n",
       "  }\n",
       "\n",
       "  /**\n",
       "   * Handle when a new output is added\n",
       "   */\n",
       "  function handleAddOutput(event, handle) {\n",
       "    var output_area = handle.output_area;\n",
       "    var output = handle.output;\n",
       "\n",
       "    // limit handleAddOutput to display_data with EXEC_MIME_TYPE content only\n",
       "    if ((output.output_type != \"display_data\") || (!output.data.hasOwnProperty(EXEC_MIME_TYPE))) {\n",
       "      return\n",
       "    }\n",
       "\n",
       "    var toinsert = output_area.element.find(\".\" + CLASS_NAME.split(' ')[0]);\n",
       "\n",
       "    if (output.metadata[EXEC_MIME_TYPE][\"id\"] !== undefined) {\n",
       "      toinsert[toinsert.length - 1].firstChild.textContent = output.data[JS_MIME_TYPE];\n",
       "      // store reference to embed id on output_area\n",
       "      output_area._bokeh_element_id = output.metadata[EXEC_MIME_TYPE][\"id\"];\n",
       "    }\n",
       "    if (output.metadata[EXEC_MIME_TYPE][\"server_id\"] !== undefined) {\n",
       "      var bk_div = document.createElement(\"div\");\n",
       "      bk_div.innerHTML = output.data[HTML_MIME_TYPE];\n",
       "      var script_attrs = bk_div.children[0].attributes;\n",
       "      for (var i = 0; i < script_attrs.length; i++) {\n",
       "        toinsert[toinsert.length - 1].firstChild.setAttribute(script_attrs[i].name, script_attrs[i].value);\n",
       "        toinsert[toinsert.length - 1].firstChild.textContent = bk_div.children[0].textContent\n",
       "      }\n",
       "      // store reference to server id on output_area\n",
       "      output_area._bokeh_server_id = output.metadata[EXEC_MIME_TYPE][\"server_id\"];\n",
       "    }\n",
       "  }\n",
       "\n",
       "  function register_renderer(events, OutputArea) {\n",
       "\n",
       "    function append_mime(data, metadata, element) {\n",
       "      // create a DOM node to render to\n",
       "      var toinsert = this.create_output_subarea(\n",
       "        metadata,\n",
       "        CLASS_NAME,\n",
       "        EXEC_MIME_TYPE\n",
       "      );\n",
       "      this.keyboard_manager.register_events(toinsert);\n",
       "      // Render to node\n",
       "      var props = {data: data, metadata: metadata[EXEC_MIME_TYPE]};\n",
       "      render(props, toinsert[toinsert.length - 1]);\n",
       "      element.append(toinsert);\n",
       "      return toinsert\n",
       "    }\n",
       "\n",
       "    /* Handle when an output is cleared or removed */\n",
       "    events.on('clear_output.CodeCell', handleClearOutput);\n",
       "    events.on('delete.Cell', handleClearOutput);\n",
       "\n",
       "    /* Handle when a new output is added */\n",
       "    events.on('output_added.OutputArea', handleAddOutput);\n",
       "\n",
       "    /**\n",
       "     * Register the mime type and append_mime function with output_area\n",
       "     */\n",
       "    OutputArea.prototype.register_mime_type(EXEC_MIME_TYPE, append_mime, {\n",
       "      /* Is output safe? */\n",
       "      safe: true,\n",
       "      /* Index of renderer in `output_area.display_order` */\n",
       "      index: 0\n",
       "    });\n",
       "  }\n",
       "\n",
       "  // register the mime type if in Jupyter Notebook environment and previously unregistered\n",
       "  if (root.Jupyter !== undefined) {\n",
       "    var events = require('base/js/events');\n",
       "    var OutputArea = require('notebook/js/outputarea').OutputArea;\n",
       "\n",
       "    if (OutputArea.prototype.mime_types().indexOf(EXEC_MIME_TYPE) == -1) {\n",
       "      register_renderer(events, OutputArea);\n",
       "    }\n",
       "  }\n",
       "\n",
       "  \n",
       "  if (typeof (root._bokeh_timeout) === \"undefined\" || force === true) {\n",
       "    root._bokeh_timeout = Date.now() + 5000;\n",
       "    root._bokeh_failed_load = false;\n",
       "  }\n",
       "\n",
       "  var NB_LOAD_WARNING = {'data': {'text/html':\n",
       "     \"<div style='background-color: #fdd'>\\n\"+\n",
       "     \"<p>\\n\"+\n",
       "     \"BokehJS does not appear to have successfully loaded. If loading BokehJS from CDN, this \\n\"+\n",
       "     \"may be due to a slow or bad network connection. Possible fixes:\\n\"+\n",
       "     \"</p>\\n\"+\n",
       "     \"<ul>\\n\"+\n",
       "     \"<li>re-rerun `output_notebook()` to attempt to load from CDN again, or</li>\\n\"+\n",
       "     \"<li>use INLINE resources instead, as so:</li>\\n\"+\n",
       "     \"</ul>\\n\"+\n",
       "     \"<code>\\n\"+\n",
       "     \"from bokeh.resources import INLINE\\n\"+\n",
       "     \"output_notebook(resources=INLINE)\\n\"+\n",
       "     \"</code>\\n\"+\n",
       "     \"</div>\"}};\n",
       "\n",
       "  function display_loaded() {\n",
       "    var el = document.getElementById(\"1001\");\n",
       "    if (el != null) {\n",
       "      el.textContent = \"BokehJS is loading...\";\n",
       "    }\n",
       "    if (root.Bokeh !== undefined) {\n",
       "      if (el != null) {\n",
       "        el.textContent = \"BokehJS \" + root.Bokeh.version + \" successfully loaded.\";\n",
       "      }\n",
       "    } else if (Date.now() < root._bokeh_timeout) {\n",
       "      setTimeout(display_loaded, 100)\n",
       "    }\n",
       "  }\n",
       "\n",
       "\n",
       "  function run_callbacks() {\n",
       "    try {\n",
       "      root._bokeh_onload_callbacks.forEach(function(callback) {\n",
       "        if (callback != null)\n",
       "          callback();\n",
       "      });\n",
       "    } finally {\n",
       "      delete root._bokeh_onload_callbacks\n",
       "    }\n",
       "    console.debug(\"Bokeh: all callbacks have finished\");\n",
       "  }\n",
       "\n",
       "  function load_libs(css_urls, js_urls, callback) {\n",
       "    if (css_urls == null) css_urls = [];\n",
       "    if (js_urls == null) js_urls = [];\n",
       "\n",
       "    root._bokeh_onload_callbacks.push(callback);\n",
       "    if (root._bokeh_is_loading > 0) {\n",
       "      console.debug(\"Bokeh: BokehJS is being loaded, scheduling callback at\", now());\n",
       "      return null;\n",
       "    }\n",
       "    if (js_urls == null || js_urls.length === 0) {\n",
       "      run_callbacks();\n",
       "      return null;\n",
       "    }\n",
       "    console.debug(\"Bokeh: BokehJS not loaded, scheduling load and callback at\", now());\n",
       "    root._bokeh_is_loading = css_urls.length + js_urls.length;\n",
       "\n",
       "    function on_load() {\n",
       "      root._bokeh_is_loading--;\n",
       "      if (root._bokeh_is_loading === 0) {\n",
       "        console.debug(\"Bokeh: all BokehJS libraries/stylesheets loaded\");\n",
       "        run_callbacks()\n",
       "      }\n",
       "    }\n",
       "\n",
       "    function on_error() {\n",
       "      console.error(\"failed to load \" + url);\n",
       "    }\n",
       "\n",
       "    for (var i = 0; i < css_urls.length; i++) {\n",
       "      var url = css_urls[i];\n",
       "      const element = document.createElement(\"link\");\n",
       "      element.onload = on_load;\n",
       "      element.onerror = on_error;\n",
       "      element.rel = \"stylesheet\";\n",
       "      element.type = \"text/css\";\n",
       "      element.href = url;\n",
       "      console.debug(\"Bokeh: injecting link tag for BokehJS stylesheet: \", url);\n",
       "      document.body.appendChild(element);\n",
       "    }\n",
       "\n",
       "    for (var i = 0; i < js_urls.length; i++) {\n",
       "      var url = js_urls[i];\n",
       "      var element = document.createElement('script');\n",
       "      element.onload = on_load;\n",
       "      element.onerror = on_error;\n",
       "      element.async = false;\n",
       "      element.src = url;\n",
       "      \n",
       "      console.debug(\"Bokeh: injecting script tag for BokehJS library: \", url);\n",
       "      document.head.appendChild(element);\n",
       "    }\n",
       "  };var element = document.getElementById(\"1001\");\n",
       "  if (element == null) {\n",
       "    console.error(\"Bokeh: ERROR: autoload.js configured with elementid '1001' but no matching script tag was found. \")\n",
       "    return false;\n",
       "  }\n",
       "\n",
       "  function inject_raw_css(css) {\n",
       "    const element = document.createElement(\"style\");\n",
       "    element.appendChild(document.createTextNode(css));\n",
       "    document.body.appendChild(element);\n",
       "  }\n",
       "\n",
       "  \n",
       "  var js_urls = [\"https://cdn.bokeh.org/bokeh/release/bokeh-2.0.0.min.js\", \"https://cdn.bokeh.org/bokeh/release/bokeh-widgets-2.0.0.min.js\", \"https://cdn.bokeh.org/bokeh/release/bokeh-tables-2.0.0.min.js\", \"https://cdn.bokeh.org/bokeh/release/bokeh-gl-2.0.0.min.js\"];\n",
       "  var css_urls = [];\n",
       "  \n",
       "\n",
       "  var inline_js = [\n",
       "    function(Bokeh) {\n",
       "      Bokeh.set_log_level(\"info\");\n",
       "    },\n",
       "    function(Bokeh) {\n",
       "    \n",
       "    \n",
       "    }\n",
       "  ];\n",
       "\n",
       "  function run_inline_js() {\n",
       "    \n",
       "    if (root.Bokeh !== undefined || force === true) {\n",
       "      \n",
       "    for (var i = 0; i < inline_js.length; i++) {\n",
       "      inline_js[i].call(root, root.Bokeh);\n",
       "    }\n",
       "    if (force === true) {\n",
       "        display_loaded();\n",
       "      }} else if (Date.now() < root._bokeh_timeout) {\n",
       "      setTimeout(run_inline_js, 100);\n",
       "    } else if (!root._bokeh_failed_load) {\n",
       "      console.log(\"Bokeh: BokehJS failed to load within specified timeout.\");\n",
       "      root._bokeh_failed_load = true;\n",
       "    } else if (force !== true) {\n",
       "      var cell = $(document.getElementById(\"1001\")).parents('.cell').data().cell;\n",
       "      cell.output_area.append_execute_result(NB_LOAD_WARNING)\n",
       "    }\n",
       "\n",
       "  }\n",
       "\n",
       "  if (root._bokeh_is_loading === 0) {\n",
       "    console.debug(\"Bokeh: BokehJS loaded, going straight to plotting\");\n",
       "    run_inline_js();\n",
       "  } else {\n",
       "    load_libs(css_urls, js_urls, function() {\n",
       "      console.debug(\"Bokeh: BokehJS plotting callback run at\", now());\n",
       "      run_inline_js();\n",
       "    });\n",
       "  }\n",
       "}(window));"
      ],
      "application/vnd.bokehjs_load.v0+json": "\n(function(root) {\n  function now() {\n    return new Date();\n  }\n\n  var force = true;\n\n  if (typeof root._bokeh_onload_callbacks === \"undefined\" || force === true) {\n    root._bokeh_onload_callbacks = [];\n    root._bokeh_is_loading = undefined;\n  }\n\n  \n\n  \n  if (typeof (root._bokeh_timeout) === \"undefined\" || force === true) {\n    root._bokeh_timeout = Date.now() + 5000;\n    root._bokeh_failed_load = false;\n  }\n\n  var NB_LOAD_WARNING = {'data': {'text/html':\n     \"<div style='background-color: #fdd'>\\n\"+\n     \"<p>\\n\"+\n     \"BokehJS does not appear to have successfully loaded. If loading BokehJS from CDN, this \\n\"+\n     \"may be due to a slow or bad network connection. Possible fixes:\\n\"+\n     \"</p>\\n\"+\n     \"<ul>\\n\"+\n     \"<li>re-rerun `output_notebook()` to attempt to load from CDN again, or</li>\\n\"+\n     \"<li>use INLINE resources instead, as so:</li>\\n\"+\n     \"</ul>\\n\"+\n     \"<code>\\n\"+\n     \"from bokeh.resources import INLINE\\n\"+\n     \"output_notebook(resources=INLINE)\\n\"+\n     \"</code>\\n\"+\n     \"</div>\"}};\n\n  function display_loaded() {\n    var el = document.getElementById(\"1001\");\n    if (el != null) {\n      el.textContent = \"BokehJS is loading...\";\n    }\n    if (root.Bokeh !== undefined) {\n      if (el != null) {\n        el.textContent = \"BokehJS \" + root.Bokeh.version + \" successfully loaded.\";\n      }\n    } else if (Date.now() < root._bokeh_timeout) {\n      setTimeout(display_loaded, 100)\n    }\n  }\n\n\n  function run_callbacks() {\n    try {\n      root._bokeh_onload_callbacks.forEach(function(callback) {\n        if (callback != null)\n          callback();\n      });\n    } finally {\n      delete root._bokeh_onload_callbacks\n    }\n    console.debug(\"Bokeh: all callbacks have finished\");\n  }\n\n  function load_libs(css_urls, js_urls, callback) {\n    if (css_urls == null) css_urls = [];\n    if (js_urls == null) js_urls = [];\n\n    root._bokeh_onload_callbacks.push(callback);\n    if (root._bokeh_is_loading > 0) {\n      console.debug(\"Bokeh: BokehJS is being loaded, scheduling callback at\", now());\n      return null;\n    }\n    if (js_urls == null || js_urls.length === 0) {\n      run_callbacks();\n      return null;\n    }\n    console.debug(\"Bokeh: BokehJS not loaded, scheduling load and callback at\", now());\n    root._bokeh_is_loading = css_urls.length + js_urls.length;\n\n    function on_load() {\n      root._bokeh_is_loading--;\n      if (root._bokeh_is_loading === 0) {\n        console.debug(\"Bokeh: all BokehJS libraries/stylesheets loaded\");\n        run_callbacks()\n      }\n    }\n\n    function on_error() {\n      console.error(\"failed to load \" + url);\n    }\n\n    for (var i = 0; i < css_urls.length; i++) {\n      var url = css_urls[i];\n      const element = document.createElement(\"link\");\n      element.onload = on_load;\n      element.onerror = on_error;\n      element.rel = \"stylesheet\";\n      element.type = \"text/css\";\n      element.href = url;\n      console.debug(\"Bokeh: injecting link tag for BokehJS stylesheet: \", url);\n      document.body.appendChild(element);\n    }\n\n    for (var i = 0; i < js_urls.length; i++) {\n      var url = js_urls[i];\n      var element = document.createElement('script');\n      element.onload = on_load;\n      element.onerror = on_error;\n      element.async = false;\n      element.src = url;\n      \n      console.debug(\"Bokeh: injecting script tag for BokehJS library: \", url);\n      document.head.appendChild(element);\n    }\n  };var element = document.getElementById(\"1001\");\n  if (element == null) {\n    console.error(\"Bokeh: ERROR: autoload.js configured with elementid '1001' but no matching script tag was found. \")\n    return false;\n  }\n\n  function inject_raw_css(css) {\n    const element = document.createElement(\"style\");\n    element.appendChild(document.createTextNode(css));\n    document.body.appendChild(element);\n  }\n\n  \n  var js_urls = [\"https://cdn.bokeh.org/bokeh/release/bokeh-2.0.0.min.js\", \"https://cdn.bokeh.org/bokeh/release/bokeh-widgets-2.0.0.min.js\", \"https://cdn.bokeh.org/bokeh/release/bokeh-tables-2.0.0.min.js\", \"https://cdn.bokeh.org/bokeh/release/bokeh-gl-2.0.0.min.js\"];\n  var css_urls = [];\n  \n\n  var inline_js = [\n    function(Bokeh) {\n      Bokeh.set_log_level(\"info\");\n    },\n    function(Bokeh) {\n    \n    \n    }\n  ];\n\n  function run_inline_js() {\n    \n    if (root.Bokeh !== undefined || force === true) {\n      \n    for (var i = 0; i < inline_js.length; i++) {\n      inline_js[i].call(root, root.Bokeh);\n    }\n    if (force === true) {\n        display_loaded();\n      }} else if (Date.now() < root._bokeh_timeout) {\n      setTimeout(run_inline_js, 100);\n    } else if (!root._bokeh_failed_load) {\n      console.log(\"Bokeh: BokehJS failed to load within specified timeout.\");\n      root._bokeh_failed_load = true;\n    } else if (force !== true) {\n      var cell = $(document.getElementById(\"1001\")).parents('.cell').data().cell;\n      cell.output_area.append_execute_result(NB_LOAD_WARNING)\n    }\n\n  }\n\n  if (root._bokeh_is_loading === 0) {\n    console.debug(\"Bokeh: BokehJS loaded, going straight to plotting\");\n    run_inline_js();\n  } else {\n    load_libs(css_urls, js_urls, function() {\n      console.debug(\"Bokeh: BokehJS plotting callback run at\", now());\n      run_inline_js();\n    });\n  }\n}(window));"
     },
     "metadata": {},
     "output_type": "display_data"
    }
   ],
   "source": [
    "import bokeh.models as bm, bokeh.plotting as pl\n",
    "from bokeh.io import output_notebook\n",
    "output_notebook()\n",
    "\n",
    "def draw_vectors(x, y, radius=10, alpha=0.25, color='blue', width=600, height=400, show=True, **kwargs):\n",
    "    if isinstance(color, str): color = [color] * len(x)\n",
    "    data_source = bm.ColumnDataSource({ 'x' : x, 'y' : y, 'color': color, **kwargs })\n",
    "\n",
    "    fig = pl.figure(active_scroll='wheel_zoom', width=width, height=height)\n",
    "    fig.scatter('x', 'y', size=radius, color='color', alpha=alpha, source=data_source)\n",
    "\n",
    "    fig.add_tools(bm.HoverTool(tooltips=[(key, \"@\" + key) for key in kwargs.keys()]))\n",
    "    if show: pl.show(fig)\n",
    "    return fig"
   ]
  },
  {
   "cell_type": "code",
   "execution_count": 38,
   "metadata": {},
   "outputs": [],
   "source": [
    "\n",
    "#pickle.dump(so_embeddings, open('so_embeddings.dmp','wb'))"
   ]
  },
  {
   "cell_type": "code",
   "execution_count": 39,
   "metadata": {},
   "outputs": [
    {
     "name": "stdout",
     "output_type": "stream",
     "text": [
      "[t-SNE] Computing 91 nearest neighbors...\n",
      "[t-SNE] Indexed 1000 samples in 0.012s...\n",
      "[t-SNE] Computed neighbors for 1000 samples in 0.519s...\n",
      "[t-SNE] Computed conditional probabilities for sample 1000 / 1000\n",
      "[t-SNE] Mean sigma: 0.396497\n",
      "[t-SNE] Computed conditional probabilities in 0.046s\n",
      "[t-SNE] Iteration 50: error = 93.8023376, gradient norm = 0.2829286 (50 iterations in 58.418s)\n",
      "[t-SNE] Iteration 100: error = 96.7162018, gradient norm = 0.2747018 (50 iterations in 60.665s)\n",
      "[t-SNE] Iteration 150: error = 96.9414444, gradient norm = 0.2560999 (50 iterations in 61.719s)\n",
      "[t-SNE] Iteration 200: error = 97.1252747, gradient norm = 0.2501182 (50 iterations in 63.680s)\n",
      "[t-SNE] Iteration 250: error = 98.6803055, gradient norm = 0.2388196 (50 iterations in 65.356s)\n",
      "[t-SNE] KL divergence after 250 iterations with early exaggeration: 98.680305\n",
      "[t-SNE] Iteration 300: error = 2.4938705, gradient norm = 0.0038932 (50 iterations in 42.794s)\n",
      "[t-SNE] Iteration 350: error = 2.1862087, gradient norm = 0.0011817 (50 iterations in 31.699s)\n",
      "[t-SNE] Iteration 400: error = 2.1584196, gradient norm = 0.0005410 (50 iterations in 31.135s)\n",
      "[t-SNE] Iteration 450: error = 2.1401274, gradient norm = 0.0006503 (50 iterations in 30.844s)\n",
      "[t-SNE] Iteration 500: error = 2.1265008, gradient norm = 0.0004268 (50 iterations in 31.305s)\n",
      "[t-SNE] Iteration 550: error = 2.1164815, gradient norm = 0.0002943 (50 iterations in 30.307s)\n",
      "[t-SNE] Iteration 600: error = 2.1048880, gradient norm = 0.0003377 (50 iterations in 29.241s)\n",
      "[t-SNE] Iteration 650: error = 2.0997462, gradient norm = 0.0002436 (50 iterations in 30.174s)\n",
      "[t-SNE] Iteration 700: error = 2.0927632, gradient norm = 0.0002998 (50 iterations in 30.535s)\n",
      "[t-SNE] Iteration 750: error = 2.0874207, gradient norm = 0.0005055 (50 iterations in 31.929s)\n",
      "[t-SNE] Iteration 800: error = 2.0819764, gradient norm = 0.0002840 (50 iterations in 29.874s)\n",
      "[t-SNE] Iteration 850: error = 2.0782998, gradient norm = 0.0001502 (50 iterations in 31.375s)\n",
      "[t-SNE] Iteration 900: error = 2.0751200, gradient norm = 0.0001888 (50 iterations in 29.667s)\n",
      "[t-SNE] Iteration 950: error = 2.0737579, gradient norm = 0.0001726 (50 iterations in 30.159s)\n",
      "[t-SNE] Iteration 1000: error = 2.0707624, gradient norm = 0.0000833 (50 iterations in 32.750s)\n",
      "[t-SNE] KL divergence after 1000 iterations: 2.070762\n"
     ]
    }
   ],
   "source": [
    "from sklearn.manifold import TSNE\n",
    "from sklearn.preprocessing import StandardScaler\n",
    "\n",
    "tsne = TSNE(n_components=2, verbose=50)\n",
    "so_embeddings_tsne = tsne.fit_transform(so_embeddings)\n",
    "so_embeddings_tsne_scaled = StandardScaler().fit_transform(so_embeddings_tsne)"
   ]
  },
  {
   "cell_type": "code",
   "execution_count": 41,
   "metadata": {},
   "outputs": [
    {
     "data": {
      "text/html": [
       "\n",
       "    <div class=\"bk-root\">\n",
       "        <a href=\"https://bokeh.org\" target=\"_blank\" class=\"bk-logo bk-logo-small bk-logo-notebook\"></a>\n",
       "        <span id=\"1003\">Loading BokehJS ...</span>\n",
       "    </div>"
      ]
     },
     "metadata": {},
     "output_type": "display_data"
    },
    {
     "data": {
      "application/javascript": [
       "\n",
       "(function(root) {\n",
       "  function now() {\n",
       "    return new Date();\n",
       "  }\n",
       "\n",
       "  var force = true;\n",
       "\n",
       "  if (typeof root._bokeh_onload_callbacks === \"undefined\" || force === true) {\n",
       "    root._bokeh_onload_callbacks = [];\n",
       "    root._bokeh_is_loading = undefined;\n",
       "  }\n",
       "\n",
       "  var JS_MIME_TYPE = 'application/javascript';\n",
       "  var HTML_MIME_TYPE = 'text/html';\n",
       "  var EXEC_MIME_TYPE = 'application/vnd.bokehjs_exec.v0+json';\n",
       "  var CLASS_NAME = 'output_bokeh rendered_html';\n",
       "\n",
       "  /**\n",
       "   * Render data to the DOM node\n",
       "   */\n",
       "  function render(props, node) {\n",
       "    var script = document.createElement(\"script\");\n",
       "    node.appendChild(script);\n",
       "  }\n",
       "\n",
       "  /**\n",
       "   * Handle when an output is cleared or removed\n",
       "   */\n",
       "  function handleClearOutput(event, handle) {\n",
       "    var cell = handle.cell;\n",
       "\n",
       "    var id = cell.output_area._bokeh_element_id;\n",
       "    var server_id = cell.output_area._bokeh_server_id;\n",
       "    // Clean up Bokeh references\n",
       "    if (id != null && id in Bokeh.index) {\n",
       "      Bokeh.index[id].model.document.clear();\n",
       "      delete Bokeh.index[id];\n",
       "    }\n",
       "\n",
       "    if (server_id !== undefined) {\n",
       "      // Clean up Bokeh references\n",
       "      var cmd = \"from bokeh.io.state import curstate; print(curstate().uuid_to_server['\" + server_id + \"'].get_sessions()[0].document.roots[0]._id)\";\n",
       "      cell.notebook.kernel.execute(cmd, {\n",
       "        iopub: {\n",
       "          output: function(msg) {\n",
       "            var id = msg.content.text.trim();\n",
       "            if (id in Bokeh.index) {\n",
       "              Bokeh.index[id].model.document.clear();\n",
       "              delete Bokeh.index[id];\n",
       "            }\n",
       "          }\n",
       "        }\n",
       "      });\n",
       "      // Destroy server and session\n",
       "      var cmd = \"import bokeh.io.notebook as ion; ion.destroy_server('\" + server_id + \"')\";\n",
       "      cell.notebook.kernel.execute(cmd);\n",
       "    }\n",
       "  }\n",
       "\n",
       "  /**\n",
       "   * Handle when a new output is added\n",
       "   */\n",
       "  function handleAddOutput(event, handle) {\n",
       "    var output_area = handle.output_area;\n",
       "    var output = handle.output;\n",
       "\n",
       "    // limit handleAddOutput to display_data with EXEC_MIME_TYPE content only\n",
       "    if ((output.output_type != \"display_data\") || (!output.data.hasOwnProperty(EXEC_MIME_TYPE))) {\n",
       "      return\n",
       "    }\n",
       "\n",
       "    var toinsert = output_area.element.find(\".\" + CLASS_NAME.split(' ')[0]);\n",
       "\n",
       "    if (output.metadata[EXEC_MIME_TYPE][\"id\"] !== undefined) {\n",
       "      toinsert[toinsert.length - 1].firstChild.textContent = output.data[JS_MIME_TYPE];\n",
       "      // store reference to embed id on output_area\n",
       "      output_area._bokeh_element_id = output.metadata[EXEC_MIME_TYPE][\"id\"];\n",
       "    }\n",
       "    if (output.metadata[EXEC_MIME_TYPE][\"server_id\"] !== undefined) {\n",
       "      var bk_div = document.createElement(\"div\");\n",
       "      bk_div.innerHTML = output.data[HTML_MIME_TYPE];\n",
       "      var script_attrs = bk_div.children[0].attributes;\n",
       "      for (var i = 0; i < script_attrs.length; i++) {\n",
       "        toinsert[toinsert.length - 1].firstChild.setAttribute(script_attrs[i].name, script_attrs[i].value);\n",
       "        toinsert[toinsert.length - 1].firstChild.textContent = bk_div.children[0].textContent\n",
       "      }\n",
       "      // store reference to server id on output_area\n",
       "      output_area._bokeh_server_id = output.metadata[EXEC_MIME_TYPE][\"server_id\"];\n",
       "    }\n",
       "  }\n",
       "\n",
       "  function register_renderer(events, OutputArea) {\n",
       "\n",
       "    function append_mime(data, metadata, element) {\n",
       "      // create a DOM node to render to\n",
       "      var toinsert = this.create_output_subarea(\n",
       "        metadata,\n",
       "        CLASS_NAME,\n",
       "        EXEC_MIME_TYPE\n",
       "      );\n",
       "      this.keyboard_manager.register_events(toinsert);\n",
       "      // Render to node\n",
       "      var props = {data: data, metadata: metadata[EXEC_MIME_TYPE]};\n",
       "      render(props, toinsert[toinsert.length - 1]);\n",
       "      element.append(toinsert);\n",
       "      return toinsert\n",
       "    }\n",
       "\n",
       "    /* Handle when an output is cleared or removed */\n",
       "    events.on('clear_output.CodeCell', handleClearOutput);\n",
       "    events.on('delete.Cell', handleClearOutput);\n",
       "\n",
       "    /* Handle when a new output is added */\n",
       "    events.on('output_added.OutputArea', handleAddOutput);\n",
       "\n",
       "    /**\n",
       "     * Register the mime type and append_mime function with output_area\n",
       "     */\n",
       "    OutputArea.prototype.register_mime_type(EXEC_MIME_TYPE, append_mime, {\n",
       "      /* Is output safe? */\n",
       "      safe: true,\n",
       "      /* Index of renderer in `output_area.display_order` */\n",
       "      index: 0\n",
       "    });\n",
       "  }\n",
       "\n",
       "  // register the mime type if in Jupyter Notebook environment and previously unregistered\n",
       "  if (root.Jupyter !== undefined) {\n",
       "    var events = require('base/js/events');\n",
       "    var OutputArea = require('notebook/js/outputarea').OutputArea;\n",
       "\n",
       "    if (OutputArea.prototype.mime_types().indexOf(EXEC_MIME_TYPE) == -1) {\n",
       "      register_renderer(events, OutputArea);\n",
       "    }\n",
       "  }\n",
       "\n",
       "  \n",
       "  if (typeof (root._bokeh_timeout) === \"undefined\" || force === true) {\n",
       "    root._bokeh_timeout = Date.now() + 5000;\n",
       "    root._bokeh_failed_load = false;\n",
       "  }\n",
       "\n",
       "  var NB_LOAD_WARNING = {'data': {'text/html':\n",
       "     \"<div style='background-color: #fdd'>\\n\"+\n",
       "     \"<p>\\n\"+\n",
       "     \"BokehJS does not appear to have successfully loaded. If loading BokehJS from CDN, this \\n\"+\n",
       "     \"may be due to a slow or bad network connection. Possible fixes:\\n\"+\n",
       "     \"</p>\\n\"+\n",
       "     \"<ul>\\n\"+\n",
       "     \"<li>re-rerun `output_notebook()` to attempt to load from CDN again, or</li>\\n\"+\n",
       "     \"<li>use INLINE resources instead, as so:</li>\\n\"+\n",
       "     \"</ul>\\n\"+\n",
       "     \"<code>\\n\"+\n",
       "     \"from bokeh.resources import INLINE\\n\"+\n",
       "     \"output_notebook(resources=INLINE)\\n\"+\n",
       "     \"</code>\\n\"+\n",
       "     \"</div>\"}};\n",
       "\n",
       "  function display_loaded() {\n",
       "    var el = document.getElementById(\"1003\");\n",
       "    if (el != null) {\n",
       "      el.textContent = \"BokehJS is loading...\";\n",
       "    }\n",
       "    if (root.Bokeh !== undefined) {\n",
       "      if (el != null) {\n",
       "        el.textContent = \"BokehJS \" + root.Bokeh.version + \" successfully loaded.\";\n",
       "      }\n",
       "    } else if (Date.now() < root._bokeh_timeout) {\n",
       "      setTimeout(display_loaded, 100)\n",
       "    }\n",
       "  }\n",
       "\n",
       "\n",
       "  function run_callbacks() {\n",
       "    try {\n",
       "      root._bokeh_onload_callbacks.forEach(function(callback) {\n",
       "        if (callback != null)\n",
       "          callback();\n",
       "      });\n",
       "    } finally {\n",
       "      delete root._bokeh_onload_callbacks\n",
       "    }\n",
       "    console.debug(\"Bokeh: all callbacks have finished\");\n",
       "  }\n",
       "\n",
       "  function load_libs(css_urls, js_urls, callback) {\n",
       "    if (css_urls == null) css_urls = [];\n",
       "    if (js_urls == null) js_urls = [];\n",
       "\n",
       "    root._bokeh_onload_callbacks.push(callback);\n",
       "    if (root._bokeh_is_loading > 0) {\n",
       "      console.debug(\"Bokeh: BokehJS is being loaded, scheduling callback at\", now());\n",
       "      return null;\n",
       "    }\n",
       "    if (js_urls == null || js_urls.length === 0) {\n",
       "      run_callbacks();\n",
       "      return null;\n",
       "    }\n",
       "    console.debug(\"Bokeh: BokehJS not loaded, scheduling load and callback at\", now());\n",
       "    root._bokeh_is_loading = css_urls.length + js_urls.length;\n",
       "\n",
       "    function on_load() {\n",
       "      root._bokeh_is_loading--;\n",
       "      if (root._bokeh_is_loading === 0) {\n",
       "        console.debug(\"Bokeh: all BokehJS libraries/stylesheets loaded\");\n",
       "        run_callbacks()\n",
       "      }\n",
       "    }\n",
       "\n",
       "    function on_error() {\n",
       "      console.error(\"failed to load \" + url);\n",
       "    }\n",
       "\n",
       "    for (var i = 0; i < css_urls.length; i++) {\n",
       "      var url = css_urls[i];\n",
       "      const element = document.createElement(\"link\");\n",
       "      element.onload = on_load;\n",
       "      element.onerror = on_error;\n",
       "      element.rel = \"stylesheet\";\n",
       "      element.type = \"text/css\";\n",
       "      element.href = url;\n",
       "      console.debug(\"Bokeh: injecting link tag for BokehJS stylesheet: \", url);\n",
       "      document.body.appendChild(element);\n",
       "    }\n",
       "\n",
       "    for (var i = 0; i < js_urls.length; i++) {\n",
       "      var url = js_urls[i];\n",
       "      var element = document.createElement('script');\n",
       "      element.onload = on_load;\n",
       "      element.onerror = on_error;\n",
       "      element.async = false;\n",
       "      element.src = url;\n",
       "      \n",
       "      console.debug(\"Bokeh: injecting script tag for BokehJS library: \", url);\n",
       "      document.head.appendChild(element);\n",
       "    }\n",
       "  };var element = document.getElementById(\"1003\");\n",
       "  if (element == null) {\n",
       "    console.error(\"Bokeh: ERROR: autoload.js configured with elementid '1003' but no matching script tag was found. \")\n",
       "    return false;\n",
       "  }\n",
       "\n",
       "  function inject_raw_css(css) {\n",
       "    const element = document.createElement(\"style\");\n",
       "    element.appendChild(document.createTextNode(css));\n",
       "    document.body.appendChild(element);\n",
       "  }\n",
       "\n",
       "  \n",
       "  var js_urls = [\"https://cdn.bokeh.org/bokeh/release/bokeh-2.0.0.min.js\", \"https://cdn.bokeh.org/bokeh/release/bokeh-widgets-2.0.0.min.js\", \"https://cdn.bokeh.org/bokeh/release/bokeh-tables-2.0.0.min.js\", \"https://cdn.bokeh.org/bokeh/release/bokeh-gl-2.0.0.min.js\"];\n",
       "  var css_urls = [];\n",
       "  \n",
       "\n",
       "  var inline_js = [\n",
       "    function(Bokeh) {\n",
       "      Bokeh.set_log_level(\"info\");\n",
       "    },\n",
       "    function(Bokeh) {\n",
       "    \n",
       "    \n",
       "    }\n",
       "  ];\n",
       "\n",
       "  function run_inline_js() {\n",
       "    \n",
       "    if (root.Bokeh !== undefined || force === true) {\n",
       "      \n",
       "    for (var i = 0; i < inline_js.length; i++) {\n",
       "      inline_js[i].call(root, root.Bokeh);\n",
       "    }\n",
       "    if (force === true) {\n",
       "        display_loaded();\n",
       "      }} else if (Date.now() < root._bokeh_timeout) {\n",
       "      setTimeout(run_inline_js, 100);\n",
       "    } else if (!root._bokeh_failed_load) {\n",
       "      console.log(\"Bokeh: BokehJS failed to load within specified timeout.\");\n",
       "      root._bokeh_failed_load = true;\n",
       "    } else if (force !== true) {\n",
       "      var cell = $(document.getElementById(\"1003\")).parents('.cell').data().cell;\n",
       "      cell.output_area.append_execute_result(NB_LOAD_WARNING)\n",
       "    }\n",
       "\n",
       "  }\n",
       "\n",
       "  if (root._bokeh_is_loading === 0) {\n",
       "    console.debug(\"Bokeh: BokehJS loaded, going straight to plotting\");\n",
       "    run_inline_js();\n",
       "  } else {\n",
       "    load_libs(css_urls, js_urls, function() {\n",
       "      console.debug(\"Bokeh: BokehJS plotting callback run at\", now());\n",
       "      run_inline_js();\n",
       "    });\n",
       "  }\n",
       "}(window));"
      ],
      "application/vnd.bokehjs_load.v0+json": "\n(function(root) {\n  function now() {\n    return new Date();\n  }\n\n  var force = true;\n\n  if (typeof root._bokeh_onload_callbacks === \"undefined\" || force === true) {\n    root._bokeh_onload_callbacks = [];\n    root._bokeh_is_loading = undefined;\n  }\n\n  \n\n  \n  if (typeof (root._bokeh_timeout) === \"undefined\" || force === true) {\n    root._bokeh_timeout = Date.now() + 5000;\n    root._bokeh_failed_load = false;\n  }\n\n  var NB_LOAD_WARNING = {'data': {'text/html':\n     \"<div style='background-color: #fdd'>\\n\"+\n     \"<p>\\n\"+\n     \"BokehJS does not appear to have successfully loaded. If loading BokehJS from CDN, this \\n\"+\n     \"may be due to a slow or bad network connection. Possible fixes:\\n\"+\n     \"</p>\\n\"+\n     \"<ul>\\n\"+\n     \"<li>re-rerun `output_notebook()` to attempt to load from CDN again, or</li>\\n\"+\n     \"<li>use INLINE resources instead, as so:</li>\\n\"+\n     \"</ul>\\n\"+\n     \"<code>\\n\"+\n     \"from bokeh.resources import INLINE\\n\"+\n     \"output_notebook(resources=INLINE)\\n\"+\n     \"</code>\\n\"+\n     \"</div>\"}};\n\n  function display_loaded() {\n    var el = document.getElementById(\"1003\");\n    if (el != null) {\n      el.textContent = \"BokehJS is loading...\";\n    }\n    if (root.Bokeh !== undefined) {\n      if (el != null) {\n        el.textContent = \"BokehJS \" + root.Bokeh.version + \" successfully loaded.\";\n      }\n    } else if (Date.now() < root._bokeh_timeout) {\n      setTimeout(display_loaded, 100)\n    }\n  }\n\n\n  function run_callbacks() {\n    try {\n      root._bokeh_onload_callbacks.forEach(function(callback) {\n        if (callback != null)\n          callback();\n      });\n    } finally {\n      delete root._bokeh_onload_callbacks\n    }\n    console.debug(\"Bokeh: all callbacks have finished\");\n  }\n\n  function load_libs(css_urls, js_urls, callback) {\n    if (css_urls == null) css_urls = [];\n    if (js_urls == null) js_urls = [];\n\n    root._bokeh_onload_callbacks.push(callback);\n    if (root._bokeh_is_loading > 0) {\n      console.debug(\"Bokeh: BokehJS is being loaded, scheduling callback at\", now());\n      return null;\n    }\n    if (js_urls == null || js_urls.length === 0) {\n      run_callbacks();\n      return null;\n    }\n    console.debug(\"Bokeh: BokehJS not loaded, scheduling load and callback at\", now());\n    root._bokeh_is_loading = css_urls.length + js_urls.length;\n\n    function on_load() {\n      root._bokeh_is_loading--;\n      if (root._bokeh_is_loading === 0) {\n        console.debug(\"Bokeh: all BokehJS libraries/stylesheets loaded\");\n        run_callbacks()\n      }\n    }\n\n    function on_error() {\n      console.error(\"failed to load \" + url);\n    }\n\n    for (var i = 0; i < css_urls.length; i++) {\n      var url = css_urls[i];\n      const element = document.createElement(\"link\");\n      element.onload = on_load;\n      element.onerror = on_error;\n      element.rel = \"stylesheet\";\n      element.type = \"text/css\";\n      element.href = url;\n      console.debug(\"Bokeh: injecting link tag for BokehJS stylesheet: \", url);\n      document.body.appendChild(element);\n    }\n\n    for (var i = 0; i < js_urls.length; i++) {\n      var url = js_urls[i];\n      var element = document.createElement('script');\n      element.onload = on_load;\n      element.onerror = on_error;\n      element.async = false;\n      element.src = url;\n      \n      console.debug(\"Bokeh: injecting script tag for BokehJS library: \", url);\n      document.head.appendChild(element);\n    }\n  };var element = document.getElementById(\"1003\");\n  if (element == null) {\n    console.error(\"Bokeh: ERROR: autoload.js configured with elementid '1003' but no matching script tag was found. \")\n    return false;\n  }\n\n  function inject_raw_css(css) {\n    const element = document.createElement(\"style\");\n    element.appendChild(document.createTextNode(css));\n    document.body.appendChild(element);\n  }\n\n  \n  var js_urls = [\"https://cdn.bokeh.org/bokeh/release/bokeh-2.0.0.min.js\", \"https://cdn.bokeh.org/bokeh/release/bokeh-widgets-2.0.0.min.js\", \"https://cdn.bokeh.org/bokeh/release/bokeh-tables-2.0.0.min.js\", \"https://cdn.bokeh.org/bokeh/release/bokeh-gl-2.0.0.min.js\"];\n  var css_urls = [];\n  \n\n  var inline_js = [\n    function(Bokeh) {\n      Bokeh.set_log_level(\"info\");\n    },\n    function(Bokeh) {\n    \n    \n    }\n  ];\n\n  function run_inline_js() {\n    \n    if (root.Bokeh !== undefined || force === true) {\n      \n    for (var i = 0; i < inline_js.length; i++) {\n      inline_js[i].call(root, root.Bokeh);\n    }\n    if (force === true) {\n        display_loaded();\n      }} else if (Date.now() < root._bokeh_timeout) {\n      setTimeout(run_inline_js, 100);\n    } else if (!root._bokeh_failed_load) {\n      console.log(\"Bokeh: BokehJS failed to load within specified timeout.\");\n      root._bokeh_failed_load = true;\n    } else if (force !== true) {\n      var cell = $(document.getElementById(\"1003\")).parents('.cell').data().cell;\n      cell.output_area.append_execute_result(NB_LOAD_WARNING)\n    }\n\n  }\n\n  if (root._bokeh_is_loading === 0) {\n    console.debug(\"Bokeh: BokehJS loaded, going straight to plotting\");\n    run_inline_js();\n  } else {\n    load_libs(css_urls, js_urls, function() {\n      console.debug(\"Bokeh: BokehJS plotting callback run at\", now());\n      run_inline_js();\n    });\n  }\n}(window));"
     },
     "metadata": {},
     "output_type": "display_data"
    },
    {
     "data": {
      "text/html": [
       "\n",
       "\n",
       "\n",
       "\n",
       "\n",
       "\n",
       "  <div class=\"bk-root\" id=\"054ffa53-1a1b-4af4-9490-81e8d6bc158d\" data-root-id=\"1005\"></div>\n"
      ]
     },
     "metadata": {},
     "output_type": "display_data"
    },
    {
     "data": {
      "application/javascript": [
       "(function(root) {\n",
       "  function embed_document(root) {\n",
       "    \n",
       "  var docs_json = {\"62867c34-8452-480b-9ec3-305ac98ecb7d\":{\"roots\":{\"references\":[{\"attributes\":{\"below\":[{\"id\":\"1014\"}],\"center\":[{\"id\":\"1017\"},{\"id\":\"1021\"}],\"left\":[{\"id\":\"1018\"}],\"plot_height\":400,\"renderers\":[{\"id\":\"1038\"}],\"title\":{\"id\":\"1043\"},\"toolbar\":{\"id\":\"1028\"},\"x_range\":{\"id\":\"1006\"},\"x_scale\":{\"id\":\"1010\"},\"y_range\":{\"id\":\"1008\"},\"y_scale\":{\"id\":\"1012\"}},\"id\":\"1005\",\"subtype\":\"Figure\",\"type\":\"Plot\"},{\"attributes\":{},\"id\":\"1010\",\"type\":\"LinearScale\"},{\"attributes\":{},\"id\":\"1019\",\"type\":\"BasicTicker\"},{\"attributes\":{\"formatter\":{\"id\":\"1047\"},\"ticker\":{\"id\":\"1019\"}},\"id\":\"1018\",\"type\":\"LinearAxis\"},{\"attributes\":{},\"id\":\"1012\",\"type\":\"LinearScale\"},{\"attributes\":{\"text\":\"\"},\"id\":\"1043\",\"type\":\"Title\"},{\"attributes\":{\"formatter\":{\"id\":\"1045\"},\"ticker\":{\"id\":\"1015\"}},\"id\":\"1014\",\"type\":\"LinearAxis\"},{\"attributes\":{\"active_drag\":\"auto\",\"active_inspect\":\"auto\",\"active_multi\":null,\"active_scroll\":{\"id\":\"1023\"},\"active_tap\":\"auto\",\"tools\":[{\"id\":\"1022\"},{\"id\":\"1023\"},{\"id\":\"1024\"},{\"id\":\"1025\"},{\"id\":\"1026\"},{\"id\":\"1027\"},{\"id\":\"1040\"}]},\"id\":\"1028\",\"type\":\"Toolbar\"},{\"attributes\":{\"callback\":null,\"tooltips\":[[\"token\",\"@token\"]]},\"id\":\"1040\",\"type\":\"HoverTool\"},{\"attributes\":{},\"id\":\"1015\",\"type\":\"BasicTicker\"},{\"attributes\":{},\"id\":\"1045\",\"type\":\"BasicTickFormatter\"},{\"attributes\":{\"data\":{\"color\":[\"blue\",\"blue\",\"blue\",\"blue\",\"blue\",\"blue\",\"blue\",\"blue\",\"blue\",\"blue\",\"blue\",\"blue\",\"blue\",\"blue\",\"blue\",\"blue\",\"blue\",\"blue\",\"blue\",\"blue\",\"blue\",\"blue\",\"blue\",\"blue\",\"blue\",\"blue\",\"blue\",\"blue\",\"blue\",\"blue\",\"blue\",\"blue\",\"blue\",\"blue\",\"blue\",\"blue\",\"blue\",\"blue\",\"blue\",\"blue\",\"blue\",\"blue\",\"blue\",\"blue\",\"blue\",\"blue\",\"blue\",\"blue\",\"blue\",\"blue\",\"blue\",\"blue\",\"blue\",\"blue\",\"blue\",\"blue\",\"blue\",\"blue\",\"blue\",\"blue\",\"blue\",\"blue\",\"blue\",\"blue\",\"blue\",\"blue\",\"blue\",\"blue\",\"blue\",\"blue\",\"blue\",\"blue\",\"blue\",\"blue\",\"blue\",\"blue\",\"blue\",\"blue\",\"blue\",\"blue\",\"blue\",\"blue\",\"blue\",\"blue\",\"blue\",\"blue\",\"blue\",\"blue\",\"blue\",\"blue\",\"blue\",\"blue\",\"blue\",\"blue\",\"blue\",\"blue\",\"blue\",\"blue\",\"blue\",\"blue\",\"blue\",\"blue\",\"blue\",\"blue\",\"blue\",\"blue\",\"blue\",\"blue\",\"blue\",\"blue\",\"blue\",\"blue\",\"blue\",\"blue\",\"blue\",\"blue\",\"blue\",\"blue\",\"blue\",\"blue\",\"blue\",\"blue\",\"blue\",\"blue\",\"blue\",\"blue\",\"blue\",\"blue\",\"blue\",\"blue\",\"blue\",\"blue\",\"blue\",\"blue\",\"blue\",\"blue\",\"blue\",\"blue\",\"blue\",\"blue\",\"blue\",\"blue\",\"blue\",\"blue\",\"blue\",\"blue\",\"blue\",\"blue\",\"blue\",\"blue\",\"blue\",\"blue\",\"blue\",\"blue\",\"blue\",\"blue\",\"blue\",\"blue\",\"blue\",\"blue\",\"blue\",\"blue\",\"blue\",\"blue\",\"blue\",\"blue\",\"blue\",\"blue\",\"blue\",\"blue\",\"blue\",\"blue\",\"blue\",\"blue\",\"blue\",\"blue\",\"blue\",\"blue\",\"blue\",\"blue\",\"blue\",\"blue\",\"blue\",\"blue\",\"blue\",\"blue\",\"blue\",\"blue\",\"blue\",\"blue\",\"blue\",\"blue\",\"blue\",\"blue\",\"blue\",\"blue\",\"blue\",\"blue\",\"blue\",\"blue\",\"blue\",\"blue\",\"blue\",\"blue\",\"blue\",\"blue\",\"blue\",\"blue\",\"blue\",\"blue\",\"blue\",\"blue\",\"blue\",\"blue\",\"blue\",\"blue\",\"blue\",\"blue\",\"blue\",\"blue\",\"blue\",\"blue\",\"blue\",\"blue\",\"blue\",\"blue\",\"blue\",\"blue\",\"blue\",\"blue\",\"blue\",\"blue\",\"blue\",\"blue\",\"blue\",\"blue\",\"blue\",\"blue\",\"blue\",\"blue\",\"blue\",\"blue\",\"blue\",\"blue\",\"blue\",\"blue\",\"blue\",\"blue\",\"blue\",\"blue\",\"blue\",\"blue\",\"blue\",\"blue\",\"blue\",\"blue\",\"blue\",\"blue\",\"blue\",\"blue\",\"blue\",\"blue\",\"blue\",\"blue\",\"blue\",\"blue\",\"blue\",\"blue\",\"blue\",\"blue\",\"blue\",\"blue\",\"blue\",\"blue\",\"blue\",\"blue\",\"blue\",\"blue\",\"blue\",\"blue\",\"blue\",\"blue\",\"blue\",\"blue\",\"blue\",\"blue\",\"blue\",\"blue\",\"blue\",\"blue\",\"blue\",\"blue\",\"blue\",\"blue\",\"blue\",\"blue\",\"blue\",\"blue\",\"blue\",\"blue\",\"blue\",\"blue\",\"blue\",\"blue\",\"blue\",\"blue\",\"blue\",\"blue\",\"blue\",\"blue\",\"blue\",\"blue\",\"blue\",\"blue\",\"blue\",\"blue\",\"blue\",\"blue\",\"blue\",\"blue\",\"blue\",\"blue\",\"blue\",\"blue\",\"blue\",\"blue\",\"blue\",\"blue\",\"blue\",\"blue\",\"blue\",\"blue\",\"blue\",\"blue\",\"blue\",\"blue\",\"blue\",\"blue\",\"blue\",\"blue\",\"blue\",\"blue\",\"blue\",\"blue\",\"blue\",\"blue\",\"blue\",\"blue\",\"blue\",\"blue\",\"blue\",\"blue\",\"blue\",\"blue\",\"blue\",\"blue\",\"blue\",\"blue\",\"blue\",\"blue\",\"blue\",\"blue\",\"blue\",\"blue\",\"blue\",\"blue\",\"blue\",\"blue\",\"blue\",\"blue\",\"blue\",\"blue\",\"blue\",\"blue\",\"blue\",\"blue\",\"blue\",\"blue\",\"blue\",\"blue\",\"blue\",\"blue\",\"blue\",\"blue\",\"blue\",\"blue\",\"blue\",\"blue\",\"blue\",\"blue\",\"blue\",\"blue\",\"blue\",\"blue\",\"blue\",\"blue\",\"blue\",\"blue\",\"blue\",\"blue\",\"blue\",\"blue\",\"blue\",\"blue\",\"blue\",\"blue\",\"blue\",\"blue\",\"blue\",\"blue\",\"blue\",\"blue\",\"blue\",\"blue\",\"blue\",\"blue\",\"blue\",\"blue\",\"blue\",\"blue\",\"blue\",\"blue\",\"blue\",\"blue\",\"blue\",\"blue\",\"blue\",\"blue\",\"blue\",\"blue\",\"blue\",\"blue\",\"blue\",\"blue\",\"blue\",\"blue\",\"blue\",\"blue\",\"blue\",\"blue\",\"blue\",\"blue\",\"blue\",\"blue\",\"blue\",\"blue\",\"blue\",\"blue\",\"blue\",\"blue\",\"blue\",\"blue\",\"blue\",\"blue\",\"blue\",\"blue\",\"blue\",\"blue\",\"blue\",\"blue\",\"blue\",\"blue\",\"blue\",\"blue\",\"blue\",\"blue\",\"blue\",\"blue\",\"blue\",\"blue\",\"blue\",\"blue\",\"blue\",\"blue\",\"blue\",\"blue\",\"blue\",\"blue\",\"blue\",\"blue\",\"blue\",\"blue\",\"blue\",\"blue\",\"blue\",\"blue\",\"blue\",\"blue\",\"blue\",\"blue\",\"blue\",\"blue\",\"blue\",\"blue\",\"blue\",\"blue\",\"blue\",\"blue\",\"blue\",\"blue\",\"blue\",\"blue\",\"blue\",\"blue\",\"blue\",\"blue\",\"blue\",\"blue\",\"blue\",\"blue\",\"blue\",\"blue\",\"blue\",\"blue\",\"blue\",\"blue\",\"blue\",\"blue\",\"blue\",\"blue\",\"blue\",\"blue\",\"blue\",\"blue\",\"blue\",\"blue\",\"blue\",\"blue\",\"blue\",\"blue\",\"blue\",\"blue\",\"blue\",\"blue\",\"blue\",\"blue\",\"blue\",\"blue\",\"blue\",\"blue\",\"blue\",\"blue\",\"blue\",\"blue\",\"blue\",\"blue\",\"blue\",\"blue\",\"blue\",\"blue\",\"blue\",\"blue\",\"blue\",\"blue\",\"blue\",\"blue\",\"blue\",\"blue\",\"blue\",\"blue\",\"blue\",\"blue\",\"blue\",\"blue\",\"blue\",\"blue\",\"blue\",\"blue\",\"blue\",\"blue\",\"blue\",\"blue\",\"blue\",\"blue\",\"blue\",\"blue\",\"blue\",\"blue\",\"blue\",\"blue\",\"blue\",\"blue\",\"blue\",\"blue\",\"blue\",\"blue\",\"blue\",\"blue\",\"blue\",\"blue\",\"blue\",\"blue\",\"blue\",\"blue\",\"blue\",\"blue\",\"blue\",\"blue\",\"blue\",\"blue\",\"blue\",\"blue\",\"blue\",\"blue\",\"blue\",\"blue\",\"blue\",\"blue\",\"blue\",\"blue\",\"blue\",\"blue\",\"blue\",\"blue\",\"blue\",\"blue\",\"blue\",\"blue\",\"blue\",\"blue\",\"blue\",\"blue\",\"blue\",\"blue\",\"blue\",\"blue\",\"blue\",\"blue\",\"blue\",\"blue\",\"blue\",\"blue\",\"blue\",\"blue\",\"blue\",\"blue\",\"blue\",\"blue\",\"blue\",\"blue\",\"blue\",\"blue\",\"blue\",\"blue\",\"blue\",\"blue\",\"blue\",\"blue\",\"blue\",\"blue\",\"blue\",\"blue\",\"blue\",\"blue\",\"blue\",\"blue\",\"blue\",\"blue\",\"blue\",\"blue\",\"blue\",\"blue\",\"blue\",\"blue\",\"blue\",\"blue\",\"blue\",\"blue\",\"blue\",\"blue\",\"blue\",\"blue\",\"blue\",\"blue\",\"blue\",\"blue\",\"blue\",\"blue\",\"blue\",\"blue\",\"blue\",\"blue\",\"blue\",\"blue\",\"blue\",\"blue\",\"blue\",\"blue\",\"blue\",\"blue\",\"blue\",\"blue\",\"blue\",\"blue\",\"blue\",\"blue\",\"blue\",\"blue\",\"blue\",\"blue\",\"blue\",\"blue\",\"blue\",\"blue\",\"blue\",\"blue\",\"blue\",\"blue\",\"blue\",\"blue\",\"blue\",\"blue\",\"blue\",\"blue\",\"blue\",\"blue\",\"blue\",\"blue\",\"blue\",\"blue\",\"blue\",\"blue\",\"blue\",\"blue\",\"blue\",\"blue\",\"blue\",\"blue\",\"blue\",\"blue\",\"blue\",\"blue\",\"blue\",\"blue\",\"blue\",\"blue\",\"blue\",\"blue\",\"blue\",\"blue\",\"blue\",\"blue\",\"blue\",\"blue\",\"blue\",\"blue\",\"blue\",\"blue\",\"blue\",\"blue\",\"blue\",\"blue\",\"blue\",\"blue\",\"blue\",\"blue\",\"blue\",\"blue\",\"blue\",\"blue\",\"blue\",\"blue\",\"blue\",\"blue\",\"blue\",\"blue\",\"blue\",\"blue\",\"blue\",\"blue\",\"blue\",\"blue\",\"blue\",\"blue\",\"blue\",\"blue\",\"blue\",\"blue\",\"blue\",\"blue\",\"blue\",\"blue\",\"blue\",\"blue\",\"blue\",\"blue\",\"blue\",\"blue\",\"blue\",\"blue\",\"blue\",\"blue\",\"blue\",\"blue\",\"blue\",\"blue\",\"blue\",\"blue\",\"blue\",\"blue\",\"blue\",\"blue\",\"blue\",\"blue\",\"blue\",\"blue\",\"blue\",\"blue\",\"blue\",\"blue\",\"blue\",\"blue\",\"blue\",\"blue\",\"blue\",\"blue\",\"blue\",\"blue\",\"blue\",\"blue\",\"blue\",\"blue\",\"blue\",\"blue\",\"blue\",\"blue\",\"blue\",\"blue\",\"blue\",\"blue\",\"blue\",\"blue\",\"blue\",\"blue\",\"blue\",\"blue\",\"blue\",\"blue\",\"blue\",\"blue\",\"blue\",\"blue\",\"blue\",\"blue\",\"blue\",\"blue\",\"blue\",\"blue\",\"blue\",\"blue\",\"blue\",\"blue\",\"blue\",\"blue\",\"blue\",\"blue\",\"blue\",\"blue\",\"blue\",\"blue\",\"blue\",\"blue\",\"blue\",\"blue\",\"blue\",\"blue\",\"blue\",\"blue\",\"blue\",\"blue\",\"blue\",\"blue\",\"blue\",\"blue\",\"blue\",\"blue\",\"blue\",\"blue\",\"blue\",\"blue\",\"blue\",\"blue\",\"blue\",\"blue\",\"blue\",\"blue\",\"blue\",\"blue\",\"blue\",\"blue\",\"blue\",\"blue\",\"blue\",\"blue\",\"blue\",\"blue\",\"blue\",\"blue\",\"blue\",\"blue\",\"blue\",\"blue\",\"blue\",\"blue\",\"blue\",\"blue\",\"blue\",\"blue\",\"blue\",\"blue\",\"blue\",\"blue\",\"blue\",\"blue\",\"blue\",\"blue\",\"blue\",\"blue\",\"blue\",\"blue\",\"blue\",\"blue\",\"blue\",\"blue\",\"blue\",\"blue\",\"blue\",\"blue\",\"blue\",\"blue\",\"blue\",\"blue\",\"blue\",\"blue\",\"blue\",\"blue\",\"blue\",\"blue\",\"blue\",\"blue\",\"blue\",\"blue\",\"blue\",\"blue\",\"blue\",\"blue\",\"blue\",\"blue\",\"blue\",\"blue\",\"blue\",\"blue\",\"blue\",\"blue\",\"blue\",\"blue\",\"blue\",\"blue\",\"blue\",\"blue\",\"blue\",\"blue\",\"blue\",\"blue\",\"blue\",\"blue\",\"blue\",\"blue\",\"blue\",\"blue\",\"blue\",\"blue\",\"blue\",\"blue\",\"blue\",\"blue\",\"blue\",\"blue\",\"blue\",\"blue\",\"blue\",\"blue\",\"blue\",\"blue\",\"blue\",\"blue\",\"blue\",\"blue\",\"blue\",\"blue\",\"blue\",\"blue\",\"blue\",\"blue\",\"blue\",\"blue\",\"blue\",\"blue\",\"blue\",\"blue\"],\"token\":[\"How to print a binary heap tree without recursion?\",\"How do you best convert a recursive function to an iterative one?\",\"How can i use ng-model with directive in angular js\",\"flash: drawing and erasing\",\"toggle react component using hide show classname\",\"Use a usercontrol from another project to current webpage\",\"~ Paths resolved differently after upgrading to ASP.NET 4\",\"Materialize datepicker - Rendering when an icon is clicked\",\"Creating PyPi package - Could not find a version that satisfies the requirement iso8601\",\"How can I analyze a confusion matrix?\",\"How do I declare a C array in Swift?\",\"Using rand() when flipping a coin and rolling a die\",\"Handling a JSON field with a special character in its name in Java\",\"React Native select row on ListView when push it\",\"Get 'creation_time' of video using ffmpeg and regex\",\"Does row exist and multiple where\",\"How to specify a classifier in a gradle dependency's dependency?\",\"Using $unwind on multiple documents\",\"Visual Studio Code: Missing X509Certificate2UI\",\"Developing Cordova plugins for Firefox OS\",\"Update multiple rows for 2 columns in MySQL\",\"Analyse format of alpha-numeric string\",\"Dealing with large TIFF images C++/Magick/libtiff\",\"What does Error: [$injector:unpr] Unknown provider: tProvider <- t <- myActiveLinkDirective mean?\",\"AngularJS - Apply directive instantly, formating currency\",\"Can I change the font color on a portion of a string?\",\"Spring AOP does not intercept methods within Spring's container\",\"How to retrieve json in original nested form in apache solr?\",\"Spatial autocorrelation using Moran's I or other spatial overlap index\",\"how to stop my php page from continuing when field is empty\",\"Selecting all CheckBoxes in ListBox not displayed properly\",\"PHP warning: Illegal string offset 'field'\",\"WebBrowser control crashes on Windows 10\",\"Error while opening a modal in angular\",\"Port 25 works when exe run manually but blocked when run as service\",\"Why does 6.00 + (plus) 5.00 = \\\"5.006.00\\\"?\",\"Count number of processes created using fork in a for loop\",\"When should I use UIImagePickerControllerSourceTypePhotoLibrary instead of UIImagePickerControllerSourceTypeSavedPhotosAlbum?\",\"Read File in Java, output the first comma delimited String\",\"Simple recursive method\",\"Ensure SQLite table only has one row\",\"Why is there a method iterator() on java.util.Collection\",\"Development for Cloudant using local CouchDB\",\"Regex to find method calls\",\"ASP.NET Menu rendering different from vs2008 to vs2010\",\"Maven - Change jUnit Version in Quickstart Archetype\",\"Writing sublists in a list of lists to separate text files\",\"iPad: problems with table rows in popovercontrol\",\"Retrieve multiple results set\",\"pagination is not working in codeigniter :(\",\"Angular NVD3 Change Colors In Legends Also\",\"node.js server not responding while large file upload with express and busboy\",\"Send request & Get Response in Windows Phone 8.1 WinRT\",\"want to delete only empty folders from directory before last 30 days using batch\",\"Creating X amount of threads that execute a task at the same time\",\"Android Studio 2.2 update: aligned APK (zipAlign) not generated using the new Gradle Plugin 2.2.0\",\"Entity Framework - adding the same entity twice in many-to-many relationships\",\"Join two tables, only display unique values and maxium date\",\"How to use absolute position relative to parent element\",\"Search refinement for WebMatrix site\",\"Maven project version as expression, not constant\",\"Can I prevent App.g.i.cs to be generated?\",\"Troubles converting XSD to Java using JAXB\",\"Cannot run a jax rs web service with tomcat\",\"make a password protected bash script resist/refuse \\\"bash -x\\\" when the password is given\",\"Does youtube api play function trigger a view count?\",\"Why is this Perl loop over strings then characters so slow?\",\"How can I change the size of rgl plots in Shiny RMarkdown?\",\"How do I programmatically disconnect clients which are connected to Solace appliance?\",\"Rails before_filter (Correct_user OR Admin)\",\"How to gitignore everything except hidden subdir?\",\"Should I use weakSelf in nested blocks?\",\"CSS background color not behaving as expected\",\"Android app Listview cannot be scrolled to bottom to search a specific element using appium in java\",\"Rails: Why \\\"has_many ..., :through => ...\\\" association results in \\\"NameError: uninitialized constant ...\\\"\",\"How to send data between fragments when swiping tabs in ViewPager\",\"Wordpress static pages: how to embed content into templates?\",\"Troubles with importing classes from Angular 2 modules with Typescript 1.7\",\"i am not able to get the images read in java for exporting it as JAR\",\"How do I create a resource dll\",\"error: linker command failed: ld: duplicate symbol _main\",\"sql to find non-printable characters in a string\",\"i want to generate payperiod for each month\",\"Interactively enter headline under which to place an entry using capture\",\"Querying the DNS service records to find the hostname and TCP/IP\",\"Can I use setContentView outside the oncreate method?\",\"Consolitate data from multible sheets ,re-arrange the data as per the column name\",\"Why is my 'transparent' overlay view opaque?\",\"how can I run play framework with port=9001 under windows cmd not under play console?\",\"Rails 3 - Ajax POSTS from a link click\",\"Add html content to mysql die error?\",\"Best way to run a Plack PSGI Perl application outside of Apache using FastCGI?\",\"How to Call NSUserDefault Value To Another View Controller?\",\"Does Qt have a way to get the font that the particular css resolves to?\",\"How to update Parent component about the data that child component modified(angular 1.5)\",\"2d array, pushing to one array shows up in all arrays?\",\"Get NSData from assets-library URL\",\"How to specify image size in HTML Doxygen?\",\"NSFetchedResultsControllerDelegate in a second view controller (not firing?)\",\"Draggable divs getting mixed with another divs\",\"creating MLP in python showing error\",\"Create SharePoint 2010 ribbon button programmatically w/o feature XML\",\"how can I use pyglet write a music player can play a music list\",\"How can I efficiently debug loops consisting of a large number of iterations on Eclipse?\",\"Passing a model object to a RedirectToAction without polluting the URL?\",\"Automatically receiving mobile phone's SMS to hyperterminal\",\"Output \\\"System.out.println\\\" into Emacs Cider's REPL (or other buffer)\",\"Scoring regression model using PMML with Augustus in Python\",\"Safari View Controller - send data back to app\",\"Signalling a bash script running in the background in an infinite loop\",\"How do I add in-app purchase to a published app in play store and test it before going into production?\",\"FileNotFoundException in Windows 10 Universal App (UAP)\",\"How to map one column with other columns in an avro file?\",\"Retrieving all the cell data from a jQuery datatable on post\",\"In Play! Frame work Can I Make classes In models package Singleton?\",\"Binding events with Hammer.js and .on()\",\"yii making user auto logged in on signup end (auto authentication after signup)\",\"Unreal Engine 4: save rendered frame to memory\",\"Building HelloWorld C++ Program in Linux with ncurses\",\"Generating Checkbox Lists with MVC3 using a complex viewmodel and a cross table with Linq to SQL\",\"CordovaWebView: TIMEOUT ERROR\",\"Whats wrong in my xsd schema ? It gives type element is not declared on include of another xsd file\",\"Angular and papaParse Integration\",\"Setup a graylog2 server with elasticsearch in a vagrant machine\",\"(Solved-See my comment)How to make a password form on tumblr?\",\"Javascript: Call a method inside another method\",\"aws api gateway client-side ssl certificate verification with nginx\",\"Kendo UI drop downs posting arrays\",\"ServiceStack Identity on field other than PK - Insert fails\",\"Redirection when rendering controller in twig SYMFONY 302\",\"CSS Sprites Bottom repeating\",\"How can I sort a table of Laravel Eloquent objects by a custom attribute?\",\"Comparing elements in a generic list\",\"Set minDate for Bootstrap DateTimePicker from another\",\"What is the difference between :g and :%s commands in vim\",\"Java: creating self extracting jar that can extract parts of itself out of the archive?\",\"set html text color and size using javascript\",\"Queue using Arrays\",\"foreach loop when using Xml.XmlElement in remote scriptblock\",\"How to print list of categories and click on each category one by one in selenium/appium?\",\"Every now and then, ABCpdf runs out of memory\",\"In Spring OAuth2, why is my resource still unprotected even though I have marked it in my resource server?\",\"how to restart node application automatically on aws elastic-beanstalk\",\"Unresolved external symbol LNK2019\",\"Celltemplate in angular-ui-grid is not working properly\",\"Escaping backslashes in method call stringByReplacingOccurrencesOfString Does not work in Objective C\",\"APEX Data Loading - Add a column programatically\",\"MySQL / MariaDB shuts down after exactly 1 minute 42 seconds\",\"Mouse movement / mouseover and JavaScript evaluation in watir\",\"Removing backslashes from a string in Python\",\"Array manipulation (accessing specific bytes)\",\"Rails: Does Application.css load all css.scss files?\",\"LongListSelector cannot change ItemsSource\",\"C# DateTime not recognising timezone change (BST)\",\"deinit in child view controllers\",\"How to send back to custom class which object of that class was clicked\",\"delete from array returning self\",\"MS Access Properties\",\"UIWebView always add a parameter in url issue\",\"comparing two spanned strings in edittext in android\",\"Add prefix to control id and still have it bind MVC Razor\",\"EXC_BAD_ACCESS when setting Integer to anything else than zero\",\":hover CSS is not working?\",\"Blowfish last block incomplete in decryption\",\"Reading uploaded image: undefined method `file' for nil:NilClass\",\"How can I run IntelliJ IDEA on a remote desktop\",\"How to get the JSONObject server response in Volley\",\"Guide in organizing large Django projects\",\"how to populate a dropdownlist based on another dropdownlist selected value in mvc 4?\",\"Azure ServiceBus Token Expired\",\"iBatis to MyBatis migration efforts?\",\"Where should I look for the document generated using htp package\",\"Tortoise SVN Error after update: 'The specified path has an unexpected status'\",\"Extract html data after logging into website from android app\",\"Add key value to array without triggering an array\",\"How to write this math equation into c++\",\"Undefined index php mysql error\",\"when text changed inputbox automatically updates next 6 text boxes\",\"Unable to get email of facebook user\",\"iphone: Facebook logout feature is not work in my app\",\"how to force my app NOT to use the 3g data proxy setting\",\"Unit Testing - What do you do when your code is pretty much just a calculation (GetHashCode for example)?\",\"Status of CheckBox can't be detected\",\"Sort a list with multiple conditions Ruby on Rails\",\"How to sharp the text in css3?\",\"How to change the class of an object dynamically in C#?\",\"Creating an Array with a Default Value,But the default value is changed\",\"How to call a delegate's function without getting the \\\"instance method not found\\\" warning in ios?\",\"Android, background drawable appear black in genymotion but looks fine in intellij\",\"Table has no columns using google charts\",\"Dropdown list where options populate a second list js/php?\",\"difference between <% and <%= ruby\",\"How to remove the functionality of changelist filter appearing in django admin?\",\"how to unpack stxetx data in python\",\"Ansible: playbook calling Role in a directory that is in the roles directory\",\"Setting up HTTPS redirects on Heroku Laravel Instance\",\"Input helper valueBinding is deprecated - what's the alternative?\",\"Using MySQL.connector with Twisted Python to execute multiple queries\",\"MySQL - 1 large table with 100 columns OR split into 5 tables and JOIN\",\"neo4j load csv when field name has a '.' in it\",\"Mocha + React: navigator is not defined\",\"semantic ui grid - display full width of column, after \\\"computer only\\\" columns is hidden\",\"populating select menu options using javascript\",\"Serializing MongoDB find() return into non-anonymous JSON array, using PyMongo\",\"Geom tile white space issue when the x variable is spread unevenly accross facet grids\",\"Moving files depending on the profile in a WAR\",\"Check if it's the last record in sqldatareader\",\"Assigning to columns in NumPy?\",\"Android Facebook ApiException: Invalid Application\",\"Django: customizing the message after a successful form save\",\"Custom TextBox with built-in Validator: server side validation not firing\",\"How to embed mjpeg file on a webpage\",\"php delete on jQuery doesnt work\",\"AWK doesn't work in Bash Script\",\"Launch specific app when external accessory attached\",\"Three Inputs in a Row - Bootstrap 3\",\"How compiler like GCC implement acquire/release semantics for std::mutex\",\"Framework search for upcoming project\",\"Implementing a Web Service Server in Windows CE 2013\",\"Why do I keep getting \\\"The digital signature of the object did not verify\\\" for Windows JavaEE installer\",\"hide paging numbers in gridview?\",\"How to remove sublayers from a view afer a touch\",\"CUDA: Can i find out if i have global memory coalescence?\",\"How to read a google chrome crash dump with windbg\",\"jQuery targeting nested list\",\"pass the column value when checkbox is clicked in wijmogrid column\",\"How to normalize your database in hibernate? (Repeating values don't get saved again and again)\",\"how to stop validation on a particular textbox after hiding this textbox using angularjs\",\"opencv imshow with waitKey too slow on Mac OS X 10.10.2 (using c++)\",\"Setting an Input Box Background\",\"IntelliJ IDEA: \\\"Element ignore is not allowed here\\\"\",\"Slider does not work in the jQuery Tabs\",\"Carrierwave getting image width and height and storing it in an hstore field\",\"OpenProcess() succeeds, but EnumProcessModules() fails\",\"Django + Forms: Dynamic choices for ChoiceField\",\"using Url.Content to display the file content with .net mvc\",\"PDO cannot able to fetch image from database\",\"error in adding overlay in current location\",\"Internal section link fails in beamer output of pandoc markdown\",\"Adding ROW_NUMBER() to query loses DISTINCT, defeats the purpose of paged results attempt\",\"android studio 135.1339820 launches wrong java version on openSuse 12.3\",\"My Facebook object is empty\",\"Java code reads UTF-8 text incorrectly\",\"PHP session.cookie_secure does not actually set the cookie to secure\",\"Using webapp2, how can I get the value of a form's \\\"name\\\" attribute during a POST request?\",\"Finding Uppercase Character then Adding Space\",\"Table data pass into stored procedure as param and insert into another table in mysql\",\"Inject entry point class in GWT with GIN\",\"How to group by week of the year dates or day dates that start on Sundays in oracle 10?\",\"What are the options Some and None SML?\",\"Reversing a .mp3 programmatically\",\"Convert Associative Array in PHP and insert it to database\",\"Why is the \\\"map\\\" version of ThreeSum so slow?\",\"ant keeps recompiling\",\"HttpContext.Current.User.Identity.Name returns blank\",\"UIWebView Javascript Window to Window Communication\",\"Fluent NHibernate Exception: An association from the table X refers to an unmapped class: System.String\",\"Are .NET memcache libraries production ready?\",\"DB2 Can't connect to db with new user\",\"Django flatpages backup?\",\"Trouble with Creating One-Time Calendar Event from Google Sheet row\",\"The colored image turned to have no color and just a grey vector in drawable?\",\"how to show pattern in asp-Repeater item template?\",\"Fastest scripting language for Java?\",\"Tried to reverse engineer my app, but got some weird-looking file tree\",\"Startup for bundles placed in the deploy folder of Karaf\",\"d3js force layout with hide/unhide on node click misplaces nodes after expanding\",\"Unique column definition in SQL\",\"Hash of a cell text in Google Spreadsheet\",\"How to pin/unpin Microsoft Edge developer tools in Windows 10\",\"Which editor can align tables in reStructuredText for Sphinx?\",\"How to walk through a directory in c and print all files name and permissions\",\"iOS KVC DRY mutation\",\"IBM MobileFirst Platform iFix doesn't update the version displayed in Operations Console\",\"relative layout aligning images about right bottom corner\",\"How to retrieve a PDF(document) from the Tridion File System and create a multimedia component out of it\",\"HTML sends x y POST data with no inputs - how is this possible?\",\"How can I view Azure logfiles when running locally?\",\"is there a web service client code generator on iOS?\",\"Get smallest type to include data range\",\"Get dates as check if it is ending\",\"Cordova brightness still returns -1\",\"How to detect 3 keyboard buttons in Swing?\",\"Python calculations in two groups\",\"create array from mysql query php\",\"TDD vs Defensive Programming\",\"Display logo or image in the Ribbon using VSTO\",\"How can I get a meaning of a jsp variable in java code on the same page?\",\"Conversion of cloud data into 2d image using OpenCV\",\"[python-suds]Bug? One additional element is created when using Factory\",\"Using clang to analyze C++ code\",\"Login with email and password control not working\",\"ansible: use different logging level for terminal and log file\",\"Draggable window with pyqt4\",\"dynamically adding edittext depending on the elements of json array\",\"How to convert ftp.getModificationTime(file) to readable format\",\"PHP Login Form using DashDB\",\"Building a properties file to the top level of a WAR file, Spring-MVC/Maven\",\"Enabling breakpoints in goclipse\",\"error while including external JARs in ant script\",\"Comparison of web widgets in flash and javascript\",\"Why must I free this data? Am I the owner?\",\"Optimizing a very huge mysql table (query or mysql)\",\"tlbexp.exe outputs different tlb information on 2012 versus 2010\",\"How to create a Facebook Like with a post/comment box\",\"Codeigniter PDO integration\",\"pass string array as parameter to asp.net mvc webapi method\",\"Removing space in dataframe python\",\"How to set application identity of an application pool using web administration module in powershell?\",\"how to handle play database connection exceptions\",\"querydsl 3.3.0 - using collection.any() with elementcollections in a query with N boolean arguments generates N \\\"exists\\\" sub-queries\",\"Gson: Change the way Map-Keys are being serialized\",\"Improving gnuplot 3d plots from data files with pm3d\",\"Divide problem\",\"Yii2: Using Kartik Depdrop Widget?\",\"Can anyone post an example of how to enable SSL in Tsung?\",\"MPI_Isend and MPI_Irecv seem to be causing a deadlock\",\"Virtual Box port forwarding misery with Ruby Sinatra:4567 / Shotgun:9292\",\"Enhancing regex to match more URLs\",\"JavaScript classlist selector error\",\"My IntelliJ IDEA 11.1.5 lost the ability to debug node.js applications after upgrading to windows 8.1\",\"Scientific notation android java\",\"How to make a JSON array case insensitive for Twitter Typeahead?\",\"Membase can someone explain the idea behind their technology\",\"Struts 2 + Dojo + Datetimepicker\",\"Cannot retrieve data from find query\",\"How long are resources used (file descriptor and memory) for Java temporary files (jar_cache####.tmp)?\",\"how to pass a variable in WHERE IN clause of oracle sql?\",\"How can I transform the coordinates of a Shapefile?\",\"Mapping result of aggregate query to hibernate object\",\"Drawing Application how to save drawing in android phone memory\",\"Error while using npm install -g generator-jhipster\",\"Get abs path from the currently edited file in Eclipse\",\"Post form data to foreign aspx form\",\"Logging in Azure web jobs\",\"MTM with (automated) CodedUITest test-cases developed in VS2013 issues\",\"How to print contents of an HTML element in MacGap?\",\"ASP.NET Control not available in CodeBehind\",\"How can I disable the IIViewDeck functionality momentarily?\",\"Why would I create a struct with only a `PhantomData<()>` member?\",\"Accessing masterpage properties from child pages in ASP.net VB\",\"Bash read inside a loop reading a file\",\"Random number between 1 and 20 excluding numbers already picked\",\"Wordpress Navigation Label in Browser tab\",\"Taking control of the soundCard with JAVA\",\"STL containers and large amounts of data\",\"Colour in Backorder Products dropdown based on stock in WooCommerce\",\"Richfaces - <rich:autocomplete> not showing suggestions\",\"How to select and enlarge a Masterpane in Zedgraph\",\"react-native android publishing keystore\",\"What is a good way to find a specific value in an XML document using C#?\",\"Can i make my own Singleton Stateless Bean with EJB 3.0?\",\"How does Google App Engine precompile Java?\",\"Using dispose() method instead of close() method to a form\",\"Spring Oauth2 \\\"Full authentication is required to access this resource\\\" with valid access token\",\"Why is my code only displaying incorrect even if I have the right answer?\",\"Forcing function in ODE\",\"Get sum of column on last row, good practice?\",\"Simple Karma + Typescript configuration - Reference Error: x is not defined\",\"Error building Player because scripts have compile errors in the editor\",\"Property Testers do not load despite forcePluginActivation. For popup menu enablement\",\"Javascript regex to match last word regardless of specials characters\",\"Develop multilangual system\",\"angular-mock testing in Karma+Mocha can't find module\",\"How to append an element inside object using a common way\",\"Generate random \\\"dark\\\" colours only in Java\",\"Access element in list using indexes stored in another list\",\"How to correctly use setq in elisp?\",\"iOS - Today Extension 'show more' & 'show less' state incorrect. Collapsed says 'show less' - requiring multipule presses to fix\",\"how to get the position of the cursor in an editable div\",\"flickering of image in SWT\",\"Completely random identifier of a given length\",\"Angular 2 Render Flat List from Hierarchal Data\",\"Java RMI threads on client-side are executing sequentially or concurrently when calling the same remote object?\",\"Variable-size buffer for receiving UDP packets\",\"CreateSqlQuery on entity with formula property\",\"Datepicker TIMESTAMP divide by 100\",\"how to print out the whole table using anonymous block in pl sql?\",\"In Sentora i will need to integrate a clamav Module\",\"how do i set a value of a multiple <select> tag from the database\",\"show decimal value in C#\",\"Javascript: how to affect other element when hovering?\",\"Creating new popup window when click button\",\"How to Depict Either/Or Inheritance in a UML diagram?\",\"Ajax post success data: Can you separate results?\",\"Document.getElementById() not available for ChromiumWebBrowser in visual studio\",\"target of assignment expands to non-language object\",\"How do I configure distributed transactions for NServiceBus\",\"How to combine an array of png images like layers using C#?\",\"yii2 gii CRUD Generator error - Class 'Message' does not exist or has syntax error\",\"Get values of checkbox to other page\",\"Session on subdomains still not working\",\"How can I turn off host name resolutios?\",\"syntax error, unexpected end-of-input\",\"Erlang: \\\"extending\\\" an existing module with new functions\",\"tcl string replacement\",\"how to access directory in plesk (control panel )\",\"Minimizing the sum of a special function over a list\",\"VB.Net & Access - Set two foreign keys, that refer to the same table/field\",\"Memory Monitoring Tool for Erlang Threads\",\"Disable Spring Boot Security @Secured at runtime\",\"Join two tables on the same date or closest date (before or after)\",\"Power Point viewer asp.net mvc\",\"Swift: Get an element from a tuple\",\"images rotation to the right\",\"Can I access the visual voicemail files on the iphone thru the SDK?\",\"Proximity alert for locations saved at server\",\"Tableviewcell button\",\"Angularjs select does not mark matching model as selected\",\"How can i use id to do action on an object of an android using Robotium tool?\",\"How can i pass a value to constructors of collection of instances at runtime with simple injector?\",\"Large binary shifts in 8086 assembly?\",\"Directshow, format type change filter\",\"How to open model window on option selection?\",\"Update value in sqlite iphone sdk\",\"Installing ADT plugin in Eclipse for Android development\",\"Automating a ContextMenu with Watin\",\"how to evaluate the performance of any cryptographic algorithm (say elliptic curve)?\",\"Nth-child Selector with Prototype\",\"Difference in performance of compiled accelerate code ran from ghci and shell\",\"Database design for email messaging system\",\"Java SE Development Kit 8u20 Install Options\",\"Reading a file in chunks\",\"Twitter style Web Application based on LAMP, Symfony2, Backbone : possible?\",\"Regexp for C preprocessor command\",\"Cmposition, I dont quite get this?\",\"CakePHP form submits the \\\"array\\\"\",\"Store feed forward network in mongodb\",\"bash read strings and output as one key and multiple values\",\"http client in python fails to recive\",\"Dynamic languages - which one should I choose?\",\"How to start an IntentService from a WakefulBroadcastReceiver\",\"C++: Converting wstring to unsigned char\",\"How to make echo interpret backslash escapes and not print a trailing newline?\",\"AngularJS.. http.get working, when splitting into its own service module its no longer working\",\"How do I determine the number of elements in an array reference?\",\"\\\"TypeError: 'NoneType' object is not iterable\\\" on what should be a list\",\"Replace random image on website\",\"Rotation matrix between two camera system\",\"Animated border which wraps around\",\"cron job not picking up oracle query result\",\"Formview and MS-Ajax UpdatePanel\",\"How to update data with TreeStore or TreeEditor component?\",\"Get kwargs passed to url_for in Flask view\",\"how to reload the template when working with enlive without restar\",\"Thread-safe get (accessor method)\",\"How can I tell if \\\"inline\\\" worked?\",\"calling some logic before user is logged out using spring security?\",\"Java pattern to find two groups of two letters in `ABC`\",\"MYSQL distincs entry of two columns even when switched\",\"How Antlr creates tokens\",\"Play Framework 2.4 - Java - Http header and cached response\",\"List of Strings in a Grails domain class\",\"Insert into MongoDB via Node.js\",\"How to stop or pause Pandora and Spotify\",\"Oracle Function: Replicate wm_concat\",\"Return user to previous page after login (Rails)\",\"Custom Layout Manager using predefined and developer-defined child view(s)\",\"In Ruby, how do I specify a file in another directory as an input?\",\"Unable to read View Bag value from controller to view\",\"Parameters on time stamps in oracle sql developer\",\"measuring the time to load a page - Python\",\"Set height of child to height of parent\",\"How can I find the element that caused another element to fire the focusout event?\",\"How to get the latest created table in MySQL?\",\"Better way to reference $scope in AngularJS\",\"Sharing data between Elastic Beanstalk web and worker tiers\",\"iOS certificate pinning with Swift and NSURLSession\",\"Sharing UDP Data across apps (background/foreground or Split screen multitasking) in iOS\",\"iPhone: Facebook logout feature does not working\",\"AutoHotKey. Hotstrings and Auto-replace not working in Visual Studio 2008\",\"Issue setting up Android SDK - Failed to Start Emulator\",\"Why is the dismissable alert not being dismissed?\",\"Error while executing change data capture sql query\",\"multiple queries - Route.get() requires callback functions but got a [object Undefined]\",\"How to attach custom element to shadow DOM in html web components in a secure way?\",\"flash javascript don't work (Second try)\",\"How do EGit versions map to Git versions\",\"How the ftp uploads works in PHP?\",\"Sql XML to Delphi\",\"Lookup table with the query with arbitrary length without using a for loop in R\",\"C# XML deserialization XmlAttribute\",\"CSS, JQuery: Animated transform from 3 lines menu to cross\",\"Can m2e install an external jar file? Or do I need to install the maven command line tool?\",\"Does gSOAP RESTful implementation require the definition of a WSDL\",\"Automatically create an appointment in Outlook using message content\",\"JSoup error: java.lang.IllegalArgumentException\",\"Add Button to CMS_Page_Edit via Observer\",\"How to do an XOR of the binary forms of all integer items in a list\",\"How to add regularization in Scipy Linear Programming (Non-negative Least-Squares)\",\"Highlight backgroung colors of some words in HTML Document in java\",\"Is there a way to retrieve process stats using Perl or Python?\",\"Excel NamedRange.Find Method with Regex pattern match in C#\",\"cmake error when configuring\",\"How to set first column to a constant value of an empty np.zeros numPy matrix?\",\"Eclipse Plugin - get Launch Configurations Tree List in a Dialog.\",\"What are the RESTful best practices on defining a query parameter with an or condition?\",\"Extracting text from the input field - using Webdriver\",\"One <hr> tag is working but not the other in Firefox. Why is that?\",\"ajax request xml from php\",\"Embedded Java server using Grizzly: How do you enable http2\",\"Finding Minimum Completion Time of Scheduled Tasks with Topological Sort\",\"How to set jQuery draggable min/max-left and min/max-right\",\"semantic-ui modal size keeps extending to the height of a page\",\"Is there any direct git command to push changes to another branch\",\"How and is it worth to integrate Java Webapp + drools + Guvnor?\",\"How to debug Error Messsage in Odoo\",\"calculate differences between two numbers\",\"Data constructor in template haskell\",\"Tying composer.json to a specific Laravel 5 SHA\",\"Django 1.7.1 requires a Default value for field - but no entry is in database. Why?\",\"addEntriesFromDictionary: a true copy method?\",\"Spring Boot OAuth2 with encrypted JWT access token\",\"Wrap text if it is longer than max_characters\",\"iptables: Duplicating/Forwarding ports\",\"Multiple custom fields stored as meta_keys, how to connect with the post?\",\"Android GridView crashes or is very slow on some devices (Samsung Galaxy S4, S3)\",\"HTML/CSS: Input element weird indent ie7\",\"What exactly does Double mean in java?\",\"Most effective ways to extract Android Cursor (sqlite) into an array to be used in AlertDialog.Builder?\",\"jenkins can not find android SDK\",\"Can I open a new window and change the DOM of the calling window in JavaScript?\",\"dynamically Change Itemized overlay draw circle using seek bar progress\",\"How do I fix django.db.utils.IntegrityError: duplicate key value violates unique constraint?\",\"Inno Setup not creating registry entry in Software/Microsoft/Windows/CurrentVersion/Uninstall\",\"build from hadoop source code in centos\",\"C# LinqToSql SubmitChanges() does not update, even though PK is set\",\"How to read utf16 text file to string in golang?\",\"Objective C ePub framework\",\"Reducer output to different files based on keys\",\"Is it possible for a Chrome Extension to get a user's full browsing history?\",\"Variable Number of Nested For Loops\",\"Ordered http request parameters\",\"Testing the Oracle to_date function\",\"Getting the error of POST method from another PHP file\",\"Multiple selection of worksheets into one workbook copy paste of content into one main sheet\",\"Why do I keep getting \\\"developer inactive\\\" errors when calling the Beats Music API?\",\"My select command doesn't work\",\"node js read files line by line\",\"PHPStorm/Webstorm increase memory to more than 512MB\",\"Want to open google.com at specific location and make it specific window size\",\"Database not updating new row\",\"Spring suite tools start error - spring boot\",\"Slider in codenameone\",\"Issue with $(this) and toggle() multiple classes\",\"How to load file from dir using Racket?\",\"Removing quotation mark using javascript does not remove single quotation marks\",\"Firebase Android ChildEventListener Triggered onChildRemoved() before onChildAdded() When new data added\",\"Python. Error using animation.FuncAnimation\",\"How to make inline comments in Org-mode?\",\"Find years with distinct digits - CCC 2013\",\"Identify customer visits occurring after a given time period in mysql\",\"Finding the distinct count from a cassandra column using Tableau\",\"Prism : Change the active view\",\"Get Color from int\",\"Dynamic subversion repos via subdomains (in Apache)\",\"How to multithread my for loop in Python\",\"How to get recycler view list item count using Espresso\",\"How to PIVOT and calculating column average\",\"Fastest way to separate the digits of an int into an array in .NET?\",\"Escaping special characters in SphinxSE\",\"Importing sqlite file into r\",\"Sort order of related products not working in Magento 1.6\",\"Display 404 not found template for 'slugs' when publication returns empty cursor - Meteor - iron-router\",\"Is there a way to tell if an object has implemented ToString explicitly in c#\",\"VFS: file-max limit 1231582 reached\",\"Play 2.2 EssentialAction With Futures\",\"AppBarLayout / CollapsingToolbarLayout expands indefinitely\",\"how to deselect all Radio Button in Radio ButtonGroup on button click in flash as3?\",\"numpy array creating with a sequence\",\"Sed: Matching words with any permutation of two characters\",\"Make Child element appear outside of parent\",\"MobilePin createuserwizard doesn't work?\",\"Fit Image in canvas using WPF\",\"Adding a fontawesome icon with border into form input\",\"finding pixel location of Listview item seems to return wrong value\",\"sails 0.9.8 not work, when created controller and lift it\",\"Larave File not found at path but it does exist\",\"RequiredFieldValidator causes validation on Server even if validator is disabled(CausesValidation=\\\"false\\\")\",\"Retrieving HTML content from a page requiring authentication using PHP\",\"How to generate linked-axis in matplotlib\",\"Print % sign with string formatting\",\"How to calculate the dimensions of the monitor in PyQt4/Windows/Linux?\",\"VBA Outlook 2010 retrieving information from Active Directory\",\"Modifying bootstrap thumbnails\",\"ASP.Net: What's keeping old AppDomains alive?\",\"A library uses the same package as this project after importing Facebook SDK\",\"Unable to run compiled .classes from the command line\",\"Is it possible to partially decode and update JSON? (go)\",\"How to use Apache-Commons DBCP with EclipseLink JPA and Tomcat 7.x\",\"How to do batch geocoding using google-maps-services-java\",\"Inserting an img into a text field (html, css)\",\"NoClassDefFoundError during Tomcat graceful shutdown\",\"Indesign (IDML file) Automation using HTML5 and Javascript\",\"Writing to the ObjectOutputStream and getting rubbish back\",\"How do I stop md-cards from stretching images to full vertical height?\",\"SQL, missing end, but why?\",\"SED - Search two pattern in a line and insert few word at the end of the line if pattern match is found\",\"How to configure & run multiple websites with respective databases with single Laravel code instance\",\"three.js CanvasRenderer - setting initial color for object together with transparency textures\",\"IHTMLDocument2 - click button inside iframe\",\"Resource 1 works, 2 doesn't\",\"how to show an image in an image field by a button click event in c# asp.net\",\"How to use this for killing array of threads?\",\"MVC scaffolding does not support Entity Framework 6 or later\",\"Parse error using Remotipart\",\"JAVA JAX-WS Deployment (JAVA Eclipse EE IDE)\",\"kaminari and order_by\",\"multisampling and fragment shader\",\"C program- change char order in sentence\",\"How to reload an IFrame every x seconds?\",\"EF6 table per hierarchy, with unique index on derived property\",\"Shell Script to add extension on file and directory\",\"Absolute beginners guide to working with audio in C/C++?\",\"Extract part of string\",\"stopping toast android in other actvity\",\"Client-side SSL not working with AWS API Gateway\",\"Top Left Menu Bar Is Frozen when Main Window Shows Up\",\"Category Axis Label Alignment for Multi Series bar chart in JAsper\",\"Invalid Label - jQuery Ajax/Json request\",\"Optimizing Haskell Recursive Lists\",\"Symfony3: Service not able to get arguments\",\"Reverse Geocoding not displaying info window on markers when clicked\",\"How to restrict background click in Ionic confirmation popup\",\"how to use CSPARQL-ReadyToGoPack-0.9 in a SBT project\",\"How to sort UTF-8 lines in Vim?\",\"How to handle NotFoundException elegantly in Neo4j 2.0?\",\"Download multiple files simultaneously with PHP - Forking, Sockets\",\"Submit form on one server, process it and then post results to another domain\",\"Flyway Mysql multiline comment directive not parsed\",\"Non-Blocking File Reads\",\"ORACLE sql dynamic variables in stored procedure\",\"nested ngFor with two data classes in angular2\",\"Crossplatform webview in Qt5.6\",\"Set the default encoding to UTF-8 for all JSPs without using @page directives\",\"XSLT creating a table with varying amount of columns\",\"how to send email with powershell\",\"Asynchronous method using .Result\",\"Is JENKINS Extensible Choice Parameter compatible with linux?\",\"Starting Speech Recognition with CreateProcess() in C++\",\"How do I animate adding subviews?\",\"How can I change the default font for a Jekyll website\",\"Impossible to compile Fortran code with include statement\",\"Lazy loading images in Vue/Laravel\",\"Web API read header value in controller constructor\",\"Android wear WearableListView ImageView selector\",\"Function pack() returns 0\",\"Is it possible to have Firebase authentication via Facebook in a Phonegap App?\",\"PHP Export MySQL to CSV - Results showing HTML\",\"How to detect language preference in Laravel 5\",\"VB WebBrowser click button\",\"Reports using java collections\",\"How to write all files Contain in the subfolders and in the folders in to a .txt file\",\"Checking negative values from Google Forms\",\"Libgdx reading json array values\",\"Custom Buddypress Notification on Post Save\",\"UITableView with UITextField - keep the data even after user scrolls\",\"Visual Studio 2015 Update 1 automatically checks in files\",\"Mobilefirst Failed synchronizing application from the administration service\",\"Cannot execute for loop in vue.js\",\"how to prevent duplicate item\",\"Java Apache CLI OptionBuilder not working as Builder pattern\",\"What's a proper way to turn off genymotion emulator?\",\"Jade select field populating data\",\"Why is ' 2' > '10'?\",\"Mysql dump comments directives and simple comments\",\"Cropping library not working on Nexus S\",\"Create a segue and attach it between two view controllers through Swift?\",\"Function to search recursively for patterns in vim\",\"Integrating wordpress and laravel user management\",\"Behaviour after takePicture() different on different devices/Android versions\",\"Exporting Plone content: how to get the tarball created by quintagroup.transmogrifier.writer\",\"Cassandra to Hive using Spark\",\"Ruby on Rails :before_filter => :only_when_user_is_logged_in\",\"How can I integrate Jacoco reports with SonarQube without using maven?\",\"Can I use NSPredicate as key in a NSDictionary\",\"Proxy Authentication Failed error\",\"Could someone explain how to use the UpdateManager in TideSDK 1.3.1 Beta?\",\"Properties - how to avoid code repetition\",\"Pause/resume video recording using AVCaptureMovieFileOutput\",\"Swift enum recursive associated value\",\"How to grep particular string occurring multiple times\",\"Hover map area sprite with jquery\",\"Spark `LiveListenerBus` Exception is freaking me out\",\"how to use pyplot.arrow or patches.Arrow in matplotlib?\",\"Apache on Windows and Fiddler\",\"how to pass the variable from api gateway to the url of another service running on EC2\",\"Open link when doubleclicking on table row with jQuery\",\"Wget span host only for images/stylesheets/javascript but not links\",\"I am trying to show data using api . but data is not showing in custom listView . list is empty\",\"Graphing sbt's incremental compilation logic\",\"how to get functionality of Long Press gesture in ios ver below 3.2\",\"Change priority headings for a task with the api\",\"Get values on a row based on two or more rows in Excel\",\"Is using Silverlight a hindrance for Startups?\",\"spotify session callback get_audio_buffer_stats\",\"talend - specify jndi as datasource\",\"Long data load time in Matlab\",\"how can i change column width in base to content with vb.net and bootstrap?\",\"Alternative to Microsoft.Practices.EnterpriseLibrary.Data\",\"How to facet.pivot with spring-data-solr\",\"Check empty output from fish function\",\"pysolr update document with error\",\"How to retrieve same column twice with different values of other column in same table\",\"Updated: NodeJS - connect-keycloak middleware empty response error\",\"Accordion open when page loads\",\"Activity doesn't refresh after associated Broadcast Receiver's onReceive gets called.\",\"How do you detect DOCTYPE (Transitional or Strict) server-side in ASP.NET?\",\"Firefox 9.0.1 Broke Internal Wiki Layout\",\"onchange function in dropDownList yii2\",\"play mp3 without default player\",\"Convert SVG Data to SVG File that can be uploaded\",\"Folder Picker for MS Word\",\"Can't hide or close form after switching to another form\",\"How to ShellCode in linux with x64 processor.\",\"How to set a specific timezone for windows CE By C#\",\"Vagrant enters aborted state during apt-get update\",\"attempting to make enter button 'clickable'\",\"ImageMagick Convert not generating correct color\",\"Mybatis select with nested objects\",\"My css height auto doesn't work\",\"D3 AngularJs Force Directed Graph\",\"I want to add 30 days to mysql date row\",\"How I can use FlexyPool with HikariCPFactory?\",\"Wix installer: Verify that you have sufficient privileges to start system services\",\"r, ts - error in stl, series has less than two periods (erroneous?)\",\"typo3 - Adding content to the footer\",\"Knockout re render template with new data model on change event of dropdown menu\",\"@ManyToMany relation not save\",\"Downsampling of fMRI image with FSL\",\"How to use Android AutoCompleteTextView on Xamarin.Forms\",\"Why fstream::tellg() return value is enlarged by the number of newlines in the input text file, when file is formated for Windows (\\\\r\\\\n)?\",\"Determine If Two Points Are Near\",\"clicking logo on home page breaks navigation menu on mobile site\",\"Use Iframe to embed csv and allow user to search from it\",\"Install Chrome extension through windows registry\",\"Display message on success does not work\",\"jQuery masked input - format date as m/d/yyyy or m/dd/yyyy or mm/dd/yyyy or mm/d/yyyy\",\"How to change spring session (redis) cookie name?\",\"Any tool to suggest unit reference automatically for Delphi 2010?\",\"Why does my method return a null password?\",\"SQL Script - manipulate value based on previous non zero value\",\"rotate image shows \\\"Out of memory\\\" exception\",\"count button clicks\",\"Joomla Custom Compoment Dev Env : Hot Deployment\",\"Nexus 5 not showing on connected devices\",\"How work the method TrueForAll? C# LINQ\",\"PHP - Simplest Way to Post & Display\",\"Update Temp Table with Group By\",\"How to use Parse Push with Cordova, Appcelerator, etc\",\"AS3 bitmapdata send to server picture is small in upperleft corner\",\"How to set the Z order index for adorner in WPF\",\"php microseconds\",\"Creating a global database connection on an mdi form\",\"Uncaught ReferenceError: React is not defined\",\"VBA search column for strings and copy row to new worksheet\",\"How can I record a test using Espresso without doing a clean install?\",\"How can I char array in reverse order?\",\"What kind of SCTP support is there on various Windows versions?\",\"Saving changes to an EC2 instance without having to register an AMI each time?\",\"Auto run Jetty on boot\",\"How To Cache jQuery Template In Backbone View via Ajax?\",\"Does this C++ static analysis rule make sense as is?\",\"Same Ripple drawable(effect) appearing differently on ListView and RecyclerView\",\"R ggplot2 assigning colours to a factor\",\"Verifying a method was called without using IoC\",\"What is 'seg cs' in bootsect.s\",\"setTimeout keeps firing\",\"Formatting the way a string is entered into my database\",\"Creating Jenkins Job using python API\",\"python create single thread to do one task then quit\",\"z order in issue in ConstraintLayout Android\",\"Can I derive from a class that can only be created by a \\\"factory\\\"?\",\"PHP OOP :: passing session key between classes\",\"ASP.NET MVC 3, SQL Server\",\"Recreating or deleting google services json\",\"Probe problem when writing a I2C device driver\",\"Jersey produce duplicate log messages\",\"Exit / stop Array2D.initBased early\",\"how to set array of date to fireDate in local notification at a time\",\"alternative to async: false ajax\",\"Oracle: how to get percent of total by a query?\",\"How to match the recursive pattern `a(?R)b` including another string e.g. \\\"test{aaabbb}\\\"? (Regex)\",\"How to disable GestureListener?\",\"How to specify Code Style settings in a Qt Creator `.pro.shared` file?\",\"cal extension template modification with .tmpl\",\"Getting started with Groovy/Grails?\",\"Opening a Ruby program's source file in the default editor\",\"How can I pass an array of Guid via Web API?\",\"Backbone-Relational find or load?\",\"what's the best way to format an xml string in ruby?\",\"Partial classes in Google Closure?\",\"Add a repository in AccountController\",\"Wikipedia API Autocomplete with Json\",\"Apache Pig: unable to run my own pig.jar and pig-withouthadoop.jar\",\"Optimizing list comprehension to find pairs of co-prime numbers\",\"kivy access child id\",\"Stucture values not staying, values changed to -858993460\",\"Set toolbar title\",\"How to add a row to a table using swt\",\"jQuery ui selectmenu vertical position offset (relatively to buttons in this line)\",\"SSIS : Warning: Failed to decrypt an encrypted XML node\",\"gps not getting user location\",\"Exporting a simple model with texture from Blender to three.js\",\"Postman - Required MultipartFile parameter is not present - Spring, Java\",\"Prevent akka actor from restarting child actor\",\"UITableView not loaded\",\"NTFS permission with modify date\",\"QTreeView - how to tell if a drag/drop event is a reorder or a move between parents?\",\"Prevent XUL notificationBox from closing when button is hit\",\"Code not working. Notification that should go off once a day\",\"Android Action Bar Button does not show up\",\"$.widget is not a function\",\"jquery hide not taking parameter\",\"How can i use a one form/table for multiple MVC's?\",\"MSTest: execution order of tests within the same TestClass\",\"How to call jQuery function in HTML returned by AJAX\",\"OAuth2 security considerations for client_id\",\"Google Compute Instance 100% CPU Utilisation\",\"Incompatible block pointer type when returning array?\",\"Calling a REST api with an encrypted PEM client certificate\",\"Select all objects in a list\",\"Drag and insert div into another div\",\"How to prevent firefox from scrolling to the bottom of the page when a large popup is opened\",\"How to handle ((List<string>)Session.Add(\\\"\\\")\",\"mysql inserting into 2 tables at once that have primary key and foreign key\",\"What's the right way to remove multiple items from a QTableWidget?\",\"When MSTest fails in TestInitialize, why doesn't TestCleanup get executed?\",\"PHP CodeIgniter application not opening any page except default controller\",\"Parsing JSON data without quotes with jQuery\",\"Rewrite url in .htaccess\",\"I/O error(socket error): [Errno 111] Connection refused\",\"Git Error; RPC failed; result=22, HTTP code = 401\",\"TFS 2010 - Set the State field to a certain value\",\"ActionScript 3.0 How to create ProgressEvent instances in for loop with multiple files loaded from XML\",\"how can i extract my query to find average\",\"C# Windows Service - Default Arguments on Install\",\"Upload large files with node js\",\"Changing table headers in cakephp\",\"hello world with JMS on Glassfish\",\"Countdown timer using DateTime.Parse without defined date\",\"Images in the 'drawable' folder are resized automatically?\",\"Find files with the same size and dellete all duplicates except the one has the shortest name using shell script\",\"Writing Rules both in Firebase and in your Code\",\"Search for words with specific starts and endings\",\"Install Neo4j 3.0+ as a windows service\",\"PHP convert 2 digit year to a 4 digit year\",\"JSDoc auto-complete documentation in Eclipse is not working for Class.create()\",\"Split a infix String to an array of String in java\",\"Folder permissions in Azure web sites\",\"Only have separators between UITableViewCells\",\"Uncaught Syntax error, unrecognized expression: [object Object]\",\"Need htaccess redirection\",\"How to create this bootstrap carousel of iframes?\",\"Doctrine2 - Get entity ID before flush\",\"Xquery help sorted parent child relationship\",\"How To Load Separate Pages In Android Gridview While Clicking Blocks or Items?\",\"kineticjs rect fillText\",\"is a query string with a / in it valid?\",\"How to convert the BYTEARRAYS to NSString in objective -c\",\"why is std::chrono::duration based on seconds\",\"WCF REST Client Exception\",\"Using UIBinder to create a Widget to go into a Dialog\",\"OneDrive for Business :\\\"invalid_request\\\",\\\"error_description\\\":\\\"AADSTS90014: The request body must contain the following parameter: 'grant_type\",\"Are the any options for interfacing with the command prompt process from a .NET application other than the standard IO?\",\"Adding data in the database using microsoft access and OleDb in C#\",\"jQuery Ajax header not being passed\",\"AngularJS: Multiple views with routing without losing scope\",\"BackboneJS How to merge collections\",\"Specflow :Could not load file or assembly TechTalk.SpecFlow, Version=2.2.0.0\",\"Max byte calculated by System.Runtime.InteropServices.Marshal.SizeOf()\",\"How can my application retrieve custom fields from a DocuSign transaction?\",\"add active state to button in a button group\",\"How to define clear range for pixel color\",\"Roslyn VisualBasic.ScriptEngine doesnt recognize hostObject written on C#\",\"Neither BindingResult nor plain target object for bean name 'categoryOptions' available as request attribute\",\"How to change Wicket behaviour on Page Expired\",\"PHPUnit code coverage show 0% coverage\",\"How to prove code correctness lemmas with the \\\"undefined\\\" constant\",\"Visual Studio has insufficient privileges to debug this process. To debug this process, Visual Studio must be run as an administrator\",\"WebApi EntitySetController using composite keys\",\"How do I set up an OpenGL project using XCode 4.2 in C++?\",\"Initialize static NSString at class level\",\"Rich Text Editor inside Flux Form\",\"Setting $PATH in xampp osx\",\"How to extract data from html using PHP\",\"How to get Current location using MapModule?\",\"Excel VBA Syntax Errors & Compiling Issues\",\"How to read Logback configuration file from path outside the war file?\",\"jQuery ajax not getting every div elements\",\"TCP Socket on JAVA - Any byte >= 128 is received as 65533\",\"SqlBulkCopy keeps on throwing connection forcibly closed exception\",\"Error sending to the following VALID addresses Jenkins\",\"How to determine if a text has balanced delimiters?\",\"How to flick through a deck of cards?\",\"Selecting in SQLite Database Android\",\"TSQL merge Incorrect syntax near ','\",\"Building Pocketsphinx On Android on Windows\",\"Add background image in a div without empty space between div and footer\",\"Include github project into wordpress plugin\",\"django multivaluefield & multiwidget - compress and/or decompress not working\",\"Android : Can i call my onresume() inside onpause().?\",\"How to fit picture to absolute positioning modal window?\",\"Redirect URL to PHP only if file does not exist with Nginx\",\"Laravel 4 Exception: NotFoundHttpException\",\"How To Start Using Kostache?\",\"Assigned access application exits when Ctrl + Alt + Delete is pressed.\",\"Circular dependency error when running migrations in Django 1.7c2\",\"JavaFX setOnShown fires before window is visible\",\"Flash Develop - Publishing\",\"I want to use the variable I declared somewhere else but I cannot (simple sql query)\",\"buttons are not displayed\",\"Prevent Twitter responsive layout from collapsing when width < 320px\",\"Show azure cost analysis data using Azure billing API/SDK\",\"find the field names from a search query\",\"OAuth 2.0 OpenID Connect Loopback and Keycloak\",\"Windows Phone: How to retrieve the same photo from media library between application instances\",\"Symfony2: determine if a controller is called from a development environment or from a production environment\",\"When UITableView is fully reloaded\",\"http.post(url, postData, options) does not set header\",\"JSON stringify outputs empty object for not empty object\",\"Display.syncExec not working inside Callable\",\"XPath to first occurrence of element with text length >= 200 characters\",\"Unable to push a docker image to local OpenShift Origin registry\",\"SlideDown() using JavaScript not working as intended\",\"Threading.Tasks Dispose meaning issue\",\"VAL() function in JavaScript\",\"Using php to send form to my email..Having an issue with 405 Not Allowed when form is submitted\",\"Netty closeFuture().sync().channel(); blocks rest api\",\"How to check if a specific button exists in Scrapy?\",\"Remove logs from ORMLite Android\",\"Language detection API/Library\",\"Should I make 1 form for each upvote button or 1 form for all the buttons?\",\"Eclipse GAE JDO 3.0\",\"django-cms editors and HTML data attribute cleaned up\",\"Xcode build error clang failed\",\"setTimeout from a web worker\",\"C# Populating a listview from a List\",\"Javascript not working in django inline formset using urlify.js\",\"PHP multi cURL performance worse than sequential file_get_contents\",\"Converting PHP Contact Form to SMTP\",\"How do I prevent the original method being called when mocking a class with PHPUnit?\",\"Ensure footer will stick to bottom of page and flex with content\",\"How to share files from any path using a FileProvider?\",\"R: How to build sum of arrays third dimension containing NAs and returning a list?\",\"Speeding up a strangely slow Rcpp function\",\"How to create a service that sends/receives UDP broadcasts on multiple interfaces\",\"Can someone tell me how to replace the following javascript code with a loop?\",\"UIImageView layer border issue\",\"COM object created by CComObject::CreateInstance not destroyed when pointer goes out of scope\",\"Run 2 sql query with 1 query for save query result as .csv format\",\"AWS Elastic Beanstalk Vs EC2 Container Service (ECS) - Docker\",\"Connect to remote MongoDB instance from ASP.NET\",\"Copying files with unicode names\",\"ASP.NET Web application doesn't unload AppDomains after deploy\",\"Getting YouTube livestream URL\",\"Can't use ToString() in LINQ to Entities query\",\"list comprehension to create list and for no-data value feed default value\",\"JSX element type 'XXX' does not have any construct or call signatures\",\"Subroutine unexpectedly ends when a Workbook is closed\",\"Creating a result set (using a select statement ) within a loop\",\"Laravel 4.2 - Environment detection - homestead.yaml vs. start.php\",\"Deploy a shell script with Ruby gem and install in bin directory\",\"Change a string into an int\",\"How do I stop a MySQL decimal field from being rounded?\",\"Respecting argparse's privacy, vs. usability\",\"Very simple Web Service in Python\",\"Emoji and UIWebView in iOS 5\",\"Getting IOError: [Errno Invalid number of channels] -9998 when using mic with PyAudio on Raspberry Pi\",\"Mono on Mac OS X - Parallel HTTP Downloads limited to 2\",\"Delete files, directories and buckets in amazon s3 java\",\"Android: Saving form data on a swipe rather than from a button\",\"No description or item name on PayPal Payment Received email\",\"Code igniter with data mapper giving in valid json\",\"Where can I find official / canonical documentation for using JavaScript with \\\"classic\\\" ASP?\",\"BroadcastReceiver isn't working\",\"Array compare and count which has similar values and which not\",\"How to cancel 'viewWillAppear' after UIImagePickerController is dismissed\",\"In Scala, is it possible to write a script which refers to another script\",\"after reload page IE is not retaining it's scroll position\",\"SpringBoot multiple authentication adapter\",\"SMTP Contact Form blank screen on Submit\",\"Destroy all sessions but one\",\"C# WIndows CE Compact Framework 2.0 Set System Timezone\",\"Appropriate representation of a 2D game board in Clojure\",\"Ionic emulate ios shows black screen\",\"How update APi with AngularJS?\",\"Javascript based redirect: will it hurt SEO?\",\"What is the difference between these two SOAP requests?\",\"Microsoft Access Report - How to cycle through all pages of a report in print view?\",\"What does Actor[akka:\\\\\\\\play\\\\deadLetters].tell() mean in a New Relic's trace of a Play Framework 2.0 web transaction?\",\"JRuby 1.7.0 will not install bundler given plenty of memory\",\"solr multiple tokenizers for query\",\"Is it possible to pass an EJS variable to an Angular ng-repeat filter?\",\"How To Read Data using Ip Address\",\"SSIS XML Decryption Message\",\"Detecting selection change on a UITextView?\",\"Different CSS background-image depending on month and year\",\"What's the equivalent averageifs for standard deviation?\",\"Segmentation faults using f2py\"],\"x\":{\"__ndarray__\":\"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\",\"dtype\":\"float32\",\"shape\":[1000]},\"y\":{\"__ndarray__\":\"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\",\"dtype\":\"float32\",\"shape\":[1000]}},\"selected\":{\"id\":\"1050\"},\"selection_policy\":{\"id\":\"1049\"}},\"id\":\"1004\",\"type\":\"ColumnDataSource\"},{\"attributes\":{\"axis\":{\"id\":\"1018\"},\"dimension\":1,\"ticker\":null},\"id\":\"1021\",\"type\":\"Grid\"},{\"attributes\":{\"fill_alpha\":{\"value\":0.25},\"fill_color\":{\"field\":\"color\"},\"line_alpha\":{\"value\":0.25},\"line_color\":{\"field\":\"color\"},\"size\":{\"units\":\"screen\",\"value\":10},\"x\":{\"field\":\"x\"},\"y\":{\"field\":\"y\"}},\"id\":\"1036\",\"type\":\"Scatter\"},{\"attributes\":{},\"id\":\"1008\",\"type\":\"DataRange1d\"},{\"attributes\":{\"source\":{\"id\":\"1004\"}},\"id\":\"1039\",\"type\":\"CDSView\"},{\"attributes\":{},\"id\":\"1006\",\"type\":\"DataRange1d\"},{\"attributes\":{\"bottom_units\":\"screen\",\"fill_alpha\":0.5,\"fill_color\":\"lightgrey\",\"left_units\":\"screen\",\"level\":\"overlay\",\"line_alpha\":1.0,\"line_color\":\"black\",\"line_dash\":[4,4],\"line_width\":2,\"render_mode\":\"css\",\"right_units\":\"screen\",\"top_units\":\"screen\"},\"id\":\"1048\",\"type\":\"BoxAnnotation\"},{\"attributes\":{\"data_source\":{\"id\":\"1004\"},\"glyph\":{\"id\":\"1036\"},\"hover_glyph\":null,\"muted_glyph\":null,\"nonselection_glyph\":{\"id\":\"1037\"},\"selection_glyph\":null,\"view\":{\"id\":\"1039\"}},\"id\":\"1038\",\"type\":\"GlyphRenderer\"},{\"attributes\":{},\"id\":\"1023\",\"type\":\"WheelZoomTool\"},{\"attributes\":{\"overlay\":{\"id\":\"1048\"}},\"id\":\"1024\",\"type\":\"BoxZoomTool\"},{\"attributes\":{},\"id\":\"1022\",\"type\":\"PanTool\"},{\"attributes\":{},\"id\":\"1025\",\"type\":\"SaveTool\"},{\"attributes\":{\"axis\":{\"id\":\"1014\"},\"ticker\":null},\"id\":\"1017\",\"type\":\"Grid\"},{\"attributes\":{},\"id\":\"1027\",\"type\":\"HelpTool\"},{\"attributes\":{},\"id\":\"1026\",\"type\":\"ResetTool\"},{\"attributes\":{},\"id\":\"1047\",\"type\":\"BasicTickFormatter\"},{\"attributes\":{\"fill_alpha\":{\"value\":0.1},\"fill_color\":{\"field\":\"color\"},\"line_alpha\":{\"value\":0.1},\"line_color\":{\"field\":\"color\"},\"size\":{\"units\":\"screen\",\"value\":10},\"x\":{\"field\":\"x\"},\"y\":{\"field\":\"y\"}},\"id\":\"1037\",\"type\":\"Scatter\"},{\"attributes\":{},\"id\":\"1050\",\"type\":\"Selection\"},{\"attributes\":{},\"id\":\"1049\",\"type\":\"UnionRenderers\"}],\"root_ids\":[\"1005\"]},\"title\":\"Bokeh Application\",\"version\":\"2.0.0\"}};\n",
       "  var render_items = [{\"docid\":\"62867c34-8452-480b-9ec3-305ac98ecb7d\",\"root_ids\":[\"1005\"],\"roots\":{\"1005\":\"054ffa53-1a1b-4af4-9490-81e8d6bc158d\"}}];\n",
       "  root.Bokeh.embed.embed_items_notebook(docs_json, render_items);\n",
       "\n",
       "  }\n",
       "  if (root.Bokeh !== undefined) {\n",
       "    embed_document(root);\n",
       "  } else {\n",
       "    var attempts = 0;\n",
       "    var timer = setInterval(function(root) {\n",
       "      if (root.Bokeh !== undefined) {\n",
       "        clearInterval(timer);\n",
       "        embed_document(root);\n",
       "      } else {\n",
       "        attempts++;\n",
       "        if (attempts > 100) {\n",
       "          clearInterval(timer);\n",
       "          console.log(\"Bokeh: ERROR: Unable to run BokehJS code because BokehJS library is missing\");\n",
       "        }\n",
       "      }\n",
       "    }, 10, root)\n",
       "  }\n",
       "})(window);"
      ],
      "application/vnd.bokehjs_exec.v0+json": ""
     },
     "metadata": {
      "application/vnd.bokehjs_exec.v0+json": {
       "id": "1005"
      }
     },
     "output_type": "display_data"
    },
    {
     "data": {
      "text/html": [
       "<div style=\"display: table;\"><div style=\"display: table-row;\"><div style=\"display: table-cell;\"><b title=\"bokeh.plotting.figure.Figure\">Figure</b>(</div><div style=\"display: table-cell;\">id&nbsp;=&nbsp;'1005', <span id=\"1106\" style=\"cursor: pointer;\">&hellip;)</span></div></div><div class=\"1105\" style=\"display: none;\"><div style=\"display: table-cell;\"></div><div style=\"display: table-cell;\">above&nbsp;=&nbsp;[],</div></div><div class=\"1105\" style=\"display: none;\"><div style=\"display: table-cell;\"></div><div style=\"display: table-cell;\">align&nbsp;=&nbsp;'start',</div></div><div class=\"1105\" style=\"display: none;\"><div style=\"display: table-cell;\"></div><div style=\"display: table-cell;\">aspect_ratio&nbsp;=&nbsp;None,</div></div><div class=\"1105\" style=\"display: none;\"><div style=\"display: table-cell;\"></div><div style=\"display: table-cell;\">aspect_scale&nbsp;=&nbsp;1,</div></div><div class=\"1105\" style=\"display: none;\"><div style=\"display: table-cell;\"></div><div style=\"display: table-cell;\">background&nbsp;=&nbsp;None,</div></div><div class=\"1105\" style=\"display: none;\"><div style=\"display: table-cell;\"></div><div style=\"display: table-cell;\">background_fill_alpha&nbsp;=&nbsp;1.0,</div></div><div class=\"1105\" style=\"display: none;\"><div style=\"display: table-cell;\"></div><div style=\"display: table-cell;\">background_fill_color&nbsp;=&nbsp;'#ffffff',</div></div><div class=\"1105\" style=\"display: none;\"><div style=\"display: table-cell;\"></div><div style=\"display: table-cell;\">below&nbsp;=&nbsp;[LinearAxis(id='1014', ...)],</div></div><div class=\"1105\" style=\"display: none;\"><div style=\"display: table-cell;\"></div><div style=\"display: table-cell;\">border_fill_alpha&nbsp;=&nbsp;1.0,</div></div><div class=\"1105\" style=\"display: none;\"><div style=\"display: table-cell;\"></div><div style=\"display: table-cell;\">border_fill_color&nbsp;=&nbsp;'#ffffff',</div></div><div class=\"1105\" style=\"display: none;\"><div style=\"display: table-cell;\"></div><div style=\"display: table-cell;\">center&nbsp;=&nbsp;[Grid(id='1017', ...), Grid(id='1021', ...)],</div></div><div class=\"1105\" style=\"display: none;\"><div style=\"display: table-cell;\"></div><div style=\"display: table-cell;\">css_classes&nbsp;=&nbsp;[],</div></div><div class=\"1105\" style=\"display: none;\"><div style=\"display: table-cell;\"></div><div style=\"display: table-cell;\">disabled&nbsp;=&nbsp;False,</div></div><div class=\"1105\" style=\"display: none;\"><div style=\"display: table-cell;\"></div><div style=\"display: table-cell;\">extra_x_ranges&nbsp;=&nbsp;{},</div></div><div class=\"1105\" style=\"display: none;\"><div style=\"display: table-cell;\"></div><div style=\"display: table-cell;\">extra_y_ranges&nbsp;=&nbsp;{},</div></div><div class=\"1105\" style=\"display: none;\"><div style=\"display: table-cell;\"></div><div style=\"display: table-cell;\">frame_height&nbsp;=&nbsp;None,</div></div><div class=\"1105\" style=\"display: none;\"><div style=\"display: table-cell;\"></div><div style=\"display: table-cell;\">frame_width&nbsp;=&nbsp;None,</div></div><div class=\"1105\" style=\"display: none;\"><div style=\"display: table-cell;\"></div><div style=\"display: table-cell;\">height&nbsp;=&nbsp;None,</div></div><div class=\"1105\" style=\"display: none;\"><div style=\"display: table-cell;\"></div><div style=\"display: table-cell;\">height_policy&nbsp;=&nbsp;'auto',</div></div><div class=\"1105\" style=\"display: none;\"><div style=\"display: table-cell;\"></div><div style=\"display: table-cell;\">hidpi&nbsp;=&nbsp;True,</div></div><div class=\"1105\" style=\"display: none;\"><div style=\"display: table-cell;\"></div><div style=\"display: table-cell;\">js_event_callbacks&nbsp;=&nbsp;{},</div></div><div class=\"1105\" style=\"display: none;\"><div style=\"display: table-cell;\"></div><div style=\"display: table-cell;\">js_property_callbacks&nbsp;=&nbsp;{},</div></div><div class=\"1105\" style=\"display: none;\"><div style=\"display: table-cell;\"></div><div style=\"display: table-cell;\">left&nbsp;=&nbsp;[LinearAxis(id='1018', ...)],</div></div><div class=\"1105\" style=\"display: none;\"><div style=\"display: table-cell;\"></div><div style=\"display: table-cell;\">lod_factor&nbsp;=&nbsp;10,</div></div><div class=\"1105\" style=\"display: none;\"><div style=\"display: table-cell;\"></div><div style=\"display: table-cell;\">lod_interval&nbsp;=&nbsp;300,</div></div><div class=\"1105\" style=\"display: none;\"><div style=\"display: table-cell;\"></div><div style=\"display: table-cell;\">lod_threshold&nbsp;=&nbsp;2000,</div></div><div class=\"1105\" style=\"display: none;\"><div style=\"display: table-cell;\"></div><div style=\"display: table-cell;\">lod_timeout&nbsp;=&nbsp;500,</div></div><div class=\"1105\" style=\"display: none;\"><div style=\"display: table-cell;\"></div><div style=\"display: table-cell;\">margin&nbsp;=&nbsp;(0, 0, 0, 0),</div></div><div class=\"1105\" style=\"display: none;\"><div style=\"display: table-cell;\"></div><div style=\"display: table-cell;\">match_aspect&nbsp;=&nbsp;False,</div></div><div class=\"1105\" style=\"display: none;\"><div style=\"display: table-cell;\"></div><div style=\"display: table-cell;\">max_height&nbsp;=&nbsp;None,</div></div><div class=\"1105\" style=\"display: none;\"><div style=\"display: table-cell;\"></div><div style=\"display: table-cell;\">max_width&nbsp;=&nbsp;None,</div></div><div class=\"1105\" style=\"display: none;\"><div style=\"display: table-cell;\"></div><div style=\"display: table-cell;\">min_border&nbsp;=&nbsp;5,</div></div><div class=\"1105\" style=\"display: none;\"><div style=\"display: table-cell;\"></div><div style=\"display: table-cell;\">min_border_bottom&nbsp;=&nbsp;None,</div></div><div class=\"1105\" style=\"display: none;\"><div style=\"display: table-cell;\"></div><div style=\"display: table-cell;\">min_border_left&nbsp;=&nbsp;None,</div></div><div class=\"1105\" style=\"display: none;\"><div style=\"display: table-cell;\"></div><div style=\"display: table-cell;\">min_border_right&nbsp;=&nbsp;None,</div></div><div class=\"1105\" style=\"display: none;\"><div style=\"display: table-cell;\"></div><div style=\"display: table-cell;\">min_border_top&nbsp;=&nbsp;None,</div></div><div class=\"1105\" style=\"display: none;\"><div style=\"display: table-cell;\"></div><div style=\"display: table-cell;\">min_height&nbsp;=&nbsp;None,</div></div><div class=\"1105\" style=\"display: none;\"><div style=\"display: table-cell;\"></div><div style=\"display: table-cell;\">min_width&nbsp;=&nbsp;None,</div></div><div class=\"1105\" style=\"display: none;\"><div style=\"display: table-cell;\"></div><div style=\"display: table-cell;\">name&nbsp;=&nbsp;None,</div></div><div class=\"1105\" style=\"display: none;\"><div style=\"display: table-cell;\"></div><div style=\"display: table-cell;\">outline_line_alpha&nbsp;=&nbsp;1.0,</div></div><div class=\"1105\" style=\"display: none;\"><div style=\"display: table-cell;\"></div><div style=\"display: table-cell;\">outline_line_cap&nbsp;=&nbsp;'butt',</div></div><div class=\"1105\" style=\"display: none;\"><div style=\"display: table-cell;\"></div><div style=\"display: table-cell;\">outline_line_color&nbsp;=&nbsp;'#e5e5e5',</div></div><div class=\"1105\" style=\"display: none;\"><div style=\"display: table-cell;\"></div><div style=\"display: table-cell;\">outline_line_dash&nbsp;=&nbsp;[],</div></div><div class=\"1105\" style=\"display: none;\"><div style=\"display: table-cell;\"></div><div style=\"display: table-cell;\">outline_line_dash_offset&nbsp;=&nbsp;0,</div></div><div class=\"1105\" style=\"display: none;\"><div style=\"display: table-cell;\"></div><div style=\"display: table-cell;\">outline_line_join&nbsp;=&nbsp;'bevel',</div></div><div class=\"1105\" style=\"display: none;\"><div style=\"display: table-cell;\"></div><div style=\"display: table-cell;\">outline_line_width&nbsp;=&nbsp;1,</div></div><div class=\"1105\" style=\"display: none;\"><div style=\"display: table-cell;\"></div><div style=\"display: table-cell;\">output_backend&nbsp;=&nbsp;'canvas',</div></div><div class=\"1105\" style=\"display: none;\"><div style=\"display: table-cell;\"></div><div style=\"display: table-cell;\">plot_height&nbsp;=&nbsp;400,</div></div><div class=\"1105\" style=\"display: none;\"><div style=\"display: table-cell;\"></div><div style=\"display: table-cell;\">plot_width&nbsp;=&nbsp;600,</div></div><div class=\"1105\" style=\"display: none;\"><div style=\"display: table-cell;\"></div><div style=\"display: table-cell;\">renderers&nbsp;=&nbsp;[GlyphRenderer(id='1038', ...)],</div></div><div class=\"1105\" style=\"display: none;\"><div style=\"display: table-cell;\"></div><div style=\"display: table-cell;\">reset_policy&nbsp;=&nbsp;'standard',</div></div><div class=\"1105\" style=\"display: none;\"><div style=\"display: table-cell;\"></div><div style=\"display: table-cell;\">right&nbsp;=&nbsp;[],</div></div><div class=\"1105\" style=\"display: none;\"><div style=\"display: table-cell;\"></div><div style=\"display: table-cell;\">sizing_mode&nbsp;=&nbsp;None,</div></div><div class=\"1105\" style=\"display: none;\"><div style=\"display: table-cell;\"></div><div style=\"display: table-cell;\">subscribed_events&nbsp;=&nbsp;[],</div></div><div class=\"1105\" style=\"display: none;\"><div style=\"display: table-cell;\"></div><div style=\"display: table-cell;\">tags&nbsp;=&nbsp;[],</div></div><div class=\"1105\" style=\"display: none;\"><div style=\"display: table-cell;\"></div><div style=\"display: table-cell;\">title&nbsp;=&nbsp;Title(id='1043', ...),</div></div><div class=\"1105\" style=\"display: none;\"><div style=\"display: table-cell;\"></div><div style=\"display: table-cell;\">title_location&nbsp;=&nbsp;'above',</div></div><div class=\"1105\" style=\"display: none;\"><div style=\"display: table-cell;\"></div><div style=\"display: table-cell;\">toolbar&nbsp;=&nbsp;Toolbar(id='1028', ...),</div></div><div class=\"1105\" style=\"display: none;\"><div style=\"display: table-cell;\"></div><div style=\"display: table-cell;\">toolbar_location&nbsp;=&nbsp;'right',</div></div><div class=\"1105\" style=\"display: none;\"><div style=\"display: table-cell;\"></div><div style=\"display: table-cell;\">toolbar_sticky&nbsp;=&nbsp;True,</div></div><div class=\"1105\" style=\"display: none;\"><div style=\"display: table-cell;\"></div><div style=\"display: table-cell;\">visible&nbsp;=&nbsp;True,</div></div><div class=\"1105\" style=\"display: none;\"><div style=\"display: table-cell;\"></div><div style=\"display: table-cell;\">width&nbsp;=&nbsp;None,</div></div><div class=\"1105\" style=\"display: none;\"><div style=\"display: table-cell;\"></div><div style=\"display: table-cell;\">width_policy&nbsp;=&nbsp;'auto',</div></div><div class=\"1105\" style=\"display: none;\"><div style=\"display: table-cell;\"></div><div style=\"display: table-cell;\">x_range&nbsp;=&nbsp;DataRange1d(id='1006', ...),</div></div><div class=\"1105\" style=\"display: none;\"><div style=\"display: table-cell;\"></div><div style=\"display: table-cell;\">x_scale&nbsp;=&nbsp;LinearScale(id='1010', ...),</div></div><div class=\"1105\" style=\"display: none;\"><div style=\"display: table-cell;\"></div><div style=\"display: table-cell;\">y_range&nbsp;=&nbsp;DataRange1d(id='1008', ...),</div></div><div class=\"1105\" style=\"display: none;\"><div style=\"display: table-cell;\"></div><div style=\"display: table-cell;\">y_scale&nbsp;=&nbsp;LinearScale(id='1012', ...))</div></div></div>\n",
       "<script>\n",
       "(function() {\n",
       "  var expanded = false;\n",
       "  var ellipsis = document.getElementById(\"1106\");\n",
       "  ellipsis.addEventListener(\"click\", function() {\n",
       "    var rows = document.getElementsByClassName(\"1105\");\n",
       "    for (var i = 0; i < rows.length; i++) {\n",
       "      var el = rows[i];\n",
       "      el.style.display = expanded ? \"none\" : \"table-row\";\n",
       "    }\n",
       "    ellipsis.innerHTML = expanded ? \"&hellip;)\" : \"&lsaquo;&lsaquo;&lsaquo;\";\n",
       "    expanded = !expanded;\n",
       "  });\n",
       "})();\n",
       "</script>\n"
      ],
      "text/plain": [
       "Figure(id='1005', ...)"
      ]
     },
     "execution_count": 41,
     "metadata": {},
     "output_type": "execute_result"
    }
   ],
   "source": [
    "output_notebook()\n",
    "draw_vectors(so_embeddings_tsne_scaled[:, 0], so_embeddings_tsne_scaled[:, 1], token=so_questions_flat[0:1000])"
   ]
  },
  {
   "cell_type": "code",
   "execution_count": 42,
   "metadata": {},
   "outputs": [],
   "source": [
    "def find_closest_questions(question, k=5, search_limit=10):\n",
    "    data = cleaned_so_questions_flat[0:search_limit]\n",
    "    vec_question = question_to_vec(question, wv_embeddings)\n",
    "    vec_candidates = np.array([question_to_vec(data[i], wv_embeddings) for i in range(len(data))])\n",
    "    rank = np.array([(i, so_questions_flat[i]) for i in range(len(data))])    \n",
    "    dist_s = cosine_similarity(vec_candidates, np.array([vec_question]))[:, 0]\n",
    "    \n",
    "    return rank[dist_s.argsort()[::-1]][0:k,:]"
   ]
  },
  {
   "cell_type": "code",
   "execution_count": 43,
   "metadata": {},
   "outputs": [
    {
     "data": {
      "text/plain": [
       "array([['1043', 'What are we doing wrong with git?'],\n",
       "       ['4010', 'What are we doing wrong with git?'],\n",
       "       ['9826',\n",
       "        'facebook account kit - Returns error \"We\\'re sorry, something went wrong.\" in android'],\n",
       "       ['3125', 'Cmposition, I dont quite get this?'],\n",
       "       ['425', 'Cmposition, I dont quite get this?']], dtype='<U149')"
      ]
     },
     "execution_count": 43,
     "metadata": {},
     "output_type": "execute_result"
    }
   ],
   "source": [
    "find_closest_questions(text_prepare(\"Why am I so stupid?\"), search_limit=10000)"
   ]
  },
  {
   "cell_type": "markdown",
   "metadata": {},
   "source": [
    "### Вывод"
   ]
  },
  {
   "cell_type": "markdown",
   "metadata": {},
   "source": [
    "Расстояние от \"stupid\" оказывается близко к словам типа \"wrong\", \"error\", \"bad\" и т.д. "
   ]
  }
 ],
 "metadata": {
  "kernelspec": {
   "display_name": "Python 3",
   "language": "python",
   "name": "python3"
  },
  "language_info": {
   "codemirror_mode": {
    "name": "ipython",
    "version": 3
   },
   "file_extension": ".py",
   "mimetype": "text/x-python",
   "name": "python",
   "nbconvert_exporter": "python",
   "pygments_lexer": "ipython3",
   "version": "3.7.4"
  }
 },
 "nbformat": 4,
 "nbformat_minor": 2
}
