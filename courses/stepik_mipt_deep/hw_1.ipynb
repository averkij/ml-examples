{
 "cells": [
  {
   "cell_type": "code",
   "execution_count": 1,
   "metadata": {},
   "outputs": [],
   "source": [
    "import numpy as np\n",
    "from nltk.tokenize import RegexpTokenizer\n",
    "import gensim\n",
    "import pandas as pd\n",
    "import re\n",
    "import nltk\n",
    "import string\n",
    "from tqdm import tqdm"
   ]
  },
  {
   "cell_type": "code",
   "execution_count": 2,
   "metadata": {},
   "outputs": [],
   "source": [
    "model_path = u'D:\\models\\GoogleNews-vectors-negative300.bin'\n",
    "wv_embeddings = gensim.models.KeyedVectors.load_word2vec_format(fname=model_path, limit=500000, binary=True)"
   ]
  },
  {
   "cell_type": "code",
   "execution_count": 3,
   "metadata": {},
   "outputs": [],
   "source": [
    "def read_corpus(filename):\n",
    "    data = []\n",
    "    for line in open(filename, encoding='utf-8'):\n",
    "        data.append(line.strip().split('\\t'))\n",
    "    return data"
   ]
  },
  {
   "cell_type": "code",
   "execution_count": 4,
   "metadata": {},
   "outputs": [],
   "source": [
    "data = read_corpus('so_questions.tsv')"
   ]
  },
  {
   "cell_type": "markdown",
   "metadata": {},
   "source": [
    "## Вопрос 1"
   ]
  },
  {
   "cell_type": "markdown",
   "metadata": {},
   "source": [
    "**Входит ли слово cat в топ-5 близких слов к слову dog?**"
   ]
  },
  {
   "cell_type": "code",
   "execution_count": 5,
   "metadata": {},
   "outputs": [
    {
     "data": {
      "text/plain": [
       "[('cats', 0.8099378943443298),\n",
       " ('dog', 0.760945737361908),\n",
       " ('kitten', 0.7464984655380249),\n",
       " ('feline', 0.7326234579086304),\n",
       " ('beagle', 0.7150583267211914),\n",
       " ('puppy', 0.7075453996658325),\n",
       " ('pup', 0.6934290528297424),\n",
       " ('pet', 0.6891531348228455),\n",
       " ('felines', 0.6755931377410889),\n",
       " ('chihuahua', 0.6709762215614319)]"
      ]
     },
     "execution_count": 5,
     "metadata": {},
     "output_type": "execute_result"
    }
   ],
   "source": [
    "wv_embeddings.most_similar(positive=['cat'])"
   ]
  },
  {
   "cell_type": "markdown",
   "metadata": {},
   "source": [
    "**Ответ: да.**"
   ]
  },
  {
   "cell_type": "markdown",
   "metadata": {},
   "source": [
    "#### Векторные представления текста"
   ]
  },
  {
   "cell_type": "code",
   "execution_count": 6,
   "metadata": {},
   "outputs": [],
   "source": [
    "tokenizer = RegexpTokenizer(r'\\w+')"
   ]
  },
  {
   "cell_type": "code",
   "execution_count": 7,
   "metadata": {},
   "outputs": [],
   "source": [
    "def question_to_vec(question, embeddings, dim=300):\n",
    "    words =  tokenizer.tokenize(question)\n",
    "    n_known = 0\n",
    "    result = np.array([0] * dim, dtype=float)    \n",
    "    for word in words:\n",
    "        if word in embeddings:\n",
    "            result += embeddings[word]\n",
    "            n_known += 1\n",
    "            \n",
    "    if n_known != 0:\n",
    "        return result / n_known\n",
    "    else:\n",
    "        return result"
   ]
  },
  {
   "cell_type": "code",
   "execution_count": 8,
   "metadata": {},
   "outputs": [],
   "source": [
    "q = 'I like dark themes. However, the default theme of Jupyter notebooks is light, and I cant find the option to change the theme/background-color. How is this done?'"
   ]
  },
  {
   "cell_type": "code",
   "execution_count": 9,
   "metadata": {
    "scrolled": true
   },
   "outputs": [
    {
     "data": {
      "text/plain": [
       "array([ 0.09819946,  0.08552979,  0.02617798,  0.10978516, -0.05410885,\n",
       "        0.01544922,  0.08193115, -0.07053467,  0.11806641,  0.0185083 ,\n",
       "       -0.04598206, -0.07106689, -0.00578369, -0.01892578, -0.09141602,\n",
       "        0.11324707,  0.0459082 ,  0.08457031,  0.0205896 , -0.17009521,\n",
       "       -0.04350586,  0.12529785,  0.06759521, -0.02728973, -0.0307766 ,\n",
       "       -0.00048126, -0.07328613,  0.04516602,  0.03177185,  0.0094281 ,\n",
       "       -0.07897217,  0.03314283,  0.03263672,  0.03050682,  0.02820801,\n",
       "        0.05157562, -0.02617188, -0.02082764,  0.03863037,  0.0336084 ,\n",
       "        0.11003906,  0.01725708,  0.04221436, -0.0097171 ,  0.01095947,\n",
       "        0.00229919, -0.0186731 , -0.04037598, -0.00190674,  0.0013504 ,\n",
       "       -0.04914185,  0.07050293,  0.00696533, -0.05645508,  0.00242432,\n",
       "        0.03453125, -0.02273071, -0.05413208,  0.02813232, -0.06486145,\n",
       "        0.00998169,  0.06753906, -0.12299561, -0.06290344, -0.0172168 ,\n",
       "       -0.03997559, -0.08246887,  0.13952148, -0.03980103,  0.06386719,\n",
       "        0.01452271,  0.02625977,  0.10352295, -0.00448975, -0.10605469,\n",
       "       -0.10766602,  0.14806152,  0.07294678,  0.03624268,  0.17935059,\n",
       "        0.06406738, -0.07647827,  0.0517952 , -0.01455566, -0.05464844,\n",
       "       -0.04367126, -0.1015332 ,  0.11339783,  0.02095825,  0.09422852,\n",
       "        0.07450439, -0.03448364, -0.06831543, -0.03621338, -0.06827759,\n",
       "       -0.03779297,  0.09700684,  0.04466797, -0.00383057, -0.01942383,\n",
       "       -0.03966515, -0.00236206, -0.01164795,  0.03064941, -0.08184326,\n",
       "       -0.01601318, -0.04589844, -0.08284912, -0.04665527, -0.0794458 ,\n",
       "       -0.08872559, -0.00697266, -0.00586792,  0.0313623 ,  0.13842651,\n",
       "       -0.01628662,  0.03831543, -0.04509766,  0.10899963,  0.06481689,\n",
       "       -0.06573242, -0.04606445, -0.04536621,  0.0661084 , -0.01210938,\n",
       "        0.028591  , -0.05557129,  0.02119019, -0.0138269 ,  0.00129333,\n",
       "       -0.08737549, -0.14893433, -0.07371094, -0.00102539, -0.01309814,\n",
       "       -0.02534668,  0.00344727,  0.02191406, -0.00315186,  0.09722168,\n",
       "        0.0585498 , -0.04960022,  0.03796631, -0.00492188,  0.06273437,\n",
       "       -0.02907227, -0.00219971, -0.03587158,  0.00944275, -0.01960937,\n",
       "        0.04513245,  0.02674316, -0.042146  ,  0.04164551, -0.05312408,\n",
       "        0.01201538, -0.06390625, -0.12612793, -0.03846558, -0.01566559,\n",
       "        0.00172974,  0.03071777,  0.01257629,  0.07399902, -0.02563599,\n",
       "       -0.03594727,  0.03243164, -0.0258667 ,  0.00777832, -0.00156738,\n",
       "       -0.10401367,  0.00374329, -0.04813232, -0.03645142, -0.03157654,\n",
       "        0.00883789,  0.11841309, -0.15037598,  0.00099121, -0.02591675,\n",
       "       -0.13569336, -0.04722961, -0.03109741,  0.00990967, -0.01763489,\n",
       "       -0.04277344, -0.03811523,  0.00471069,  0.10086121,  0.02844299,\n",
       "        0.01717651, -0.01180542, -0.01163208, -0.04832764, -0.00550049,\n",
       "        0.05203247, -0.06658203,  0.02986694, -0.0578479 , -0.06806152,\n",
       "        0.05294922,  0.02333557, -0.10898437, -0.02454346,  0.00709106,\n",
       "        0.05377686, -0.02925781, -0.01537506,  0.01915833,  0.01466797,\n",
       "       -0.03962769,  0.05578247, -0.02300415,  0.01582275, -0.08563965,\n",
       "       -0.0012262 ,  0.11099609,  0.00723145, -0.10249512,  0.00519043,\n",
       "       -0.052677  ,  0.05128418, -0.08423981,  0.08794678,  0.02108032,\n",
       "       -0.07429199,  0.01073242,  0.02107178, -0.00481201,  0.03715504,\n",
       "       -0.01946091, -0.04608643, -0.0037915 ,  0.0545752 ,  0.02974457,\n",
       "       -0.01961426, -0.03676392, -0.02634857,  0.0917627 ,  0.03044189,\n",
       "        0.00740356, -0.01554199, -0.01263672, -0.08667908,  0.00738098,\n",
       "        0.00633179,  0.02331055,  0.05953125, -0.01419434, -0.00248718,\n",
       "        0.02389893,  0.05995605,  0.05533447,  0.0220813 , -0.00249512,\n",
       "       -0.0932666 , -0.00700439, -0.01268036, -0.01963623, -0.05921265,\n",
       "        0.02783203,  0.00626465, -0.06040039, -0.00808213,  0.03646088,\n",
       "        0.12088501, -0.01597534, -0.00988037, -0.10215454, -0.03381989,\n",
       "        0.00839447,  0.02625977,  0.07000732,  0.10594238,  0.06447418,\n",
       "       -0.03014648, -0.02441895, -0.14171387, -0.05409302,  0.02045166,\n",
       "        0.03944824,  0.0099073 ,  0.037146  ,  0.08620361,  0.03694336,\n",
       "        0.00072357, -0.04817627, -0.08018066, -0.02616577,  0.03489883,\n",
       "       -0.12640045,  0.06310425, -0.05546387,  0.00563477, -0.01816895,\n",
       "       -0.059665  ,  0.04324707, -0.03770996,  0.03504242,  0.0092041 ])"
      ]
     },
     "execution_count": 9,
     "metadata": {},
     "output_type": "execute_result"
    }
   ],
   "source": [
    "question_to_vec(q, wv_embeddings)"
   ]
  },
  {
   "cell_type": "markdown",
   "metadata": {},
   "source": [
    "#### Оценка близости текстов"
   ]
  },
  {
   "cell_type": "code",
   "execution_count": 10,
   "metadata": {},
   "outputs": [],
   "source": [
    "def hits_count(dup_ranks, k):\n",
    "    N = len(dup_ranks)    \n",
    "    hits_value = np.sum([1 for r in dup_ranks if r <=k]) / N\n",
    "    return hits_value\n",
    "\n",
    "def dcg_score(dup_ranks, k):\n",
    "    N = len(dup_ranks)\n",
    "    dcg_value = np.sum([1/np.log2(1 + r) for r in dup_ranks if r <=k]) / N\n",
    "    return dcg_value"
   ]
  },
  {
   "cell_type": "code",
   "execution_count": 11,
   "metadata": {},
   "outputs": [
    {
     "data": {
      "text/plain": [
       "1.0"
      ]
     },
     "execution_count": 11,
     "metadata": {},
     "output_type": "execute_result"
    }
   ],
   "source": [
    "hits_count([2],4)"
   ]
  },
  {
   "cell_type": "code",
   "execution_count": 12,
   "metadata": {},
   "outputs": [
    {
     "data": {
      "text/plain": [
       "0.2103099178571525"
      ]
     },
     "execution_count": 12,
     "metadata": {},
     "output_type": "execute_result"
    }
   ],
   "source": [
    "dcg_score([2,3,5],2)"
   ]
  },
  {
   "cell_type": "markdown",
   "metadata": {},
   "source": [
    "#### Протестируем функции"
   ]
  },
  {
   "cell_type": "code",
   "execution_count": 13,
   "metadata": {},
   "outputs": [
    {
     "name": "stdout",
     "output_type": "stream",
     "text": [
      "Ваш ответ HIT: [0.0, 1.0, 1.0, 1.0]\n",
      "Ваш ответ DCG: [0.0, 0.63093, 0.63093, 0.63093]\n"
     ]
    }
   ],
   "source": [
    "copy_answers = [\"How does the catch keyword determine the type of exception that was thrown\"]\n",
    "\n",
    "candidates_ranking = [[\"How Can I Make These Links Rotate in PHP\",\n",
    "                       \"How does the catch keyword determine the type of exception that was thrown\",\n",
    "                       \"NSLog array description not memory address\",\n",
    "                       \"PECL_HTTP not recognised php ubuntu\"]]\n",
    "\n",
    "dup_ranks = [candidates_ranking[0].index(copy_answers[i]) + 1 for i in range(len(copy_answers))]\n",
    "\n",
    "print('Ваш ответ HIT:', [hits_count(dup_ranks,k) for k in range(1, 5)])\n",
    "print('Ваш ответ DCG:', [round(dcg_score(dup_ranks,k), 5) for k in range(1, 5)])"
   ]
  },
  {
   "cell_type": "markdown",
   "metadata": {},
   "source": [
    "#### Ранжирование вопросов StackOverflow"
   ]
  },
  {
   "cell_type": "code",
   "execution_count": 14,
   "metadata": {},
   "outputs": [
    {
     "data": {
      "text/plain": [
       "3760"
      ]
     },
     "execution_count": 14,
     "metadata": {},
     "output_type": "execute_result"
    }
   ],
   "source": [
    "len(data)"
   ]
  },
  {
   "cell_type": "markdown",
   "metadata": {},
   "source": [
    "Реализуйте функцию ранжирования кандидатов на основе косинусного расстояния. Функция должна по списку кандидатов вернуть отсортированный список пар (позиция в исходном списке кандидатов, кандидат). При этом позиция кандидата в полученном списке является его рейтингом (первый - лучший). Например, если исходный список кандидатов был [a, b, c], и самый похожий на исходный вопрос среди них - c, затем a, и в конце b, то функция должна вернуть список **[(2, c), (0, a), (1, b)]**."
   ]
  },
  {
   "cell_type": "code",
   "execution_count": 15,
   "metadata": {},
   "outputs": [],
   "source": [
    "from sklearn.metrics.pairwise import cosine_similarity\n",
    "from copy import deepcopy"
   ]
  },
  {
   "cell_type": "code",
   "execution_count": 16,
   "metadata": {},
   "outputs": [],
   "source": [
    "def rank_candidates(question, candidates, embeddings, dim=300):\n",
    "    vec_question = question_to_vec(question, embeddings)\n",
    "    vec_candidates = np.array([question_to_vec(candidates[i], embeddings)\n",
    "                      for i in range(len(candidates))])\n",
    "    rank = np.array([(i, candidates[i]) for i in range(len(candidates))])\n",
    "    dist_s = cosine_similarity(vec_candidates, np.array([vec_question]))[:, 0]\n",
    "    return deepcopy(rank[dist_s.argsort()[::-1]])"
   ]
  },
  {
   "cell_type": "code",
   "execution_count": 17,
   "metadata": {},
   "outputs": [],
   "source": [
    "questions = ['converting string to list', 'Sending array via Ajax fails'] \n",
    "\n",
    "candidates = [['Convert Google results object (pure js) to Python object', # первый эксперимент\n",
    "               'C# create cookie from string and send it',\n",
    "               'How to use jQuery AJAX for an outside domain?'],\n",
    "              \n",
    "              ['Getting all list items of an unordered list in PHP',      # второй эксперимент\n",
    "               'WPF- How to update the changes in list item of a list',\n",
    "               'select2 not displaying search results']]"
   ]
  },
  {
   "cell_type": "markdown",
   "metadata": {},
   "source": [
    "**Ответ**"
   ]
  },
  {
   "cell_type": "code",
   "execution_count": 18,
   "metadata": {
    "scrolled": true
   },
   "outputs": [
    {
     "name": "stdout",
     "output_type": "stream",
     "text": [
      "[['1' 'C# create cookie from string and send it']\n",
      " ['0' 'Convert Google results object (pure js) to Python object']\n",
      " ['2' 'How to use jQuery AJAX for an outside domain?']]\n",
      "[['0' 'Getting all list items of an unordered list in PHP']\n",
      " ['2' 'select2 not displaying search results']\n",
      " ['1' 'WPF- How to update the changes in list item of a list']]\n"
     ]
    }
   ],
   "source": [
    "for question, q_candidates in zip(questions, candidates):\n",
    "    ranks = rank_candidates(question, q_candidates, wv_embeddings, 300)\n",
    "    print(ranks)"
   ]
  },
  {
   "cell_type": "markdown",
   "metadata": {},
   "source": [
    "Теперь мы можем оценить качество нашего метода. Запустите следующие два блока кода для получения результата. Обратите внимание, что вычисление расстояния между векторами занимает некоторое время (примерно 10 минут)."
   ]
  },
  {
   "cell_type": "code",
   "execution_count": 19,
   "metadata": {},
   "outputs": [],
   "source": [
    "wv_ranking = []\n",
    "for line in data:\n",
    "    q, *ex = line\n",
    "    ranks = rank_candidates(q, ex, wv_embeddings)\n",
    "    wv_ranking.append([r[0] for r in ranks].index('0') + 1)"
   ]
  },
  {
   "cell_type": "code",
   "execution_count": 20,
   "metadata": {},
   "outputs": [
    {
     "name": "stdout",
     "output_type": "stream",
     "text": [
      "DCG@   1: 0.259 | Hits@   1: 0.259\n",
      "DCG@   5: 0.314 | Hits@   5: 0.364\n",
      "DCG@  10: 0.332 | Hits@  10: 0.420\n",
      "DCG@ 100: 0.374 | Hits@ 100: 0.627\n",
      "DCG@ 500: 0.401 | Hits@ 500: 0.840\n",
      "DCG@1000: 0.418 | Hits@1000: 1.000\n"
     ]
    }
   ],
   "source": [
    "for k in [1, 5, 10, 100, 500, 1000]:\n",
    "    print(\"DCG@%4d: %.3f | Hits@%4d: %.3f\" % (k, dcg_score(wv_ranking, k), k, hits_count(wv_ranking, k)))"
   ]
  },
  {
   "cell_type": "markdown",
   "metadata": {},
   "source": [
    "Если вы проделали все шаги правильно, то вы должны немного разочароваться полученными результатами. Давайте попробуем понять, почему качество модели такое низкое. Когда вы работаете с какими-либо данными, очень полезно первым делом посмотреть на них глазами. Выведим несколько вопросов из наших данных:"
   ]
  },
  {
   "cell_type": "code",
   "execution_count": 21,
   "metadata": {},
   "outputs": [
    {
     "name": "stdout",
     "output_type": "stream",
     "text": [
      "How to print a binary heap tree without recursion? How do you best convert a recursive function to an iterative one? How can i use ng-model with directive in angular js flash: drawing and erasing\n",
      "\n",
      "How to start PhoneStateListener programmatically? PhoneStateListener and service Java cast object[] to model WCF and What does this mean?\n",
      "\n",
      "jQuery: Show a div2 when mousenter over div1 is over when hover on div1 depenting on if it is on div2 or not it should act differently How to run selenium in google app engine/cloud? Python Comparing two lists of strings for similarities\n",
      "\n"
     ]
    }
   ],
   "source": [
    "for line in data[:3]:\n",
    "    q, *examples = line\n",
    "    print(q, *examples[:3])\n",
    "    print()"
   ]
  },
  {
   "cell_type": "markdown",
   "metadata": {},
   "source": [
    "#### Предобработка текста"
   ]
  },
  {
   "cell_type": "code",
   "execution_count": 22,
   "metadata": {},
   "outputs": [
    {
     "name": "stderr",
     "output_type": "stream",
     "text": [
      "[nltk_data] Downloading package stopwords to\n",
      "[nltk_data]     C:\\Users\\Sergei\\AppData\\Roaming\\nltk_data...\n",
      "[nltk_data]   Package stopwords is already up-to-date!\n"
     ]
    }
   ],
   "source": [
    "nltk.download('stopwords')\n",
    "from nltk.corpus import stopwords"
   ]
  },
  {
   "cell_type": "code",
   "execution_count": 23,
   "metadata": {},
   "outputs": [
    {
     "data": {
      "text/plain": [
       "179"
      ]
     },
     "execution_count": 23,
     "metadata": {},
     "output_type": "execute_result"
    }
   ],
   "source": [
    "stopWords = set(stopwords.words('english'))\n",
    "len(stopWords)"
   ]
  },
  {
   "cell_type": "code",
   "execution_count": 24,
   "metadata": {},
   "outputs": [],
   "source": [
    "tokenizer = RegexpTokenizer(r'\\w+')\n",
    "stopWords = set(stopwords.words('english'))\n",
    "\n",
    "def text_prepare(text):\n",
    "    text = text.lower()\n",
    "    tokens = tokenizer.tokenize(text)\n",
    "    return ' '.join(t for t in tokens if t not in stopWords)"
   ]
  },
  {
   "cell_type": "code",
   "execution_count": 25,
   "metadata": {},
   "outputs": [
    {
     "name": "stderr",
     "output_type": "stream",
     "text": [
      "100%|█████████████████████████████████████████████████████████████████████████████| 3760/3760 [00:23<00:00, 162.47it/s]\n"
     ]
    }
   ],
   "source": [
    "new_data = deepcopy(data)\n",
    "\n",
    "for i in tqdm(range(len(data))):\n",
    "    for j in range(len(data[i])):\n",
    "        new_data[i][j] = text_prepare(data[i][j])"
   ]
  },
  {
   "cell_type": "code",
   "execution_count": null,
   "metadata": {},
   "outputs": [
    {
     "name": "stderr",
     "output_type": "stream",
     "text": [
      " 23%|█████████████████▊                                                             | 847/3760 [01:04<03:55, 12.35it/s]"
     ]
    }
   ],
   "source": [
    "wv_ranking = []\n",
    "\n",
    "for line in tqdm(new_data):\n",
    "    q, *ex = line\n",
    "    ranks = rank_candidates(q, ex, wv_embeddings)\n",
    "    wv_ranking.append([r[0] for r in ranks].index('0') + 1)"
   ]
  },
  {
   "cell_type": "code",
   "execution_count": null,
   "metadata": {},
   "outputs": [],
   "source": [
    "for k in [1, 5, 10, 100, 500, 1000]:\n",
    "    print(\"DCG@%4d: %.3f | Hits@%4d: %.3f\" % (k, dcg_score(wv_ranking, k), k, hits_count(wv_ranking, k)))"
   ]
  },
  {
   "cell_type": "markdown",
   "metadata": {},
   "source": [
    "#### Визуализация (вопросы со Stack Overflow)"
   ]
  },
  {
   "cell_type": "markdown",
   "metadata": {},
   "source": [
    "Сделаем плоский список и возьмем первые 1000 вопросов, чтобы не мучать t-SNE."
   ]
  },
  {
   "cell_type": "code",
   "execution_count": null,
   "metadata": {},
   "outputs": [],
   "source": [
    "#import pickle\n",
    "#new_data_flat = pickle.load(open('new_data_flat.dmp','rb'))"
   ]
  },
  {
   "cell_type": "code",
   "execution_count": null,
   "metadata": {},
   "outputs": [],
   "source": [
    "so_questions_flat = deepcopy(data)\n",
    "so_questions_flat = [item for sublist in so_questions_flat for item in sublist]"
   ]
  },
  {
   "cell_type": "code",
   "execution_count": null,
   "metadata": {},
   "outputs": [],
   "source": [
    "cleaned_so_questions_flat = [item for sublist in new_data for item in sublist]"
   ]
  },
  {
   "cell_type": "code",
   "execution_count": null,
   "metadata": {},
   "outputs": [],
   "source": [
    "len(so_questions_flat)"
   ]
  },
  {
   "cell_type": "code",
   "execution_count": null,
   "metadata": {},
   "outputs": [],
   "source": [
    "so_embeddings = []\n",
    "for q in tqdm(cleaned_so_questions_flat[0:1000]):\n",
    "        so_embeddings.append(question_to_vec(q, wv_embeddings))"
   ]
  },
  {
   "cell_type": "code",
   "execution_count": null,
   "metadata": {},
   "outputs": [],
   "source": [
    "cleaned_so_questions_flat[0:10]"
   ]
  },
  {
   "cell_type": "code",
   "execution_count": null,
   "metadata": {},
   "outputs": [],
   "source": [
    "#from sklearn.decomposition import PCA\n",
    "#pca = PCA(n_components=2)\n",
    "#so_embeddings_pca = pca.fit_transform(so_embeddings)"
   ]
  },
  {
   "cell_type": "code",
   "execution_count": null,
   "metadata": {},
   "outputs": [],
   "source": [
    "import bokeh.models as bm, bokeh.plotting as pl\n",
    "from bokeh.io import output_notebook\n",
    "output_notebook()\n",
    "\n",
    "def draw_vectors(x, y, radius=10, alpha=0.25, color='blue', width=600, height=400, show=True, **kwargs):\n",
    "    if isinstance(color, str): color = [color] * len(x)\n",
    "    data_source = bm.ColumnDataSource({ 'x' : x, 'y' : y, 'color': color, **kwargs })\n",
    "\n",
    "    fig = pl.figure(active_scroll='wheel_zoom', width=width, height=height)\n",
    "    fig.scatter('x', 'y', size=radius, color='color', alpha=alpha, source=data_source)\n",
    "\n",
    "    fig.add_tools(bm.HoverTool(tooltips=[(key, \"@\" + key) for key in kwargs.keys()]))\n",
    "    if show: pl.show(fig)\n",
    "    return fig"
   ]
  },
  {
   "cell_type": "code",
   "execution_count": null,
   "metadata": {},
   "outputs": [],
   "source": [
    "\n",
    "#pickle.dump(so_embeddings, open('so_embeddings.dmp','wb'))"
   ]
  },
  {
   "cell_type": "code",
   "execution_count": null,
   "metadata": {},
   "outputs": [],
   "source": [
    "from sklearn.manifold import TSNE\n",
    "from sklearn.preprocessing import StandardScaler\n",
    "\n",
    "tsne = TSNE(n_components=2, verbose=50)\n",
    "so_embeddings_tsne = tsne.fit_transform(so_embeddings)\n",
    "so_embeddings_tsne_scaled = StandardScaler().fit_transform(so_embeddings_tsne)"
   ]
  },
  {
   "cell_type": "code",
   "execution_count": null,
   "metadata": {},
   "outputs": [],
   "source": [
    "output_notebook()\n",
    "draw_vectors(so_embeddings_tsne_scaled[:, 0], so_embeddings_tsne_scaled[:, 1], token=data_flat[0:1000])"
   ]
  },
  {
   "cell_type": "code",
   "execution_count": null,
   "metadata": {},
   "outputs": [],
   "source": [
    "def find_closest_questions(question, k=5, search_limit=10):\n",
    "    data = cleaned_so_questions_flat[0:search_limit]\n",
    "    vec_question = question_to_vec(question, wv_embeddings)\n",
    "    vec_candidates = np.array([question_to_vec(data[i], wv_embeddings) for i in range(len(data))])\n",
    "    rank = np.array([(i, so_questions_flat[i]) for i in range(len(data))])    \n",
    "    dist_s = cosine_similarity(vec_candidates, np.array([vec_question]))[:, 0]\n",
    "    \n",
    "    return rank[dist_s.argsort()[::-1]][0:k,:]"
   ]
  },
  {
   "cell_type": "code",
   "execution_count": null,
   "metadata": {},
   "outputs": [],
   "source": [
    "find_closest_questions(text_prepare(\"Why am I so stupid?\"), search_limit=10000)"
   ]
  },
  {
   "cell_type": "markdown",
   "metadata": {},
   "source": [
    "### Вывод"
   ]
  },
  {
   "cell_type": "markdown",
   "metadata": {},
   "source": [
    "Расстояние от \"stupid\" оказывается близко к словам типа \"wrong\", \"error\", \"bad\" и т.д. "
   ]
  }
 ],
 "metadata": {
  "kernelspec": {
   "display_name": "Python 3",
   "language": "python",
   "name": "python3"
  },
  "language_info": {
   "codemirror_mode": {
    "name": "ipython",
    "version": 3
   },
   "file_extension": ".py",
   "mimetype": "text/x-python",
   "name": "python",
   "nbconvert_exporter": "python",
   "pygments_lexer": "ipython3",
   "version": "3.7.4"
  }
 },
 "nbformat": 4,
 "nbformat_minor": 2
}
