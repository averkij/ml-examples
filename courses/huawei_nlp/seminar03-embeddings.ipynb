{
 "cells": [
  {
   "cell_type": "markdown",
   "metadata": {},
   "source": [
    "# Gensim"
   ]
  },
  {
   "cell_type": "markdown",
   "metadata": {},
   "source": [
    "**Gensim** is billed as a Natural Language Processing package that does ‘Topic Modeling for Humans’. But it is practically much more than that. It is a leading and a state-of-the-art package for processing texts, working with *word vector models* and for building *topic models*."
   ]
  },
  {
   "cell_type": "markdown",
   "metadata": {},
   "source": [
    "But the width and scope of facilities to build and evaluate topic models are unparalleled in gensim, plus many more convenient facilities for text processing.\n",
    "\n",
    "Also, another significant advantage with gensim is: it lets you handle large text files without having to load the entire file in memory."
   ]
  },
  {
   "cell_type": "code",
   "execution_count": 1,
   "metadata": {},
   "outputs": [],
   "source": [
    "from gensim import corpora\n",
    "import gensim.downloader as api\n",
    "from gensim.utils import simple_preprocess\n",
    "from gensim.models.word2vec import Word2Vec\n",
    "from gensim.models.doc2vec import TaggedDocument, Doc2Vec"
   ]
  },
  {
   "cell_type": "markdown",
   "metadata": {},
   "source": [
    "## Dictionary and Corpus"
   ]
  },
  {
   "cell_type": "markdown",
   "metadata": {},
   "source": [
    "**Dictionary** is an object that maps each word to a unique id.\n",
    "\n",
    "The dictionary object is typically used to create a ‘bag of words’ Corpus. It is this Dictionary and the bag-of-words (Corpus) that are used as inputs to topic modeling and other models that Gensim specializes in."
   ]
  },
  {
   "cell_type": "markdown",
   "metadata": {},
   "source": [
    "*gensim.utils.simple_preprocess* Convert a document into a list of lowercase tokens, ignoring tokens that are too short or too long."
   ]
  },
  {
   "cell_type": "code",
   "execution_count": 2,
   "metadata": {},
   "outputs": [
    {
     "name": "stdout",
     "output_type": "stream",
     "text": [
      "Dictionary(23 unique tokens: ['If', 'a', 'car', 'cutting', 'first']...)\n",
      "{'If': 0, 'a': 1, 'car': 2, 'cutting': 3, 'first': 4, 'frequently,': 5, 'step': 6, 'the': 7, 'to': 8, 'use': 9, 'you': 10, 'be': 11, 'down': 12, 'emissions': 13, 'may': 14, 'simply': 15, 'well': 16, 'your': 17, 'consider': 18, 'fully': 19, 'alternatives': 20, 'available': 21, 'you.': 22}\n"
     ]
    }
   ],
   "source": [
    "# from a list of sentences\n",
    "\n",
    "documents = [\"If you use a car frequently, the first step to cutting\",\n",
    "             \"down your emissions may well be to simply\", \n",
    "             \"fully consider the\", \n",
    "             \"alternatives available to you.\"\n",
    "             ]\n",
    "\n",
    "# Tokenize(split) the sentences into words\n",
    "texts = [[text for text in doc.split()] for doc in documents]\n",
    "\n",
    "# Create dictionary\n",
    "dictionary = corpora.Dictionary(texts)\n",
    "\n",
    "print(dictionary)\n",
    "print(dictionary.token2id)"
   ]
  },
  {
   "cell_type": "markdown",
   "metadata": {},
   "source": [
    "With simple_preprocess"
   ]
  },
  {
   "cell_type": "code",
   "execution_count": 4,
   "metadata": {},
   "outputs": [
    {
     "name": "stdout",
     "output_type": "stream",
     "text": [
      "Dictionary(21 unique tokens: ['car', 'cutting', 'first', 'frequently', 'if']...)\n",
      "{'car': 0, 'cutting': 1, 'first': 2, 'frequently': 3, 'if': 4, 'step': 5, 'the': 6, 'to': 7, 'use': 8, 'you': 9, 'be': 10, 'down': 11, 'emissions': 12, 'may': 13, 'simply': 14, 'well': 15, 'your': 16, 'consider': 17, 'fully': 18, 'alternatives': 19, 'available': 20}\n"
     ]
    }
   ],
   "source": [
    "dictionary = corpora.Dictionary(simple_preprocess(line, deacc=True) for line in documents)\n",
    "print(dictionary)\n",
    "print(dictionary.token2id)"
   ]
  },
  {
   "cell_type": "code",
   "execution_count": 6,
   "metadata": {},
   "outputs": [],
   "source": [
    "#from document\n",
    "dictionary = corpora.Dictionary(simple_preprocess(line, deacc=True) for line in open('sample.txt', encoding='utf-8'))"
   ]
  },
  {
   "cell_type": "markdown",
   "metadata": {},
   "source": [
    "**Corpus** object that contains the word id and its frequency in each document.\n",
    "\n",
    "The dictionary object is typically used to create a ‘bag of words’ Corpus. It is this Dictionary and the bag-of-words (Corpus) that are used as inputs to topic modeling and other models that Gensim specializes in."
   ]
  },
  {
   "cell_type": "markdown",
   "metadata": {},
   "source": [
    "- Bag of words"
   ]
  },
  {
   "cell_type": "code",
   "execution_count": 7,
   "metadata": {},
   "outputs": [
    {
     "name": "stdout",
     "output_type": "stream",
     "text": [
      "[[(0, 1), (1, 1), (2, 1), (3, 1), (4, 1)], [(4, 4)]]\n",
      "Dictionary:  {'dogs': 0, 'let': 1, 'out': 2, 'the': 3, 'who': 4}\n"
     ]
    }
   ],
   "source": [
    "my_docs = [\"Who let the dogs out?\",\n",
    "           \"Who? Who? Who? Who?\"]\n",
    "\n",
    "# Tokenize the docs\n",
    "tokenized_list = [simple_preprocess(doc) for doc in my_docs]\n",
    "\n",
    "# Create the Corpus\n",
    "dictionary = corpora.Dictionary()\n",
    "\n",
    "#allow_update=True - add new words to dictionary\n",
    "bow_corpus = [dictionary.doc2bow(doc, allow_update=True) for doc in tokenized_list]\n",
    "print(bow_corpus)\n",
    "\n",
    "print(\"Dictionary: \", dictionary.token2id)"
   ]
  },
  {
   "cell_type": "markdown",
   "metadata": {},
   "source": [
    "The (0, 1) in line 1 means, the word with id=0 appears once in the 1st document.\n",
    "Likewise, the (4, 4) in the second list item means the word with id 4 appears 4 times in the second document. And so on."
   ]
  },
  {
   "cell_type": "markdown",
   "metadata": {},
   "source": [
    "- TfIdf"
   ]
  },
  {
   "cell_type": "code",
   "execution_count": 9,
   "metadata": {},
   "outputs": [
    {
     "name": "stdout",
     "output_type": "stream",
     "text": [
      "[['first', 1], ['is', 1], ['line', 1], ['the', 1], ['this', 1]]\n",
      "[['is', 1], ['the', 1], ['this', 1], ['second', 1], ['sentence', 1]]\n",
      "[['this', 1], ['document', 1], ['third', 1]]\n",
      "\n",
      "[['first', 0.66], ['is', 0.24], ['line', 0.66], ['the', 0.24]]\n",
      "[['is', 0.24], ['the', 0.24], ['second', 0.66], ['sentence', 0.66]]\n",
      "[['document', 0.71], ['third', 0.71]]\n"
     ]
    }
   ],
   "source": [
    "from gensim import models\n",
    "import numpy as np\n",
    "\n",
    "documents = [\"This is the first line\",\n",
    "             \"This is the second sentence\",\n",
    "             \"This third document\"]\n",
    "\n",
    "# Create the Dictionary and Corpus\n",
    "mydict = corpora.Dictionary([simple_preprocess(line) for line in documents])\n",
    "corpus = [mydict.doc2bow(simple_preprocess(line)) for line in documents]\n",
    "\n",
    "# Show the Word Weights in Corpus\n",
    "for doc in corpus:\n",
    "    print([[mydict[id], freq] for id, freq in doc])\n",
    "print()\n",
    "\n",
    "# Create the TF-IDF model\n",
    "tfidf = models.TfidfModel(corpus, smartirs='ntc')\n",
    "\n",
    "# Show the TF-IDF weights\n",
    "for doc in tfidf[corpus]:\n",
    "    print([[mydict[id], np.around(freq, decimals=2)] for id, freq in doc])"
   ]
  },
  {
   "cell_type": "markdown",
   "metadata": {},
   "source": [
    "Save and load"
   ]
  },
  {
   "cell_type": "code",
   "execution_count": 10,
   "metadata": {},
   "outputs": [],
   "source": [
    "# Save the Dict and Corpus\n",
    "dictionary.save('mydict.dict')  # save dict to disk\n",
    "corpora.MmCorpus.serialize('bow_corpus.mm', bow_corpus)  # save corpus to disk"
   ]
  },
  {
   "cell_type": "code",
   "execution_count": 11,
   "metadata": {},
   "outputs": [
    {
     "name": "stdout",
     "output_type": "stream",
     "text": [
      "[(0, 1.0), (1, 1.0), (2, 1.0), (3, 1.0), (4, 1.0)]\n",
      "[(4, 4.0)]\n"
     ]
    }
   ],
   "source": [
    "# Load them back\n",
    "loaded_dict = corpora.Dictionary.load('mydict.dict')\n",
    "\n",
    "corpus = corpora.MmCorpus('bow_corpus.mm')\n",
    "for line in corpus:\n",
    "    print(line)"
   ]
  },
  {
   "cell_type": "markdown",
   "metadata": {},
   "source": [
    "## Datasets"
   ]
  },
  {
   "cell_type": "markdown",
   "metadata": {},
   "source": [
    "Gensim provides an inbuilt API to download popular text datasets and word embedding models.\n",
    "\n",
    "A comprehensive list of available datasets and models is maintained [here](https://raw.githubusercontent.com/RaRe-Technologies/gensim-data/master/list.json).\n",
    "\n",
    "Using the API to download the dataset is as simple as calling the ```api.load()``` method with the right data or model name."
   ]
  },
  {
   "cell_type": "code",
   "execution_count": null,
   "metadata": {},
   "outputs": [],
   "source": [
    "import gensim.downloader as api"
   ]
  },
  {
   "cell_type": "markdown",
   "metadata": {},
   "source": [
    "Short description"
   ]
  },
  {
   "cell_type": "code",
   "execution_count": 12,
   "metadata": {},
   "outputs": [
    {
     "data": {
      "text/plain": [
       "{'num_records': 400000,\n",
       " 'file_size': 69182535,\n",
       " 'base_dataset': 'Wikipedia 2014 + Gigaword 5 (6B tokens, uncased)',\n",
       " 'reader_code': 'https://github.com/RaRe-Technologies/gensim-data/releases/download/glove-wiki-gigaword-50/__init__.py',\n",
       " 'license': 'http://opendatacommons.org/licenses/pddl/',\n",
       " 'parameters': {'dimension': 50},\n",
       " 'description': 'Pre-trained vectors based on Wikipedia 2014 + Gigaword, 5.6B tokens, 400K vocab, uncased (https://nlp.stanford.edu/projects/glove/).',\n",
       " 'preprocessing': 'Converted to w2v format with `python -m gensim.scripts.glove2word2vec -i <fname> -o glove-wiki-gigaword-50.txt`.',\n",
       " 'read_more': ['https://nlp.stanford.edu/projects/glove/',\n",
       "  'https://nlp.stanford.edu/pubs/glove.pdf'],\n",
       " 'checksum': 'c289bc5d7f2f02c6dc9f2f9b67641813',\n",
       " 'file_name': 'glove-wiki-gigaword-50.gz',\n",
       " 'parts': 1}"
      ]
     },
     "execution_count": 12,
     "metadata": {},
     "output_type": "execute_result"
    }
   ],
   "source": [
    "api.info('text8')\n",
    "api.info('glove-wiki-gigaword-50')"
   ]
  },
  {
   "cell_type": "markdown",
   "metadata": {},
   "source": [
    "Dataset"
   ]
  },
  {
   "cell_type": "code",
   "execution_count": 14,
   "metadata": {},
   "outputs": [
    {
     "name": "stdout",
     "output_type": "stream",
     "text": [
      "['anarchism', 'originated', 'as', 'a', 'term', 'of', 'abuse', 'first', 'used', 'against', 'early', 'working', 'class', 'radicals', 'including', 'the', 'diggers', 'of', 'the', 'english', 'revolution', 'and', 'the', 'sans', 'culottes', 'of', 'the', 'french', 'revolution', 'whilst', 'the', 'term', 'is', 'still', 'used', 'in', 'a', 'pejorative', 'way', 'to', 'describe', 'any', 'act', 'that', 'used', 'violent', 'means', 'to', 'destroy', 'the', 'organization', 'of', 'society', 'it', 'has', 'also', 'been', 'taken', 'up', 'as', 'a', 'positive', 'label', 'by', 'self', 'defined', 'anarchists', 'the', 'word', 'anarchism', 'is', 'derived', 'from', 'the', 'greek', 'without', 'archons', 'ruler', 'chief', 'king', 'anarchism', 'as', 'a', 'political', 'philosophy', 'is', 'the', 'belief', 'that', 'rulers', 'are', 'unnecessary', 'and', 'should', 'be', 'abolished', 'although', 'there', 'are', 'differing', 'interpretations', 'of', 'what', 'this', 'means', 'anarchism', 'also', 'refers', 'to', 'related', 'social', 'movements', 'that', 'advocate', 'the', 'elimination', 'of', 'authoritarian', 'institutions', 'particularly', 'the', 'state', 'the', 'word', 'anarchy', 'as', 'most', 'anarchists', 'use', 'it', 'does', 'not', 'imply', 'chaos', 'nihilism', 'or', 'anomie', 'but', 'rather', 'a', 'harmonious', 'anti', 'authoritarian', 'society', 'in', 'place', 'of', 'what', 'are', 'regarded', 'as', 'authoritarian', 'political', 'structures', 'and', 'coercive', 'economic', 'institutions', 'anarchists', 'advocate', 'social', 'relations', 'based', 'upon', 'voluntary', 'association', 'of', 'autonomous', 'individuals', 'mutual', 'aid', 'and', 'self', 'governance', 'while', 'anarchism', 'is', 'most', 'easily', 'defined', 'by', 'what', 'it', 'is', 'against', 'anarchists', 'also', 'offer', 'positive', 'visions', 'of', 'what', 'they', 'believe', 'to', 'be', 'a', 'truly', 'free', 'society', 'however', 'ideas', 'about', 'how', 'an', 'anarchist', 'society', 'might', 'work', 'vary', 'considerably', 'especially', 'with', 'respect', 'to', 'economics', 'there', 'is', 'also', 'disagreement', 'about', 'how', 'a', 'free', 'society', 'might', 'be', 'brought', 'about', 'origins', 'and', 'predecessors', 'kropotkin', 'and', 'others', 'argue', 'that', 'before', 'recorded', 'history', 'human', 'society', 'was', 'organized', 'on', 'anarchist', 'principles', 'most', 'anthropologists', 'follow', 'kropotkin', 'and', 'engels', 'in', 'believing', 'that', 'hunter', 'gatherer', 'bands', 'were', 'egalitarian', 'and', 'lacked', 'division', 'of', 'labour', 'accumulated', 'wealth', 'or', 'decreed', 'law', 'and', 'had', 'equal', 'access', 'to', 'resources', 'william', 'godwin', 'anarchists', 'including', 'the', 'the', 'anarchy', 'organisation', 'and', 'rothbard', 'find', 'anarchist', 'attitudes', 'in', 'taoism', 'from', 'ancient', 'china', 'kropotkin', 'found', 'similar', 'ideas', 'in', 'stoic', 'zeno', 'of', 'citium', 'according', 'to', 'kropotkin', 'zeno', 'repudiated', 'the', 'omnipotence', 'of', 'the', 'state', 'its', 'intervention', 'and', 'regimentation', 'and', 'proclaimed', 'the', 'sovereignty', 'of', 'the', 'moral', 'law', 'of', 'the', 'individual', 'the', 'anabaptists', 'of', 'one', 'six', 'th', 'century', 'europe', 'are', 'sometimes', 'considered', 'to', 'be', 'religious', 'forerunners', 'of', 'modern', 'anarchism', 'bertrand', 'russell', 'in', 'his', 'history', 'of', 'western', 'philosophy', 'writes', 'that', 'the', 'anabaptists', 'repudiated', 'all', 'law', 'since', 'they', 'held', 'that', 'the', 'good', 'man', 'will', 'be', 'guided', 'at', 'every', 'moment', 'by', 'the', 'holy', 'spirit', 'from', 'this', 'premise', 'they', 'arrive', 'at', 'communism', 'the', 'diggers', 'or', 'true', 'levellers', 'were', 'an', 'early', 'communistic', 'movement', 'during', 'the', 'time', 'of', 'the', 'english', 'civil', 'war', 'and', 'are', 'considered', 'by', 'some', 'as', 'forerunners', 'of', 'modern', 'anarchism', 'in', 'the', 'modern', 'era', 'the', 'first', 'to', 'use', 'the', 'term', 'to', 'mean', 'something', 'other', 'than', 'chaos', 'was', 'louis', 'armand', 'baron', 'de', 'lahontan', 'in', 'his', 'nouveaux', 'voyages', 'dans', 'l', 'am', 'rique', 'septentrionale', 'one', 'seven', 'zero', 'three', 'where', 'he', 'described', 'the', 'indigenous', 'american', 'society', 'which', 'had', 'no', 'state', 'laws', 'prisons', 'priests', 'or', 'private', 'property', 'as', 'being', 'in', 'anarchy', 'russell', 'means', 'a', 'libertarian', 'and', 'leader', 'in', 'the', 'american', 'indian', 'movement', 'has', 'repeatedly', 'stated', 'that', 'he', 'is', 'an', 'anarchist', 'and', 'so', 'are', 'all', 'his', 'ancestors', 'in', 'one', 'seven', 'nine', 'three', 'in', 'the', 'thick', 'of', 'the', 'french', 'revolution', 'william', 'godwin', 'published', 'an', 'enquiry', 'concerning', 'political', 'justice', 'although', 'godwin', 'did', 'not', 'use', 'the', 'word', 'anarchism', 'many', 'later', 'anarchists', 'have', 'regarded', 'this', 'book', 'as', 'the', 'first', 'major', 'anarchist', 'text', 'and', 'godwin', 'as', 'the', 'founder', 'of', 'philosophical', 'anarchism', 'but', 'at', 'this', 'point', 'no', 'anarchist', 'movement', 'yet', 'existed', 'and', 'the', 'term', 'anarchiste', 'was', 'known', 'mainly', 'as', 'an', 'insult', 'hurled', 'by', 'the', 'bourgeois', 'girondins', 'at', 'more', 'radical', 'elements', 'in', 'the', 'french', 'revolution', 'the', 'first', 'self', 'labelled', 'anarchist', 'pierre', 'joseph', 'proudhon', 'it', 'is', 'commonly', 'held', 'that', 'it', 'wasn', 't', 'until', 'pierre', 'joseph', 'proudhon', 'published', 'what', 'is', 'property', 'in', 'one', 'eight', 'four', 'zero', 'that', 'the', 'term', 'anarchist', 'was', 'adopted', 'as', 'a', 'self', 'description', 'it', 'is', 'for', 'this', 'reason', 'that', 'some', 'claim', 'proudhon', 'as', 'the', 'founder', 'of', 'modern', 'anarchist', 'theory', 'in', 'what', 'is', 'property', 'proudhon', 'answers', 'with', 'the', 'famous', 'accusation', 'property', 'is', 'theft', 'in', 'this', 'work', 'he', 'opposed', 'the', 'institution', 'of', 'decreed', 'property', 'propri', 't', 'where', 'owners', 'have', 'complete', 'rights', 'to', 'use', 'and', 'abuse', 'their', 'property', 'as', 'they', 'wish', 'such', 'as', 'exploiting', 'workers', 'for', 'profit', 'in', 'its', 'place', 'proudhon', 'supported', 'what', 'he', 'called', 'possession', 'individuals', 'can', 'have', 'limited', 'rights', 'to', 'use', 'resources', 'capital', 'and', 'goods', 'in', 'accordance', 'with', 'principles', 'of', 'equality', 'and', 'justice', 'proudhon', 's', 'vision', 'of', 'anarchy', 'which', 'he', 'called', 'mutualism', 'mutuellisme', 'involved', 'an', 'exchange', 'economy', 'where', 'individuals', 'and', 'groups', 'could', 'trade', 'the', 'products', 'of', 'their', 'labor', 'using', 'labor', 'notes', 'which', 'represented', 'the', 'amount', 'of', 'working', 'time', 'involved', 'in', 'production', 'this', 'would', 'ensure', 'that', 'no', 'one', 'would', 'profit', 'from', 'the', 'labor', 'of', 'others', 'workers', 'could', 'freely', 'join', 'together', 'in', 'co', 'operative', 'workshops', 'an', 'interest', 'free', 'bank', 'would', 'be', 'set', 'up', 'to', 'provide', 'everyone', 'with', 'access', 'to', 'the', 'means', 'of', 'production', 'proudhon', 's', 'ideas', 'were', 'influential', 'within', 'french', 'working', 'class', 'movements', 'and', 'his', 'followers', 'were', 'active', 'in', 'the', 'revolution', 'of', 'one', 'eight', 'four', 'eight', 'in', 'france', 'proudhon', 's', 'philosophy', 'of', 'property', 'is', 'complex', 'it', 'was', 'developed', 'in', 'a', 'number', 'of', 'works', 'over', 'his', 'lifetime', 'and', 'there', 'are', 'differing', 'interpretations', 'of', 'some', 'of', 'his', 'ideas', 'for', 'more', 'detailed', 'discussion', 'see', 'here', 'max', 'stirner', 's', 'egoism', 'in', 'his', 'the', 'ego', 'and', 'its', 'own', 'stirner', 'argued', 'that', 'most', 'commonly', 'accepted', 'social', 'institutions', 'including', 'the', 'notion', 'of', 'state', 'property', 'as', 'a', 'right', 'natural', 'rights', 'in', 'general', 'and', 'the', 'very', 'notion', 'of', 'society', 'were', 'mere', 'illusions', 'or', 'ghosts', 'in', 'the', 'mind', 'saying', 'of', 'society', 'that', 'the', 'individuals', 'are', 'its', 'reality', 'he', 'advocated', 'egoism', 'and', 'a', 'form', 'of', 'amoralism', 'in', 'which', 'individuals', 'would', 'unite', 'in', 'associations', 'of', 'egoists', 'only', 'when', 'it', 'was', 'in', 'their', 'self', 'interest', 'to', 'do', 'so', 'for', 'him', 'property', 'simply', 'comes', 'about', 'through', 'might', 'whoever', 'knows', 'how', 'to', 'take', 'to', 'defend', 'the', 'thing', 'to', 'him', 'belongs', 'property', 'and', 'what', 'i', 'have', 'in', 'my', 'power', 'that', 'is', 'my', 'own', 'so', 'long', 'as', 'i', 'assert', 'myself', 'as', 'holder', 'i', 'am', 'the', 'proprietor', 'of', 'the', 'thing', 'stirner', 'never', 'called', 'himself', 'an', 'anarchist', 'he', 'accepted', 'only', 'the', 'label', 'egoist', 'nevertheless', 'his', 'ideas', 'were', 'influential', 'on', 'many', 'individualistically', 'inclined', 'anarchists', 'although', 'interpretations', 'of', 'his', 'thought', 'are', 'diverse', 'american', 'individualist', 'anarchism', 'benjamin', 'tucker', 'in', 'one', 'eight', 'two', 'five', 'josiah', 'warren', 'had', 'participated', 'in', 'a', 'communitarian', 'experiment', 'headed', 'by', 'robert', 'owen', 'called', 'new', 'harmony', 'which', 'failed', 'in', 'a', 'few', 'years', 'amidst', 'much', 'internal', 'conflict', 'warren', 'blamed', 'the', 'community', 's', 'failure', 'on', 'a', 'lack', 'of', 'individual', 'sovereignty', 'and', 'a', 'lack', 'of', 'private', 'property', 'warren', 'proceeded', 'to', 'organise', 'experimenal', 'anarchist', 'communities', 'which', 'respected', 'what', 'he', 'called', 'the', 'sovereignty', 'of', 'the', 'individual', 'at', 'utopia', 'and', 'modern', 'times', 'in', 'one', 'eight', 'three', 'three', 'warren', 'wrote', 'and', 'published', 'the', 'peaceful', 'revolutionist', 'which', 'some', 'have', 'noted', 'to', 'be', 'the', 'first', 'anarchist', 'periodical', 'ever', 'published', 'benjamin', 'tucker', 'says', 'that', 'warren', 'was', 'the', 'first', 'man', 'to', 'expound', 'and', 'formulate', 'the', 'doctrine', 'now', 'known', 'as', 'anarchism', 'liberty', 'xiv', 'december', 'one', 'nine', 'zero', 'zero', 'one', 'benjamin', 'tucker', 'became', 'interested', 'in', 'anarchism', 'through', 'meeting', 'josiah', 'warren', 'and', 'william', 'b', 'greene', 'he', 'edited', 'and', 'published', 'liberty', 'from', 'august', 'one', 'eight', 'eight', 'one', 'to', 'april', 'one', 'nine', 'zero', 'eight', 'it', 'is', 'widely', 'considered', 'to', 'be', 'the', 'finest', 'individualist', 'anarchist', 'periodical', 'ever', 'issued', 'in', 'the', 'english', 'language', 'tucker', 's', 'conception', 'of', 'individualist', 'anarchism', 'incorporated', 'the', 'ideas', 'of', 'a', 'variety', 'of', 'theorists', 'greene', 's', 'ideas', 'on', 'mutual', 'banking', 'warren', 's', 'ideas', 'on', 'cost', 'as', 'the', 'limit', 'of', 'price', 'a', 'heterodox', 'variety', 'of', 'labour', 'theory', 'of', 'value', 'proudhon', 's', 'market', 'anarchism', 'max', 'stirner', 's', 'egoism', 'and', 'herbert', 'spencer', 's', 'law', 'of', 'equal', 'freedom', 'tucker', 'strongly', 'supported', 'the', 'individual', 's', 'right', 'to', 'own', 'the', 'product', 'of', 'his', 'or', 'her', 'labour', 'as', 'private', 'property', 'and', 'believed', 'in', 'a', 'market', 'economy', 'for', 'trading', 'this', 'property', 'he', 'argued', 'that', 'in', 'a', 'truly', 'free', 'market', 'system', 'without', 'the', 'state', 'the', 'abundance', 'of', 'competition', 'would', 'eliminate', 'profits', 'and', 'ensure', 'that', 'all', 'workers', 'received', 'the', 'full', 'value', 'of', 'their', 'labor', 'other', 'one', 'nine', 'th', 'century', 'individualists', 'included', 'lysander', 'spooner', 'stephen', 'pearl', 'andrews', 'and', 'victor', 'yarros', 'the', 'first', 'international', 'mikhail', 'bakunin', 'one', 'eight', 'one', 'four', 'one', 'eight', 'seven', 'six', 'in', 'europe', 'harsh', 'reaction', 'followed', 'the', 'revolutions', 'of', 'one', 'eight', 'four', 'eight', 'twenty', 'years', 'later', 'in', 'one', 'eight', 'six', 'four', 'the', 'international', 'workingmen', 's', 'association', 'sometimes', 'called', 'the', 'first', 'international', 'united', 'some', 'diverse', 'european', 'revolutionary', 'currents', 'including', 'anarchism', 'due', 'to', 'its', 'genuine', 'links', 'to', 'active', 'workers', 'movements', 'the', 'international', 'became', 'signficiant', 'from', 'the', 'start', 'karl', 'marx', 'was', 'a', 'leading', 'figure', 'in', 'the', 'international', 'he', 'was', 'elected', 'to', 'every', 'succeeding', 'general', 'council', 'of', 'the', 'association', 'the', 'first', 'objections', 'to', 'marx', 'came', 'from', 'the', 'mutualists', 'who', 'opposed', 'communism', 'and', 'statism', 'shortly', 'after', 'mikhail', 'bakunin', 'and', 'his', 'followers', 'joined', 'in', 'one', 'eight', 'six', 'eight', 'the', 'first', 'international', 'became', 'polarised', 'into', 'two', 'camps', 'with', 'marx', 'and', 'bakunin', 'as', 'their', 'respective', 'figureheads', 'the', 'clearest', 'difference', 'between', 'the', 'camps', 'was', 'over', 'strategy', 'the', 'anarchists', 'around', 'bakunin', 'favoured', 'in', 'kropotkin', 's', 'words', 'direct', 'economical', 'struggle', 'against', 'capitalism', 'without', 'interfering', 'in', 'the', 'political', 'parliamentary', 'agitation', 'at', 'that', 'time', 'marx', 'and', 'his', 'followers', 'focused', 'on', 'parliamentary', 'activity', 'bakunin', 'characterised', 'marx', 's', 'ideas', 'as', 'authoritarian', 'and', 'predicted', 'that', 'if', 'a', 'marxist', 'party', 'gained', 'to', 'power', 'its', 'leaders', 'would', 'end', 'up', 'as', 'bad', 'as', 'the', 'ruling', 'class', 'they', 'had', 'fought', 'against', 'in', 'one', 'eight', 'seven', 'two', 'the', 'conflict', 'climaxed', 'with', 'a', 'final', 'split', 'between', 'the', 'two', 'groups', 'at', 'the', 'hague', 'congress', 'this', 'is', 'often', 'cited', 'as', 'the', 'origin', 'of', 'the', 'conflict', 'between', 'anarchists', 'and', 'marxists', 'from', 'this', 'moment', 'the', 'social', 'democratic', 'and', 'libertarian', 'currents', 'of', 'socialism', 'had', 'distinct', 'organisations', 'including', 'rival', 'internationals', 'anarchist', 'communism', 'peter', 'kropotkin', 'proudhon', 'and', 'bakunin', 'both', 'opposed', 'communism', 'associating', 'it', 'with', 'statism', 'however', 'in', 'the', 'one', 'eight', 'seven', 'zero', 's', 'many', 'anarchists', 'moved', 'away', 'from', 'bakunin', 's', 'economic', 'thinking', 'called', 'collectivism', 'and', 'embraced', 'communist', 'concepts', 'communists', 'believed', 'the', 'means', 'of', 'production', 'should', 'be', 'owned', 'collectively', 'and', 'that', 'goods', 'be', 'distributed', 'by', 'need', 'not', 'labor', 'an', 'early', 'anarchist', 'communist', 'was', 'joseph', 'd', 'jacque', 'the', 'first', 'person', 'to', 'describe', 'himself', 'as', 'libertarian', 'unlike', 'proudhon', 'he', 'argued', 'that', 'it', 'is', 'not', 'the', 'product', 'of', 'his', 'or', 'her', 'labor', 'that', 'the', 'worker', 'has', 'a', 'right', 'to', 'but', 'to', 'the', 'satisfaction', 'of', 'his', 'or', 'her', 'needs', 'whatever', 'may', 'be', 'their', 'nature', 'he', 'announced', 'his', 'ideas', 'in', 'his', 'us', 'published', 'journal', 'le', 'libertaire', 'one', 'eight', 'five', 'eight', 'one', 'eight', 'six', 'one', 'peter', 'kropotkin', 'often', 'seen', 'as', 'the', 'most', 'important', 'theorist', 'outlined', 'his', 'economic', 'ideas', 'in', 'the', 'conquest', 'of', 'bread', 'and', 'fields', 'factories', 'and', 'workshops', 'he', 'felt', 'co', 'operation', 'is', 'more', 'beneficial', 'than', 'competition', 'illustrated', 'in', 'nature', 'in', 'mutual', 'aid', 'a', 'factor', 'of', 'evolution', 'one', 'eight', 'nine', 'seven', 'subsequent', 'anarchist', 'communists', 'include', 'emma', 'goldman', 'and', 'alexander', 'berkman', 'many', 'in', 'the', 'anarcho', 'syndicalist', 'movements', 'see', 'below', 'saw', 'anarchist', 'communism', 'as', 'their', 'objective', 'isaac', 'puente', 's', 'one', 'nine', 'three', 'two', 'comunismo', 'libertario', 'was', 'adopted', 'by', 'the', 'spanish', 'cnt', 'as', 'its', 'manifesto', 'for', 'a', 'post', 'revolutionary', 'society', 'some', 'anarchists', 'disliked', 'merging', 'communism', 'with', 'anarchism', 'several', 'individualist', 'anarchists', 'maintained', 'that', 'abolition', 'of', 'private', 'property', 'was', 'not', 'consistent', 'with', 'liberty', 'for', 'example', 'benjamin', 'tucker', 'whilst', 'professing', 'respect', 'for', 'kropotkin', 'and', 'publishing', 'his', 'work', 'described', 'communist', 'anarchism', 'as', 'pseudo', 'anarchism', 'propaganda', 'of', 'the', 'deed', 'johann', 'most', 'was', 'an', 'outspoken', 'advocate', 'of', 'violence', 'anarchists', 'have', 'often', 'been', 'portrayed', 'as', 'dangerous', 'and', 'violent', 'due', 'mainly', 'to', 'a', 'number', 'of', 'high', 'profile', 'violent', 'acts', 'including', 'riots', 'assassinations', 'insurrections', 'and', 'terrorism', 'by', 'some', 'anarchists', 'some', 'revolutionaries', 'of', 'the', 'late', 'one', 'nine', 'th', 'century', 'encouraged', 'acts', 'of', 'political', 'violence', 'such', 'as', 'bombings', 'and', 'the', 'assassinations', 'of', 'heads', 'of', 'state', 'to', 'further', 'anarchism', 'such', 'actions', 'have', 'sometimes', 'been', 'called', 'propaganda', 'by', 'the', 'deed', 'one', 'of', 'the', 'more', 'outspoken', 'advocates', 'of', 'this', 'strategy', 'was', 'johann', 'most', 'who', 'said', 'the', 'existing', 'system', 'will', 'be', 'quickest', 'and', 'most', 'radically', 'overthrown', 'by', 'the', 'annihilation', 'of', 'its', 'exponents', 'therefore', 'massacres', 'of', 'the', 'enemies', 'of', 'the', 'people', 'must', 'be', 'set', 'in', 'motion', 'most', 's', 'preferred', 'method', 'of', 'terrorism', 'dynamite', 'earned', 'him', 'the', 'moniker', 'dynamost', 'however', 'there', 'is', 'no', 'consensus', 'on', 'the', 'legitimacy', 'or', 'utility', 'of', 'violence', 'in', 'general', 'mikhail', 'bakunin', 'and', 'errico', 'malatesta', 'for', 'example', 'wrote', 'of', 'violence', 'as', 'a', 'necessary', 'and', 'sometimes', 'desirable', 'force', 'in', 'revolutionary', 'settings', 'but', 'at', 'the', 'same', 'time', 'they', 'denounced', 'acts', 'of', 'individual', 'terrorism', 'malatesta', 'in', 'on', 'violence', 'and', 'bakunin', 'when', 'he', 'refuted', 'nechaev', 'other', 'anarchists', 'sometimes', 'identified', 'as', 'pacifist', 'anarchists', 'advocated', 'complete', 'nonviolence', 'leo', 'tolstoy', 'whose', 'philosophy', 'is', 'often', 'viewed', 'as', 'a', 'form', 'of', 'christian', 'anarchism', 'see', 'below', 'was', 'a', 'notable', 'exponent', 'of', 'nonviolent', 'resistance', 'anarchism', 'in', 'the', 'labour', 'movement', 'the', 'red', 'and', 'black', 'flag', 'coming', 'from', 'the', 'experience', 'of', 'anarchists', 'in', 'the', 'labour', 'movement', 'is', 'particularly', 'associated', 'with', 'anarcho', 'syndicalism', 'anarcho', 'syndicalism', 'was', 'an', 'early', 'two', 'zero', 'th', 'century', 'working', 'class', 'movement', 'seeking', 'to', 'overthrow', 'capitalism', 'and', 'the', 'state', 'to', 'institute', 'a', 'worker', 'controlled', 'society', 'the', 'movement', 'pursued', 'industrial', 'actions', 'such', 'as', 'general', 'strike', 'as', 'a', 'primary', 'strategy', 'many', 'anarcho', 'syndicalists', 'believed', 'in', 'anarchist', 'communism', 'though', 'not', 'all', 'communists', 'believed', 'in', 'syndicalism', 'after', 'the', 'one', 'eight', 'seven', 'one', 'repression', 'french', 'anarchism', 'reemerged', 'influencing', 'the', 'bourses', 'de', 'travails', 'of', 'autonomous', 'workers', 'groups', 'and', 'trade', 'unions', 'from', 'this', 'movement', 'the', 'conf', 'd', 'ration', 'g', 'n', 'rale', 'du', 'travail', 'general', 'confederation', 'of', 'work', 'cgt', 'was', 'formed', 'in', 'one', 'eight', 'nine', 'five', 'as', 'the', 'first', 'major', 'anarcho', 'syndicalist', 'movement', 'emile', 'pataud', 'and', 'emile', 'pouget', 's', 'writing', 'for', 'the', 'cgt', 'saw', 'libertarian', 'communism', 'developing', 'from', 'a', 'general', 'strike', 'after', 'one', 'nine', 'one', 'four', 'the', 'cgt', 'moved', 'away', 'from', 'anarcho', 'syndicalism', 'due', 'to', 'the', 'appeal', 'of', 'bolshevism', 'french', 'style', 'syndicalism', 'was', 'a', 'significant', 'movement', 'in', 'europe', 'prior', 'to', 'one', 'nine', 'two', 'one', 'and', 'remained', 'a', 'significant', 'movement', 'in', 'spain', 'until', 'the', 'mid', 'one', 'nine', 'four', 'zero', 's', 'the', 'industrial', 'workers', 'of', 'the', 'world', 'iww', 'founded', 'in', 'one', 'nine', 'zero', 'five', 'in', 'the', 'us', 'espoused', 'unionism', 'and', 'sought', 'a', 'general', 'strike', 'to', 'usher', 'in', 'a', 'stateless', 'society', 'in', 'one', 'nine', 'two', 'three', 'one', 'zero', 'zero', 'zero', 'zero', 'zero', 'members', 'existed', 'with', 'the', 'support', 'of', 'up', 'to', 'three', 'zero', 'zero', 'zero', 'zero', 'zero', 'though', 'not', 'explicitly', 'anarchist', 'they', 'organized', 'by', 'rank', 'and', 'file', 'democracy', 'embodying', 'a', 'spirit', 'of', 'resistance', 'that', 'has', 'inspired', 'many', 'anglophone', 'syndicalists', 'cnt', 'propaganda', 'from', 'april', 'two', 'zero', 'zero', 'four', 'reads', 'don', 't', 'let', 'the', 'politicians', 'rule', 'our', 'lives', 'you', 'vote', 'and', 'they', 'decide', 'don', 't', 'allow', 'it', 'unity', 'action', 'self', 'management', 'spanish', 'anarchist', 'trade', 'union', 'federations', 'were', 'formed', 'in', 'the', 'one', 'eight', 'seven', 'zero', 's', 'one', 'nine', 'zero', 'zero', 'and', 'one', 'nine', 'one', 'zero', 'the', 'most', 'successful', 'was', 'the', 'confederaci', 'n', 'nacional', 'del', 'trabajo', 'national', 'confederation', 'of', 'labour', 'cnt', 'founded', 'in', 'one', 'nine', 'one', 'zero', 'prior', 'to', 'the', 'one', 'nine', 'four', 'zero', 's', 'the', 'cnt', 'was', 'the', 'major', 'force', 'in', 'spanish', 'working', 'class', 'politics', 'with', 'a', 'membership', 'of', 'one', 'five', 'eight', 'million', 'in', 'one', 'nine', 'three', 'four', 'the', 'cnt', 'played', 'a', 'major', 'role', 'in', 'the', 'spanish', 'civil', 'war', 'see', 'also', 'anarchism', 'in', 'spain', 'syndicalists', 'like', 'ricardo', 'flores', 'mag', 'n', 'were', 'key', 'figures', 'in', 'the', 'mexican', 'revolution', 'latin', 'american', 'anarchism', 'was', 'strongly', 'influenced', 'extending', 'to', 'the', 'zapatista', 'rebellion', 'and', 'the', 'factory', 'occupation', 'movements', 'in', 'argentina', 'in', 'berlin', 'in', 'one', 'nine', 'two', 'two', 'the', 'cnt', 'was', 'joined', 'with', 'the', 'international', 'workers', 'association', 'an', 'anarcho', 'syndicalist', 'successor', 'to', 'the', 'first', 'international', 'contemporary', 'anarcho', 'syndicalism', 'continues', 'as', 'a', 'minor', 'force', 'in', 'many', 'socities', 'much', 'smaller', 'than', 'in', 'the', 'one', 'nine', 'one', 'zero', 's', 'two', 'zero', 's', 'and', 'three', 'zero', 's', 'the', 'largest', 'organised', 'anarchist', 'movement', 'today', 'is', 'in', 'spain', 'in', 'the', 'form', 'of', 'the', 'confederaci', 'n', 'general', 'del', 'trabajo', 'and', 'the', 'cnt', 'the', 'cgt', 'claims', 'a', 'paid', 'up', 'membership', 'of', 'six', 'zero', 'zero', 'zero', 'zero', 'and', 'received', 'over', 'a', 'million', 'votes', 'in', 'spanish', 'syndical', 'elections', 'other', 'active', 'syndicalist', 'movements', 'include', 'the', 'us', 'workers', 'solidarity', 'alliance', 'and', 'the', 'uk', 'solidarity', 'federation', 'the', 'revolutionary', 'industrial', 'unionist', 'industrial', 'workers', 'of', 'the', 'world', 'also', 'exists', 'claiming', 'two', 'zero', 'zero', 'zero', 'paid', 'members', 'contemporary', 'critics', 'of', 'anarcho', 'syndicalism', 'and', 'revolutionary', 'industrial', 'unionism', 'claim', 'that', 'they', 'are', 'workerist', 'and', 'fail', 'to', 'deal', 'with', 'economic', 'life', 'outside', 'work', 'post', 'leftist', 'critics', 'such', 'as', 'bob', 'black', 'claim', 'anarcho', 'syndicalism', 'advocates', 'oppressive', 'social', 'structures', 'such', 'as', 'work', 'and', 'the', 'workplace', 'anarcho', 'syndicalists', 'in', 'general', 'uphold', 'principles', 'of', 'workers', 'solidarity', 'direct', 'action', 'and', 'self', 'management', 'the', 'russian', 'revolution', 'the', 'russian', 'revolution', 'of', 'one', 'nine', 'one', 'seven', 'was', 'a', 'seismic', 'event', 'in', 'the', 'development', 'of', 'anarchism', 'as', 'a', 'movement', 'and', 'as', 'a', 'philosophy', 'anarchists', 'participated', 'alongside', 'the', 'bolsheviks', 'in', 'both', 'february', 'and', 'october', 'revolutions', 'many', 'anarchists', 'initially', 'supporting', 'the', 'bolshevik', 'coup', 'however', 'the', 'bolsheviks', 'soon', 'turned', 'against', 'the', 'anarchists', 'and', 'other', 'left', 'wing', 'opposition', 'a', 'conflict', 'which', 'culminated', 'in', 'the', 'one', 'nine', 'one', 'eight', 'kronstadt', 'rebellion', 'anarchists', 'in', 'central', 'russia', 'were', 'imprisoned', 'or', 'driven', 'underground', 'or', 'joined', 'the', 'victorious', 'bolsheviks', 'in', 'ukraine', 'anarchists', 'fought', 'in', 'the', 'civil', 'war', 'against', 'both', 'whites', 'and', 'bolsheviks', 'within', 'the', 'makhnovshchina', 'peasant', 'army', 'led', 'by', 'nestor', 'makhno', 'expelled', 'american', 'anarchists', 'emma', 'goldman', 'and', 'alexander', 'berkman', 'before', 'leaving', 'russia', 'were', 'amongst', 'those', 'agitating', 'in', 'response', 'to', 'bolshevik', 'policy', 'and', 'the', 'suppression', 'of', 'the', 'kronstadt', 'uprising', 'both', 'wrote', 'classic', 'accounts', 'of', 'their', 'experiences', 'in', 'russia', 'aiming', 'to', 'expose', 'the', 'reality', 'of', 'bolshevik', 'control', 'for', 'them', 'bakunin', 's', 'predictions', 'about', 'the', 'consequences', 'of', 'marxist', 'rule', 'had', 'proved', 'all', 'too', 'true', 'the', 'victory', 'of', 'the', 'bolsheviks', 'in', 'the', 'october', 'revolution', 'and', 'the', 'resulting', 'russian', 'civil', 'war', 'did', 'serious', 'damage', 'to', 'anarchist', 'movements', 'internationally', 'many', 'workers', 'and', 'activists', 'saw', 'bolshevik', 'success', 'as', 'setting', 'an', 'example', 'communist', 'parties', 'grew', 'at', 'the', 'expense', 'of', 'anarchism', 'and', 'other', 'socialist', 'movements', 'in', 'france', 'and', 'the', 'us', 'for', 'example', 'the', 'major', 'syndicalist', 'movements', 'of', 'the', 'cgt', 'and', 'iww', 'began', 'to', 'realign', 'themselves', 'away', 'from', 'anarchism', 'and', 'towards', 'the', 'communist', 'international', 'in', 'paris', 'the', 'dielo', 'truda', 'group', 'of', 'russian', 'anarchist', 'exiles', 'which', 'included', 'nestor', 'makhno', 'concluded', 'that', 'anarchists', 'needed', 'to', 'develop', 'new', 'forms', 'of', 'organisation', 'in', 'response', 'to', 'the', 'structures', 'of', 'bolshevism', 'their', 'one', 'nine', 'two', 'six', 'manifesto', 'known', 'as', 'the', 'organisational', 'platform', 'of', 'the', 'libertarian', 'communists', 'was', 'supported', 'by', 'some', 'communist', 'anarchists', 'though', 'opposed', 'by', 'many', 'others', 'the', 'platform', 'continues', 'to', 'inspire', 'some', 'contemporary', 'anarchist', 'groups', 'who', 'believe', 'in', 'an', 'anarchist', 'movement', 'organised', 'around', 'its', 'principles', 'of', 'theoretical', 'unity', 'tactical', 'unity', 'collective', 'responsibility', 'and', 'federalism', 'platformist', 'groups', 'today', 'include', 'the', 'workers', 'solidarity', 'movement', 'in', 'ireland', 'the', 'uk', 's', 'anarchist', 'federation', 'and', 'the', 'late', 'north', 'eastern', 'federation', 'of', 'anarchist', 'communists', 'in', 'the', 'northeastern', 'united', 'states', 'and', 'bordering', 'canada', 'the', 'fight', 'against', 'fascism', 'spain', 'one', 'nine', 'three', 'six', 'members', 'of', 'the', 'cnt', 'construct', 'armoured', 'cars', 'to', 'fight', 'against', 'the', 'fascists', 'in', 'one', 'of', 'the', 'collectivised', 'factories', 'in', 'the', 'one', 'nine', 'two', 'zero', 's', 'and', 'one', 'nine', 'three', 'zero', 's', 'the', 'familiar', 'dynamics', 'of', 'anarchism', 's', 'conflict', 'with', 'the', 'state', 'were', 'transformed', 'by', 'the', 'rise', 'of', 'fascism', 'in', 'europe', 'in', 'many', 'cases', 'european', 'anarchists', 'faced', 'difficult', 'choices', 'should', 'they', 'join', 'in', 'popular', 'fronts', 'with', 'reformist', 'democrats', 'and', 'soviet', 'led', 'communists', 'against', 'a', 'common', 'fascist', 'enemy', 'luigi', 'fabbri', 'an', 'exile', 'from', 'italian', 'fascism', 'was', 'amongst', 'those', 'arguing', 'that', 'fascism', 'was', 'something', 'different', 'fascism', 'is', 'not', 'just', 'another', 'form', 'of', 'government', 'which', 'like', 'all', 'others', 'uses', 'violence', 'it', 'is', 'the', 'most', 'authoritarian', 'and', 'the', 'most', 'violent', 'form', 'of', 'government', 'imaginable', 'it', 'represents', 'the', 'utmost', 'glorification', 'of', 'the', 'theory', 'and', 'practice', 'of', 'the', 'principle', 'of', 'authority', 'in', 'france', 'where', 'the', 'fascists', 'came', 'close', 'to', 'insurrection', 'in', 'the', 'february', 'one', 'nine', 'three', 'four', 'riots', 'anarchists', 'divided', 'over', 'a', 'united', 'front', 'policy', 'in', 'spain', 'the', 'cnt', 'initially', 'refused', 'to', 'join', 'a', 'popular', 'front', 'electoral', 'alliance', 'and', 'abstention', 'by', 'cnt', 'supporters', 'led', 'to', 'a', 'right', 'wing', 'election', 'victory', 'but', 'in', 'one', 'nine', 'three', 'six', 'the', 'cnt', 'changed', 'its', 'policy', 'and', 'anarchist', 'votes', 'helped', 'bring', 'the', 'popular', 'front', 'back', 'to', 'power', 'months', 'later', 'the', 'ruling', 'class', 'responded', 'with', 'an', 'attempted', 'coup', 'and', 'the', 'spanish', 'civil', 'war', 'one', 'nine', 'three', 'six', 'three', 'nine', 'was', 'underway', 'in', 'reponse', 'to', 'the', 'army', 'rebellion', 'an', 'anarchist', 'inspired', 'movement', 'of', 'peasants', 'and', 'workers', 'supported', 'by', 'armed', 'militias', 'took', 'control', 'of', 'the', 'major', 'city', 'of', 'barcelona', 'and', 'of', 'large', 'areas', 'of', 'rural', 'spain', 'where', 'they', 'collectivized', 'the', 'land', 'but', 'even', 'before', 'the', 'eventual', 'fascist', 'victory', 'in', 'one', 'nine', 'three', 'nine', 'the', 'anarchists', 'were', 'losing', 'ground', 'in', 'a', 'bitter', 'struggle', 'with', 'the', 'stalinists', 'the', 'cnt', 'leadership', 'often', 'appeared', 'confused', 'and', 'divided', 'with', 'some', 'members', 'controversially', 'entering', 'the', 'government', 'stalinist', 'led', 'troops', 'suppressed', 'the', 'collectives', 'and', 'persecuted', 'both', 'dissident', 'marxists', 'and', 'anarchists', 'since', 'the', 'late', 'one', 'nine', 'seven', 'zero', 's', 'anarchists', 'have', 'been', 'involved', 'in', 'fighting', 'the', 'rise', 'of', 'neo', 'fascist', 'groups', 'in', 'germany', 'and', 'the', 'united', 'kingdom', 'some', 'anarchists', 'worked', 'within', 'militant', 'anti', 'fascist', 'groups', 'alongside', 'members', 'of', 'the', 'marxist', 'left', 'they', 'advocated', 'directly', 'combating', 'fascists', 'with', 'physical', 'force', 'rather', 'than', 'relying', 'on', 'the', 'state', 'since', 'the', 'late', 'one', 'nine', 'nine', 'zero', 's', 'a', 'similar', 'tendency', 'has', 'developed', 'within', 'us', 'anarchism', 'see', 'also', 'anti', 'racist', 'action', 'us', 'anti', 'fascist', 'action', 'uk', 'antifa', 'religious', 'anarchism', 'leo', 'tolstoy', 'one', 'eight', 'two', 'eight', 'one', 'nine', 'one', 'zero', 'most', 'anarchist', 'culture', 'tends', 'to', 'be', 'secular', 'if', 'not', 'outright', 'anti', 'religious', 'however', 'the', 'combination', 'of', 'religious', 'social', 'conscience', 'historical', 'religiousity', 'amongst', 'oppressed', 'social', 'classes', 'and', 'the', 'compatibility', 'of', 'some', 'interpretations', 'of', 'religious', 'traditions', 'with', 'anarchism', 'has', 'resulted', 'in', 'religious', 'anarchism', 'christian', 'anarchists', 'believe', 'that', 'there', 'is', 'no', 'higher', 'authority', 'than', 'god', 'and', 'oppose', 'earthly', 'authority', 'such', 'as', 'government', 'and', 'established', 'churches', 'they', 'believe', 'that', 'jesus', 'teachings', 'were', 'clearly', 'anarchistic', 'but', 'were', 'corrupted', 'when', 'christianity', 'was', 'declared', 'the', 'official', 'religion', 'of', 'rome', 'christian', 'anarchists', 'who', 'follow', 'jesus', 'directive', 'to', 'turn', 'the', 'other', 'cheek', 'are', 'strict', 'pacifists', 'the', 'most', 'famous', 'advocate', 'of', 'christian', 'anarchism', 'was', 'leo', 'tolstoy', 'author', 'of', 'the', 'kingdom', 'of', 'god', 'is', 'within', 'you', 'who', 'called', 'for', 'a', 'society', 'based', 'on', 'compassion', 'nonviolent', 'principles', 'and', 'freedom', 'christian', 'anarchists', 'tend', 'to', 'form', 'experimental', 'communities', 'they', 'also', 'occasionally', 'resist', 'taxation', 'many', 'christian', 'anarchists', 'are', 'vegetarian', 'or', 'vegan', 'christian', 'anarchy', 'can', 'be', 'said', 'to', 'have', 'roots', 'as', 'old', 'as', 'the', 'religion', 's', 'birth', 'as', 'the', 'early', 'church', 'exhibits', 'many', 'anarchistic', 'tendencies', 'such', 'as', 'communal', 'goods', 'and', 'wealth', 'by', 'aiming', 'to', 'obey', 'utterly', 'certain', 'of', 'the', 'bible', 's', 'teachings', 'certain', 'anabaptist', 'groups', 'of', 'sixteenth', 'century', 'europe', 'attempted', 'to', 'emulate', 'the', 'early', 'church', 's', 'social', 'economic', 'organisation', 'and', 'philosophy', 'by', 'regarding', 'it', 'as', 'the', 'only', 'social', 'structure', 'capable', 'of', 'true', 'obediance', 'to', 'jesus', 'teachings', 'and', 'utterly', 'rejected', 'in', 'theory', 'all', 'earthly', 'hierarchies', 'and', 'authority', 'and', 'indeed', 'non', 'anabaptists', 'in', 'general', 'and', 'violence', 'as', 'ungodly', 'such', 'groups', 'for', 'example', 'the', 'hutterites', 'typically', 'went', 'from', 'initially', 'anarchistic', 'beginnings', 'to', 'as', 'their', 'movements', 'stabalised', 'more', 'authoritarian', 'social', 'models', 'chinese', 'anarchism', 'was', 'most', 'influential', 'in', 'the', 'one', 'nine', 'two', 'zero', 's', 'strands', 'of', 'chinese', 'anarchism', 'included', 'tai', 'xu', 's', 'buddhist', 'anarchism', 'which', 'was', 'influenced', 'by', 'tolstoy', 'and', 'the', 'well', 'field', 'system', 'neopaganism', 'with', 'its', 'focus', 'on', 'the', 'environment', 'and', 'equality', 'along', 'with', 'its', 'often', 'decentralized', 'nature', 'has', 'lead', 'to', 'a', 'number', 'of', 'neopagan', 'anarchists', 'one', 'of', 'the', 'most', 'prominent', 'is', 'starhawk', 'who', 'writes', 'extensively', 'about', 'both', 'spirituality', 'and', 'activism', 'anarchism', 'and', 'feminism', 'emma', 'goldman', 'early', 'french', 'feminists', 'such', 'as', 'jenny', 'd', 'h', 'ricourt', 'and', 'juliette', 'adam', 'criticised', 'the', 'mysogyny', 'in', 'the', 'anarchism', 'of', 'proudhon', 'during', 'the', 'one', 'eight', 'five', 'zero', 's', 'anarcha', 'feminism', 'is', 'a', 'kind', 'of', 'radical', 'feminism', 'that', 'espouses', 'the', 'belief', 'that', 'patriarchy', 'is', 'a', 'fundamental', 'problem', 'in', 'society', 'while', 'anarchist', 'feminism', 'has', 'existed', 'for', 'more', 'than', 'a', 'hundred', 'years', 'its', 'explicit', 'formulation', 'as', 'anarcha', 'feminism', 'dates', 'back', 'to', 'the', 'early', 'seven', 'zero', 's', 'during', 'the', 'second', 'wave', 'feminist', 'movement', 'anarcha', 'feminism', 'views', 'patriarchy', 'as', 'the', 'first', 'manifestation', 'of', 'hierarchy', 'in', 'human', 'history', 'thus', 'the', 'first', 'form', 'of', 'oppression', 'occurred', 'in', 'the', 'dominance', 'of', 'male', 'over', 'female', 'anarcha', 'feminists', 'then', 'conclude', 'that', 'if', 'feminists', 'are', 'against', 'patriarchy', 'they', 'must', 'also', 'be', 'against', 'all', 'forms', 'of', 'hierarchy', 'and', 'therefore', 'must', 'reject', 'the', 'authoritarian', 'nature', 'of', 'the', 'state', 'and', 'capitalism', 'anarcho', 'primitivists', 'see', 'the', 'creation', 'of', 'gender', 'roles', 'and', 'patriarchy', 'a', 'creation', 'of', 'the', 'start', 'of', 'civilization', 'and', 'therefore', 'consider', 'primitivism', 'to', 'also', 'be', 'an', 'anarchist', 'school', 'of', 'thought', 'that', 'addresses', 'feminist', 'concerns', 'eco', 'feminism', 'is', 'often', 'considered', 'a', 'feminist', 'variant', 'of', 'green', 'anarchist', 'feminist', 'thought', 'anarcha', 'feminism', 'is', 'most', 'often', 'associated', 'with', 'early', 'two', 'zero', 'th', 'century', 'authors', 'and', 'theorists', 'such', 'as', 'emma', 'goldman', 'and', 'voltairine', 'de', 'cleyre', 'although', 'even', 'early', 'first', 'wave', 'feminist', 'mary', 'wollstonecraft', 'held', 'proto', 'anarchist', 'views', 'and', 'william', 'godwin', 'is', 'often', 'considered', 'a', 'feminist', 'anarchist', 'precursor', 'it', 'should', 'be', 'noted', 'that', 'goldman', 'and', 'de', 'cleyre', 'though', 'they', 'both', 'opposed', 'the', 'state', 'had', 'opposing', 'philosophies', 'as', 'de', 'cleyre', 'explains', 'miss', 'goldman', 'is', 'a', 'communist', 'i', 'am', 'an', 'individualist', 'she', 'wishes', 'to', 'destroy', 'the', 'right', 'of', 'property', 'i', 'wish', 'to', 'assert', 'it', 'i', 'make', 'my', 'war', 'upon', 'privilege', 'and', 'authority', 'whereby', 'the', 'right', 'of', 'property', 'the', 'true', 'right', 'in', 'that', 'which', 'is', 'proper', 'to', 'the', 'individual', 'is', 'annihilated', 'she', 'believes', 'that', 'co', 'operation', 'would', 'entirely', 'supplant', 'competition', 'i', 'hold', 'that', 'competition', 'in', 'one', 'form', 'or', 'another', 'will', 'always', 'exist', 'and', 'that', 'it', 'is', 'highly', 'desirable', 'it', 'should', 'in', 'the', 'spanish', 'civil', 'war', 'an', 'anarcha', 'feminist', 'group', 'free', 'women', 'organized', 'to', 'defend', 'both', 'anarchist', 'and', 'feminist', 'ideas', 'in', 'the', 'modern', 'day', 'anarchist', 'movement', 'many', 'anarchists', 'male', 'or', 'female', 'consider', 'themselves', 'feminists', 'and', 'anarcha', 'feminist', 'ideas', 'are', 'growing', 'the', 'publishing', 'of', 'quiet', 'rumors', 'an', 'anarcha', 'feminist', 'reader', 'has', 'helped', 'to', 'spread', 'various', 'kinds', 'of', 'anti', 'authoritarian', 'and', 'anarchist', 'feminist', 'ideas', 'to', 'the', 'broader', 'movement', 'wendy', 'mcelroy', 'has', 'popularized', 'an', 'individualist', 'anarchism', 'take', 'on', 'feminism', 'in', 'her', 'books', 'articles', 'and', 'individualist', 'feminist', 'website', 'anarcho', 'capitalism', 'murray', 'rothbard', 'one', 'nine', 'two', 'six', 'one', 'nine', 'nine', 'five', 'anarcho', 'capitalism', 'is', 'a', 'predominantly', 'united', 'states', 'based', 'theoretical', 'tradition', 'that', 'desires', 'a', 'stateless', 'society', 'with', 'the', 'economic', 'system', 'of', 'free', 'market', 'capitalism', 'unlike', 'other', 'branches', 'of', 'anarchism', 'it', 'does', 'not', 'oppose', 'profit', 'or', 'capitalism', 'consequently', 'most', 'anarchists', 'do', 'not', 'recognise', 'anarcho', 'capitalism', 'as', 'a', 'form', 'of', 'anarchism', 'murray', 'rothbard', 's', 'synthesis', 'of', 'classical', 'liberalism', 'and', 'austrian', 'economics', 'was', 'germinal', 'for', 'the', 'development', 'of', 'contemporary', 'anarcho', 'capitalist', 'theory', 'he', 'defines', 'anarcho', 'capitalism', 'in', 'terms', 'of', 'the', 'non', 'aggression', 'principle', 'based', 'on', 'the', 'concept', 'of', 'natural', 'law', 'competiting', 'theorists', 'use', 'egoism', 'utilitarianism', 'used', 'by', 'david', 'friedman', 'or', 'contractarianism', 'used', 'by', 'jan', 'narveson', 'some', 'minarchists', 'such', 'as', 'ayn', 'rand', 'robert', 'nozick', 'and', 'robert', 'a', 'heinlein', 'have', 'influenced', 'anarcho', 'capitalism', 'some', 'anarcho', 'capitalists', 'along', 'with', 'some', 'right', 'wing', 'libertarian', 'historians', 'such', 'as', 'david', 'hart', 'and', 'ralph', 'raico', 'considered', 'similar', 'philosophies', 'existing', 'prior', 'to', 'rothbard', 'to', 'be', 'anarcho', 'capitalist', 'such', 'as', 'those', 'of', 'gustave', 'de', 'molinari', 'and', 'auberon', 'herbert', 'opponents', 'of', 'anarcho', 'capitalists', 'dispute', 'these', 'claims', 'the', 'place', 'of', 'anarcho', 'capitalism', 'within', 'anarchism', 'and', 'indeed', 'whether', 'it', 'is', 'a', 'form', 'of', 'anarchism', 'at', 'all', 'is', 'highly', 'controversial', 'for', 'more', 'on', 'this', 'debate', 'see', 'anarchism', 'and', 'anarcho', 'capitalism', 'anarchism', 'and', 'the', 'environment', 'since', 'the', 'late', 'one', 'nine', 'seven', 'zero', 's', 'anarchists', 'in', 'anglophone', 'and', 'european', 'countries', 'have', 'been', 'taking', 'action', 'for', 'the', 'natural', 'environment', 'eco', 'anarchists', 'or', 'green', 'anarchists', 'believe', 'in', 'deep', 'ecology', 'this', 'is', 'a', 'worldview', 'that', 'embraces', 'biodiversity', 'and', 'sustainability', 'eco', 'anarchists', 'often', 'use', 'direct', 'action', 'against', 'what', 'they', 'see', 'as', 'earth', 'destroying', 'institutions', 'of', 'particular', 'importance', 'is', 'the', 'earth', 'first', 'movement', 'that', 'takes', 'action', 'such', 'as', 'tree', 'sitting', 'another', 'important', 'component', 'is', 'ecofeminism', 'which', 'sees', 'the', 'domination', 'of', 'nature', 'as', 'a', 'metaphor', 'for', 'the', 'domination', 'of', 'women', 'green', 'anarchism', 'also', 'involves', 'a', 'critique', 'of', 'industrial', 'capitalism', 'and', 'for', 'some', 'green', 'anarchists', 'civilization', 'itself', 'primitivism', 'is', 'a', 'predominantly', 'western', 'philosophy', 'that', 'advocates', 'a', 'return', 'to', 'a', 'pre', 'industrial', 'and', 'usually', 'pre', 'agricultural', 'society', 'it', 'develops', 'a', 'critique', 'of', 'industrial', 'civilization', 'in', 'this', 'critique', 'technology', 'and', 'development', 'have', 'alienated', 'people', 'from', 'the', 'natural', 'world', 'this', 'philosophy', 'develops', 'themes', 'present', 'in', 'the', 'political', 'action', 'of', 'the', 'luddites', 'and', 'the', 'writings', 'of', 'jean', 'jacques', 'rousseau', 'primitivism', 'developed', 'in', 'the', 'context', 'of', 'the', 'reclaim', 'the', 'streets', 'earth', 'first', 'and', 'the', 'earth', 'liberation', 'front', 'movements', 'john', 'zerzan', 'wrote', 'that', 'civilization', 'not', 'just', 'the', 'state', 'would', 'need', 'to', 'fall', 'for', 'anarchy', 'to', 'be', 'achieved', 'anarcho', 'primitivists', 'point', 'to', 'the', 'anti', 'authoritarian', 'nature', 'of', 'many', 'primitive', 'or', 'hunter', 'gatherer', 'societies', 'throughout', 'the', 'world', 's', 'history', 'as', 'examples', 'of', 'anarchist', 'societies', 'other', 'branches', 'and', 'offshoots', 'anarchism', 'generates', 'many', 'eclectic', 'and', 'syncretic', 'philosophies', 'and', 'movements', 'since', 'the', 'western', 'social', 'formet', 'in', 'the', 'one', 'nine', 'six', 'zero', 's', 'and', 'one', 'nine', 'seven', 'zero', 's', 'a', 'number', 'new', 'of', 'movements', 'and', 'schools', 'have', 'appeared', 'most', 'of', 'these', 'stances', 'are', 'limited', 'to', 'even', 'smaller', 'numbers', 'than', 'the', 'schools', 'and', 'movements', 'listed', 'above', 'hakim', 'bey', 'post', 'left', 'anarchy', 'post', 'left', 'anarchy', 'also', 'called', 'egoist', 'anarchism', 'seeks', 'to', 'distance', 'itself', 'from', 'the', 'traditional', 'left', 'communists', 'liberals', 'social', 'democrats', 'etc', 'and', 'to', 'escape', 'the', 'confines', 'of', 'ideology', 'in', 'general', 'post', 'leftists', 'argue', 'that', 'anarchism', 'has', 'been', 'weakened', 'by', 'its', 'long', 'attachment', 'to', 'contrary', 'leftist', 'movements', 'and', 'single', 'issue', 'causes', 'anti', 'war', 'anti', 'nuclear', 'etc', 'it', 'calls', 'for', 'a', 'synthesis', 'of', 'anarchist', 'thought', 'and', 'a', 'specifically', 'anti', 'authoritarian', 'revolutionary', 'movement', 'outside', 'of', 'the', 'leftist', 'milieu', 'it', 'often', 'focuses', 'on', 'the', 'individual', 'rather', 'than', 'speaking', 'in', 'terms', 'of', 'class', 'or', 'other', 'broad', 'generalizations', 'and', 'shuns', 'organizational', 'tendencies', 'in', 'favor', 'of', 'the', 'complete', 'absence', 'of', 'explicit', 'hierarchy', 'important', 'groups', 'and', 'individuals', 'associated', 'with', 'post', 'left', 'anarchy', 'include', 'crimethinc', 'the', 'magazine', 'anarchy', 'a', 'journal', 'of', 'desire', 'armed', 'and', 'its', 'editor', 'jason', 'mcquinn', 'bob', 'black', 'hakim', 'bey', 'and', 'others', 'for', 'more', 'information', 'see', 'infoshop', 'org', 's', 'anarchy', 'after', 'leftism', 'section', 'and', 'the', 'post', 'left', 'section', 'on', 'anarchism', 'ws', 'see', 'also', 'post', 'left', 'anarchy', 'post', 'structuralism', 'the', 'term', 'postanarchism', 'was', 'originated', 'by', 'saul', 'newman', 'first', 'receiving', 'popular', 'attention', 'in', 'his', 'book', 'from', 'bakunin', 'to', 'lacan', 'to', 'refer', 'to', 'a', 'theoretical', 'move', 'towards', 'a', 'synthesis', 'of', 'classical', 'anarchist', 'theory', 'and', 'poststructuralist', 'thought', 'subsequent', 'to', 'newman', 's', 'use', 'of', 'the', 'term', 'however', 'it', 'has', 'taken', 'on', 'a', 'life', 'of', 'its', 'own', 'and', 'a', 'wide', 'range', 'of', 'ideas', 'including', 'autonomism', 'post', 'left', 'anarchy', 'situationism', 'post', 'colonialism', 'and', 'zapatismo', 'by', 'its', 'very', 'nature', 'post', 'anarchism', 'rejects', 'the', 'idea', 'that', 'it', 'should', 'be', 'a', 'coherent', 'set', 'of', 'doctrines', 'and', 'beliefs', 'as', 'such', 'it', 'is', 'difficult', 'if', 'not', 'impossible', 'to', 'state', 'with', 'any', 'degree', 'of', 'certainty', 'who', 'should', 'or', 'shouldn', 't', 'be', 'grouped', 'under', 'the', 'rubric', 'nonetheless', 'key', 'thinkers', 'associated', 'with', 'post', 'anarchism', 'include', 'saul', 'newman', 'todd', 'may', 'gilles', 'deleuze', 'and', 'f', 'lix', 'guattari', 'external', 'reference', 'postanarchism', 'clearinghouse', 'see', 'also', 'post', 'anarchism', 'insurrectionary', 'anarchism', 'insurrectionary', 'anarchism', 'is', 'a', 'form', 'of', 'revolutionary', 'anarchism', 'critical', 'of', 'formal', 'anarchist', 'labor', 'unions', 'and', 'federations', 'insurrectionary', 'anarchists', 'advocate', 'informal', 'organization', 'including', 'small', 'affinity', 'groups', 'carrying', 'out', 'acts', 'of', 'resistance', 'in', 'various', 'struggles', 'and', 'mass', 'organizations', 'called', 'base', 'structures', 'which', 'can', 'include', 'exploited', 'individuals', 'who', 'are', 'not', 'anarchists', 'proponents', 'include', 'wolfi', 'landstreicher', 'and', 'alfredo', 'm', 'bonanno', 'author', 'of', 'works', 'including', 'armed', 'joy', 'and', 'the', 'anarchist', 'tension', 'this', 'tendency', 'is', 'represented', 'in', 'the', 'us', 'in', 'magazines', 'such', 'as', 'willful', 'disobedience', 'and', 'killing', 'king', 'abacus', 'see', 'also', 'insurrectionary', 'anarchism', 'small', 'a', 'anarchism', 'small', 'a', 'anarchism', 'is', 'a', 'term', 'used', 'in', 'two', 'different', 'but', 'not', 'unconnected', 'contexts', 'dave', 'neal', 'posited', 'the', 'term', 'in', 'opposition', 'to', 'big', 'a', 'anarchism', 'in', 'the', 'article', 'anarchism', 'ideology', 'or', 'methodology', 'while', 'big', 'a', 'anarchism', 'referred', 'to', 'ideological', 'anarchists', 'small', 'a', 'anarchism', 'was', 'applied', 'to', 'their', 'methodological', 'counterparts', 'those', 'who', 'viewed', 'anarchism', 'as', 'a', 'way', 'of', 'acting', 'or', 'a', 'historical', 'tendency', 'against', 'illegitimate', 'authority', 'as', 'an', 'anti', 'ideological', 'position', 'small', 'a', 'anarchism', 'shares', 'some', 'similarities', 'with', 'post', 'left', 'anarchy', 'david', 'graeber', 'and', 'andrej', 'grubacic', 'offer', 'an', 'alternative', 'use', 'of', 'the', 'term', 'applying', 'it', 'to', 'groups', 'and', 'movements', 'organising', 'according', 'to', 'or', 'acting', 'in', 'a', 'manner', 'consistent', 'with', 'anarchist', 'principles', 'of', 'decentralisation', 'voluntary', 'association', 'mutual', 'aid', 'the', 'network', 'model', 'and', 'crucially', 'the', 'rejection', 'of', 'any', 'idea', 'that', 'the', 'end', 'justifies', 'the', 'means', 'let', 'alone', 'that', 'the', 'business', 'of', 'a', 'revolutionary', 'is', 'to', 'seize', 'state', 'power', 'and', 'then', 'begin', 'imposing', 'one', 's', 'vision', 'at', 'the', 'point', 'of', 'a', 'gun', 'other', 'issues', 'conceptions', 'of', 'an', 'anarchist', 'society', 'many', 'political', 'philosophers', 'justify', 'support', 'of', 'the', 'state', 'as', 'a', 'means', 'of', 'regulating', 'violence', 'so', 'that', 'the', 'destruction', 'caused', 'by', 'human', 'conflict', 'is', 'minimized', 'and', 'fair', 'relationships', 'are', 'established', 'anarchists', 'argue', 'that', 'pursuit', 'of', 'these', 'ends', 'does', 'not', 'justify', 'the', 'establishment', 'of', 'a', 'state', 'many', 'argue', 'that', 'the', 'state', 'is', 'incompatible', 'with', 'those', 'goals', 'and', 'the', 'cause', 'of', 'chaos', 'violence', 'and', 'war', 'anarchists', 'argue', 'that', 'the', 'state', 'helps', 'to', 'create', 'a', 'monopoly', 'on', 'violence', 'and', 'uses', 'violence', 'to', 'advance', 'elite', 'interests', 'much', 'effort', 'has', 'been', 'dedicated', 'to', 'explaining', 'how', 'anarchist', 'societies', 'would', 'handle', 'criminality', 'see', 'also', 'anarchism', 'and', 'society', 'civil', 'rights', 'and', 'cultural', 'sovereignty', 'black', 'anarchism', 'opposes', 'the', 'existence', 'of', 'a', 'state', 'capitalism', 'and', 'subjugation', 'and', 'domination', 'of', 'people', 'of', 'color', 'and', 'favors', 'a', 'non', 'hierarchical', 'organization', 'of', 'society', 'theorists', 'include', 'ashanti', 'alston', 'lorenzo', 'komboa', 'ervin', 'and', 'sam', 'mbah', 'anarchist', 'people', 'of', 'color', 'was', 'created', 'as', 'a', 'forum', 'for', 'non', 'caucasian', 'anarchists', 'to', 'express', 'their', 'thoughts', 'about', 'racial', 'issues', 'within', 'the', 'anarchist', 'movement', 'particularly', 'within', 'the', 'united', 'states', 'national', 'anarchism', 'is', 'a', 'political', 'view', 'which', 'seeks', 'to', 'unite', 'cultural', 'or', 'ethnic', 'preservation', 'with', 'anarchist', 'views', 'its', 'adherents', 'propose', 'that', 'those', 'preventing', 'ethnic', 'groups', 'or', 'races', 'from', 'living', 'in', 'separate', 'autonomous', 'groupings', 'should', 'be', 'resisted', 'anti', 'racist', 'action', 'is', 'not', 'an', 'anarchist', 'group', 'but', 'many', 'anarchists', 'are', 'involved', 'it', 'focuses', 'on', 'publicly', 'confronting', 'racist', 'agitators', 'the', 'zapatista', 'movement', 'of', 'chiapas', 'mexico', 'is', 'a', 'cultural', 'sovereignty', 'group', 'with', 'some', 'anarchist', 'proclivities', 'neocolonialism', 'and', 'globalization', 'nearly', 'all', 'anarchists', 'oppose', 'neocolonialism', 'as', 'an', 'attempt', 'to', 'use', 'economic', 'coercion', 'on', 'a', 'global', 'scale', 'carried', 'out', 'through', 'state', 'institutions', 'such', 'as', 'the', 'world', 'bank', 'world', 'trade', 'organization', 'group', 'of', 'eight', 'and', 'the', 'world', 'economic', 'forum', 'globalization', 'is', 'an', 'ambiguous', 'term', 'that', 'has', 'different', 'meanings', 'to', 'different', 'anarchist', 'factions', 'most', 'anarchists', 'use', 'the', 'term', 'to', 'mean', 'neocolonialism', 'and', 'or', 'cultural', 'imperialism', 'which', 'they', 'may', 'see', 'as', 'related', 'many', 'are', 'active', 'in', 'the', 'anti', 'globalization', 'movement', 'others', 'particularly', 'anarcho', 'capitalists', 'use', 'globalization', 'to', 'mean', 'the', 'worldwide', 'expansion', 'of', 'the', 'division', 'of', 'labor', 'and', 'trade', 'which', 'they', 'see', 'as', 'beneficial', 'so', 'long', 'as', 'governments', 'do', 'not', 'intervene', 'parallel', 'structures', 'many', 'anarchists', 'try', 'to', 'set', 'up', 'alternatives', 'to', 'state', 'supported', 'institutions', 'and', 'outposts', 'such', 'as', 'food', 'not', 'bombs', 'infoshops', 'educational', 'systems', 'such', 'as', 'home', 'schooling', 'neighborhood', 'mediation', 'arbitration', 'groups', 'and', 'so', 'on', 'the', 'idea', 'is', 'to', 'create', 'the', 'structures', 'for', 'a', 'new', 'anti', 'authoritarian', 'society', 'in', 'the', 'shell', 'of', 'the', 'old', 'authoritarian', 'one', 'technology', 'recent', 'technological', 'developments', 'have', 'made', 'the', 'anarchist', 'cause', 'both', 'easier', 'to', 'advance', 'and', 'more', 'conceivable', 'to', 'people', 'many', 'people', 'use', 'the', 'internet', 'to', 'form', 'on', 'line', 'communities', 'intellectual', 'property', 'is', 'undermined', 'and', 'a', 'gift', 'culture', 'supported', 'by', 'sharing', 'music', 'files', 'open', 'source', 'programming', 'and', 'the', 'free', 'software', 'movement', 'these', 'cyber', 'communities', 'include', 'the', 'gnu', 'linux', 'indymedia', 'and', 'wiki', 'some', 'anarchists', 'see', 'information', 'technology', 'as', 'the', 'best', 'weapon', 'to', 'defeat', 'authoritarianism', 'some', 'even', 'think', 'the', 'information', 'age', 'makes', 'eventual', 'anarchy', 'inevitable', 'see', 'also', 'crypto', 'anarchism', 'and', 'cypherpunk', 'pacifism', 'some', 'anarchists', 'consider', 'pacifism', 'opposition', 'to', 'war', 'to', 'be', 'inherent', 'in', 'their', 'philosophy', 'anarcho', 'pacifists', 'take', 'it', 'further', 'and', 'follow', 'leo', 'tolstoy', 's', 'belief', 'in', 'non', 'violence', 'anarchists', 'see', 'war', 'as', 'an', 'activity', 'in', 'which', 'the', 'state', 'seeks', 'to', 'gain', 'and', 'consolidate', 'power', 'both', 'domestically', 'and', 'in', 'foreign', 'lands', 'and', 'subscribe', 'to', 'randolph', 'bourne', 's', 'view', 'that', 'war', 'is', 'the', 'health', 'of', 'the', 'state', 'a', 'lot', 'of', 'anarchist', 'activity', 'has', 'been', 'anti', 'war', 'based', 'parliamentarianism', 'in', 'general', 'terms', 'the', 'anarchist', 'ethos', 'opposes', 'voting', 'in', 'elections', 'because', 'voting', 'amounts', 'to', 'condoning', 'the', 'state', 'voluntaryism', 'is', 'an', 'anarchist', 'school', 'of', 'thought', 'which', 'emphasizes', 'tending', 'your', 'own', 'garden', 'and', 'neither', 'ballots', 'nor', 'bullets', 'the', 'anarchist', 'case', 'against', 'voting', 'is', 'explained', 'in', 'the', 'ethics', 'of', 'voting', 'by', 'george', 'h', 'smith', 'also', 'see', 'voting', 'anarchists', 'an', 'oxymoron', 'or', 'what', 'by', 'joe', 'peacott', 'and', 'writings', 'by', 'fred', 'woodworth', 'sectarianism', 'most', 'anarchist', 'schools', 'of', 'thought', 'are', 'to', 'some', 'degree', 'sectarian', 'there', 'is', 'often', 'a', 'difference', 'of', 'opinion', 'within', 'each', 'school', 'about', 'how', 'to', 'react', 'to', 'or', 'interact', 'with', 'other', 'schools', 'some', 'such', 'as', 'panarchists', 'believe', 'that', 'it', 'is', 'possible', 'for', 'a', 'variety', 'of', 'modes', 'of', 'social', 'life', 'to', 'coexist', 'and', 'compete', 'some', 'anarchists', 'view', 'opposing', 'schools', 'as', 'a', 'social', 'impossibility', 'and', 'resist', 'interaction', 'others', 'see', 'opportunities', 'for', 'coalition', 'building', 'or', 'at', 'least', 'temporary', 'alliances', 'for', 'specific', 'purposes', 'see', 'anarchism', 'without', 'adjectives', 'criticisms', 'of', 'anarchism', 'main', 'article', 'criticisms', 'of', 'anarchism', 'violence', 'since', 'anarchism', 'has', 'often', 'been', 'associated', 'with', 'violence', 'and', 'destruction', 'some', 'people', 'have', 'seen', 'it', 'as', 'being', 'too', 'violent', 'on', 'the', 'other', 'hand', 'hand', 'frederick', 'engels', 'criticsed', 'anarchists', 'for', 'not', 'being', 'violent', 'enough', 'a', 'revolution', 'is', 'certainly', 'the', 'most', 'authoritarian', 'thing', 'there', 'is', 'it', 'is', 'the', 'act', 'whereby', 'one', 'part', 'of', 'the', 'population', 'imposes', 'its', 'will', 'upon', 'the', 'other', 'part', 'by', 'means', 'of', 'rifles', 'bayonets', 'and', 'cannon', 'authoritarian', 'means', 'if', 'such', 'there', 'be', 'at', 'all', 'and', 'if', 'the', 'victorious', 'party', 'does', 'not', 'want', 'to', 'have', 'fought', 'in', 'vain', 'it', 'must', 'maintain', 'this', 'rule', 'by', 'means', 'of', 'the', 'terror', 'which', 'its', 'arms', 'inspire', 'in', 'the', 'reactionists', 'would', 'the', 'paris', 'commune', 'have', 'lasted', 'a', 'single', 'day', 'if', 'it', 'had', 'not', 'made', 'use', 'of', 'this', 'authority', 'of', 'the', 'armed', 'people', 'against', 'the', 'bourgeois', 'utopianism', 'anarchism', 'is', 'often', 'criticised', 'as', 'unfeasible', 'or', 'plain', 'utopian', 'even', 'by', 'many', 'who', 'agree', 'that', 'it', 's', 'a', 'nice', 'idea', 'in', 'principle', 'for', 'example', 'carl', 'landauer', 'in', 'his', 'book', 'european', 'socialism', 'criticizes', 'anarchism', 'as', 'being', 'unrealistically', 'utopian', 'and', 'holds', 'that', 'government', 'is', 'a', 'lesser', 'evil', 'than', 'a', 'society', 'without', 'repressive', 'force', 'he', 'holds', 'that', 'the', 'belief', 'that', 'ill', 'intentions', 'will', 'cease', 'if', 'repressive', 'force', 'disappears', 'is', 'an', 'absurdity', 'however', 'it', 'must', 'be', 'noted', 'that', 'not', 'all', 'anarchists', 'have', 'such', 'a', 'utopian', 'view', 'of', 'anarchism', 'for', 'example', 'some', 'such', 'as', 'benjamin', 'tucker', 'advocate', 'privately', 'funded', 'institutions', 'that', 'defend', 'individual', 'liberty', 'and', 'property', 'however', 'other', 'anarchists', 'such', 'as', 'sir', 'herbert', 'read', 'proudly', 'accept', 'the', 'characterization', 'utopian', 'class', 'character', 'marxists', 'have', 'characterised', 'anarchism', 'as', 'an', 'expression', 'of', 'the', 'class', 'interests', 'of', 'the', 'petite', 'bourgeoisie', 'or', 'perhaps', 'the', 'lumpenproletariat', 'see', 'e', 'g', 'plekhanov', 'for', 'a', 'marxist', 'critique', 'of', 'one', 'eight', 'nine', 'five', 'anarchists', 'have', 'also', 'been', 'characterised', 'as', 'spoilt', 'middle', 'class', 'dilettantes', 'most', 'recently', 'in', 'relation', 'to', 'anti', 'capitalist', 'protesters', 'tacit', 'authoritarianism', 'in', 'recent', 'decades', 'anarchism', 'has', 'been', 'criticised', 'by', 'situationists', 'post', 'anarchists', 'and', 'others', 'of', 'preserving', 'tacitly', 'statist', 'authoritarian', 'or', 'bureaucratic', 'tendencies', 'behind', 'a', 'dogmatic', 'facade', 'hypocrisy', 'some', 'critics', 'point', 'to', 'the', 'sexist', 'and', 'racist', 'views', 'of', 'some', 'prominent', 'anarchists', 'notably', 'proudhon', 'and', 'bakunin', 'as', 'examples', 'of', 'hypocrisy', 'inherent', 'within', 'anarchism', 'while', 'many', 'anarchists', 'however', 'dismiss', 'that', 'the', 'personal', 'prejudices', 'of', 'one', 'nine', 'th', 'century', 'theorists', 'influence', 'the', 'beliefs', 'of', 'present', 'day', 'anarchists', 'others', 'criticise', 'modern', 'anarchism', 'for', 'continuing', 'to', 'be', 'eurocentric', 'and', 'reference', 'the', 'impact', 'of', 'anarchist', 'thinkers', 'like', 'proudhon', 'on', 'fascism', 'through', 'groups', 'like', 'cercle', 'proudhon', 'anarcho', 'capitalist', 'bryan', 'caplan', 'argues', 'that', 'the', 'treatment', 'of', 'fascists', 'and', 'suspected', 'fascist', 'sympathizers', 'by', 'spanish', 'anarchists', 'in', 'the', 'spanish', 'civil', 'war', 'was', 'a', 'form', 'of', 'illegitimate', 'coercion', 'making', 'the', 'proffessed', 'anarchists', 'ultimately', 'just', 'a', 'third', 'faction', 'of', 'totalitarians', 'alongside', 'the', 'communists', 'and', 'fascists', 'he', 'also', 'criticizes', 'the', 'willingness', 'of', 'the', 'cnt', 'to', 'join', 'the', 'statist', 'republican', 'government', 'during', 'the', 'civil', 'war', 'and', 'references', 'stanley', 'g', 'payne', 's', 'book', 'on', 'the', 'franco', 'regime', 'which', 'claims', 'that', 'the', 'cnt', 'entered', 'negotiations', 'with', 'the', 'fascist', 'government', 'six', 'years', 'after', 'the', 'war', 'cultural', 'phenomena', 'noam', 'chomsky', 'one', 'nine', 'two', 'eight', 'the', 'kind', 'of', 'anarchism', 'that', 'is', 'most', 'easily', 'encountered', 'in', 'popular', 'culture', 'is', 'represented', 'by', 'celebrities', 'who', 'publicly', 'identify', 'themselves', 'as', 'anarchists', 'although', 'some', 'anarchists', 'reject', 'any', 'focus', 'on', 'such', 'famous', 'living', 'individuals', 'as', 'inherently', 'litist', 'the', 'following', 'figures', 'are', 'examples', 'of', 'prominent', 'publicly', 'self', 'avowed', 'anarchists', 'the', 'mit', 'professor', 'of', 'linguistics', 'noam', 'chomsky', 'the', 'science', 'fiction', 'author', 'ursula', 'k', 'le', 'guin', 'the', 'social', 'historian', 'howard', 'zinn', 'entertainer', 'and', 'author', 'hans', 'alfredsson', 'the', 'avant', 'garde', 'artist', 'nicol', 's', 'rossell', 'in', 'denmark', 'the', 'freetown', 'christiania', 'was', 'created', 'in', 'downtown', 'copenhagen', 'the', 'housing', 'and', 'employment', 'crisis', 'in', 'most', 'of', 'western', 'europe', 'led', 'to', 'the', 'formation', 'of', 'communes', 'and', 'squatter', 'movements', 'like', 'the', 'one', 'still', 'thriving', 'in', 'barcelona', 'in', 'catalonia', 'militant', 'resistance', 'to', 'neo', 'nazi', 'groups', 'in', 'places', 'like', 'germany', 'and', 'the', 'uprisings', 'of', 'autonomous', 'marxism', 'situationist', 'and', 'autonomist', 'groups', 'in', 'france', 'and', 'italy', 'also', 'helped', 'to', 'give', 'popularity', 'to', 'anti', 'authoritarian', 'non', 'capitalist', 'ideas', 'in', 'various', 'musical', 'styles', 'anarchism', 'rose', 'in', 'popularity', 'most', 'famous', 'for', 'the', 'linking', 'of', 'anarchist', 'ideas', 'and', 'music', 'has', 'been', 'punk', 'rock', 'although', 'in', 'the', 'modern', 'age', 'hip', 'hop', 'and', 'folk', 'music', 'are', 'also', 'becoming', 'important', 'mediums', 'for', 'the', 'spreading', 'of', 'the', 'anarchist', 'message', 'in', 'the', 'uk', 'this', 'was', 'associated', 'with', 'the', 'punk', 'rock', 'movement', 'the', 'band', 'crass', 'is', 'celebrated', 'for', 'its', 'anarchist', 'and', 'pacifist', 'ideas', 'the', 'dutch', 'punk', 'band', 'the', 'ex', 'further', 'exemplifies', 'this', 'expression', 'for', 'further', 'details', 'see', 'anarcho', 'punk', 'see', 'also', 'there', 'are', 'many', 'concepts', 'relevant', 'to', 'the', 'topic', 'of', 'anarchism', 'this', 'is', 'a', 'brief', 'summary', 'there', 'is', 'also', 'a', 'more', 'extensive', 'list', 'of', 'anarchist', 'concepts', 'individualist', 'anarchism', 'anarcho', 'communism', 'anarcho', 'syndicalism', 'anarcho', 'capitalism', 'mutualism', 'christian', 'anarchism', 'anarcha', 'feminism', 'green', 'anarchism', 'nihilist', 'anarchism', 'anarcho', 'nationalism', 'black', 'anarchism', 'national', 'anarchism', 'post', 'anarchism', 'post', 'left', 'anarchism', 'libertarian', 'socialism', 'anarchist', 'symbolism', 'list', 'of', 'anarchism', 'links', 'list', 'of', 'anarchists', 'list', 'of', 'anarchist', 'organizations', 'major', 'conflicts', 'within', 'anarchist', 'thought', 'past', 'and', 'present', 'anarchist', 'communities', 'historical', 'events', 'paris', 'commune', 'one', 'eight', 'seven', 'one', 'haymarket', 'riot', 'one', 'eight', 'eight', 'six', 'the', 'makhnovschina', 'one', 'nine', 'one', 'seven', 'one', 'nine', 'two', 'one', 'kronstadt', 'rebellion', 'one', 'nine', 'two', 'one', 'spanish', 'revolution', 'one', 'nine', 'three', 'six', 'see', 'anarchism', 'in', 'spain', 'and', 'spanish', 'revolution', 'may', 'one', 'nine', 'six', 'eight', 'france', 'one', 'nine', 'six', 'eight', 'wto', 'meeting', 'in', 'seattle', 'one', 'nine', 'nine', 'nine', 'books', 'the', 'following', 'is', 'a', 'sample', 'of', 'books', 'that', 'have', 'been', 'referenced', 'in', 'this', 'page', 'a', 'more', 'complete', 'list', 'can', 'be', 'found', 'at', 'the', 'list', 'of', 'anarchist', 'books', 'mikhail', 'bakunin', 'god', 'and', 'the', 'state', 'emma', 'goldman', 'anarchism', 'other', 'essays', 'peter', 'kropotkin', 'mutual', 'aid', 'pierre', 'joseph', 'proudhon', 'what', 'is', 'property', 'rudolf', 'rocker', 'anarcho', 'syndicalism', 'murray', 'rothbard', 'the', 'ethics', 'of', 'liberty', 'max', 'stirner', 'the', 'ego', 'and', 'its', 'own', 'leo', 'tolstoy', 'the', 'kingdom', 'of', 'god', 'is', 'within', 'you', 'anarchism', 'by', 'region', 'culture', 'african', 'anarchism', 'anarchism', 'in', 'spain', 'anarchism', 'in', 'the', 'english', 'tradition', 'chinese', 'anarchism', 'references', 'these', 'notes', 'have', 'no', 'corresponding', 'reference', 'in', 'the', 'article', 'they', 'might', 'be', 're', 'used', 'against', 'politics', 'appleton', 'boston', 'anarchists', 'yarros', 'victor', 'liberty', 'vii', 'january', 'two', 'one', 'eight', 'nine', 'two', 'noam', 'chomsky', 'on', 'anarchism', 'by', 'noam', 'chomsky', 'external', 'links', 'the', 'overwhelming', 'diversity', 'and', 'number', 'of', 'links', 'relating', 'to', 'anarchism', 'is', 'extensively', 'covered', 'on', 'the', 'links', 'subpage', 'anarchoblogs', 'blogs', 'by', 'anarchists', 'anarchy', 'archives', 'extensively', 'archives', 'information', 'relating', 'to', 'famous', 'anarchists', 'this', 'includes', 'many', 'of', 'their', 'books', 'and', 'other', 'publications', 'hundreds', 'of', 'anarchists', 'are', 'listed', 'with', 'short', 'bios', 'links', 'dedicated', 'pages', 'at', 'the', 'daily', 'bleed', 's', 'anarchist', 'encyclopedia', 'infoshop', 'org', 'wikipedia', 'page', 'industrial', 'workers', 'of', 'the', 'world', 'anarchism', 'forms', 'of', 'government', 'political', 'ideology', 'entry', 'points', 'political', 'theories', 'social', 'philosophy', 'autism', 'is', 'classified', 'as', 'a', 'neurodevelopmental', 'disorder', 'that', 'manifests', 'itself', 'in', 'markedly', 'abnormal', 'social', 'interaction', 'communication', 'ability', 'patterns', 'of', 'interests', 'and', 'patterns', 'of', 'behavior', 'although', 'the', 'specific', 'etiology', 'of', 'autism', 'is', 'unknown', 'many', 'researchers', 'suspect', 'that', 'autism', 'results', 'from', 'genetically', 'mediated', 'vulnerabilities', 'to', 'environmental', 'triggers', 'and', 'while', 'there', 'is', 'disagreement', 'about', 'the', 'magnitude', 'nature', 'and', 'mechanisms', 'for', 'such', 'environmental', 'factors', 'researchers', 'have', 'found', 'at', 'least', 'seven', 'major', 'genes', 'prevalent', 'among', 'individuals', 'diagnosed', 'as', 'autistic', 'some', 'estimate', 'that', 'autism', 'occurs', 'in', 'as', 'many', 'as', 'one', 'united', 'states', 'child', 'in', 'one', 'six', 'six', 'however', 'the', 'national', 'institute', 'of', 'mental', 'health', 'gives', 'a', 'more', 'conservative', 'estimate', 'of', 'one', 'in', 'one', 'zero', 'zero', 'zero', 'for', 'families', 'that', 'already', 'have', 'one', 'autistic', 'child', 'the', 'odds', 'of', 'a', 'second', 'autistic', 'child', 'may', 'be', 'as', 'high', 'as', 'one', 'in', 'twenty', 'diagnosis', 'is', 'based', 'on', 'a', 'list', 'of', 'psychiatric', 'criteria', 'and', 'a', 'series', 'of', 'standardized', 'clinical', 'tests', 'may', 'also', 'be', 'used', 'autism', 'may', 'not', 'be', 'physiologically', 'obvious', 'a', 'complete', 'physical', 'and', 'neurological', 'evaluation', 'will', 'typically', 'be', 'part', 'of', 'diagnosing', 'autism', 'some', 'now', 'speculate', 'that', 'autism', 'is', 'not', 'a', 'single', 'condition', 'but', 'a', 'group', 'of', 'several', 'distinct', 'conditions', 'that', 'manifest', 'in', 'similar', 'ways', 'by', 'definition', 'autism', 'must', 'manifest', 'delays', 'in', 'social', 'interaction', 'language', 'as', 'used', 'in', 'social', 'communication', 'or', 'symbolic', 'or', 'imaginative', 'play', 'with', 'onset', 'prior', 'to', 'age', 'three', 'years', 'according', 'to', 'the', 'diagnostic', 'and', 'statistical', 'manual', 'of', 'mental', 'disorders', 'the', 'icd', 'one', 'zero', 'also', 'says', 'that', 'symptoms', 'must', 'manifest', 'before', 'the', 'age', 'of', 'three', 'years', 'there', 'have', 'been', 'large', 'increases', 'in', 'the', 'reported', 'incidence', 'of', 'autism', 'for', 'reasons', 'that', 'are', 'heavily', 'debated', 'by', 'researchers', 'in', 'psychology', 'and', 'related', 'fields', 'within', 'the', 'scientific', 'community', 'some', 'children', 'with', 'autism', 'have', 'improved', 'their', 'social', 'and', 'other', 'skills', 'to', 'the', 'point', 'where', 'they', 'can', 'fully', 'participate', 'in', 'mainstream', 'education', 'and', 'social', 'events', 'but', 'there', 'are', 'lingering', 'concerns', 'that', 'an', 'absolute', 'cure', 'from', 'autism', 'is', 'impossible', 'with', 'current', 'technology', 'however', 'many', 'autistic', 'children', 'and', 'adults', 'who', 'are', 'able', 'to', 'communicate', 'at', 'least', 'in', 'writing', 'are', 'opposed', 'to', 'attempts', 'to', 'cure', 'their', 'conditions', 'and', 'see', 'such', 'conditions', 'as', 'part', 'of', 'who', 'they', 'are', 'history', 'dr', 'hans', 'asperger', 'described', 'a', 'form', 'of', 'autism', 'in', 'the', 'one', 'nine', 'four', 'zero', 's', 'that', 'later', 'became', 'known', 'as', 'asperger', 's', 'syndrome', 'the', 'word', 'autism', 'was', 'first', 'used', 'in', 'the', 'english', 'language', 'by', 'swiss', 'psychiatrist', 'eugene', 'bleuler', 'in', 'a', 'one', 'nine', 'one', 'two', 'number', 'of', 'the', 'american', 'journal', 'of', 'insanity', 'it', 'comes', 'from', 'the', 'greek', 'word', 'for', 'self', 'however', 'the', 'classification', 'of', 'autism', 'did', 'not', 'occur', 'until', 'the', 'middle', 'of', 'the', 'twentieth', 'century', 'when', 'in', 'one', 'nine', 'four', 'three', 'psychiatrist', 'dr', 'leo', 'kanner', 'of', 'the', 'johns', 'hopkins', 'hospital', 'in', 'baltimore', 'reported', 'on', 'one', 'one', 'child', 'patients', 'with', 'striking', 'behavioral', 'similarities', 'and', 'introduced', 'the', 'label', 'early', 'infantile', 'autism', 'he', 'suggested', 'autism', 'from', 'the', 'greek', 'autos', 'meaning', 'self', 'to', 'describe', 'the', 'fact', 'that', 'the', 'children', 'seemed', 'to', 'lack', 'interest', 'in', 'other', 'people', 'although', 'kanner', 's', 'first', 'paper', 'on', 'the', 'subject', 'was', 'published', 'in', 'a', 'now', 'defunct', 'journal', 'the', 'nervous', 'child', 'almost', 'every', 'characteristic', 'he', 'originally', 'described', 'is', 'still', 'regarded', 'as', 'typical', 'of', 'the', 'autistic', 'spectrum', 'of', 'disorders', 'at', 'the', 'same', 'time', 'an', 'austrian', 'scientist', 'dr', 'hans', 'asperger', 'described', 'a', 'different', 'form', 'of', 'autism', 'that', 'became', 'known', 'as', 'asperger', 's', 'syndrome', 'but', 'the', 'widespread', 'recognition', 'of', 'asperger', 's', 'work', 'was', 'delayed', 'by', 'world', 'war', 'ii', 'in', 'germany', 'and', 'by', 'the', 'fact', 'that', 'his', 'seminal', 'paper', 'wasn', 't', 'translated', 'into', 'english', 'for', 'almost', 'five', 'zero', 'years', 'the', 'majority', 'of', 'his', 'work', 'wasn', 't', 'widely', 'read', 'until', 'one', 'nine', 'nine', 'seven', 'thus', 'these', 'two', 'conditions', 'were', 'described', 'and', 'are', 'today', 'listed', 'in', 'the', 'diagnostic', 'and', 'statistical', 'manual', 'of', 'mental', 'disorders', 'dsm', 'iv', 'tr', 'fourth', 'edition', 'text', 'revision', 'one', 'as', 'two', 'of', 'the', 'five', 'pervasive', 'developmental', 'disorders', 'pdd', 'more', 'often', 'referred', 'to', 'today', 'as', 'autism', 'spectrum', 'disorders', 'asd', 'all', 'of', 'these', 'conditions', 'are', 'characterized', 'by', 'varying', 'degrees', 'of', 'difference', 'in', 'communication', 'skills', 'social', 'interactions', 'and', 'restricted', 'repetitive', 'and', 'stereotyped', 'patterns', 'of', 'behavior', 'few', 'clinicians', 'today', 'solely', 'use', 'the', 'dsm', 'iv', 'criteria', 'for', 'determining', 'a', 'diagnosis', 'of', 'autism', 'which', 'are', 'based', 'on', 'the', 'absence', 'or', 'delay', 'of', 'certain', 'developmental', 'milestones', 'many', 'clinicians', 'instead', 'use', 'an', 'alternate', 'means', 'or', 'a', 'combination', 'thereof', 'to', 'more', 'accurately', 'determine', 'a', 'diagnosis', 'terminology', 'when', 'referring', 'to', 'someone', 'diagnosed', 'with', 'autism', 'the', 'term', 'autistic', 'is', 'often', 'used', 'however', 'the', 'term', 'person', 'with', 'autism', 'can', 'be', 'used', 'instead', 'this', 'is', 'referred', 'to', 'as', 'person', 'first', 'terminology', 'the', 'autistic', 'community', 'generally', 'prefers', 'the', 'term', 'autistic', 'for', 'reasons', 'that', 'are', 'fairly', 'controversial', 'this', 'article', 'uses', 'the', 'term', 'autistic', 'see', 'talk', 'page', 'characteristics', 'dr', 'leo', 'kanner', 'introduced', 'the', 'label', 'early', 'infantile', 'autism', 'in', 'one', 'nine', 'four', 'three', 'there', 'is', 'a', 'great', 'diversity', 'in', 'the', 'skills', 'and', 'behaviors', 'of', 'individuals', 'diagnosed', 'as', 'autistic', 'and', 'physicians', 'will', 'often', 'arrive', 'at', 'different', 'conclusions', 'about', 'the', 'appropriate', 'diagnosis', 'much', 'of', 'this', 'is', 'due', 'to', 'the', 'sensory', 'system', 'of', 'an', 'autistic', 'which', 'is', 'quite', 'different', 'from', 'the', 'sensory', 'system', 'of', 'other', 'people', 'since', 'certain', 'stimulations', 'can', 'affect', 'an', 'autistic', 'differently', 'than', 'a', 'non', 'autistic', 'and', 'the', 'degree', 'to', 'which', 'the', 'sensory', 'system', 'is', 'affected', 'varies', 'wildly', 'from', 'one', 'autistic', 'person', 'to', 'another', 'nevertheless', 'professionals', 'within', 'pediatric', 'care', 'and', 'development', 'often', 'look', 'for', 'early', 'indicators', 'of', 'autism', 'in', 'order', 'to', 'initiate', 'treatment', 'as', 'early', 'as', 'possible', 'however', 'some', 'people', 'do', 'not', 'believe', 'in', 'treatment', 'for', 'autism', 'either', 'because', 'they', 'do', 'not', 'believe', 'autism', 'is', 'a', 'disorder', 'or', 'because', 'they', 'believe', 'treatment', 'can', 'do', 'more', 'harm', 'than', 'good', 'social', 'development', 'typically', 'developing', 'infants', 'are', 'social', 'beings', 'early', 'in', 'life', 'they', 'do', 'such', 'things', 'as', 'gaze', 'at', 'people', 'turn', 'toward', 'voices', 'grasp', 'a', 'finger', 'and', 'even', 'smile', 'in', 'contrast', 'most', 'autistic', 'children', 'prefer', 'objects', 'to', 'faces', 'and', 'seem', 'to', 'have', 'tremendous', 'difficulty', 'learning', 'to', 'engage', 'in', 'the', 'give', 'and', 'take', 'of', 'everyday', 'human', 'interaction', 'even', 'in', 'the', 'first', 'few', 'months', 'of', 'life', 'many', 'seem', 'indifferent', 'to', 'other', 'people', 'because', 'they', 'avoid', 'eye', 'contact', 'and', 'do', 'not', 'interact', 'with', 'them', 'as', 'often', 'as', 'non', 'autistic', 'children', 'children', 'with', 'autism', 'often', 'appear', 'to', 'prefer', 'being', 'alone', 'to', 'the', 'company', 'of', 'others', 'and', 'may', 'passively', 'accept', 'such', 'things', 'as', 'hugs', 'and', 'cuddling', 'without', 'reciprocating', 'or', 'resist', 'attention', 'altogether', 'later', 'they', 'seldom', 'seek', 'comfort', 'from', 'others', 'or', 'respond', 'to', 'parents', 'displays', 'of', 'anger', 'or', 'affection', 'in', 'a', 'typical', 'way', 'research', 'has', 'suggested', 'that', 'although', 'autistic', 'children', 'are', 'attached', 'to', 'their', 'parents', 'their', 'expression', 'of', 'this', 'attachment', 'is', 'unusual', 'and', 'difficult', 'to', 'interpret', 'parents', 'who', 'looked', 'forward', 'to', 'the', 'joys', 'of', 'cuddling', 'teaching', 'and', 'playing', 'with', 'their', 'child', 'may', 'feel', 'crushed', 'by', 'this', 'lack', 'of', 'expected', 'attachment', 'behavior', 'children', 'with', 'autism', 'appear', 'to', 'lack', 'theory', 'of', 'mind', 'the', 'ability', 'to', 'see', 'things', 'from', 'another', 'person', 's', 'perspective', 'a', 'behavior', 'cited', 'as', 'exclusive', 'to', 'human', 'beings', 'above', 'the', 'age', 'of', 'five', 'and', 'possibly', 'other', 'higher', 'primates', 'such', 'as', 'adult', 'gorillas', 'chimpanzees', 'and', 'bonobos', 'typical', 'five', 'year', 'olds', 'can', 'develop', 'insights', 'into', 'other', 'people', 's', 'different', 'knowledge', 'feelings', 'and', 'intentions', 'interpretations', 'based', 'upon', 'social', 'cues', 'e', 'g', 'gestures', 'facial', 'expressions', 'an', 'individual', 'with', 'autism', 'seems', 'to', 'lack', 'these', 'interpretation', 'skills', 'an', 'inability', 'that', 'leaves', 'them', 'unable', 'to', 'predict', 'or', 'understand', 'other', 'people', 's', 'actions', 'the', 'social', 'alienation', 'of', 'autistic', 'and', 'asperger', 's', 'people', 'is', 'so', 'intense', 'from', 'childhood', 'that', 'many', 'of', 'them', 'have', 'imaginary', 'friends', 'as', 'companionship', 'however', 'having', 'an', 'imaginary', 'friend', 'is', 'not', 'necessarily', 'a', 'sign', 'of', 'autism', 'and', 'also', 'occurs', 'in', 'non', 'autistic', 'children', 'although', 'not', 'universal', 'it', 'is', 'common', 'for', 'autistic', 'people', 'to', 'not', 'regulate', 'their', 'behavior', 'this', 'can', 'take', 'the', 'form', 'of', 'crying', 'or', 'verbal', 'outbursts', 'that', 'may', 'seem', 'out', 'of', 'proportion', 'to', 'the', 'situation', 'individuals', 'with', 'autism', 'generally', 'prefer', 'consistent', 'routines', 'and', 'environments', 'they', 'may', 'react', 'negatively', 'to', 'changes', 'in', 'them', 'it', 'is', 'not', 'uncommon', 'for', 'these', 'individuals', 'to', 'exhibit', 'aggression', 'increased', 'levels', 'of', 'self', 'stimulatory', 'behavior', 'self', 'injury', 'or', 'extensive', 'withdrawal', 'in', 'overwhelming', 'situations', 'sensory', 'system', 'a', 'key', 'indicator', 'to', 'clinicians', 'making', 'a', 'proper', 'assessment', 'for', 'autism', 'would', 'include', 'looking', 'for', 'symptoms', 'much', 'like', 'those', 'found', 'in', 'sensory', 'integration', 'dysfunction', 'children', 'will', 'exhibit', 'problems', 'coping', 'with', 'the', 'normal', 'sensory', 'input', 'indicators', 'of', 'this', 'disorder', 'include', 'oversensitivity', 'or', 'underreactivity', 'to', 'touch', 'movement', 'sights', 'or', 'sounds', 'physical', 'clumsiness', 'or', 'carelessness', 'poor', 'body', 'awareness', 'a', 'tendency', 'to', 'be', 'easily', 'distracted', 'impulsive', 'physical', 'or', 'verbal', 'behavior', 'an', 'activity', 'level', 'that', 'is', 'unusually', 'high', 'or', 'low', 'not', 'unwinding', 'or', 'calming', 'oneself', 'difficulty', 'learning', 'new', 'movements', 'difficulty', 'in', 'making', 'transitions', 'from', 'one', 'situation', 'to', 'another', 'social', 'and', 'or', 'emotional', 'problems', 'delays', 'in', 'speech', 'language', 'or', 'motor', 'skills', 'specific', 'learning', 'difficulties', 'delays', 'in', 'academic', 'achievement', 'one', 'common', 'example', 'is', 'an', 'individual', 'with', 'autism', 'hearing', 'a', 'person', 'with', 'autism', 'may', 'have', 'trouble', 'hearing', 'certain', 'people', 'while', 'other', 'people', 'are', 'louder', 'than', 'usual', 'or', 'the', 'person', 'with', 'autism', 'may', 'be', 'unable', 'to', 'filter', 'out', 'sounds', 'in', 'certain', 'situations', 'such', 'as', 'in', 'a', 'large', 'crowd', 'of', 'people', 'see', 'cocktail', 'party', 'effect', 'however', 'this', 'is', 'perhaps', 'the', 'part', 'of', 'the', 'autism', 'that', 'tends', 'to', 'vary', 'the', 'most', 'from', 'person', 'to', 'person', 'so', 'these', 'examples', 'may', 'not', 'apply', 'to', 'every', 'autistic', 'it', 'should', 'be', 'noted', 'that', 'sensory', 'difficulties', 'although', 'reportedly', 'common', 'in', 'autistics', 'are', 'not', 'part', 'of', 'the', 'dsm', 'iv', 'diagnostic', 'criteria', 'for', 'autistic', 'disorder', 'communication', 'difficulties', 'by', 'age', 'three', 'typical', 'children', 'have', 'passed', 'predictable', 'language', 'learning', 'milestones', 'one', 'of', 'the', 'earliest', 'is', 'babbling', 'by', 'the', 'first', 'birthday', 'a', 'typical', 'toddler', 'says', 'words', 'turns', 'when', 'he', 'or', 'she', 'hears', 'his', 'or', 'her', 'name', 'points', 'when', 'he', 'or', 'she', 'wants', 'a', 'toy', 'and', 'when', 'offered', 'something', 'distasteful', 'makes', 'it', 'clear', 'that', 'the', 'answer', 'is', 'no', 'speech', 'development', 'in', 'people', 'with', 'autism', 'takes', 'different', 'paths', 'some', 'remain', 'mute', 'throughout', 'their', 'lives', 'while', 'being', 'fully', 'literate', 'and', 'able', 'to', 'communicate', 'in', 'other', 'ways', 'images', 'sign', 'language', 'and', 'typing', 'are', 'far', 'more', 'natural', 'to', 'them', 'some', 'infants', 'who', 'later', 'show', 'signs', 'of', 'autism', 'coo', 'and', 'babble', 'during', 'the', 'first', 'few', 'months', 'of', 'life', 'but', 'stop', 'soon', 'afterwards', 'others', 'may', 'be', 'delayed', 'developing', 'language', 'as', 'late', 'as', 'the', 'teenage', 'years', 'still', 'inability', 'to', 'speak', 'does', 'not', 'mean', 'that', 'people', 'with', 'autism', 'are', 'unintelligent', 'or', 'unaware', 'once', 'given', 'appropriate', 'accommodations', 'many', 'will', 'happily', 'converse', 'for', 'hours', 'and', 'can', 'often', 'be', 'found', 'in', 'online', 'chat', 'rooms', 'discussion', 'boards', 'or', 'websites', 'and', 'even', 'using', 'communication', 'devices', 'at', 'autism', 'community', 'social', 'events', 'such', 'as', 'autreat', 'those', 'who', 'do', 'speak', 'often', 'use', 'language', 'in', 'unusual', 'ways', 'retaining', 'features', 'of', 'earlier', 'stages', 'of', 'language', 'development', 'for', 'long', 'periods', 'or', 'throughout', 'their', 'lives', 'some', 'speak', 'only', 'single', 'words', 'while', 'others', 'repeat', 'the', 'same', 'phrase', 'over', 'and', 'over', 'some', 'repeat', 'what', 'they', 'hear', 'a', 'condition', 'called', 'echolalia', 'sing', 'song', 'repetitions', 'in', 'particular', 'are', 'a', 'calming', 'joyous', 'activity', 'that', 'many', 'autistic', 'adults', 'engage', 'in', 'many', 'people', 'with', 'autism', 'have', 'a', 'strong', 'tonal', 'sense', 'and', 'can', 'often', 'understand', 'spoken', 'language', 'some', 'children', 'may', 'exhibit', 'only', 'slight', 'delays', 'in', 'language', 'or', 'even', 'seem', 'to', 'have', 'precocious', 'language', 'and', 'unusually', 'large', 'vocabularies', 'but', 'have', 'great', 'difficulty', 'in', 'sustaining', 'typical', 'conversations', 'the', 'give', 'and', 'take', 'of', 'non', 'autistic', 'conversation', 'is', 'hard', 'for', 'them', 'although', 'they', 'often', 'carry', 'on', 'a', 'monologue', 'on', 'a', 'favorite', 'subject', 'giving', 'no', 'one', 'else', 'an', 'opportunity', 'to', 'comment', 'when', 'given', 'the', 'chance', 'to', 'converse', 'with', 'other', 'autistics', 'they', 'comfortably', 'do', 'so', 'in', 'parallel', 'monologue', 'taking', 'turns', 'expressing', 'views', 'and', 'information', 'just', 'as', 'neurotypicals', 'people', 'without', 'autism', 'have', 'trouble', 'understanding', 'autistic', 'body', 'languages', 'vocal', 'tones', 'or', 'phraseology', 'people', 'with', 'autism', 'similarly', 'have', 'trouble', 'with', 'such', 'things', 'in', 'people', 'without', 'autism', 'in', 'particular', 'autistic', 'language', 'abilities', 'tend', 'to', 'be', 'highly', 'literal', 'people', 'without', 'autism', 'often', 'inappropriately', 'attribute', 'hidden', 'meaning', 'to', 'what', 'people', 'with', 'autism', 'say', 'or', 'expect', 'the', 'person', 'with', 'autism', 'to', 'sense', 'such', 'unstated', 'meaning', 'in', 'their', 'own', 'words', 'the', 'body', 'language', 'of', 'people', 'with', 'autism', 'can', 'be', 'difficult', 'for', 'other', 'people', 'to', 'understand', 'facial', 'expressions', 'movements', 'and', 'gestures', 'may', 'be', 'easily', 'understood', 'by', 'some', 'other', 'people', 'with', 'autism', 'but', 'do', 'not', 'match', 'those', 'used', 'by', 'other', 'people', 'also', 'their', 'tone', 'of', 'voice', 'has', 'a', 'much', 'more', 'subtle', 'inflection', 'in', 'reflecting', 'their', 'feelings', 'and', 'the', 'auditory', 'system', 'of', 'a', 'person', 'without', 'autism', 'often', 'cannot', 'sense', 'the', 'fluctuations', 'what', 'seems', 'to', 'non', 'autistic', 'people', 'like', 'a', 'high', 'pitched', 'sing', 'song', 'or', 'flat', 'robot', 'like', 'voice', 'is', 'common', 'in', 'autistic', 'children', 'some', 'autistic', 'children', 'with', 'relatively', 'good', 'language', 'skills', 'speak', 'like', 'little', 'adults', 'rather', 'than', 'communicating', 'at', 'their', 'current', 'age', 'level', 'which', 'is', 'one', 'of', 'the', 'things', 'that', 'can', 'lead', 'to', 'problems', 'since', 'non', 'autistic', 'people', 'are', 'often', 'unfamiliar', 'with', 'the', 'autistic', 'body', 'language', 'and', 'since', 'autistic', 'natural', 'language', 'may', 'not', 'tend', 'towards', 'speech', 'autistic', 'people', 'often', 'struggle', 'to', 'let', 'other', 'people', 'know', 'what', 'they', 'need', 'as', 'anybody', 'might', 'do', 'in', 'such', 'a', 'situation', 'they', 'may', 'scream', 'in', 'frustration', 'or', 'resort', 'to', 'grabbing', 'what', 'they', 'want', 'while', 'waiting', 'for', 'non', 'autistic', 'people', 'to', 'learn', 'to', 'communicate', 'with', 'them', 'people', 'with', 'autism', 'do', 'whatever', 'they', 'can', 'to', 'get', 'through', 'to', 'them', 'communication', 'difficulties', 'may', 'contribute', 'to', 'autistic', 'people', 'becoming', 'socially', 'anxious', 'or', 'depressed', 'repetitive', 'behaviors', 'although', 'people', 'with', 'autism', 'usually', 'appear', 'physically', 'normal', 'and', 'have', 'good', 'muscle', 'control', 'unusual', 'repetitive', 'motions', 'known', 'as', 'self', 'stimulation', 'or', 'stimming', 'may', 'set', 'them', 'apart', 'these', 'behaviors', 'might', 'be', 'extreme', 'and', 'highly', 'apparent', 'or', 'more', 'subtle', 'some', 'children', 'and', 'older', 'individuals', 'spend', 'a', 'lot', 'of', 'time', 'repeatedly', 'flapping', 'their', 'arms', 'or', 'wiggling', 'their', 'toes', 'others', 'suddenly', 'freeze', 'in', 'position', 'as', 'children', 'they', 'might', 'spend', 'hours', 'lining', 'up', 'their', 'cars', 'and', 'trains', 'in', 'a', 'certain', 'way', 'not', 'using', 'them', 'for', 'pretend', 'play', 'if', 'someone', 'accidentally', 'moves', 'one', 'of', 'these', 'toys', 'the', 'child', 'may', 'be', 'tremendously', 'upset', 'autistic', 'children', 'often', 'need', 'and', 'demand', 'absolute', 'consistency', 'in', 'their', 'environment', 'a', 'slight', 'change', 'in', 'any', 'routine', 'in', 'mealtimes', 'dressing', 'taking', 'a', 'bath', 'or', 'going', 'to', 'school', 'at', 'a', 'certain', 'time', 'and', 'by', 'the', 'same', 'route', 'can', 'be', 'extremely', 'disturbing', 'people', 'with', 'autism', 'sometimes', 'have', 'a', 'persistent', 'intense', 'preoccupation', 'for', 'example', 'the', 'child', 'might', 'be', 'obsessed', 'with', 'learning', 'all', 'about', 'vacuum', 'cleaners', 'train', 'schedules', 'or', 'lighthouses', 'often', 'they', 'show', 'great', 'interest', 'in', 'different', 'languages', 'numbers', 'symbols', 'or', 'science', 'topics', 'repetitive', 'behaviors', 'can', 'also', 'extend', 'into', 'the', 'spoken', 'word', 'as', 'well', 'perseveration', 'of', 'a', 'single', 'word', 'or', 'phrase', 'even', 'for', 'a', 'specific', 'number', 'of', 'times', 'can', 'also', 'become', 'a', 'part', 'of', 'the', 'child', 's', 'daily', 'routine', 'effects', 'in', 'education', 'children', 'with', 'autism', 'are', 'affected', 'with', 'these', 'symptoms', 'every', 'day', 'these', 'unusual', 'characteristics', 'set', 'them', 'apart', 'from', 'the', 'everyday', 'normal', 'student', 'because', 'they', 'have', 'trouble', 'understanding', 'people', 's', 'thoughts', 'and', 'feelings', 'they', 'have', 'trouble', 'understanding', 'what', 'their', 'teacher', 'may', 'be', 'telling', 'them', 'they', 'do', 'not', 'understand', 'that', 'facial', 'expressions', 'and', 'vocal', 'variations', 'hold', 'meanings', 'and', 'may', 'misinterpret', 'what', 'emotion', 'their', 'instructor', 'is', 'displaying', 'this', 'inability', 'to', 'fully', 'decipher', 'the', 'world', 'around', 'them', 'makes', 'education', 'stressful', 'teachers', 'need', 'to', 'be', 'aware', 'of', 'a', 'student', 's', 'disorder', 'so', 'that', 'they', 'are', 'able', 'to', 'help', 'the', 'student', 'get', 'the', 'best', 'out', 'of', 'the', 'lessons', 'being', 'taught', 'some', 'students', 'learn', 'better', 'with', 'visual', 'aids', 'as', 'they', 'are', 'better', 'able', 'to', 'understand', 'material', 'presented', 'this', 'way', 'because', 'of', 'this', 'many', 'teachers', 'create', 'visual', 'schedules', 'for', 'their', 'autistic', 'students', 'this', 'allows', 'the', 'student', 'to', 'know', 'what', 'is', 'going', 'on', 'throughout', 'the', 'day', 'so', 'they', 'know', 'what', 'to', 'prepare', 'for', 'and', 'what', 'activity', 'they', 'will', 'be', 'doing', 'next', 'some', 'autistic', 'children', 'have', 'trouble', 'going', 'from', 'one', 'activity', 'to', 'the', 'next', 'so', 'this', 'visual', 'schedule', 'can', 'help', 'to', 'reduce', 'stress', 'research', 'has', 'shown', 'that', 'working', 'in', 'pairs', 'may', 'be', 'beneficial', 'to', 'autistic', 'children', 'autistic', 'students', 'have', 'problems', 'in', 'schools', 'not', 'only', 'with', 'language', 'and', 'communication', 'but', 'with', 'socialization', 'as', 'well', 'they', 'feel', 'self', 'conscious', 'about', 'themselves', 'and', 'many', 'feel', 'that', 'they', 'will', 'always', 'be', 'outcasts', 'by', 'allowing', 'them', 'to', 'work', 'with', 'peers', 'they', 'can', 'make', 'friends', 'which', 'in', 'turn', 'can', 'help', 'them', 'cope', 'with', 'the', 'problems', 'that', 'arise', 'by', 'doing', 'so', 'they', 'can', 'become', 'more', 'integrated', 'into', 'the', 'mainstream', 'environment', 'of', 'the', 'classroom', 'a', 'teacher', 's', 'aide', 'can', 'also', 'be', 'useful', 'to', 'the', 'student', 'the', 'aide', 'is', 'able', 'to', 'give', 'more', 'elaborate', 'directions', 'that', 'the', 'teacher', 'may', 'not', 'have', 'time', 'to', 'explain', 'to', 'the', 'autistic', 'child', 'the', 'aide', 'can', 'also', 'facilitate', 'the', 'autistic', 'child', 'in', 'such', 'a', 'way', 'as', 'to', 'allow', 'them', 'to', 'stay', 'at', 'a', 'similar', 'level', 'to', 'the', 'rest', 'of', 'the', 'class', 'this', 'allows', 'a', 'partially', 'one', 'on', 'one', 'lesson', 'structure', 'so', 'that', 'the', 'child', 'is', 'still', 'able', 'to', 'stay', 'in', 'a', 'normal', 'classroom', 'but', 'be', 'given', 'the', 'extra', 'help', 'that', 'they', 'need', 'there', 'are', 'many', 'different', 'techniques', 'that', 'teachers', 'can', 'use', 'to', 'assist', 'their', 'students', 'a', 'teacher', 'needs', 'to', 'become', 'familiar', 'with', 'the', 'child', 's', 'disorder', 'to', 'know', 'what', 'will', 'work', 'best', 'with', 'that', 'particular', 'child', 'every', 'child', 'is', 'going', 'to', 'be', 'different', 'and', 'teachers', 'have', 'to', 'be', 'able', 'to', 'adjust', 'with', 'every', 'one', 'of', 'them', 'students', 'with', 'autism', 'spectrum', 'disorders', 'typically', 'have', 'high', 'levels', 'of', 'anxiety', 'and', 'stress', 'particularly', 'in', 'social', 'environments', 'like', 'school', 'if', 'a', 'student', 'exhibits', 'aggressive', 'or', 'explosive', 'behavior', 'it', 'is', 'important', 'for', 'educational', 'teams', 'to', 'recognize', 'the', 'impact', 'of', 'stress', 'and', 'anxiety', 'preparing', 'students', 'for', 'new', 'situations', 'by', 'writing', 'social', 'stories', 'can', 'lower', 'anxiety', 'teaching', 'social', 'and', 'emotional', 'concepts', 'using', 'systematic', 'teaching', 'approaches', 'such', 'as', 'the', 'incredible', 'five', 'point', 'scale', 'or', 'other', 'cognitive', 'behavioral', 'strategies', 'can', 'increase', 'a', 'student', 's', 'ability', 'to', 'control', 'excessive', 'behavioral', 'reactions', 'dsm', 'definition', 'autism', 'is', 'defined', 'in', 'section', 'two', 'nine', 'nine', 'zero', 'zero', 'of', 'the', 'diagnostic', 'and', 'statistical', 'manual', 'of', 'mental', 'disorders', 'dsm', 'iv', 'as', 'a', 'total', 'of', 'six', 'or', 'more', 'items', 'from', 'one', 'two', 'and', 'three', 'with', 'at', 'least', 'two', 'from', 'one', 'and', 'one', 'each', 'from', 'two', 'and', 'three', 'qualitative', 'impairment', 'in', 'social', 'interaction', 'as', 'manifested', 'by', 'at', 'least', 'two', 'of', 'the', 'following', 'marked', 'impairment', 'in', 'the', 'use', 'of', 'multiple', 'nonverbal', 'behaviors', 'such', 'as', 'eye', 'to', 'eye', 'gaze', 'facial', 'expression', 'body', 'postures', 'and', 'gestures', 'to', 'regulate', 'social', 'interaction', 'failure', 'to', 'develop', 'peer', 'relationships', 'appropriate', 'to', 'developmental', 'level', 'a', 'lack', 'of', 'spontaneous', 'seeking', 'to', 'share', 'enjoyment', 'interests', 'or', 'achievements', 'with', 'other', 'people', 'e', 'g', 'by', 'a', 'lack', 'of', 'showing', 'bringing', 'or', 'pointing', 'out', 'objects', 'of', 'interest', 'lack', 'of', 'social', 'or', 'emotional']\n"
     ]
    }
   ],
   "source": [
    "dataset = api.load(\"text8\")\n",
    "data = [d for d in dataset]\n",
    "print(data[0])"
   ]
  },
  {
   "cell_type": "markdown",
   "metadata": {},
   "source": [
    "Pretrained model"
   ]
  },
  {
   "cell_type": "code",
   "execution_count": 15,
   "metadata": {},
   "outputs": [
    {
     "name": "stdout",
     "output_type": "stream",
     "text": [
      "[==================================================] 100.0% 66.0/66.0MB downloaded\n"
     ]
    },
    {
     "data": {
      "text/plain": [
       "[('red', 0.8901657462120056),\n",
       " ('black', 0.8648406863212585),\n",
       " ('pink', 0.845291793346405),\n",
       " ('green', 0.8346816301345825),\n",
       " ('yellow', 0.8320707082748413),\n",
       " ('purple', 0.8293111324310303),\n",
       " ('white', 0.8225342035293579),\n",
       " ('orange', 0.8114302158355713),\n",
       " ('bright', 0.799933910369873),\n",
       " ('colored', 0.7876655459403992)]"
      ]
     },
     "execution_count": 15,
     "metadata": {},
     "output_type": "execute_result"
    }
   ],
   "source": [
    "w2v_model = api.load(\"glove-wiki-gigaword-50\")\n",
    "w2v_model.most_similar('blue')"
   ]
  },
  {
   "cell_type": "markdown",
   "metadata": {},
   "source": [
    "## Word2Vec"
   ]
  },
  {
   "cell_type": "markdown",
   "metadata": {},
   "source": [
    "A word embedding model is a model that can provide numerical vectors for a given word. Using the Gensim’s downloader API, you can download pre-built word embedding models like word2vec, fasttext, GloVe and ConceptNet. These are built on large corpuses of commonly occurring text data such as wikipedia, google news etc.\n",
    "\n",
    "The training algorithms in the Gensim package were actually ported from the original Word2Vec implementation by Google and extended with additional functionality.\n",
    "\n",
    "This module implements the word2vec family of algorithms, using *highly optimized* C routines, data streaming and Pythonic interfaces.\n",
    "\n",
    "**Parameters:**\n",
    "\n",
    "- ```sentences``` - (iterable of iterables, optional) – The sentences iterable can be simply a *list of lists of tokens*, but for larger corpora, consider an *iterable* that streams the sentences directly from disk/network.\n",
    "- ```corpus_file``` (str, optional) – Path to a corpus file in LineSentence format. You may use this argument instead of sentences to get performance boost. *Only one of sentences or corpus_file arguments need to be passed* \n",
    "- ```size``` = 100 - Dimensionality of the word vectors.\n",
    "- ```window``` = 5 - Maximum distance between the current and predicted word within a sentence.\n",
    "- ```min_count``` = 5 (int, optional) – Ignores all words with total frequency lower than this.\n",
    "- ```workers``` = 3 (int, optional) – Use these many worker threads to train the model (=faster training with multicore machines).\n",
    "- ```sg``` = 0 ({0, 1}, optional) – Training algorithm: 1 for skip-gram; otherwise CBOW.\n",
    "- ```hs``` = 0 ({0, 1}, optional) – If 1, hierarchical softmax will be used for model training. If 0, and negative is non-zero, negative sampling will be used.\n",
    "- ```negative``` = 5 (int, optional) – If > 0, negative sampling will be used, the int for negative specifies how many “noise words” should be drawn (usually between 5-20). If set to 0, no negative sampling is used.\n",
    "- ```max_vocab_size``` = None (int, optional) Limits the RAM during vocabulary building; if there are more unique words than this, then prune the infrequent ones.\n",
    "- ```iter``` (int, optional) – Number of iterations (epochs) over the corpus."
   ]
  },
  {
   "cell_type": "code",
   "execution_count": 23,
   "metadata": {},
   "outputs": [],
   "source": [
    "import logging \n",
    "# Setting up the loggings to monitor gensim\n",
    "logging.basicConfig(format=\"%(levelname)s - %(asctime)s: %(message)s\", datefmt= '%H:%M:%S', level=logging.INFO)"
   ]
  },
  {
   "cell_type": "code",
   "execution_count": 24,
   "metadata": {
    "scrolled": true
   },
   "outputs": [
    {
     "name": "stderr",
     "output_type": "stream",
     "text": [
      "INFO - 21:36:00: collecting all words and their counts\n",
      "INFO - 21:36:00: PROGRESS: at sentence #0, processed 0 words, keeping 0 word types\n",
      "INFO - 21:36:07: collected 253854 word types from a corpus of 17005207 raw words and 1701 sentences\n",
      "INFO - 21:36:07: Loading a fresh vocabulary\n",
      "INFO - 21:36:08: effective_min_count=5 retains 71290 unique words (28% of original 253854, drops 182564)\n",
      "INFO - 21:36:08: effective_min_count=5 leaves 16718844 word corpus (98% of original 17005207, drops 286363)\n",
      "INFO - 21:36:08: deleting the raw counts dictionary of 253854 items\n",
      "INFO - 21:36:08: sample=0.001 downsamples 38 most-common words\n",
      "INFO - 21:36:08: downsampling leaves estimated 12506280 word corpus (74.8% of prior 16718844)\n",
      "INFO - 21:36:09: estimated required memory for 71290 words and 100 dimensions: 92677000 bytes\n",
      "INFO - 21:36:09: resetting layer weights\n",
      "INFO - 21:36:33: training model with 3 workers on 71290 vocabulary and 100 features, using sg=0 hs=0 sample=0.001 negative=5 window=5\n",
      "INFO - 21:36:34: EPOCH 1 - PROGRESS: at 4.94% examples, 613971 words/s, in_qsize 5, out_qsize 0\n",
      "INFO - 21:36:35: EPOCH 1 - PROGRESS: at 10.70% examples, 661033 words/s, in_qsize 5, out_qsize 0\n",
      "INFO - 21:36:36: EPOCH 1 - PROGRESS: at 15.46% examples, 634838 words/s, in_qsize 5, out_qsize 0\n",
      "INFO - 21:36:37: EPOCH 1 - PROGRESS: at 20.46% examples, 630048 words/s, in_qsize 5, out_qsize 0\n",
      "INFO - 21:36:38: EPOCH 1 - PROGRESS: at 25.22% examples, 623068 words/s, in_qsize 5, out_qsize 0\n",
      "INFO - 21:36:39: EPOCH 1 - PROGRESS: at 30.63% examples, 633323 words/s, in_qsize 3, out_qsize 2\n",
      "INFO - 21:36:40: EPOCH 1 - PROGRESS: at 35.98% examples, 639272 words/s, in_qsize 6, out_qsize 1\n",
      "INFO - 21:36:41: EPOCH 1 - PROGRESS: at 40.56% examples, 629857 words/s, in_qsize 5, out_qsize 0\n",
      "INFO - 21:36:42: EPOCH 1 - PROGRESS: at 45.68% examples, 630857 words/s, in_qsize 5, out_qsize 0\n",
      "INFO - 21:36:43: EPOCH 1 - PROGRESS: at 50.32% examples, 624478 words/s, in_qsize 4, out_qsize 1\n",
      "INFO - 21:36:44: EPOCH 1 - PROGRESS: at 55.44% examples, 624910 words/s, in_qsize 5, out_qsize 0\n",
      "INFO - 21:36:45: EPOCH 1 - PROGRESS: at 60.44% examples, 624943 words/s, in_qsize 6, out_qsize 0\n",
      "INFO - 21:36:46: EPOCH 1 - PROGRESS: at 65.55% examples, 625034 words/s, in_qsize 6, out_qsize 1\n",
      "INFO - 21:36:47: EPOCH 1 - PROGRESS: at 70.78% examples, 626853 words/s, in_qsize 5, out_qsize 0\n",
      "INFO - 21:36:48: EPOCH 1 - PROGRESS: at 75.84% examples, 626291 words/s, in_qsize 5, out_qsize 0\n",
      "INFO - 21:36:49: EPOCH 1 - PROGRESS: at 80.54% examples, 623229 words/s, in_qsize 6, out_qsize 2\n",
      "INFO - 21:36:50: EPOCH 1 - PROGRESS: at 85.30% examples, 621206 words/s, in_qsize 5, out_qsize 0\n",
      "INFO - 21:36:51: EPOCH 1 - PROGRESS: at 90.83% examples, 624761 words/s, in_qsize 5, out_qsize 0\n",
      "INFO - 21:36:52: EPOCH 1 - PROGRESS: at 95.88% examples, 624918 words/s, in_qsize 5, out_qsize 0\n",
      "INFO - 21:36:53: worker thread finished; awaiting finish of 2 more threads\n",
      "INFO - 21:36:53: worker thread finished; awaiting finish of 1 more threads\n",
      "INFO - 21:36:53: worker thread finished; awaiting finish of 0 more threads\n",
      "INFO - 21:36:53: EPOCH - 1 : training on 17005207 raw words (12504841 effective words) took 20.0s, 624949 effective words/s\n",
      "INFO - 21:36:54: EPOCH 2 - PROGRESS: at 5.70% examples, 703056 words/s, in_qsize 5, out_qsize 0\n",
      "INFO - 21:36:55: EPOCH 2 - PROGRESS: at 11.70% examples, 718772 words/s, in_qsize 5, out_qsize 0\n",
      "INFO - 21:36:56: EPOCH 2 - PROGRESS: at 17.34% examples, 713981 words/s, in_qsize 5, out_qsize 0\n",
      "INFO - 21:36:57: EPOCH 2 - PROGRESS: at 23.16% examples, 717773 words/s, in_qsize 5, out_qsize 0\n",
      "INFO - 21:36:58: EPOCH 2 - PROGRESS: at 28.92% examples, 718259 words/s, in_qsize 6, out_qsize 0\n",
      "INFO - 21:36:59: EPOCH 2 - PROGRESS: at 34.33% examples, 710095 words/s, in_qsize 5, out_qsize 1\n",
      "INFO - 21:37:00: EPOCH 2 - PROGRESS: at 38.68% examples, 685659 words/s, in_qsize 5, out_qsize 0\n",
      "INFO - 21:37:01: EPOCH 2 - PROGRESS: at 42.33% examples, 656258 words/s, in_qsize 5, out_qsize 0\n",
      "INFO - 21:37:02: EPOCH 2 - PROGRESS: at 46.27% examples, 637125 words/s, in_qsize 3, out_qsize 2\n",
      "INFO - 21:37:03: EPOCH 2 - PROGRESS: at 48.74% examples, 602562 words/s, in_qsize 6, out_qsize 0\n",
      "INFO - 21:37:04: EPOCH 2 - PROGRESS: at 52.15% examples, 586423 words/s, in_qsize 4, out_qsize 1\n",
      "INFO - 21:37:05: EPOCH 2 - PROGRESS: at 56.61% examples, 584135 words/s, in_qsize 6, out_qsize 0\n",
      "INFO - 21:37:06: EPOCH 2 - PROGRESS: at 61.73% examples, 587799 words/s, in_qsize 4, out_qsize 1\n",
      "INFO - 21:37:07: EPOCH 2 - PROGRESS: at 66.43% examples, 586889 words/s, in_qsize 5, out_qsize 0\n",
      "INFO - 21:37:08: EPOCH 2 - PROGRESS: at 71.37% examples, 588540 words/s, in_qsize 6, out_qsize 2\n",
      "INFO - 21:37:09: EPOCH 2 - PROGRESS: at 76.31% examples, 589412 words/s, in_qsize 5, out_qsize 0\n",
      "INFO - 21:37:10: EPOCH 2 - PROGRESS: at 81.13% examples, 589443 words/s, in_qsize 5, out_qsize 0\n",
      "INFO - 21:37:11: EPOCH 2 - PROGRESS: at 86.01% examples, 590391 words/s, in_qsize 5, out_qsize 0\n",
      "INFO - 21:37:12: EPOCH 2 - PROGRESS: at 91.59% examples, 595772 words/s, in_qsize 5, out_qsize 0\n",
      "INFO - 21:37:13: EPOCH 2 - PROGRESS: at 96.83% examples, 598353 words/s, in_qsize 5, out_qsize 0\n",
      "INFO - 21:37:13: worker thread finished; awaiting finish of 2 more threads\n",
      "INFO - 21:37:13: worker thread finished; awaiting finish of 1 more threads\n",
      "INFO - 21:37:13: worker thread finished; awaiting finish of 0 more threads\n",
      "INFO - 21:37:13: EPOCH - 2 : training on 17005207 raw words (12506328 effective words) took 20.8s, 600760 effective words/s\n",
      "INFO - 21:37:14: EPOCH 3 - PROGRESS: at 5.47% examples, 677902 words/s, in_qsize 6, out_qsize 0\n",
      "INFO - 21:37:15: EPOCH 3 - PROGRESS: at 8.47% examples, 522251 words/s, in_qsize 6, out_qsize 1\n",
      "INFO - 21:37:16: EPOCH 3 - PROGRESS: at 13.40% examples, 551397 words/s, in_qsize 5, out_qsize 0\n",
      "INFO - 21:37:17: EPOCH 3 - PROGRESS: at 18.93% examples, 584803 words/s, in_qsize 5, out_qsize 0\n",
      "INFO - 21:37:18: EPOCH 3 - PROGRESS: at 23.10% examples, 572661 words/s, in_qsize 6, out_qsize 0\n",
      "INFO - 21:37:19: EPOCH 3 - PROGRESS: at 27.45% examples, 564394 words/s, in_qsize 5, out_qsize 0\n",
      "INFO - 21:37:20: EPOCH 3 - PROGRESS: at 31.51% examples, 556389 words/s, in_qsize 4, out_qsize 1\n",
      "INFO - 21:37:22: EPOCH 3 - PROGRESS: at 36.45% examples, 564616 words/s, in_qsize 5, out_qsize 0\n",
      "INFO - 21:37:23: EPOCH 3 - PROGRESS: at 40.80% examples, 562128 words/s, in_qsize 5, out_qsize 0\n",
      "INFO - 21:37:24: EPOCH 3 - PROGRESS: at 45.56% examples, 565571 words/s, in_qsize 5, out_qsize 0\n",
      "INFO - 21:37:25: EPOCH 3 - PROGRESS: at 51.26% examples, 579012 words/s, in_qsize 5, out_qsize 0\n",
      "INFO - 21:37:26: EPOCH 3 - PROGRESS: at 56.67% examples, 587339 words/s, in_qsize 4, out_qsize 1\n",
      "INFO - 21:37:27: EPOCH 3 - PROGRESS: at 62.32% examples, 595801 words/s, in_qsize 5, out_qsize 0\n",
      "INFO - 21:37:28: EPOCH 3 - PROGRESS: at 67.90% examples, 603082 words/s, in_qsize 5, out_qsize 0\n",
      "INFO - 21:37:29: EPOCH 3 - PROGRESS: at 73.43% examples, 608967 words/s, in_qsize 5, out_qsize 2\n",
      "INFO - 21:37:30: EPOCH 3 - PROGRESS: at 79.19% examples, 614108 words/s, in_qsize 5, out_qsize 0\n",
      "INFO - 21:37:31: EPOCH 3 - PROGRESS: at 84.89% examples, 619472 words/s, in_qsize 5, out_qsize 0\n",
      "INFO - 21:37:32: EPOCH 3 - PROGRESS: at 90.71% examples, 624993 words/s, in_qsize 5, out_qsize 0\n",
      "INFO - 21:37:33: EPOCH 3 - PROGRESS: at 96.59% examples, 629877 words/s, in_qsize 5, out_qsize 0\n",
      "INFO - 21:37:33: worker thread finished; awaiting finish of 2 more threads\n",
      "INFO - 21:37:33: worker thread finished; awaiting finish of 1 more threads\n",
      "INFO - 21:37:33: worker thread finished; awaiting finish of 0 more threads\n",
      "INFO - 21:37:33: EPOCH - 3 : training on 17005207 raw words (12507285 effective words) took 19.8s, 632998 effective words/s\n",
      "INFO - 21:37:34: EPOCH 4 - PROGRESS: at 5.53% examples, 683530 words/s, in_qsize 5, out_qsize 0\n",
      "INFO - 21:37:35: EPOCH 4 - PROGRESS: at 11.35% examples, 697623 words/s, in_qsize 5, out_qsize 0\n",
      "INFO - 21:37:36: EPOCH 4 - PROGRESS: at 17.11% examples, 701924 words/s, in_qsize 5, out_qsize 0\n",
      "INFO - 21:37:37: EPOCH 4 - PROGRESS: at 22.99% examples, 709302 words/s, in_qsize 5, out_qsize 0\n",
      "INFO - 21:37:38: EPOCH 4 - PROGRESS: at 28.87% examples, 715357 words/s, in_qsize 5, out_qsize 0\n",
      "INFO - 21:37:39: EPOCH 4 - PROGRESS: at 34.57% examples, 716182 words/s, in_qsize 5, out_qsize 0\n"
     ]
    },
    {
     "name": "stderr",
     "output_type": "stream",
     "text": [
      "INFO - 21:37:40: EPOCH 4 - PROGRESS: at 40.51% examples, 720051 words/s, in_qsize 6, out_qsize 0\n",
      "INFO - 21:37:41: EPOCH 4 - PROGRESS: at 46.15% examples, 718364 words/s, in_qsize 5, out_qsize 0\n",
      "INFO - 21:37:42: EPOCH 4 - PROGRESS: at 52.03% examples, 718907 words/s, in_qsize 4, out_qsize 1\n",
      "INFO - 21:37:43: EPOCH 4 - PROGRESS: at 57.97% examples, 721033 words/s, in_qsize 5, out_qsize 0\n",
      "INFO - 21:37:44: EPOCH 4 - PROGRESS: at 63.73% examples, 721238 words/s, in_qsize 6, out_qsize 0\n",
      "INFO - 21:37:45: EPOCH 4 - PROGRESS: at 69.43% examples, 720144 words/s, in_qsize 4, out_qsize 1\n",
      "INFO - 21:37:46: EPOCH 4 - PROGRESS: at 75.49% examples, 721939 words/s, in_qsize 5, out_qsize 0\n",
      "INFO - 21:37:47: EPOCH 4 - PROGRESS: at 81.36% examples, 722033 words/s, in_qsize 5, out_qsize 0\n",
      "INFO - 21:37:48: EPOCH 4 - PROGRESS: at 87.18% examples, 721972 words/s, in_qsize 5, out_qsize 0\n",
      "INFO - 21:37:49: EPOCH 4 - PROGRESS: at 93.12% examples, 722843 words/s, in_qsize 5, out_qsize 0\n",
      "INFO - 21:37:50: EPOCH 4 - PROGRESS: at 99.00% examples, 723049 words/s, in_qsize 5, out_qsize 0\n",
      "INFO - 21:37:50: worker thread finished; awaiting finish of 2 more threads\n",
      "INFO - 21:37:50: worker thread finished; awaiting finish of 1 more threads\n",
      "INFO - 21:37:50: worker thread finished; awaiting finish of 0 more threads\n",
      "INFO - 21:37:50: EPOCH - 4 : training on 17005207 raw words (12506520 effective words) took 17.3s, 722761 effective words/s\n",
      "INFO - 21:37:52: EPOCH 5 - PROGRESS: at 5.64% examples, 694125 words/s, in_qsize 6, out_qsize 1\n",
      "INFO - 21:37:53: EPOCH 5 - PROGRESS: at 9.76% examples, 597871 words/s, in_qsize 5, out_qsize 0\n",
      "INFO - 21:37:54: EPOCH 5 - PROGRESS: at 14.93% examples, 611762 words/s, in_qsize 5, out_qsize 0\n",
      "INFO - 21:37:55: EPOCH 5 - PROGRESS: at 20.16% examples, 621861 words/s, in_qsize 5, out_qsize 0\n",
      "INFO - 21:37:56: EPOCH 5 - PROGRESS: at 25.98% examples, 643764 words/s, in_qsize 6, out_qsize 1\n",
      "INFO - 21:37:57: EPOCH 5 - PROGRESS: at 31.51% examples, 651813 words/s, in_qsize 6, out_qsize 1\n",
      "INFO - 21:37:58: EPOCH 5 - PROGRESS: at 36.39% examples, 646805 words/s, in_qsize 3, out_qsize 2\n",
      "INFO - 21:37:59: EPOCH 5 - PROGRESS: at 39.86% examples, 620002 words/s, in_qsize 6, out_qsize 1\n",
      "INFO - 21:38:00: EPOCH 5 - PROGRESS: at 44.50% examples, 614316 words/s, in_qsize 5, out_qsize 0\n",
      "INFO - 21:38:01: EPOCH 5 - PROGRESS: at 48.74% examples, 605767 words/s, in_qsize 5, out_qsize 0\n",
      "INFO - 21:38:02: EPOCH 5 - PROGRESS: at 53.26% examples, 601913 words/s, in_qsize 5, out_qsize 0\n",
      "INFO - 21:38:03: EPOCH 5 - PROGRESS: at 58.14% examples, 602151 words/s, in_qsize 6, out_qsize 0\n",
      "INFO - 21:38:04: EPOCH 5 - PROGRESS: at 62.67% examples, 599255 words/s, in_qsize 5, out_qsize 0\n",
      "INFO - 21:38:05: EPOCH 5 - PROGRESS: at 66.67% examples, 591667 words/s, in_qsize 5, out_qsize 0\n",
      "INFO - 21:38:06: EPOCH 5 - PROGRESS: at 70.55% examples, 584723 words/s, in_qsize 5, out_qsize 0\n",
      "INFO - 21:38:07: EPOCH 5 - PROGRESS: at 76.07% examples, 590758 words/s, in_qsize 5, out_qsize 0\n",
      "INFO - 21:38:08: EPOCH 5 - PROGRESS: at 81.60% examples, 595496 words/s, in_qsize 6, out_qsize 0\n",
      "INFO - 21:38:09: EPOCH 5 - PROGRESS: at 86.36% examples, 594771 words/s, in_qsize 5, out_qsize 0\n",
      "INFO - 21:38:10: EPOCH 5 - PROGRESS: at 92.12% examples, 600600 words/s, in_qsize 5, out_qsize 0\n",
      "INFO - 21:38:11: EPOCH 5 - PROGRESS: at 98.00% examples, 606789 words/s, in_qsize 5, out_qsize 0\n",
      "INFO - 21:38:11: worker thread finished; awaiting finish of 2 more threads\n",
      "INFO - 21:38:11: worker thread finished; awaiting finish of 1 more threads\n",
      "INFO - 21:38:11: worker thread finished; awaiting finish of 0 more threads\n",
      "INFO - 21:38:11: EPOCH - 5 : training on 17005207 raw words (12507367 effective words) took 20.5s, 608974 effective words/s\n",
      "INFO - 21:38:11: training on a 85026035 raw words (62532341 effective words) took 98.5s, 635028 effective words/s\n"
     ]
    }
   ],
   "source": [
    "dataset = api.load(\"text8\")\n",
    "data = [d for d in dataset]\n",
    "\n",
    "# Train Word2Vec model\n",
    "model = Word2Vec(data)"
   ]
  },
  {
   "cell_type": "markdown",
   "metadata": {},
   "source": [
    "```Word2Vec``` without ```sentences``` or ```corpus``` is initialization only, should be trained"
   ]
  },
  {
   "cell_type": "code",
   "execution_count": 16,
   "metadata": {},
   "outputs": [],
   "source": [
    "model = Word2Vec()\n",
    "model.train(data)"
   ]
  },
  {
   "cell_type": "markdown",
   "metadata": {},
   "source": [
    "**Save and load model**"
   ]
  },
  {
   "cell_type": "code",
   "execution_count": 26,
   "metadata": {},
   "outputs": [
    {
     "name": "stderr",
     "output_type": "stream",
     "text": [
      "INFO - 21:38:12: saving Word2Vec object under w2v_newmodel, separately None\n",
      "INFO - 21:38:12: not storing attribute vectors_norm\n",
      "INFO - 21:38:12: not storing attribute cum_table\n",
      "INFO - 21:38:14: saved w2v_newmodel\n",
      "INFO - 21:38:14: loading Word2Vec object from w2v_newmodel\n",
      "INFO - 21:38:17: loading wv recursively from w2v_newmodel.wv.* with mmap=None\n",
      "INFO - 21:38:17: setting ignored attribute vectors_norm to None\n",
      "INFO - 21:38:17: loading vocabulary recursively from w2v_newmodel.vocabulary.* with mmap=None\n",
      "INFO - 21:38:17: loading trainables recursively from w2v_newmodel.trainables.* with mmap=None\n",
      "INFO - 21:38:17: setting ignored attribute cum_table to None\n",
      "INFO - 21:38:17: loaded w2v_newmodel\n"
     ]
    }
   ],
   "source": [
    "model.save('w2v_newmodel')\n",
    "model = Word2Vec.load('w2v_newmodel')"
   ]
  },
  {
   "cell_type": "markdown",
   "metadata": {},
   "source": [
    "You can **continue trainig**"
   ]
  },
  {
   "cell_type": "code",
   "execution_count": 25,
   "metadata": {},
   "outputs": [
    {
     "name": "stderr",
     "output_type": "stream",
     "text": [
      "WARNING - 21:38:12: Effective 'alpha' higher than previous training cycles\n",
      "INFO - 21:38:12: training model with 3 workers on 71290 vocabulary and 100 features, using sg=0 hs=0 sample=0.001 negative=5 window=5\n",
      "INFO - 21:38:12: worker thread finished; awaiting finish of 2 more threads\n",
      "INFO - 21:38:12: worker thread finished; awaiting finish of 1 more threads\n",
      "INFO - 21:38:12: worker thread finished; awaiting finish of 0 more threads\n",
      "INFO - 21:38:12: EPOCH - 1 : training on 2 raw words (2 effective words) took 0.0s, 294 effective words/s\n",
      "INFO - 21:38:12: training on a 2 raw words (2 effective words) took 0.0s, 103 effective words/s\n",
      "WARNING - 21:38:12: under 10 jobs per worker: consider setting a smaller `batch_words' for smoother alpha decay\n"
     ]
    },
    {
     "data": {
      "text/plain": [
       "(2, 2)"
      ]
     },
     "execution_count": 25,
     "metadata": {},
     "output_type": "execute_result"
    }
   ],
   "source": [
    "model.train([[\"hello\", \"world\"]], total_examples=1, epochs=1)"
   ]
  },
  {
   "cell_type": "markdown",
   "metadata": {},
   "source": [
    "**Word2vec input**\n",
    "\n",
    "\n",
    "1) Parameter ```sentences```\n",
    "\n",
    "Gensim’s word2vec expects a sequence of sentences as its input. Each sentence a list of words\n",
    "\n",
    "   1.1 *List of list of tokens*"
   ]
  },
  {
   "cell_type": "code",
   "execution_count": 34,
   "metadata": {
    "scrolled": true
   },
   "outputs": [
    {
     "name": "stderr",
     "output_type": "stream",
     "text": [
      "INFO - 21:44:41: collecting all words and their counts\n",
      "INFO - 21:44:41: PROGRESS: at sentence #0, processed 0 words, keeping 0 word types\n",
      "INFO - 21:44:41: collected 3 word types from a corpus of 4 raw words and 2 sentences\n",
      "INFO - 21:44:41: Loading a fresh vocabulary\n",
      "INFO - 21:44:41: effective_min_count=1 retains 3 unique words (100% of original 3, drops 0)\n",
      "INFO - 21:44:41: effective_min_count=1 leaves 4 word corpus (100% of original 4, drops 0)\n",
      "INFO - 21:44:41: deleting the raw counts dictionary of 3 items\n",
      "INFO - 21:44:41: sample=0.001 downsamples 3 most-common words\n",
      "INFO - 21:44:41: downsampling leaves estimated 0 word corpus (5.7% of prior 4)\n",
      "INFO - 21:44:41: estimated required memory for 3 words and 100 dimensions: 3900 bytes\n",
      "INFO - 21:44:41: resetting layer weights\n",
      "INFO - 21:44:41: training model with 3 workers on 3 vocabulary and 100 features, using sg=0 hs=0 sample=0.001 negative=5 window=5\n",
      "INFO - 21:44:41: worker thread finished; awaiting finish of 2 more threads\n",
      "INFO - 21:44:41: worker thread finished; awaiting finish of 1 more threads\n",
      "INFO - 21:44:41: worker thread finished; awaiting finish of 0 more threads\n",
      "INFO - 21:44:41: EPOCH - 1 : training on 4 raw words (0 effective words) took 0.0s, 0 effective words/s\n",
      "INFO - 21:44:41: worker thread finished; awaiting finish of 2 more threads\n",
      "INFO - 21:44:41: worker thread finished; awaiting finish of 1 more threads\n",
      "INFO - 21:44:41: worker thread finished; awaiting finish of 0 more threads\n",
      "INFO - 21:44:41: EPOCH - 2 : training on 4 raw words (0 effective words) took 0.0s, 0 effective words/s\n",
      "INFO - 21:44:41: worker thread finished; awaiting finish of 2 more threads\n",
      "INFO - 21:44:41: worker thread finished; awaiting finish of 1 more threads\n",
      "INFO - 21:44:41: worker thread finished; awaiting finish of 0 more threads\n",
      "INFO - 21:44:41: EPOCH - 3 : training on 4 raw words (1 effective words) took 0.0s, 144 effective words/s\n",
      "INFO - 21:44:41: worker thread finished; awaiting finish of 2 more threads\n",
      "INFO - 21:44:41: worker thread finished; awaiting finish of 1 more threads\n",
      "INFO - 21:44:41: worker thread finished; awaiting finish of 0 more threads\n",
      "INFO - 21:44:41: EPOCH - 4 : training on 4 raw words (0 effective words) took 0.0s, 0 effective words/s\n",
      "INFO - 21:44:42: worker thread finished; awaiting finish of 2 more threads\n",
      "INFO - 21:44:42: worker thread finished; awaiting finish of 1 more threads\n",
      "INFO - 21:44:42: worker thread finished; awaiting finish of 0 more threads\n",
      "INFO - 21:44:42: EPOCH - 5 : training on 4 raw words (0 effective words) took 0.0s, 0 effective words/s\n",
      "INFO - 21:44:42: training on a 20 raw words (1 effective words) took 0.1s, 12 effective words/s\n",
      "WARNING - 21:44:42: under 10 jobs per worker: consider setting a smaller `batch_words' for smoother alpha decay\n"
     ]
    }
   ],
   "source": [
    "input1 = [['first', 'sentence'], ['second', 'sentence']]\n",
    "model1 = Word2Vec(input1, min_count=1)"
   ]
  },
  {
   "cell_type": "markdown",
   "metadata": {},
   "source": [
    "1.2 Gensim only requires that the input must provide sentences sequentially, when iterated over. *No need to keep everything in RAM*"
   ]
  },
  {
   "cell_type": "code",
   "execution_count": null,
   "metadata": {},
   "outputs": [],
   "source": [
    "class MySentences(object):\n",
    "    def __init__(self, dirname):\n",
    "        self.dirname = dirname\n",
    " \n",
    "    def __iter__(self):\n",
    "        for fname in os.listdir(self.dirname):\n",
    "            for line in open(os.path.join(self.dirname, fname)):\n",
    "                yield line.split()\n",
    "                \n",
    "input2 = MySentences('/some/directory') # a memory-friendly iterator\n",
    "model = gensim.models.Word2Vec(input2)"
   ]
  },
  {
   "cell_type": "markdown",
   "metadata": {},
   "source": [
    "See [BrownCorpus](https://radimrehurek.com/gensim/models/word2vec.html#gensim.models.word2vec.BrownCorpus), [Text8Corpus](https://radimrehurek.com/gensim/models/word2vec.html#gensim.models.word2vec.Text8Corpus) or [LineSentence](https://radimrehurek.com/gensim/models/word2vec.html#gensim.models.word2vec.LineSentence) in word2vec module for such examples.\n",
    "\n",
    "BrownCorpus and Text8Corpus were implemented special for BrownCorpus and Text8 datasets. Text8 corpus, for example, consists of one line of cleaned and joined wikipedia articles.\n",
    "\n",
    "LineSentence iterate over a file that contains sentences: one line = one sentence. Words must be already preprocessed and separated by whitespace."
   ]
  },
  {
   "cell_type": "code",
   "execution_count": null,
   "metadata": {},
   "outputs": [],
   "source": [
    "from gensim.test.utils import datapath\n",
    "from gensim.models.word2vec importLineSentence\n",
    "\n",
    "input3 = LineSentence(datapath('lee_background.cor'))\n",
    "model = gensim.models.Word2Vec(input3)"
   ]
  },
  {
   "cell_type": "markdown",
   "metadata": {},
   "source": [
    "2. Parameter ```corpus_file``` - path to a corpus file in LineSentence format\n",
    "\n",
    "If corpus is in right format, parameter corpus_file may be passed instead of last cell"
   ]
  },
  {
   "cell_type": "markdown",
   "metadata": {},
   "source": [
    "## Exploring the model"
   ]
  },
  {
   "cell_type": "markdown",
   "metadata": {},
   "source": [
    "- Extract the trained word vectors from model.wv:"
   ]
  },
  {
   "cell_type": "code",
   "execution_count": 19,
   "metadata": {},
   "outputs": [
    {
     "data": {
      "text/plain": [
       "array([-0.9116209 ,  0.76353014,  0.6720918 ,  1.1859015 ,  0.68622196,\n",
       "        1.1805097 ,  0.6357555 , -0.03566878, -0.61359787, -0.8718574 ,\n",
       "        0.652692  , -0.04561124,  0.5598307 ,  0.9242337 , -1.4690322 ,\n",
       "        0.22043759,  0.80602527, -0.868186  , -0.12753902, -0.06760293,\n",
       "        0.4953544 , -0.38806862,  1.5687288 , -0.30487606,  2.2516096 ,\n",
       "       -1.6864485 ,  0.44446105,  1.0207226 , -0.29092094,  0.43139705,\n",
       "        0.26387596, -2.011847  , -1.0975704 ,  0.9253219 , -1.9253153 ,\n",
       "        0.6592959 ,  2.0866177 ,  0.06789557, -0.2630213 , -1.0449048 ,\n",
       "        1.7788374 , -1.7338845 , -0.9940762 ,  0.65088135, -0.3835365 ,\n",
       "        0.4743413 , -0.9915545 ,  0.34806243, -0.10273027, -0.62624365,\n",
       "        0.01318653, -0.04616779, -0.44287038,  0.9173674 ,  0.40987295,\n",
       "        1.3166438 ,  0.310701  ,  0.71503466, -1.0450833 ,  0.07349207,\n",
       "        0.719098  , -0.3179902 ,  0.59884137,  1.0848142 , -0.29605114,\n",
       "        0.02436474, -0.57979673,  0.5711215 ,  2.0835128 , -0.8788457 ,\n",
       "       -0.65752226, -0.42008758, -0.64448947, -0.00968241, -0.60093814,\n",
       "       -0.28974134, -0.2811142 ,  0.26777375, -0.09856834,  1.4503781 ,\n",
       "       -0.21547379, -0.18431015, -0.10752828,  0.5361501 , -0.4110713 ,\n",
       "        0.7880922 ,  0.24924526, -0.33394724, -1.457662  , -0.32799584,\n",
       "       -0.09707395, -0.3232069 ,  1.4391737 ,  0.5056643 , -0.4035755 ,\n",
       "       -0.42705032,  0.85882187, -0.10238931, -0.13309367, -2.4721813 ],\n",
       "      dtype=float32)"
      ]
     },
     "execution_count": 19,
     "metadata": {},
     "output_type": "execute_result"
    }
   ],
   "source": [
    "model.wv['topic']"
   ]
  },
  {
   "cell_type": "markdown",
   "metadata": {},
   "source": [
    "- Similarity"
   ]
  },
  {
   "cell_type": "code",
   "execution_count": 21,
   "metadata": {},
   "outputs": [
    {
     "data": {
      "text/plain": [
       "[('discussion', 0.7259880304336548),\n",
       " ('discourse', 0.6891059279441833),\n",
       " ('debate', 0.6597331762313843),\n",
       " ('interpretation', 0.6579047441482544),\n",
       " ('comment', 0.654038667678833),\n",
       " ('subject', 0.6490315198898315),\n",
       " ('viewpoint', 0.6357095241546631),\n",
       " ('misunderstanding', 0.6349965333938599),\n",
       " ('discussions', 0.6340876221656799),\n",
       " ('commentary', 0.6307163238525391)]"
      ]
     },
     "execution_count": 21,
     "metadata": {},
     "output_type": "execute_result"
    }
   ],
   "source": [
    "model.wv.most_similar(positive = ['topic'])"
   ]
  },
  {
   "cell_type": "code",
   "execution_count": 80,
   "metadata": {},
   "outputs": [
    {
     "name": "stdout",
     "output_type": "stream",
     "text": [
      "Similarity between (walk, walking):  0.7154655820526513\n",
      "Similarity between (duck, ducks):  0.7508801808704236\n",
      "Similarity between (banana, pear):  0.7704371854673051\n",
      "\n",
      "Similarity between (banana, sky):  0.1269163860707912\n",
      "Similarity between (walk, lie):  0.22455184386987476\n",
      "Similarity between (dark, slow):  0.24851554413785346\n"
     ]
    }
   ],
   "source": [
    "print('Similarity between (walk, walking): ', model.wv.similarity('walk', 'walking'))\n",
    "print('Similarity between (duck, ducks): ', model.wv.similarity('duck', 'ducks'))\n",
    "print('Similarity between (banana, pear): ', model.wv.similarity('banana', 'pear'))\n",
    "print()\n",
    "print('Similarity between (banana, sky): ', model.wv.similarity('banana', 'sky'))\n",
    "print('Similarity between (walk, lie): ', model.wv.similarity('walk', 'lie'))\n",
    "print('Similarity between (dark, slow): ', model.wv.similarity('dark', 'slow'))"
   ]
  },
  {
   "cell_type": "markdown",
   "metadata": {},
   "source": [
    "- Analogy"
   ]
  },
  {
   "cell_type": "code",
   "execution_count": 28,
   "metadata": {},
   "outputs": [
    {
     "data": {
      "text/plain": [
       "[('taller', 0.6156757473945618),\n",
       " ('brighter', 0.5981073379516602),\n",
       " ('shallower', 0.584308922290802),\n",
       " ('feet', 0.572521448135376),\n",
       " ('upper', 0.5704020857810974),\n",
       " ('foot', 0.5655150413513184),\n",
       " ('hind', 0.5584174394607544),\n",
       " ('thicker', 0.5536401271820068),\n",
       " ('lip', 0.5493001341819763),\n",
       " ('aisle', 0.5444109439849854)]"
      ]
     },
     "execution_count": 28,
     "metadata": {},
     "output_type": "execute_result"
    }
   ],
   "source": [
    "model.wv.most_similar(positive = ['lower', 'tall'], negative = ['low'])"
   ]
  },
  {
   "cell_type": "code",
   "execution_count": 93,
   "metadata": {},
   "outputs": [
    {
     "data": {
      "text/plain": [
       "[('father', 0.7658834457397461),\n",
       " ('lover', 0.6715303659439087),\n",
       " ('grandfather', 0.6457886695861816),\n",
       " ('neighbor', 0.6330509185791016),\n",
       " ('grandmother', 0.630250096321106),\n",
       " ('son', 0.628896176815033),\n",
       " ('mistress', 0.6158114671707153),\n",
       " ('uncle', 0.6074668169021606),\n",
       " ('faramir', 0.6050997972488403),\n",
       " ('corpse', 0.602986216545105)]"
      ]
     },
     "execution_count": 93,
     "metadata": {},
     "output_type": "execute_result"
    }
   ],
   "source": [
    "model.wv.most_similar(positive = ['mother', 'man'], negative = ['woman'])"
   ]
  },
  {
   "cell_type": "markdown",
   "metadata": {},
   "source": [
    "- Matching"
   ]
  },
  {
   "cell_type": "code",
   "execution_count": 86,
   "metadata": {},
   "outputs": [
    {
     "name": "stdout",
     "output_type": "stream",
     "text": [
      "bed  doesn't match to [car, airplane]\n",
      "roof  doesn't match to [red, blue]\n"
     ]
    }
   ],
   "source": [
    "print(model.wv.doesnt_match(['car', 'airplane', 'bed']), \" doesn't match to [car, airplane]\")\n",
    "print(model.wv.doesnt_match(['red', 'blue', 'roof']), \" doesn't match to [red, blue]\")"
   ]
  },
  {
   "cell_type": "markdown",
   "metadata": {},
   "source": [
    "## Compare with other pretrained embeddings"
   ]
  },
  {
   "cell_type": "code",
   "execution_count": 41,
   "metadata": {},
   "outputs": [],
   "source": [
    "fasttext_model300 = api.load('fasttext-wiki-news-subwords-300')\n",
    "word2vec_model300 = api.load('word2vec-google-news-300')\n",
    "glove_model300 = api.load('glove-wiki-gigaword-300')"
   ]
  },
  {
   "cell_type": "markdown",
   "metadata": {},
   "source": [
    "To define which one performs better using the respective model's evaluate_word_analogies() \n",
    "\n",
    "Compute performance of the model on an analogy test set. The accuracy is reported (printed to log and returned as a score) for each section separately, plus there’s one aggregate summary at the end. \n",
    "\n",
    "Input:\n",
    "- ```analogies``` (str) – Path to file, where lines are 4-tuples of words, split into sections by “: SECTION NAME” lines. See [this file](https://github.com/RaRe-Technologies/gensim/blob/develop/docs/notebooks/datasets/questions-words.txt) as example.\n",
    "\n",
    "Output:\n",
    "- ```score``` (float) – The overall evaluation score on the entire evaluation set\n",
    "\n",
    "- ```sections``` (list of dict of {str : str or list of tuple of (str, str, str, str)}) – Results broken down by each section of the evaluation set. Each dict contains the name of the section under the key ‘section’, and lists of correctly and incorrectly predicted 4-tuples of words under the keys ‘correct’ and ‘incorrect’."
   ]
  },
  {
   "cell_type": "code",
   "execution_count": 38,
   "metadata": {},
   "outputs": [
    {
     "name": "stdout",
     "output_type": "stream",
     "text": [
      ": capital-common-countries\n",
      "\n",
      "Athens Greece Baghdad Iraq\n",
      "\n",
      "Athens Greece Bangkok Thailand\n",
      "\n",
      "Athens Greece Beijing China\n",
      "\n",
      "Athens Greece Berlin Germany\n",
      "\n"
     ]
    }
   ],
   "source": [
    "f = open('questions-words.txt', 'r')\n",
    "for i in range(5):\n",
    "    print(f.readline())\n",
    "f.close()"
   ]
  },
  {
   "cell_type": "code",
   "execution_count": 42,
   "metadata": {},
   "outputs": [
    {
     "name": "stdout",
     "output_type": "stream",
     "text": [
      "0.7401448525607863\n",
      "0.8827876424099353\n",
      "0.7195422354510931\n"
     ]
    }
   ],
   "source": [
    "word2vec_model300.evaluate_word_analogies(analogies='questions-words.txt')[0]\n",
    "\n",
    "# fasttext_accuracy\n",
    "fasttext_model300.evaluate_word_analogies(analogies='questions-words.txt')[0]\n",
    "\n",
    "# GloVe accuracy\n",
    "glove_model300.evaluate_word_analogies(analogies='questions-words.txt')[0]"
   ]
  },
  {
   "cell_type": "markdown",
   "metadata": {},
   "source": [
    "## Doc2Vec\n",
    "\n",
    "Unlike Word2Vec, a Doc2Vec model provides a vectorised representation of a group of words taken collectively as a single unit. It is not a simple average of the word vectors of the words in the sentence.\n",
    "\n",
    "The training data for ```Doc2Vec``` should be a list of ```TaggedDocuments```. To create one, we pass a list of words and a unique integer as input to the ```models.doc2vec.TaggedDocument()```."
   ]
  },
  {
   "cell_type": "code",
   "execution_count": 47,
   "metadata": {},
   "outputs": [
    {
     "name": "stdout",
     "output_type": "stream",
     "text": [
      "[TaggedDocument(words=['anarchism', 'originated', 'as', 'a', 'term', 'of', 'abuse', 'first', 'used', 'against', 'early', 'working', 'class', 'radicals', 'including', 'the', 'diggers', 'of', 'the', 'english', 'revolution', 'and', 'the', 'sans', 'culottes', 'of', 'the', 'french', 'revolution', 'whilst', 'the', 'term', 'is', 'still', 'used', 'in', 'a', 'pejorative', 'way', 'to', 'describe', 'any', 'act', 'that', 'used', 'violent', 'means', 'to', 'destroy', 'the', 'organization', 'of', 'society', 'it', 'has', 'also', 'been', 'taken', 'up', 'as', 'a', 'positive', 'label', 'by', 'self', 'defined', 'anarchists', 'the', 'word', 'anarchism', 'is', 'derived', 'from', 'the', 'greek', 'without', 'archons', 'ruler', 'chief', 'king', 'anarchism', 'as', 'a', 'political', 'philosophy', 'is', 'the', 'belief', 'that', 'rulers', 'are', 'unnecessary', 'and', 'should', 'be', 'abolished', 'although', 'there', 'are', 'differing', 'interpretations', 'of', 'what', 'this', 'means', 'anarchism', 'also', 'refers', 'to', 'related', 'social', 'movements', 'that', 'advocate', 'the', 'elimination', 'of', 'authoritarian', 'institutions', 'particularly', 'the', 'state', 'the', 'word', 'anarchy', 'as', 'most', 'anarchists', 'use', 'it', 'does', 'not', 'imply', 'chaos', 'nihilism', 'or', 'anomie', 'but', 'rather', 'a', 'harmonious', 'anti', 'authoritarian', 'society', 'in', 'place', 'of', 'what', 'are', 'regarded', 'as', 'authoritarian', 'political', 'structures', 'and', 'coercive', 'economic', 'institutions', 'anarchists', 'advocate', 'social', 'relations', 'based', 'upon', 'voluntary', 'association', 'of', 'autonomous', 'individuals', 'mutual', 'aid', 'and', 'self', 'governance', 'while', 'anarchism', 'is', 'most', 'easily', 'defined', 'by', 'what', 'it', 'is', 'against', 'anarchists', 'also', 'offer', 'positive', 'visions', 'of', 'what', 'they', 'believe', 'to', 'be', 'a', 'truly', 'free', 'society', 'however', 'ideas', 'about', 'how', 'an', 'anarchist', 'society', 'might', 'work', 'vary', 'considerably', 'especially', 'with', 'respect', 'to', 'economics', 'there', 'is', 'also', 'disagreement', 'about', 'how', 'a', 'free', 'society', 'might', 'be', 'brought', 'about', 'origins', 'and', 'predecessors', 'kropotkin', 'and', 'others', 'argue', 'that', 'before', 'recorded', 'history', 'human', 'society', 'was', 'organized', 'on', 'anarchist', 'principles', 'most', 'anthropologists', 'follow', 'kropotkin', 'and', 'engels', 'in', 'believing', 'that', 'hunter', 'gatherer', 'bands', 'were', 'egalitarian', 'and', 'lacked', 'division', 'of', 'labour', 'accumulated', 'wealth', 'or', 'decreed', 'law', 'and', 'had', 'equal', 'access', 'to', 'resources', 'william', 'godwin', 'anarchists', 'including', 'the', 'the', 'anarchy', 'organisation', 'and', 'rothbard', 'find', 'anarchist', 'attitudes', 'in', 'taoism', 'from', 'ancient', 'china', 'kropotkin', 'found', 'similar', 'ideas', 'in', 'stoic', 'zeno', 'of', 'citium', 'according', 'to', 'kropotkin', 'zeno', 'repudiated', 'the', 'omnipotence', 'of', 'the', 'state', 'its', 'intervention', 'and', 'regimentation', 'and', 'proclaimed', 'the', 'sovereignty', 'of', 'the', 'moral', 'law', 'of', 'the', 'individual', 'the', 'anabaptists', 'of', 'one', 'six', 'th', 'century', 'europe', 'are', 'sometimes', 'considered', 'to', 'be', 'religious', 'forerunners', 'of', 'modern', 'anarchism', 'bertrand', 'russell', 'in', 'his', 'history', 'of', 'western', 'philosophy', 'writes', 'that', 'the', 'anabaptists', 'repudiated', 'all', 'law', 'since', 'they', 'held', 'that', 'the', 'good', 'man', 'will', 'be', 'guided', 'at', 'every', 'moment', 'by', 'the', 'holy', 'spirit', 'from', 'this', 'premise', 'they', 'arrive', 'at', 'communism', 'the', 'diggers', 'or', 'true', 'levellers', 'were', 'an', 'early', 'communistic', 'movement', 'during', 'the', 'time', 'of', 'the', 'english', 'civil', 'war', 'and', 'are', 'considered', 'by', 'some', 'as', 'forerunners', 'of', 'modern', 'anarchism', 'in', 'the', 'modern', 'era', 'the', 'first', 'to', 'use', 'the', 'term', 'to', 'mean', 'something', 'other', 'than', 'chaos', 'was', 'louis', 'armand', 'baron', 'de', 'lahontan', 'in', 'his', 'nouveaux', 'voyages', 'dans', 'l', 'am', 'rique', 'septentrionale', 'one', 'seven', 'zero', 'three', 'where', 'he', 'described', 'the', 'indigenous', 'american', 'society', 'which', 'had', 'no', 'state', 'laws', 'prisons', 'priests', 'or', 'private', 'property', 'as', 'being', 'in', 'anarchy', 'russell', 'means', 'a', 'libertarian', 'and', 'leader', 'in', 'the', 'american', 'indian', 'movement', 'has', 'repeatedly', 'stated', 'that', 'he', 'is', 'an', 'anarchist', 'and', 'so', 'are', 'all', 'his', 'ancestors', 'in', 'one', 'seven', 'nine', 'three', 'in', 'the', 'thick', 'of', 'the', 'french', 'revolution', 'william', 'godwin', 'published', 'an', 'enquiry', 'concerning', 'political', 'justice', 'although', 'godwin', 'did', 'not', 'use', 'the', 'word', 'anarchism', 'many', 'later', 'anarchists', 'have', 'regarded', 'this', 'book', 'as', 'the', 'first', 'major', 'anarchist', 'text', 'and', 'godwin', 'as', 'the', 'founder', 'of', 'philosophical', 'anarchism', 'but', 'at', 'this', 'point', 'no', 'anarchist', 'movement', 'yet', 'existed', 'and', 'the', 'term', 'anarchiste', 'was', 'known', 'mainly', 'as', 'an', 'insult', 'hurled', 'by', 'the', 'bourgeois', 'girondins', 'at', 'more', 'radical', 'elements', 'in', 'the', 'french', 'revolution', 'the', 'first', 'self', 'labelled', 'anarchist', 'pierre', 'joseph', 'proudhon', 'it', 'is', 'commonly', 'held', 'that', 'it', 'wasn', 't', 'until', 'pierre', 'joseph', 'proudhon', 'published', 'what', 'is', 'property', 'in', 'one', 'eight', 'four', 'zero', 'that', 'the', 'term', 'anarchist', 'was', 'adopted', 'as', 'a', 'self', 'description', 'it', 'is', 'for', 'this', 'reason', 'that', 'some', 'claim', 'proudhon', 'as', 'the', 'founder', 'of', 'modern', 'anarchist', 'theory', 'in', 'what', 'is', 'property', 'proudhon', 'answers', 'with', 'the', 'famous', 'accusation', 'property', 'is', 'theft', 'in', 'this', 'work', 'he', 'opposed', 'the', 'institution', 'of', 'decreed', 'property', 'propri', 't', 'where', 'owners', 'have', 'complete', 'rights', 'to', 'use', 'and', 'abuse', 'their', 'property', 'as', 'they', 'wish', 'such', 'as', 'exploiting', 'workers', 'for', 'profit', 'in', 'its', 'place', 'proudhon', 'supported', 'what', 'he', 'called', 'possession', 'individuals', 'can', 'have', 'limited', 'rights', 'to', 'use', 'resources', 'capital', 'and', 'goods', 'in', 'accordance', 'with', 'principles', 'of', 'equality', 'and', 'justice', 'proudhon', 's', 'vision', 'of', 'anarchy', 'which', 'he', 'called', 'mutualism', 'mutuellisme', 'involved', 'an', 'exchange', 'economy', 'where', 'individuals', 'and', 'groups', 'could', 'trade', 'the', 'products', 'of', 'their', 'labor', 'using', 'labor', 'notes', 'which', 'represented', 'the', 'amount', 'of', 'working', 'time', 'involved', 'in', 'production', 'this', 'would', 'ensure', 'that', 'no', 'one', 'would', 'profit', 'from', 'the', 'labor', 'of', 'others', 'workers', 'could', 'freely', 'join', 'together', 'in', 'co', 'operative', 'workshops', 'an', 'interest', 'free', 'bank', 'would', 'be', 'set', 'up', 'to', 'provide', 'everyone', 'with', 'access', 'to', 'the', 'means', 'of', 'production', 'proudhon', 's', 'ideas', 'were', 'influential', 'within', 'french', 'working', 'class', 'movements', 'and', 'his', 'followers', 'were', 'active', 'in', 'the', 'revolution', 'of', 'one', 'eight', 'four', 'eight', 'in', 'france', 'proudhon', 's', 'philosophy', 'of', 'property', 'is', 'complex', 'it', 'was', 'developed', 'in', 'a', 'number', 'of', 'works', 'over', 'his', 'lifetime', 'and', 'there', 'are', 'differing', 'interpretations', 'of', 'some', 'of', 'his', 'ideas', 'for', 'more', 'detailed', 'discussion', 'see', 'here', 'max', 'stirner', 's', 'egoism', 'in', 'his', 'the', 'ego', 'and', 'its', 'own', 'stirner', 'argued', 'that', 'most', 'commonly', 'accepted', 'social', 'institutions', 'including', 'the', 'notion', 'of', 'state', 'property', 'as', 'a', 'right', 'natural', 'rights', 'in', 'general', 'and', 'the', 'very', 'notion', 'of', 'society', 'were', 'mere', 'illusions', 'or', 'ghosts', 'in', 'the', 'mind', 'saying', 'of', 'society', 'that', 'the', 'individuals', 'are', 'its', 'reality', 'he', 'advocated', 'egoism', 'and', 'a', 'form', 'of', 'amoralism', 'in', 'which', 'individuals', 'would', 'unite', 'in', 'associations', 'of', 'egoists', 'only', 'when', 'it', 'was', 'in', 'their', 'self', 'interest', 'to', 'do', 'so', 'for', 'him', 'property', 'simply', 'comes', 'about', 'through', 'might', 'whoever', 'knows', 'how', 'to', 'take', 'to', 'defend', 'the', 'thing', 'to', 'him', 'belongs', 'property', 'and', 'what', 'i', 'have', 'in', 'my', 'power', 'that', 'is', 'my', 'own', 'so', 'long', 'as', 'i', 'assert', 'myself', 'as', 'holder', 'i', 'am', 'the', 'proprietor', 'of', 'the', 'thing', 'stirner', 'never', 'called', 'himself', 'an', 'anarchist', 'he', 'accepted', 'only', 'the', 'label', 'egoist', 'nevertheless', 'his', 'ideas', 'were', 'influential', 'on', 'many', 'individualistically', 'inclined', 'anarchists', 'although', 'interpretations', 'of', 'his', 'thought', 'are', 'diverse', 'american', 'individualist', 'anarchism', 'benjamin', 'tucker', 'in', 'one', 'eight', 'two', 'five', 'josiah', 'warren', 'had', 'participated', 'in', 'a', 'communitarian', 'experiment', 'headed', 'by', 'robert', 'owen', 'called', 'new', 'harmony', 'which', 'failed', 'in', 'a', 'few', 'years', 'amidst', 'much', 'internal', 'conflict', 'warren', 'blamed', 'the', 'community', 's', 'failure', 'on', 'a', 'lack', 'of', 'individual', 'sovereignty', 'and', 'a', 'lack', 'of', 'private', 'property', 'warren', 'proceeded', 'to', 'organise', 'experimenal', 'anarchist', 'communities', 'which', 'respected', 'what', 'he', 'called', 'the', 'sovereignty', 'of', 'the', 'individual', 'at', 'utopia', 'and', 'modern', 'times', 'in', 'one', 'eight', 'three', 'three', 'warren', 'wrote', 'and', 'published', 'the', 'peaceful', 'revolutionist', 'which', 'some', 'have', 'noted', 'to', 'be', 'the', 'first', 'anarchist', 'periodical', 'ever', 'published', 'benjamin', 'tucker', 'says', 'that', 'warren', 'was', 'the', 'first', 'man', 'to', 'expound', 'and', 'formulate', 'the', 'doctrine', 'now', 'known', 'as', 'anarchism', 'liberty', 'xiv', 'december', 'one', 'nine', 'zero', 'zero', 'one', 'benjamin', 'tucker', 'became', 'interested', 'in', 'anarchism', 'through', 'meeting', 'josiah', 'warren', 'and', 'william', 'b', 'greene', 'he', 'edited', 'and', 'published', 'liberty', 'from', 'august', 'one', 'eight', 'eight', 'one', 'to', 'april', 'one', 'nine', 'zero', 'eight', 'it', 'is', 'widely', 'considered', 'to', 'be', 'the', 'finest', 'individualist', 'anarchist', 'periodical', 'ever', 'issued', 'in', 'the', 'english', 'language', 'tucker', 's', 'conception', 'of', 'individualist', 'anarchism', 'incorporated', 'the', 'ideas', 'of', 'a', 'variety', 'of', 'theorists', 'greene', 's', 'ideas', 'on', 'mutual', 'banking', 'warren', 's', 'ideas', 'on', 'cost', 'as', 'the', 'limit', 'of', 'price', 'a', 'heterodox', 'variety', 'of', 'labour', 'theory', 'of', 'value', 'proudhon', 's', 'market', 'anarchism', 'max', 'stirner', 's', 'egoism', 'and', 'herbert', 'spencer', 's', 'law', 'of', 'equal', 'freedom', 'tucker', 'strongly', 'supported', 'the', 'individual', 's', 'right', 'to', 'own', 'the', 'product', 'of', 'his', 'or', 'her', 'labour', 'as', 'private', 'property', 'and', 'believed', 'in', 'a', 'market', 'economy', 'for', 'trading', 'this', 'property', 'he', 'argued', 'that', 'in', 'a', 'truly', 'free', 'market', 'system', 'without', 'the', 'state', 'the', 'abundance', 'of', 'competition', 'would', 'eliminate', 'profits', 'and', 'ensure', 'that', 'all', 'workers', 'received', 'the', 'full', 'value', 'of', 'their', 'labor', 'other', 'one', 'nine', 'th', 'century', 'individualists', 'included', 'lysander', 'spooner', 'stephen', 'pearl', 'andrews', 'and', 'victor', 'yarros', 'the', 'first', 'international', 'mikhail', 'bakunin', 'one', 'eight', 'one', 'four', 'one', 'eight', 'seven', 'six', 'in', 'europe', 'harsh', 'reaction', 'followed', 'the', 'revolutions', 'of', 'one', 'eight', 'four', 'eight', 'twenty', 'years', 'later', 'in', 'one', 'eight', 'six', 'four', 'the', 'international', 'workingmen', 's', 'association', 'sometimes', 'called', 'the', 'first', 'international', 'united', 'some', 'diverse', 'european', 'revolutionary', 'currents', 'including', 'anarchism', 'due', 'to', 'its', 'genuine', 'links', 'to', 'active', 'workers', 'movements', 'the', 'international', 'became', 'signficiant', 'from', 'the', 'start', 'karl', 'marx', 'was', 'a', 'leading', 'figure', 'in', 'the', 'international', 'he', 'was', 'elected', 'to', 'every', 'succeeding', 'general', 'council', 'of', 'the', 'association', 'the', 'first', 'objections', 'to', 'marx', 'came', 'from', 'the', 'mutualists', 'who', 'opposed', 'communism', 'and', 'statism', 'shortly', 'after', 'mikhail', 'bakunin', 'and', 'his', 'followers', 'joined', 'in', 'one', 'eight', 'six', 'eight', 'the', 'first', 'international', 'became', 'polarised', 'into', 'two', 'camps', 'with', 'marx', 'and', 'bakunin', 'as', 'their', 'respective', 'figureheads', 'the', 'clearest', 'difference', 'between', 'the', 'camps', 'was', 'over', 'strategy', 'the', 'anarchists', 'around', 'bakunin', 'favoured', 'in', 'kropotkin', 's', 'words', 'direct', 'economical', 'struggle', 'against', 'capitalism', 'without', 'interfering', 'in', 'the', 'political', 'parliamentary', 'agitation', 'at', 'that', 'time', 'marx', 'and', 'his', 'followers', 'focused', 'on', 'parliamentary', 'activity', 'bakunin', 'characterised', 'marx', 's', 'ideas', 'as', 'authoritarian', 'and', 'predicted', 'that', 'if', 'a', 'marxist', 'party', 'gained', 'to', 'power', 'its', 'leaders', 'would', 'end', 'up', 'as', 'bad', 'as', 'the', 'ruling', 'class', 'they', 'had', 'fought', 'against', 'in', 'one', 'eight', 'seven', 'two', 'the', 'conflict', 'climaxed', 'with', 'a', 'final', 'split', 'between', 'the', 'two', 'groups', 'at', 'the', 'hague', 'congress', 'this', 'is', 'often', 'cited', 'as', 'the', 'origin', 'of', 'the', 'conflict', 'between', 'anarchists', 'and', 'marxists', 'from', 'this', 'moment', 'the', 'social', 'democratic', 'and', 'libertarian', 'currents', 'of', 'socialism', 'had', 'distinct', 'organisations', 'including', 'rival', 'internationals', 'anarchist', 'communism', 'peter', 'kropotkin', 'proudhon', 'and', 'bakunin', 'both', 'opposed', 'communism', 'associating', 'it', 'with', 'statism', 'however', 'in', 'the', 'one', 'eight', 'seven', 'zero', 's', 'many', 'anarchists', 'moved', 'away', 'from', 'bakunin', 's', 'economic', 'thinking', 'called', 'collectivism', 'and', 'embraced', 'communist', 'concepts', 'communists', 'believed', 'the', 'means', 'of', 'production', 'should', 'be', 'owned', 'collectively', 'and', 'that', 'goods', 'be', 'distributed', 'by', 'need', 'not', 'labor', 'an', 'early', 'anarchist', 'communist', 'was', 'joseph', 'd', 'jacque', 'the', 'first', 'person', 'to', 'describe', 'himself', 'as', 'libertarian', 'unlike', 'proudhon', 'he', 'argued', 'that', 'it', 'is', 'not', 'the', 'product', 'of', 'his', 'or', 'her', 'labor', 'that', 'the', 'worker', 'has', 'a', 'right', 'to', 'but', 'to', 'the', 'satisfaction', 'of', 'his', 'or', 'her', 'needs', 'whatever', 'may', 'be', 'their', 'nature', 'he', 'announced', 'his', 'ideas', 'in', 'his', 'us', 'published', 'journal', 'le', 'libertaire', 'one', 'eight', 'five', 'eight', 'one', 'eight', 'six', 'one', 'peter', 'kropotkin', 'often', 'seen', 'as', 'the', 'most', 'important', 'theorist', 'outlined', 'his', 'economic', 'ideas', 'in', 'the', 'conquest', 'of', 'bread', 'and', 'fields', 'factories', 'and', 'workshops', 'he', 'felt', 'co', 'operation', 'is', 'more', 'beneficial', 'than', 'competition', 'illustrated', 'in', 'nature', 'in', 'mutual', 'aid', 'a', 'factor', 'of', 'evolution', 'one', 'eight', 'nine', 'seven', 'subsequent', 'anarchist', 'communists', 'include', 'emma', 'goldman', 'and', 'alexander', 'berkman', 'many', 'in', 'the', 'anarcho', 'syndicalist', 'movements', 'see', 'below', 'saw', 'anarchist', 'communism', 'as', 'their', 'objective', 'isaac', 'puente', 's', 'one', 'nine', 'three', 'two', 'comunismo', 'libertario', 'was', 'adopted', 'by', 'the', 'spanish', 'cnt', 'as', 'its', 'manifesto', 'for', 'a', 'post', 'revolutionary', 'society', 'some', 'anarchists', 'disliked', 'merging', 'communism', 'with', 'anarchism', 'several', 'individualist', 'anarchists', 'maintained', 'that', 'abolition', 'of', 'private', 'property', 'was', 'not', 'consistent', 'with', 'liberty', 'for', 'example', 'benjamin', 'tucker', 'whilst', 'professing', 'respect', 'for', 'kropotkin', 'and', 'publishing', 'his', 'work', 'described', 'communist', 'anarchism', 'as', 'pseudo', 'anarchism', 'propaganda', 'of', 'the', 'deed', 'johann', 'most', 'was', 'an', 'outspoken', 'advocate', 'of', 'violence', 'anarchists', 'have', 'often', 'been', 'portrayed', 'as', 'dangerous', 'and', 'violent', 'due', 'mainly', 'to', 'a', 'number', 'of', 'high', 'profile', 'violent', 'acts', 'including', 'riots', 'assassinations', 'insurrections', 'and', 'terrorism', 'by', 'some', 'anarchists', 'some', 'revolutionaries', 'of', 'the', 'late', 'one', 'nine', 'th', 'century', 'encouraged', 'acts', 'of', 'political', 'violence', 'such', 'as', 'bombings', 'and', 'the', 'assassinations', 'of', 'heads', 'of', 'state', 'to', 'further', 'anarchism', 'such', 'actions', 'have', 'sometimes', 'been', 'called', 'propaganda', 'by', 'the', 'deed', 'one', 'of', 'the', 'more', 'outspoken', 'advocates', 'of', 'this', 'strategy', 'was', 'johann', 'most', 'who', 'said', 'the', 'existing', 'system', 'will', 'be', 'quickest', 'and', 'most', 'radically', 'overthrown', 'by', 'the', 'annihilation', 'of', 'its', 'exponents', 'therefore', 'massacres', 'of', 'the', 'enemies', 'of', 'the', 'people', 'must', 'be', 'set', 'in', 'motion', 'most', 's', 'preferred', 'method', 'of', 'terrorism', 'dynamite', 'earned', 'him', 'the', 'moniker', 'dynamost', 'however', 'there', 'is', 'no', 'consensus', 'on', 'the', 'legitimacy', 'or', 'utility', 'of', 'violence', 'in', 'general', 'mikhail', 'bakunin', 'and', 'errico', 'malatesta', 'for', 'example', 'wrote', 'of', 'violence', 'as', 'a', 'necessary', 'and', 'sometimes', 'desirable', 'force', 'in', 'revolutionary', 'settings', 'but', 'at', 'the', 'same', 'time', 'they', 'denounced', 'acts', 'of', 'individual', 'terrorism', 'malatesta', 'in', 'on', 'violence', 'and', 'bakunin', 'when', 'he', 'refuted', 'nechaev', 'other', 'anarchists', 'sometimes', 'identified', 'as', 'pacifist', 'anarchists', 'advocated', 'complete', 'nonviolence', 'leo', 'tolstoy', 'whose', 'philosophy', 'is', 'often', 'viewed', 'as', 'a', 'form', 'of', 'christian', 'anarchism', 'see', 'below', 'was', 'a', 'notable', 'exponent', 'of', 'nonviolent', 'resistance', 'anarchism', 'in', 'the', 'labour', 'movement', 'the', 'red', 'and', 'black', 'flag', 'coming', 'from', 'the', 'experience', 'of', 'anarchists', 'in', 'the', 'labour', 'movement', 'is', 'particularly', 'associated', 'with', 'anarcho', 'syndicalism', 'anarcho', 'syndicalism', 'was', 'an', 'early', 'two', 'zero', 'th', 'century', 'working', 'class', 'movement', 'seeking', 'to', 'overthrow', 'capitalism', 'and', 'the', 'state', 'to', 'institute', 'a', 'worker', 'controlled', 'society', 'the', 'movement', 'pursued', 'industrial', 'actions', 'such', 'as', 'general', 'strike', 'as', 'a', 'primary', 'strategy', 'many', 'anarcho', 'syndicalists', 'believed', 'in', 'anarchist', 'communism', 'though', 'not', 'all', 'communists', 'believed', 'in', 'syndicalism', 'after', 'the', 'one', 'eight', 'seven', 'one', 'repression', 'french', 'anarchism', 'reemerged', 'influencing', 'the', 'bourses', 'de', 'travails', 'of', 'autonomous', 'workers', 'groups', 'and', 'trade', 'unions', 'from', 'this', 'movement', 'the', 'conf', 'd', 'ration', 'g', 'n', 'rale', 'du', 'travail', 'general', 'confederation', 'of', 'work', 'cgt', 'was', 'formed', 'in', 'one', 'eight', 'nine', 'five', 'as', 'the', 'first', 'major', 'anarcho', 'syndicalist', 'movement', 'emile', 'pataud', 'and', 'emile', 'pouget', 's', 'writing', 'for', 'the', 'cgt', 'saw', 'libertarian', 'communism', 'developing', 'from', 'a', 'general', 'strike', 'after', 'one', 'nine', 'one', 'four', 'the', 'cgt', 'moved', 'away', 'from', 'anarcho', 'syndicalism', 'due', 'to', 'the', 'appeal', 'of', 'bolshevism', 'french', 'style', 'syndicalism', 'was', 'a', 'significant', 'movement', 'in', 'europe', 'prior', 'to', 'one', 'nine', 'two', 'one', 'and', 'remained', 'a', 'significant', 'movement', 'in', 'spain', 'until', 'the', 'mid', 'one', 'nine', 'four', 'zero', 's', 'the', 'industrial', 'workers', 'of', 'the', 'world', 'iww', 'founded', 'in', 'one', 'nine', 'zero', 'five', 'in', 'the', 'us', 'espoused', 'unionism', 'and', 'sought', 'a', 'general', 'strike', 'to', 'usher', 'in', 'a', 'stateless', 'society', 'in', 'one', 'nine', 'two', 'three', 'one', 'zero', 'zero', 'zero', 'zero', 'zero', 'members', 'existed', 'with', 'the', 'support', 'of', 'up', 'to', 'three', 'zero', 'zero', 'zero', 'zero', 'zero', 'though', 'not', 'explicitly', 'anarchist', 'they', 'organized', 'by', 'rank', 'and', 'file', 'democracy', 'embodying', 'a', 'spirit', 'of', 'resistance', 'that', 'has', 'inspired', 'many', 'anglophone', 'syndicalists', 'cnt', 'propaganda', 'from', 'april', 'two', 'zero', 'zero', 'four', 'reads', 'don', 't', 'let', 'the', 'politicians', 'rule', 'our', 'lives', 'you', 'vote', 'and', 'they', 'decide', 'don', 't', 'allow', 'it', 'unity', 'action', 'self', 'management', 'spanish', 'anarchist', 'trade', 'union', 'federations', 'were', 'formed', 'in', 'the', 'one', 'eight', 'seven', 'zero', 's', 'one', 'nine', 'zero', 'zero', 'and', 'one', 'nine', 'one', 'zero', 'the', 'most', 'successful', 'was', 'the', 'confederaci', 'n', 'nacional', 'del', 'trabajo', 'national', 'confederation', 'of', 'labour', 'cnt', 'founded', 'in', 'one', 'nine', 'one', 'zero', 'prior', 'to', 'the', 'one', 'nine', 'four', 'zero', 's', 'the', 'cnt', 'was', 'the', 'major', 'force', 'in', 'spanish', 'working', 'class', 'politics', 'with', 'a', 'membership', 'of', 'one', 'five', 'eight', 'million', 'in', 'one', 'nine', 'three', 'four', 'the', 'cnt', 'played', 'a', 'major', 'role', 'in', 'the', 'spanish', 'civil', 'war', 'see', 'also', 'anarchism', 'in', 'spain', 'syndicalists', 'like', 'ricardo', 'flores', 'mag', 'n', 'were', 'key', 'figures', 'in', 'the', 'mexican', 'revolution', 'latin', 'american', 'anarchism', 'was', 'strongly', 'influenced', 'extending', 'to', 'the', 'zapatista', 'rebellion', 'and', 'the', 'factory', 'occupation', 'movements', 'in', 'argentina', 'in', 'berlin', 'in', 'one', 'nine', 'two', 'two', 'the', 'cnt', 'was', 'joined', 'with', 'the', 'international', 'workers', 'association', 'an', 'anarcho', 'syndicalist', 'successor', 'to', 'the', 'first', 'international', 'contemporary', 'anarcho', 'syndicalism', 'continues', 'as', 'a', 'minor', 'force', 'in', 'many', 'socities', 'much', 'smaller', 'than', 'in', 'the', 'one', 'nine', 'one', 'zero', 's', 'two', 'zero', 's', 'and', 'three', 'zero', 's', 'the', 'largest', 'organised', 'anarchist', 'movement', 'today', 'is', 'in', 'spain', 'in', 'the', 'form', 'of', 'the', 'confederaci', 'n', 'general', 'del', 'trabajo', 'and', 'the', 'cnt', 'the', 'cgt', 'claims', 'a', 'paid', 'up', 'membership', 'of', 'six', 'zero', 'zero', 'zero', 'zero', 'and', 'received', 'over', 'a', 'million', 'votes', 'in', 'spanish', 'syndical', 'elections', 'other', 'active', 'syndicalist', 'movements', 'include', 'the', 'us', 'workers', 'solidarity', 'alliance', 'and', 'the', 'uk', 'solidarity', 'federation', 'the', 'revolutionary', 'industrial', 'unionist', 'industrial', 'workers', 'of', 'the', 'world', 'also', 'exists', 'claiming', 'two', 'zero', 'zero', 'zero', 'paid', 'members', 'contemporary', 'critics', 'of', 'anarcho', 'syndicalism', 'and', 'revolutionary', 'industrial', 'unionism', 'claim', 'that', 'they', 'are', 'workerist', 'and', 'fail', 'to', 'deal', 'with', 'economic', 'life', 'outside', 'work', 'post', 'leftist', 'critics', 'such', 'as', 'bob', 'black', 'claim', 'anarcho', 'syndicalism', 'advocates', 'oppressive', 'social', 'structures', 'such', 'as', 'work', 'and', 'the', 'workplace', 'anarcho', 'syndicalists', 'in', 'general', 'uphold', 'principles', 'of', 'workers', 'solidarity', 'direct', 'action', 'and', 'self', 'management', 'the', 'russian', 'revolution', 'the', 'russian', 'revolution', 'of', 'one', 'nine', 'one', 'seven', 'was', 'a', 'seismic', 'event', 'in', 'the', 'development', 'of', 'anarchism', 'as', 'a', 'movement', 'and', 'as', 'a', 'philosophy', 'anarchists', 'participated', 'alongside', 'the', 'bolsheviks', 'in', 'both', 'february', 'and', 'october', 'revolutions', 'many', 'anarchists', 'initially', 'supporting', 'the', 'bolshevik', 'coup', 'however', 'the', 'bolsheviks', 'soon', 'turned', 'against', 'the', 'anarchists', 'and', 'other', 'left', 'wing', 'opposition', 'a', 'conflict', 'which', 'culminated', 'in', 'the', 'one', 'nine', 'one', 'eight', 'kronstadt', 'rebellion', 'anarchists', 'in', 'central', 'russia', 'were', 'imprisoned', 'or', 'driven', 'underground', 'or', 'joined', 'the', 'victorious', 'bolsheviks', 'in', 'ukraine', 'anarchists', 'fought', 'in', 'the', 'civil', 'war', 'against', 'both', 'whites', 'and', 'bolsheviks', 'within', 'the', 'makhnovshchina', 'peasant', 'army', 'led', 'by', 'nestor', 'makhno', 'expelled', 'american', 'anarchists', 'emma', 'goldman', 'and', 'alexander', 'berkman', 'before', 'leaving', 'russia', 'were', 'amongst', 'those', 'agitating', 'in', 'response', 'to', 'bolshevik', 'policy', 'and', 'the', 'suppression', 'of', 'the', 'kronstadt', 'uprising', 'both', 'wrote', 'classic', 'accounts', 'of', 'their', 'experiences', 'in', 'russia', 'aiming', 'to', 'expose', 'the', 'reality', 'of', 'bolshevik', 'control', 'for', 'them', 'bakunin', 's', 'predictions', 'about', 'the', 'consequences', 'of', 'marxist', 'rule', 'had', 'proved', 'all', 'too', 'true', 'the', 'victory', 'of', 'the', 'bolsheviks', 'in', 'the', 'october', 'revolution', 'and', 'the', 'resulting', 'russian', 'civil', 'war', 'did', 'serious', 'damage', 'to', 'anarchist', 'movements', 'internationally', 'many', 'workers', 'and', 'activists', 'saw', 'bolshevik', 'success', 'as', 'setting', 'an', 'example', 'communist', 'parties', 'grew', 'at', 'the', 'expense', 'of', 'anarchism', 'and', 'other', 'socialist', 'movements', 'in', 'france', 'and', 'the', 'us', 'for', 'example', 'the', 'major', 'syndicalist', 'movements', 'of', 'the', 'cgt', 'and', 'iww', 'began', 'to', 'realign', 'themselves', 'away', 'from', 'anarchism', 'and', 'towards', 'the', 'communist', 'international', 'in', 'paris', 'the', 'dielo', 'truda', 'group', 'of', 'russian', 'anarchist', 'exiles', 'which', 'included', 'nestor', 'makhno', 'concluded', 'that', 'anarchists', 'needed', 'to', 'develop', 'new', 'forms', 'of', 'organisation', 'in', 'response', 'to', 'the', 'structures', 'of', 'bolshevism', 'their', 'one', 'nine', 'two', 'six', 'manifesto', 'known', 'as', 'the', 'organisational', 'platform', 'of', 'the', 'libertarian', 'communists', 'was', 'supported', 'by', 'some', 'communist', 'anarchists', 'though', 'opposed', 'by', 'many', 'others', 'the', 'platform', 'continues', 'to', 'inspire', 'some', 'contemporary', 'anarchist', 'groups', 'who', 'believe', 'in', 'an', 'anarchist', 'movement', 'organised', 'around', 'its', 'principles', 'of', 'theoretical', 'unity', 'tactical', 'unity', 'collective', 'responsibility', 'and', 'federalism', 'platformist', 'groups', 'today', 'include', 'the', 'workers', 'solidarity', 'movement', 'in', 'ireland', 'the', 'uk', 's', 'anarchist', 'federation', 'and', 'the', 'late', 'north', 'eastern', 'federation', 'of', 'anarchist', 'communists', 'in', 'the', 'northeastern', 'united', 'states', 'and', 'bordering', 'canada', 'the', 'fight', 'against', 'fascism', 'spain', 'one', 'nine', 'three', 'six', 'members', 'of', 'the', 'cnt', 'construct', 'armoured', 'cars', 'to', 'fight', 'against', 'the', 'fascists', 'in', 'one', 'of', 'the', 'collectivised', 'factories', 'in', 'the', 'one', 'nine', 'two', 'zero', 's', 'and', 'one', 'nine', 'three', 'zero', 's', 'the', 'familiar', 'dynamics', 'of', 'anarchism', 's', 'conflict', 'with', 'the', 'state', 'were', 'transformed', 'by', 'the', 'rise', 'of', 'fascism', 'in', 'europe', 'in', 'many', 'cases', 'european', 'anarchists', 'faced', 'difficult', 'choices', 'should', 'they', 'join', 'in', 'popular', 'fronts', 'with', 'reformist', 'democrats', 'and', 'soviet', 'led', 'communists', 'against', 'a', 'common', 'fascist', 'enemy', 'luigi', 'fabbri', 'an', 'exile', 'from', 'italian', 'fascism', 'was', 'amongst', 'those', 'arguing', 'that', 'fascism', 'was', 'something', 'different', 'fascism', 'is', 'not', 'just', 'another', 'form', 'of', 'government', 'which', 'like', 'all', 'others', 'uses', 'violence', 'it', 'is', 'the', 'most', 'authoritarian', 'and', 'the', 'most', 'violent', 'form', 'of', 'government', 'imaginable', 'it', 'represents', 'the', 'utmost', 'glorification', 'of', 'the', 'theory', 'and', 'practice', 'of', 'the', 'principle', 'of', 'authority', 'in', 'france', 'where', 'the', 'fascists', 'came', 'close', 'to', 'insurrection', 'in', 'the', 'february', 'one', 'nine', 'three', 'four', 'riots', 'anarchists', 'divided', 'over', 'a', 'united', 'front', 'policy', 'in', 'spain', 'the', 'cnt', 'initially', 'refused', 'to', 'join', 'a', 'popular', 'front', 'electoral', 'alliance', 'and', 'abstention', 'by', 'cnt', 'supporters', 'led', 'to', 'a', 'right', 'wing', 'election', 'victory', 'but', 'in', 'one', 'nine', 'three', 'six', 'the', 'cnt', 'changed', 'its', 'policy', 'and', 'anarchist', 'votes', 'helped', 'bring', 'the', 'popular', 'front', 'back', 'to', 'power', 'months', 'later', 'the', 'ruling', 'class', 'responded', 'with', 'an', 'attempted', 'coup', 'and', 'the', 'spanish', 'civil', 'war', 'one', 'nine', 'three', 'six', 'three', 'nine', 'was', 'underway', 'in', 'reponse', 'to', 'the', 'army', 'rebellion', 'an', 'anarchist', 'inspired', 'movement', 'of', 'peasants', 'and', 'workers', 'supported', 'by', 'armed', 'militias', 'took', 'control', 'of', 'the', 'major', 'city', 'of', 'barcelona', 'and', 'of', 'large', 'areas', 'of', 'rural', 'spain', 'where', 'they', 'collectivized', 'the', 'land', 'but', 'even', 'before', 'the', 'eventual', 'fascist', 'victory', 'in', 'one', 'nine', 'three', 'nine', 'the', 'anarchists', 'were', 'losing', 'ground', 'in', 'a', 'bitter', 'struggle', 'with', 'the', 'stalinists', 'the', 'cnt', 'leadership', 'often', 'appeared', 'confused', 'and', 'divided', 'with', 'some', 'members', 'controversially', 'entering', 'the', 'government', 'stalinist', 'led', 'troops', 'suppressed', 'the', 'collectives', 'and', 'persecuted', 'both', 'dissident', 'marxists', 'and', 'anarchists', 'since', 'the', 'late', 'one', 'nine', 'seven', 'zero', 's', 'anarchists', 'have', 'been', 'involved', 'in', 'fighting', 'the', 'rise', 'of', 'neo', 'fascist', 'groups', 'in', 'germany', 'and', 'the', 'united', 'kingdom', 'some', 'anarchists', 'worked', 'within', 'militant', 'anti', 'fascist', 'groups', 'alongside', 'members', 'of', 'the', 'marxist', 'left', 'they', 'advocated', 'directly', 'combating', 'fascists', 'with', 'physical', 'force', 'rather', 'than', 'relying', 'on', 'the', 'state', 'since', 'the', 'late', 'one', 'nine', 'nine', 'zero', 's', 'a', 'similar', 'tendency', 'has', 'developed', 'within', 'us', 'anarchism', 'see', 'also', 'anti', 'racist', 'action', 'us', 'anti', 'fascist', 'action', 'uk', 'antifa', 'religious', 'anarchism', 'leo', 'tolstoy', 'one', 'eight', 'two', 'eight', 'one', 'nine', 'one', 'zero', 'most', 'anarchist', 'culture', 'tends', 'to', 'be', 'secular', 'if', 'not', 'outright', 'anti', 'religious', 'however', 'the', 'combination', 'of', 'religious', 'social', 'conscience', 'historical', 'religiousity', 'amongst', 'oppressed', 'social', 'classes', 'and', 'the', 'compatibility', 'of', 'some', 'interpretations', 'of', 'religious', 'traditions', 'with', 'anarchism', 'has', 'resulted', 'in', 'religious', 'anarchism', 'christian', 'anarchists', 'believe', 'that', 'there', 'is', 'no', 'higher', 'authority', 'than', 'god', 'and', 'oppose', 'earthly', 'authority', 'such', 'as', 'government', 'and', 'established', 'churches', 'they', 'believe', 'that', 'jesus', 'teachings', 'were', 'clearly', 'anarchistic', 'but', 'were', 'corrupted', 'when', 'christianity', 'was', 'declared', 'the', 'official', 'religion', 'of', 'rome', 'christian', 'anarchists', 'who', 'follow', 'jesus', 'directive', 'to', 'turn', 'the', 'other', 'cheek', 'are', 'strict', 'pacifists', 'the', 'most', 'famous', 'advocate', 'of', 'christian', 'anarchism', 'was', 'leo', 'tolstoy', 'author', 'of', 'the', 'kingdom', 'of', 'god', 'is', 'within', 'you', 'who', 'called', 'for', 'a', 'society', 'based', 'on', 'compassion', 'nonviolent', 'principles', 'and', 'freedom', 'christian', 'anarchists', 'tend', 'to', 'form', 'experimental', 'communities', 'they', 'also', 'occasionally', 'resist', 'taxation', 'many', 'christian', 'anarchists', 'are', 'vegetarian', 'or', 'vegan', 'christian', 'anarchy', 'can', 'be', 'said', 'to', 'have', 'roots', 'as', 'old', 'as', 'the', 'religion', 's', 'birth', 'as', 'the', 'early', 'church', 'exhibits', 'many', 'anarchistic', 'tendencies', 'such', 'as', 'communal', 'goods', 'and', 'wealth', 'by', 'aiming', 'to', 'obey', 'utterly', 'certain', 'of', 'the', 'bible', 's', 'teachings', 'certain', 'anabaptist', 'groups', 'of', 'sixteenth', 'century', 'europe', 'attempted', 'to', 'emulate', 'the', 'early', 'church', 's', 'social', 'economic', 'organisation', 'and', 'philosophy', 'by', 'regarding', 'it', 'as', 'the', 'only', 'social', 'structure', 'capable', 'of', 'true', 'obediance', 'to', 'jesus', 'teachings', 'and', 'utterly', 'rejected', 'in', 'theory', 'all', 'earthly', 'hierarchies', 'and', 'authority', 'and', 'indeed', 'non', 'anabaptists', 'in', 'general', 'and', 'violence', 'as', 'ungodly', 'such', 'groups', 'for', 'example', 'the', 'hutterites', 'typically', 'went', 'from', 'initially', 'anarchistic', 'beginnings', 'to', 'as', 'their', 'movements', 'stabalised', 'more', 'authoritarian', 'social', 'models', 'chinese', 'anarchism', 'was', 'most', 'influential', 'in', 'the', 'one', 'nine', 'two', 'zero', 's', 'strands', 'of', 'chinese', 'anarchism', 'included', 'tai', 'xu', 's', 'buddhist', 'anarchism', 'which', 'was', 'influenced', 'by', 'tolstoy', 'and', 'the', 'well', 'field', 'system', 'neopaganism', 'with', 'its', 'focus', 'on', 'the', 'environment', 'and', 'equality', 'along', 'with', 'its', 'often', 'decentralized', 'nature', 'has', 'lead', 'to', 'a', 'number', 'of', 'neopagan', 'anarchists', 'one', 'of', 'the', 'most', 'prominent', 'is', 'starhawk', 'who', 'writes', 'extensively', 'about', 'both', 'spirituality', 'and', 'activism', 'anarchism', 'and', 'feminism', 'emma', 'goldman', 'early', 'french', 'feminists', 'such', 'as', 'jenny', 'd', 'h', 'ricourt', 'and', 'juliette', 'adam', 'criticised', 'the', 'mysogyny', 'in', 'the', 'anarchism', 'of', 'proudhon', 'during', 'the', 'one', 'eight', 'five', 'zero', 's', 'anarcha', 'feminism', 'is', 'a', 'kind', 'of', 'radical', 'feminism', 'that', 'espouses', 'the', 'belief', 'that', 'patriarchy', 'is', 'a', 'fundamental', 'problem', 'in', 'society', 'while', 'anarchist', 'feminism', 'has', 'existed', 'for', 'more', 'than', 'a', 'hundred', 'years', 'its', 'explicit', 'formulation', 'as', 'anarcha', 'feminism', 'dates', 'back', 'to', 'the', 'early', 'seven', 'zero', 's', 'during', 'the', 'second', 'wave', 'feminist', 'movement', 'anarcha', 'feminism', 'views', 'patriarchy', 'as', 'the', 'first', 'manifestation', 'of', 'hierarchy', 'in', 'human', 'history', 'thus', 'the', 'first', 'form', 'of', 'oppression', 'occurred', 'in', 'the', 'dominance', 'of', 'male', 'over', 'female', 'anarcha', 'feminists', 'then', 'conclude', 'that', 'if', 'feminists', 'are', 'against', 'patriarchy', 'they', 'must', 'also', 'be', 'against', 'all', 'forms', 'of', 'hierarchy', 'and', 'therefore', 'must', 'reject', 'the', 'authoritarian', 'nature', 'of', 'the', 'state', 'and', 'capitalism', 'anarcho', 'primitivists', 'see', 'the', 'creation', 'of', 'gender', 'roles', 'and', 'patriarchy', 'a', 'creation', 'of', 'the', 'start', 'of', 'civilization', 'and', 'therefore', 'consider', 'primitivism', 'to', 'also', 'be', 'an', 'anarchist', 'school', 'of', 'thought', 'that', 'addresses', 'feminist', 'concerns', 'eco', 'feminism', 'is', 'often', 'considered', 'a', 'feminist', 'variant', 'of', 'green', 'anarchist', 'feminist', 'thought', 'anarcha', 'feminism', 'is', 'most', 'often', 'associated', 'with', 'early', 'two', 'zero', 'th', 'century', 'authors', 'and', 'theorists', 'such', 'as', 'emma', 'goldman', 'and', 'voltairine', 'de', 'cleyre', 'although', 'even', 'early', 'first', 'wave', 'feminist', 'mary', 'wollstonecraft', 'held', 'proto', 'anarchist', 'views', 'and', 'william', 'godwin', 'is', 'often', 'considered', 'a', 'feminist', 'anarchist', 'precursor', 'it', 'should', 'be', 'noted', 'that', 'goldman', 'and', 'de', 'cleyre', 'though', 'they', 'both', 'opposed', 'the', 'state', 'had', 'opposing', 'philosophies', 'as', 'de', 'cleyre', 'explains', 'miss', 'goldman', 'is', 'a', 'communist', 'i', 'am', 'an', 'individualist', 'she', 'wishes', 'to', 'destroy', 'the', 'right', 'of', 'property', 'i', 'wish', 'to', 'assert', 'it', 'i', 'make', 'my', 'war', 'upon', 'privilege', 'and', 'authority', 'whereby', 'the', 'right', 'of', 'property', 'the', 'true', 'right', 'in', 'that', 'which', 'is', 'proper', 'to', 'the', 'individual', 'is', 'annihilated', 'she', 'believes', 'that', 'co', 'operation', 'would', 'entirely', 'supplant', 'competition', 'i', 'hold', 'that', 'competition', 'in', 'one', 'form', 'or', 'another', 'will', 'always', 'exist', 'and', 'that', 'it', 'is', 'highly', 'desirable', 'it', 'should', 'in', 'the', 'spanish', 'civil', 'war', 'an', 'anarcha', 'feminist', 'group', 'free', 'women', 'organized', 'to', 'defend', 'both', 'anarchist', 'and', 'feminist', 'ideas', 'in', 'the', 'modern', 'day', 'anarchist', 'movement', 'many', 'anarchists', 'male', 'or', 'female', 'consider', 'themselves', 'feminists', 'and', 'anarcha', 'feminist', 'ideas', 'are', 'growing', 'the', 'publishing', 'of', 'quiet', 'rumors', 'an', 'anarcha', 'feminist', 'reader', 'has', 'helped', 'to', 'spread', 'various', 'kinds', 'of', 'anti', 'authoritarian', 'and', 'anarchist', 'feminist', 'ideas', 'to', 'the', 'broader', 'movement', 'wendy', 'mcelroy', 'has', 'popularized', 'an', 'individualist', 'anarchism', 'take', 'on', 'feminism', 'in', 'her', 'books', 'articles', 'and', 'individualist', 'feminist', 'website', 'anarcho', 'capitalism', 'murray', 'rothbard', 'one', 'nine', 'two', 'six', 'one', 'nine', 'nine', 'five', 'anarcho', 'capitalism', 'is', 'a', 'predominantly', 'united', 'states', 'based', 'theoretical', 'tradition', 'that', 'desires', 'a', 'stateless', 'society', 'with', 'the', 'economic', 'system', 'of', 'free', 'market', 'capitalism', 'unlike', 'other', 'branches', 'of', 'anarchism', 'it', 'does', 'not', 'oppose', 'profit', 'or', 'capitalism', 'consequently', 'most', 'anarchists', 'do', 'not', 'recognise', 'anarcho', 'capitalism', 'as', 'a', 'form', 'of', 'anarchism', 'murray', 'rothbard', 's', 'synthesis', 'of', 'classical', 'liberalism', 'and', 'austrian', 'economics', 'was', 'germinal', 'for', 'the', 'development', 'of', 'contemporary', 'anarcho', 'capitalist', 'theory', 'he', 'defines', 'anarcho', 'capitalism', 'in', 'terms', 'of', 'the', 'non', 'aggression', 'principle', 'based', 'on', 'the', 'concept', 'of', 'natural', 'law', 'competiting', 'theorists', 'use', 'egoism', 'utilitarianism', 'used', 'by', 'david', 'friedman', 'or', 'contractarianism', 'used', 'by', 'jan', 'narveson', 'some', 'minarchists', 'such', 'as', 'ayn', 'rand', 'robert', 'nozick', 'and', 'robert', 'a', 'heinlein', 'have', 'influenced', 'anarcho', 'capitalism', 'some', 'anarcho', 'capitalists', 'along', 'with', 'some', 'right', 'wing', 'libertarian', 'historians', 'such', 'as', 'david', 'hart', 'and', 'ralph', 'raico', 'considered', 'similar', 'philosophies', 'existing', 'prior', 'to', 'rothbard', 'to', 'be', 'anarcho', 'capitalist', 'such', 'as', 'those', 'of', 'gustave', 'de', 'molinari', 'and', 'auberon', 'herbert', 'opponents', 'of', 'anarcho', 'capitalists', 'dispute', 'these', 'claims', 'the', 'place', 'of', 'anarcho', 'capitalism', 'within', 'anarchism', 'and', 'indeed', 'whether', 'it', 'is', 'a', 'form', 'of', 'anarchism', 'at', 'all', 'is', 'highly', 'controversial', 'for', 'more', 'on', 'this', 'debate', 'see', 'anarchism', 'and', 'anarcho', 'capitalism', 'anarchism', 'and', 'the', 'environment', 'since', 'the', 'late', 'one', 'nine', 'seven', 'zero', 's', 'anarchists', 'in', 'anglophone', 'and', 'european', 'countries', 'have', 'been', 'taking', 'action', 'for', 'the', 'natural', 'environment', 'eco', 'anarchists', 'or', 'green', 'anarchists', 'believe', 'in', 'deep', 'ecology', 'this', 'is', 'a', 'worldview', 'that', 'embraces', 'biodiversity', 'and', 'sustainability', 'eco', 'anarchists', 'often', 'use', 'direct', 'action', 'against', 'what', 'they', 'see', 'as', 'earth', 'destroying', 'institutions', 'of', 'particular', 'importance', 'is', 'the', 'earth', 'first', 'movement', 'that', 'takes', 'action', 'such', 'as', 'tree', 'sitting', 'another', 'important', 'component', 'is', 'ecofeminism', 'which', 'sees', 'the', 'domination', 'of', 'nature', 'as', 'a', 'metaphor', 'for', 'the', 'domination', 'of', 'women', 'green', 'anarchism', 'also', 'involves', 'a', 'critique', 'of', 'industrial', 'capitalism', 'and', 'for', 'some', 'green', 'anarchists', 'civilization', 'itself', 'primitivism', 'is', 'a', 'predominantly', 'western', 'philosophy', 'that', 'advocates', 'a', 'return', 'to', 'a', 'pre', 'industrial', 'and', 'usually', 'pre', 'agricultural', 'society', 'it', 'develops', 'a', 'critique', 'of', 'industrial', 'civilization', 'in', 'this', 'critique', 'technology', 'and', 'development', 'have', 'alienated', 'people', 'from', 'the', 'natural', 'world', 'this', 'philosophy', 'develops', 'themes', 'present', 'in', 'the', 'political', 'action', 'of', 'the', 'luddites', 'and', 'the', 'writings', 'of', 'jean', 'jacques', 'rousseau', 'primitivism', 'developed', 'in', 'the', 'context', 'of', 'the', 'reclaim', 'the', 'streets', 'earth', 'first', 'and', 'the', 'earth', 'liberation', 'front', 'movements', 'john', 'zerzan', 'wrote', 'that', 'civilization', 'not', 'just', 'the', 'state', 'would', 'need', 'to', 'fall', 'for', 'anarchy', 'to', 'be', 'achieved', 'anarcho', 'primitivists', 'point', 'to', 'the', 'anti', 'authoritarian', 'nature', 'of', 'many', 'primitive', 'or', 'hunter', 'gatherer', 'societies', 'throughout', 'the', 'world', 's', 'history', 'as', 'examples', 'of', 'anarchist', 'societies', 'other', 'branches', 'and', 'offshoots', 'anarchism', 'generates', 'many', 'eclectic', 'and', 'syncretic', 'philosophies', 'and', 'movements', 'since', 'the', 'western', 'social', 'formet', 'in', 'the', 'one', 'nine', 'six', 'zero', 's', 'and', 'one', 'nine', 'seven', 'zero', 's', 'a', 'number', 'new', 'of', 'movements', 'and', 'schools', 'have', 'appeared', 'most', 'of', 'these', 'stances', 'are', 'limited', 'to', 'even', 'smaller', 'numbers', 'than', 'the', 'schools', 'and', 'movements', 'listed', 'above', 'hakim', 'bey', 'post', 'left', 'anarchy', 'post', 'left', 'anarchy', 'also', 'called', 'egoist', 'anarchism', 'seeks', 'to', 'distance', 'itself', 'from', 'the', 'traditional', 'left', 'communists', 'liberals', 'social', 'democrats', 'etc', 'and', 'to', 'escape', 'the', 'confines', 'of', 'ideology', 'in', 'general', 'post', 'leftists', 'argue', 'that', 'anarchism', 'has', 'been', 'weakened', 'by', 'its', 'long', 'attachment', 'to', 'contrary', 'leftist', 'movements', 'and', 'single', 'issue', 'causes', 'anti', 'war', 'anti', 'nuclear', 'etc', 'it', 'calls', 'for', 'a', 'synthesis', 'of', 'anarchist', 'thought', 'and', 'a', 'specifically', 'anti', 'authoritarian', 'revolutionary', 'movement', 'outside', 'of', 'the', 'leftist', 'milieu', 'it', 'often', 'focuses', 'on', 'the', 'individual', 'rather', 'than', 'speaking', 'in', 'terms', 'of', 'class', 'or', 'other', 'broad', 'generalizations', 'and', 'shuns', 'organizational', 'tendencies', 'in', 'favor', 'of', 'the', 'complete', 'absence', 'of', 'explicit', 'hierarchy', 'important', 'groups', 'and', 'individuals', 'associated', 'with', 'post', 'left', 'anarchy', 'include', 'crimethinc', 'the', 'magazine', 'anarchy', 'a', 'journal', 'of', 'desire', 'armed', 'and', 'its', 'editor', 'jason', 'mcquinn', 'bob', 'black', 'hakim', 'bey', 'and', 'others', 'for', 'more', 'information', 'see', 'infoshop', 'org', 's', 'anarchy', 'after', 'leftism', 'section', 'and', 'the', 'post', 'left', 'section', 'on', 'anarchism', 'ws', 'see', 'also', 'post', 'left', 'anarchy', 'post', 'structuralism', 'the', 'term', 'postanarchism', 'was', 'originated', 'by', 'saul', 'newman', 'first', 'receiving', 'popular', 'attention', 'in', 'his', 'book', 'from', 'bakunin', 'to', 'lacan', 'to', 'refer', 'to', 'a', 'theoretical', 'move', 'towards', 'a', 'synthesis', 'of', 'classical', 'anarchist', 'theory', 'and', 'poststructuralist', 'thought', 'subsequent', 'to', 'newman', 's', 'use', 'of', 'the', 'term', 'however', 'it', 'has', 'taken', 'on', 'a', 'life', 'of', 'its', 'own', 'and', 'a', 'wide', 'range', 'of', 'ideas', 'including', 'autonomism', 'post', 'left', 'anarchy', 'situationism', 'post', 'colonialism', 'and', 'zapatismo', 'by', 'its', 'very', 'nature', 'post', 'anarchism', 'rejects', 'the', 'idea', 'that', 'it', 'should', 'be', 'a', 'coherent', 'set', 'of', 'doctrines', 'and', 'beliefs', 'as', 'such', 'it', 'is', 'difficult', 'if', 'not', 'impossible', 'to', 'state', 'with', 'any', 'degree', 'of', 'certainty', 'who', 'should', 'or', 'shouldn', 't', 'be', 'grouped', 'under', 'the', 'rubric', 'nonetheless', 'key', 'thinkers', 'associated', 'with', 'post', 'anarchism', 'include', 'saul', 'newman', 'todd', 'may', 'gilles', 'deleuze', 'and', 'f', 'lix', 'guattari', 'external', 'reference', 'postanarchism', 'clearinghouse', 'see', 'also', 'post', 'anarchism', 'insurrectionary', 'anarchism', 'insurrectionary', 'anarchism', 'is', 'a', 'form', 'of', 'revolutionary', 'anarchism', 'critical', 'of', 'formal', 'anarchist', 'labor', 'unions', 'and', 'federations', 'insurrectionary', 'anarchists', 'advocate', 'informal', 'organization', 'including', 'small', 'affinity', 'groups', 'carrying', 'out', 'acts', 'of', 'resistance', 'in', 'various', 'struggles', 'and', 'mass', 'organizations', 'called', 'base', 'structures', 'which', 'can', 'include', 'exploited', 'individuals', 'who', 'are', 'not', 'anarchists', 'proponents', 'include', 'wolfi', 'landstreicher', 'and', 'alfredo', 'm', 'bonanno', 'author', 'of', 'works', 'including', 'armed', 'joy', 'and', 'the', 'anarchist', 'tension', 'this', 'tendency', 'is', 'represented', 'in', 'the', 'us', 'in', 'magazines', 'such', 'as', 'willful', 'disobedience', 'and', 'killing', 'king', 'abacus', 'see', 'also', 'insurrectionary', 'anarchism', 'small', 'a', 'anarchism', 'small', 'a', 'anarchism', 'is', 'a', 'term', 'used', 'in', 'two', 'different', 'but', 'not', 'unconnected', 'contexts', 'dave', 'neal', 'posited', 'the', 'term', 'in', 'opposition', 'to', 'big', 'a', 'anarchism', 'in', 'the', 'article', 'anarchism', 'ideology', 'or', 'methodology', 'while', 'big', 'a', 'anarchism', 'referred', 'to', 'ideological', 'anarchists', 'small', 'a', 'anarchism', 'was', 'applied', 'to', 'their', 'methodological', 'counterparts', 'those', 'who', 'viewed', 'anarchism', 'as', 'a', 'way', 'of', 'acting', 'or', 'a', 'historical', 'tendency', 'against', 'illegitimate', 'authority', 'as', 'an', 'anti', 'ideological', 'position', 'small', 'a', 'anarchism', 'shares', 'some', 'similarities', 'with', 'post', 'left', 'anarchy', 'david', 'graeber', 'and', 'andrej', 'grubacic', 'offer', 'an', 'alternative', 'use', 'of', 'the', 'term', 'applying', 'it', 'to', 'groups', 'and', 'movements', 'organising', 'according', 'to', 'or', 'acting', 'in', 'a', 'manner', 'consistent', 'with', 'anarchist', 'principles', 'of', 'decentralisation', 'voluntary', 'association', 'mutual', 'aid', 'the', 'network', 'model', 'and', 'crucially', 'the', 'rejection', 'of', 'any', 'idea', 'that', 'the', 'end', 'justifies', 'the', 'means', 'let', 'alone', 'that', 'the', 'business', 'of', 'a', 'revolutionary', 'is', 'to', 'seize', 'state', 'power', 'and', 'then', 'begin', 'imposing', 'one', 's', 'vision', 'at', 'the', 'point', 'of', 'a', 'gun', 'other', 'issues', 'conceptions', 'of', 'an', 'anarchist', 'society', 'many', 'political', 'philosophers', 'justify', 'support', 'of', 'the', 'state', 'as', 'a', 'means', 'of', 'regulating', 'violence', 'so', 'that', 'the', 'destruction', 'caused', 'by', 'human', 'conflict', 'is', 'minimized', 'and', 'fair', 'relationships', 'are', 'established', 'anarchists', 'argue', 'that', 'pursuit', 'of', 'these', 'ends', 'does', 'not', 'justify', 'the', 'establishment', 'of', 'a', 'state', 'many', 'argue', 'that', 'the', 'state', 'is', 'incompatible', 'with', 'those', 'goals', 'and', 'the', 'cause', 'of', 'chaos', 'violence', 'and', 'war', 'anarchists', 'argue', 'that', 'the', 'state', 'helps', 'to', 'create', 'a', 'monopoly', 'on', 'violence', 'and', 'uses', 'violence', 'to', 'advance', 'elite', 'interests', 'much', 'effort', 'has', 'been', 'dedicated', 'to', 'explaining', 'how', 'anarchist', 'societies', 'would', 'handle', 'criminality', 'see', 'also', 'anarchism', 'and', 'society', 'civil', 'rights', 'and', 'cultural', 'sovereignty', 'black', 'anarchism', 'opposes', 'the', 'existence', 'of', 'a', 'state', 'capitalism', 'and', 'subjugation', 'and', 'domination', 'of', 'people', 'of', 'color', 'and', 'favors', 'a', 'non', 'hierarchical', 'organization', 'of', 'society', 'theorists', 'include', 'ashanti', 'alston', 'lorenzo', 'komboa', 'ervin', 'and', 'sam', 'mbah', 'anarchist', 'people', 'of', 'color', 'was', 'created', 'as', 'a', 'forum', 'for', 'non', 'caucasian', 'anarchists', 'to', 'express', 'their', 'thoughts', 'about', 'racial', 'issues', 'within', 'the', 'anarchist', 'movement', 'particularly', 'within', 'the', 'united', 'states', 'national', 'anarchism', 'is', 'a', 'political', 'view', 'which', 'seeks', 'to', 'unite', 'cultural', 'or', 'ethnic', 'preservation', 'with', 'anarchist', 'views', 'its', 'adherents', 'propose', 'that', 'those', 'preventing', 'ethnic', 'groups', 'or', 'races', 'from', 'living', 'in', 'separate', 'autonomous', 'groupings', 'should', 'be', 'resisted', 'anti', 'racist', 'action', 'is', 'not', 'an', 'anarchist', 'group', 'but', 'many', 'anarchists', 'are', 'involved', 'it', 'focuses', 'on', 'publicly', 'confronting', 'racist', 'agitators', 'the', 'zapatista', 'movement', 'of', 'chiapas', 'mexico', 'is', 'a', 'cultural', 'sovereignty', 'group', 'with', 'some', 'anarchist', 'proclivities', 'neocolonialism', 'and', 'globalization', 'nearly', 'all', 'anarchists', 'oppose', 'neocolonialism', 'as', 'an', 'attempt', 'to', 'use', 'economic', 'coercion', 'on', 'a', 'global', 'scale', 'carried', 'out', 'through', 'state', 'institutions', 'such', 'as', 'the', 'world', 'bank', 'world', 'trade', 'organization', 'group', 'of', 'eight', 'and', 'the', 'world', 'economic', 'forum', 'globalization', 'is', 'an', 'ambiguous', 'term', 'that', 'has', 'different', 'meanings', 'to', 'different', 'anarchist', 'factions', 'most', 'anarchists', 'use', 'the', 'term', 'to', 'mean', 'neocolonialism', 'and', 'or', 'cultural', 'imperialism', 'which', 'they', 'may', 'see', 'as', 'related', 'many', 'are', 'active', 'in', 'the', 'anti', 'globalization', 'movement', 'others', 'particularly', 'anarcho', 'capitalists', 'use', 'globalization', 'to', 'mean', 'the', 'worldwide', 'expansion', 'of', 'the', 'division', 'of', 'labor', 'and', 'trade', 'which', 'they', 'see', 'as', 'beneficial', 'so', 'long', 'as', 'governments', 'do', 'not', 'intervene', 'parallel', 'structures', 'many', 'anarchists', 'try', 'to', 'set', 'up', 'alternatives', 'to', 'state', 'supported', 'institutions', 'and', 'outposts', 'such', 'as', 'food', 'not', 'bombs', 'infoshops', 'educational', 'systems', 'such', 'as', 'home', 'schooling', 'neighborhood', 'mediation', 'arbitration', 'groups', 'and', 'so', 'on', 'the', 'idea', 'is', 'to', 'create', 'the', 'structures', 'for', 'a', 'new', 'anti', 'authoritarian', 'society', 'in', 'the', 'shell', 'of', 'the', 'old', 'authoritarian', 'one', 'technology', 'recent', 'technological', 'developments', 'have', 'made', 'the', 'anarchist', 'cause', 'both', 'easier', 'to', 'advance', 'and', 'more', 'conceivable', 'to', 'people', 'many', 'people', 'use', 'the', 'internet', 'to', 'form', 'on', 'line', 'communities', 'intellectual', 'property', 'is', 'undermined', 'and', 'a', 'gift', 'culture', 'supported', 'by', 'sharing', 'music', 'files', 'open', 'source', 'programming', 'and', 'the', 'free', 'software', 'movement', 'these', 'cyber', 'communities', 'include', 'the', 'gnu', 'linux', 'indymedia', 'and', 'wiki', 'some', 'anarchists', 'see', 'information', 'technology', 'as', 'the', 'best', 'weapon', 'to', 'defeat', 'authoritarianism', 'some', 'even', 'think', 'the', 'information', 'age', 'makes', 'eventual', 'anarchy', 'inevitable', 'see', 'also', 'crypto', 'anarchism', 'and', 'cypherpunk', 'pacifism', 'some', 'anarchists', 'consider', 'pacifism', 'opposition', 'to', 'war', 'to', 'be', 'inherent', 'in', 'their', 'philosophy', 'anarcho', 'pacifists', 'take', 'it', 'further', 'and', 'follow', 'leo', 'tolstoy', 's', 'belief', 'in', 'non', 'violence', 'anarchists', 'see', 'war', 'as', 'an', 'activity', 'in', 'which', 'the', 'state', 'seeks', 'to', 'gain', 'and', 'consolidate', 'power', 'both', 'domestically', 'and', 'in', 'foreign', 'lands', 'and', 'subscribe', 'to', 'randolph', 'bourne', 's', 'view', 'that', 'war', 'is', 'the', 'health', 'of', 'the', 'state', 'a', 'lot', 'of', 'anarchist', 'activity', 'has', 'been', 'anti', 'war', 'based', 'parliamentarianism', 'in', 'general', 'terms', 'the', 'anarchist', 'ethos', 'opposes', 'voting', 'in', 'elections', 'because', 'voting', 'amounts', 'to', 'condoning', 'the', 'state', 'voluntaryism', 'is', 'an', 'anarchist', 'school', 'of', 'thought', 'which', 'emphasizes', 'tending', 'your', 'own', 'garden', 'and', 'neither', 'ballots', 'nor', 'bullets', 'the', 'anarchist', 'case', 'against', 'voting', 'is', 'explained', 'in', 'the', 'ethics', 'of', 'voting', 'by', 'george', 'h', 'smith', 'also', 'see', 'voting', 'anarchists', 'an', 'oxymoron', 'or', 'what', 'by', 'joe', 'peacott', 'and', 'writings', 'by', 'fred', 'woodworth', 'sectarianism', 'most', 'anarchist', 'schools', 'of', 'thought', 'are', 'to', 'some', 'degree', 'sectarian', 'there', 'is', 'often', 'a', 'difference', 'of', 'opinion', 'within', 'each', 'school', 'about', 'how', 'to', 'react', 'to', 'or', 'interact', 'with', 'other', 'schools', 'some', 'such', 'as', 'panarchists', 'believe', 'that', 'it', 'is', 'possible', 'for', 'a', 'variety', 'of', 'modes', 'of', 'social', 'life', 'to', 'coexist', 'and', 'compete', 'some', 'anarchists', 'view', 'opposing', 'schools', 'as', 'a', 'social', 'impossibility', 'and', 'resist', 'interaction', 'others', 'see', 'opportunities', 'for', 'coalition', 'building', 'or', 'at', 'least', 'temporary', 'alliances', 'for', 'specific', 'purposes', 'see', 'anarchism', 'without', 'adjectives', 'criticisms', 'of', 'anarchism', 'main', 'article', 'criticisms', 'of', 'anarchism', 'violence', 'since', 'anarchism', 'has', 'often', 'been', 'associated', 'with', 'violence', 'and', 'destruction', 'some', 'people', 'have', 'seen', 'it', 'as', 'being', 'too', 'violent', 'on', 'the', 'other', 'hand', 'hand', 'frederick', 'engels', 'criticsed', 'anarchists', 'for', 'not', 'being', 'violent', 'enough', 'a', 'revolution', 'is', 'certainly', 'the', 'most', 'authoritarian', 'thing', 'there', 'is', 'it', 'is', 'the', 'act', 'whereby', 'one', 'part', 'of', 'the', 'population', 'imposes', 'its', 'will', 'upon', 'the', 'other', 'part', 'by', 'means', 'of', 'rifles', 'bayonets', 'and', 'cannon', 'authoritarian', 'means', 'if', 'such', 'there', 'be', 'at', 'all', 'and', 'if', 'the', 'victorious', 'party', 'does', 'not', 'want', 'to', 'have', 'fought', 'in', 'vain', 'it', 'must', 'maintain', 'this', 'rule', 'by', 'means', 'of', 'the', 'terror', 'which', 'its', 'arms', 'inspire', 'in', 'the', 'reactionists', 'would', 'the', 'paris', 'commune', 'have', 'lasted', 'a', 'single', 'day', 'if', 'it', 'had', 'not', 'made', 'use', 'of', 'this', 'authority', 'of', 'the', 'armed', 'people', 'against', 'the', 'bourgeois', 'utopianism', 'anarchism', 'is', 'often', 'criticised', 'as', 'unfeasible', 'or', 'plain', 'utopian', 'even', 'by', 'many', 'who', 'agree', 'that', 'it', 's', 'a', 'nice', 'idea', 'in', 'principle', 'for', 'example', 'carl', 'landauer', 'in', 'his', 'book', 'european', 'socialism', 'criticizes', 'anarchism', 'as', 'being', 'unrealistically', 'utopian', 'and', 'holds', 'that', 'government', 'is', 'a', 'lesser', 'evil', 'than', 'a', 'society', 'without', 'repressive', 'force', 'he', 'holds', 'that', 'the', 'belief', 'that', 'ill', 'intentions', 'will', 'cease', 'if', 'repressive', 'force', 'disappears', 'is', 'an', 'absurdity', 'however', 'it', 'must', 'be', 'noted', 'that', 'not', 'all', 'anarchists', 'have', 'such', 'a', 'utopian', 'view', 'of', 'anarchism', 'for', 'example', 'some', 'such', 'as', 'benjamin', 'tucker', 'advocate', 'privately', 'funded', 'institutions', 'that', 'defend', 'individual', 'liberty', 'and', 'property', 'however', 'other', 'anarchists', 'such', 'as', 'sir', 'herbert', 'read', 'proudly', 'accept', 'the', 'characterization', 'utopian', 'class', 'character', 'marxists', 'have', 'characterised', 'anarchism', 'as', 'an', 'expression', 'of', 'the', 'class', 'interests', 'of', 'the', 'petite', 'bourgeoisie', 'or', 'perhaps', 'the', 'lumpenproletariat', 'see', 'e', 'g', 'plekhanov', 'for', 'a', 'marxist', 'critique', 'of', 'one', 'eight', 'nine', 'five', 'anarchists', 'have', 'also', 'been', 'characterised', 'as', 'spoilt', 'middle', 'class', 'dilettantes', 'most', 'recently', 'in', 'relation', 'to', 'anti', 'capitalist', 'protesters', 'tacit', 'authoritarianism', 'in', 'recent', 'decades', 'anarchism', 'has', 'been', 'criticised', 'by', 'situationists', 'post', 'anarchists', 'and', 'others', 'of', 'preserving', 'tacitly', 'statist', 'authoritarian', 'or', 'bureaucratic', 'tendencies', 'behind', 'a', 'dogmatic', 'facade', 'hypocrisy', 'some', 'critics', 'point', 'to', 'the', 'sexist', 'and', 'racist', 'views', 'of', 'some', 'prominent', 'anarchists', 'notably', 'proudhon', 'and', 'bakunin', 'as', 'examples', 'of', 'hypocrisy', 'inherent', 'within', 'anarchism', 'while', 'many', 'anarchists', 'however', 'dismiss', 'that', 'the', 'personal', 'prejudices', 'of', 'one', 'nine', 'th', 'century', 'theorists', 'influence', 'the', 'beliefs', 'of', 'present', 'day', 'anarchists', 'others', 'criticise', 'modern', 'anarchism', 'for', 'continuing', 'to', 'be', 'eurocentric', 'and', 'reference', 'the', 'impact', 'of', 'anarchist', 'thinkers', 'like', 'proudhon', 'on', 'fascism', 'through', 'groups', 'like', 'cercle', 'proudhon', 'anarcho', 'capitalist', 'bryan', 'caplan', 'argues', 'that', 'the', 'treatment', 'of', 'fascists', 'and', 'suspected', 'fascist', 'sympathizers', 'by', 'spanish', 'anarchists', 'in', 'the', 'spanish', 'civil', 'war', 'was', 'a', 'form', 'of', 'illegitimate', 'coercion', 'making', 'the', 'proffessed', 'anarchists', 'ultimately', 'just', 'a', 'third', 'faction', 'of', 'totalitarians', 'alongside', 'the', 'communists', 'and', 'fascists', 'he', 'also', 'criticizes', 'the', 'willingness', 'of', 'the', 'cnt', 'to', 'join', 'the', 'statist', 'republican', 'government', 'during', 'the', 'civil', 'war', 'and', 'references', 'stanley', 'g', 'payne', 's', 'book', 'on', 'the', 'franco', 'regime', 'which', 'claims', 'that', 'the', 'cnt', 'entered', 'negotiations', 'with', 'the', 'fascist', 'government', 'six', 'years', 'after', 'the', 'war', 'cultural', 'phenomena', 'noam', 'chomsky', 'one', 'nine', 'two', 'eight', 'the', 'kind', 'of', 'anarchism', 'that', 'is', 'most', 'easily', 'encountered', 'in', 'popular', 'culture', 'is', 'represented', 'by', 'celebrities', 'who', 'publicly', 'identify', 'themselves', 'as', 'anarchists', 'although', 'some', 'anarchists', 'reject', 'any', 'focus', 'on', 'such', 'famous', 'living', 'individuals', 'as', 'inherently', 'litist', 'the', 'following', 'figures', 'are', 'examples', 'of', 'prominent', 'publicly', 'self', 'avowed', 'anarchists', 'the', 'mit', 'professor', 'of', 'linguistics', 'noam', 'chomsky', 'the', 'science', 'fiction', 'author', 'ursula', 'k', 'le', 'guin', 'the', 'social', 'historian', 'howard', 'zinn', 'entertainer', 'and', 'author', 'hans', 'alfredsson', 'the', 'avant', 'garde', 'artist', 'nicol', 's', 'rossell', 'in', 'denmark', 'the', 'freetown', 'christiania', 'was', 'created', 'in', 'downtown', 'copenhagen', 'the', 'housing', 'and', 'employment', 'crisis', 'in', 'most', 'of', 'western', 'europe', 'led', 'to', 'the', 'formation', 'of', 'communes', 'and', 'squatter', 'movements', 'like', 'the', 'one', 'still', 'thriving', 'in', 'barcelona', 'in', 'catalonia', 'militant', 'resistance', 'to', 'neo', 'nazi', 'groups', 'in', 'places', 'like', 'germany', 'and', 'the', 'uprisings', 'of', 'autonomous', 'marxism', 'situationist', 'and', 'autonomist', 'groups', 'in', 'france', 'and', 'italy', 'also', 'helped', 'to', 'give', 'popularity', 'to', 'anti', 'authoritarian', 'non', 'capitalist', 'ideas', 'in', 'various', 'musical', 'styles', 'anarchism', 'rose', 'in', 'popularity', 'most', 'famous', 'for', 'the', 'linking', 'of', 'anarchist', 'ideas', 'and', 'music', 'has', 'been', 'punk', 'rock', 'although', 'in', 'the', 'modern', 'age', 'hip', 'hop', 'and', 'folk', 'music', 'are', 'also', 'becoming', 'important', 'mediums', 'for', 'the', 'spreading', 'of', 'the', 'anarchist', 'message', 'in', 'the', 'uk', 'this', 'was', 'associated', 'with', 'the', 'punk', 'rock', 'movement', 'the', 'band', 'crass', 'is', 'celebrated', 'for', 'its', 'anarchist', 'and', 'pacifist', 'ideas', 'the', 'dutch', 'punk', 'band', 'the', 'ex', 'further', 'exemplifies', 'this', 'expression', 'for', 'further', 'details', 'see', 'anarcho', 'punk', 'see', 'also', 'there', 'are', 'many', 'concepts', 'relevant', 'to', 'the', 'topic', 'of', 'anarchism', 'this', 'is', 'a', 'brief', 'summary', 'there', 'is', 'also', 'a', 'more', 'extensive', 'list', 'of', 'anarchist', 'concepts', 'individualist', 'anarchism', 'anarcho', 'communism', 'anarcho', 'syndicalism', 'anarcho', 'capitalism', 'mutualism', 'christian', 'anarchism', 'anarcha', 'feminism', 'green', 'anarchism', 'nihilist', 'anarchism', 'anarcho', 'nationalism', 'black', 'anarchism', 'national', 'anarchism', 'post', 'anarchism', 'post', 'left', 'anarchism', 'libertarian', 'socialism', 'anarchist', 'symbolism', 'list', 'of', 'anarchism', 'links', 'list', 'of', 'anarchists', 'list', 'of', 'anarchist', 'organizations', 'major', 'conflicts', 'within', 'anarchist', 'thought', 'past', 'and', 'present', 'anarchist', 'communities', 'historical', 'events', 'paris', 'commune', 'one', 'eight', 'seven', 'one', 'haymarket', 'riot', 'one', 'eight', 'eight', 'six', 'the', 'makhnovschina', 'one', 'nine', 'one', 'seven', 'one', 'nine', 'two', 'one', 'kronstadt', 'rebellion', 'one', 'nine', 'two', 'one', 'spanish', 'revolution', 'one', 'nine', 'three', 'six', 'see', 'anarchism', 'in', 'spain', 'and', 'spanish', 'revolution', 'may', 'one', 'nine', 'six', 'eight', 'france', 'one', 'nine', 'six', 'eight', 'wto', 'meeting', 'in', 'seattle', 'one', 'nine', 'nine', 'nine', 'books', 'the', 'following', 'is', 'a', 'sample', 'of', 'books', 'that', 'have', 'been', 'referenced', 'in', 'this', 'page', 'a', 'more', 'complete', 'list', 'can', 'be', 'found', 'at', 'the', 'list', 'of', 'anarchist', 'books', 'mikhail', 'bakunin', 'god', 'and', 'the', 'state', 'emma', 'goldman', 'anarchism', 'other', 'essays', 'peter', 'kropotkin', 'mutual', 'aid', 'pierre', 'joseph', 'proudhon', 'what', 'is', 'property', 'rudolf', 'rocker', 'anarcho', 'syndicalism', 'murray', 'rothbard', 'the', 'ethics', 'of', 'liberty', 'max', 'stirner', 'the', 'ego', 'and', 'its', 'own', 'leo', 'tolstoy', 'the', 'kingdom', 'of', 'god', 'is', 'within', 'you', 'anarchism', 'by', 'region', 'culture', 'african', 'anarchism', 'anarchism', 'in', 'spain', 'anarchism', 'in', 'the', 'english', 'tradition', 'chinese', 'anarchism', 'references', 'these', 'notes', 'have', 'no', 'corresponding', 'reference', 'in', 'the', 'article', 'they', 'might', 'be', 're', 'used', 'against', 'politics', 'appleton', 'boston', 'anarchists', 'yarros', 'victor', 'liberty', 'vii', 'january', 'two', 'one', 'eight', 'nine', 'two', 'noam', 'chomsky', 'on', 'anarchism', 'by', 'noam', 'chomsky', 'external', 'links', 'the', 'overwhelming', 'diversity', 'and', 'number', 'of', 'links', 'relating', 'to', 'anarchism', 'is', 'extensively', 'covered', 'on', 'the', 'links', 'subpage', 'anarchoblogs', 'blogs', 'by', 'anarchists', 'anarchy', 'archives', 'extensively', 'archives', 'information', 'relating', 'to', 'famous', 'anarchists', 'this', 'includes', 'many', 'of', 'their', 'books', 'and', 'other', 'publications', 'hundreds', 'of', 'anarchists', 'are', 'listed', 'with', 'short', 'bios', 'links', 'dedicated', 'pages', 'at', 'the', 'daily', 'bleed', 's', 'anarchist', 'encyclopedia', 'infoshop', 'org', 'wikipedia', 'page', 'industrial', 'workers', 'of', 'the', 'world', 'anarchism', 'forms', 'of', 'government', 'political', 'ideology', 'entry', 'points', 'political', 'theories', 'social', 'philosophy', 'autism', 'is', 'classified', 'as', 'a', 'neurodevelopmental', 'disorder', 'that', 'manifests', 'itself', 'in', 'markedly', 'abnormal', 'social', 'interaction', 'communication', 'ability', 'patterns', 'of', 'interests', 'and', 'patterns', 'of', 'behavior', 'although', 'the', 'specific', 'etiology', 'of', 'autism', 'is', 'unknown', 'many', 'researchers', 'suspect', 'that', 'autism', 'results', 'from', 'genetically', 'mediated', 'vulnerabilities', 'to', 'environmental', 'triggers', 'and', 'while', 'there', 'is', 'disagreement', 'about', 'the', 'magnitude', 'nature', 'and', 'mechanisms', 'for', 'such', 'environmental', 'factors', 'researchers', 'have', 'found', 'at', 'least', 'seven', 'major', 'genes', 'prevalent', 'among', 'individuals', 'diagnosed', 'as', 'autistic', 'some', 'estimate', 'that', 'autism', 'occurs', 'in', 'as', 'many', 'as', 'one', 'united', 'states', 'child', 'in', 'one', 'six', 'six', 'however', 'the', 'national', 'institute', 'of', 'mental', 'health', 'gives', 'a', 'more', 'conservative', 'estimate', 'of', 'one', 'in', 'one', 'zero', 'zero', 'zero', 'for', 'families', 'that', 'already', 'have', 'one', 'autistic', 'child', 'the', 'odds', 'of', 'a', 'second', 'autistic', 'child', 'may', 'be', 'as', 'high', 'as', 'one', 'in', 'twenty', 'diagnosis', 'is', 'based', 'on', 'a', 'list', 'of', 'psychiatric', 'criteria', 'and', 'a', 'series', 'of', 'standardized', 'clinical', 'tests', 'may', 'also', 'be', 'used', 'autism', 'may', 'not', 'be', 'physiologically', 'obvious', 'a', 'complete', 'physical', 'and', 'neurological', 'evaluation', 'will', 'typically', 'be', 'part', 'of', 'diagnosing', 'autism', 'some', 'now', 'speculate', 'that', 'autism', 'is', 'not', 'a', 'single', 'condition', 'but', 'a', 'group', 'of', 'several', 'distinct', 'conditions', 'that', 'manifest', 'in', 'similar', 'ways', 'by', 'definition', 'autism', 'must', 'manifest', 'delays', 'in', 'social', 'interaction', 'language', 'as', 'used', 'in', 'social', 'communication', 'or', 'symbolic', 'or', 'imaginative', 'play', 'with', 'onset', 'prior', 'to', 'age', 'three', 'years', 'according', 'to', 'the', 'diagnostic', 'and', 'statistical', 'manual', 'of', 'mental', 'disorders', 'the', 'icd', 'one', 'zero', 'also', 'says', 'that', 'symptoms', 'must', 'manifest', 'before', 'the', 'age', 'of', 'three', 'years', 'there', 'have', 'been', 'large', 'increases', 'in', 'the', 'reported', 'incidence', 'of', 'autism', 'for', 'reasons', 'that', 'are', 'heavily', 'debated', 'by', 'researchers', 'in', 'psychology', 'and', 'related', 'fields', 'within', 'the', 'scientific', 'community', 'some', 'children', 'with', 'autism', 'have', 'improved', 'their', 'social', 'and', 'other', 'skills', 'to', 'the', 'point', 'where', 'they', 'can', 'fully', 'participate', 'in', 'mainstream', 'education', 'and', 'social', 'events', 'but', 'there', 'are', 'lingering', 'concerns', 'that', 'an', 'absolute', 'cure', 'from', 'autism', 'is', 'impossible', 'with', 'current', 'technology', 'however', 'many', 'autistic', 'children', 'and', 'adults', 'who', 'are', 'able', 'to', 'communicate', 'at', 'least', 'in', 'writing', 'are', 'opposed', 'to', 'attempts', 'to', 'cure', 'their', 'conditions', 'and', 'see', 'such', 'conditions', 'as', 'part', 'of', 'who', 'they', 'are', 'history', 'dr', 'hans', 'asperger', 'described', 'a', 'form', 'of', 'autism', 'in', 'the', 'one', 'nine', 'four', 'zero', 's', 'that', 'later', 'became', 'known', 'as', 'asperger', 's', 'syndrome', 'the', 'word', 'autism', 'was', 'first', 'used', 'in', 'the', 'english', 'language', 'by', 'swiss', 'psychiatrist', 'eugene', 'bleuler', 'in', 'a', 'one', 'nine', 'one', 'two', 'number', 'of', 'the', 'american', 'journal', 'of', 'insanity', 'it', 'comes', 'from', 'the', 'greek', 'word', 'for', 'self', 'however', 'the', 'classification', 'of', 'autism', 'did', 'not', 'occur', 'until', 'the', 'middle', 'of', 'the', 'twentieth', 'century', 'when', 'in', 'one', 'nine', 'four', 'three', 'psychiatrist', 'dr', 'leo', 'kanner', 'of', 'the', 'johns', 'hopkins', 'hospital', 'in', 'baltimore', 'reported', 'on', 'one', 'one', 'child', 'patients', 'with', 'striking', 'behavioral', 'similarities', 'and', 'introduced', 'the', 'label', 'early', 'infantile', 'autism', 'he', 'suggested', 'autism', 'from', 'the', 'greek', 'autos', 'meaning', 'self', 'to', 'describe', 'the', 'fact', 'that', 'the', 'children', 'seemed', 'to', 'lack', 'interest', 'in', 'other', 'people', 'although', 'kanner', 's', 'first', 'paper', 'on', 'the', 'subject', 'was', 'published', 'in', 'a', 'now', 'defunct', 'journal', 'the', 'nervous', 'child', 'almost', 'every', 'characteristic', 'he', 'originally', 'described', 'is', 'still', 'regarded', 'as', 'typical', 'of', 'the', 'autistic', 'spectrum', 'of', 'disorders', 'at', 'the', 'same', 'time', 'an', 'austrian', 'scientist', 'dr', 'hans', 'asperger', 'described', 'a', 'different', 'form', 'of', 'autism', 'that', 'became', 'known', 'as', 'asperger', 's', 'syndrome', 'but', 'the', 'widespread', 'recognition', 'of', 'asperger', 's', 'work', 'was', 'delayed', 'by', 'world', 'war', 'ii', 'in', 'germany', 'and', 'by', 'the', 'fact', 'that', 'his', 'seminal', 'paper', 'wasn', 't', 'translated', 'into', 'english', 'for', 'almost', 'five', 'zero', 'years', 'the', 'majority', 'of', 'his', 'work', 'wasn', 't', 'widely', 'read', 'until', 'one', 'nine', 'nine', 'seven', 'thus', 'these', 'two', 'conditions', 'were', 'described', 'and', 'are', 'today', 'listed', 'in', 'the', 'diagnostic', 'and', 'statistical', 'manual', 'of', 'mental', 'disorders', 'dsm', 'iv', 'tr', 'fourth', 'edition', 'text', 'revision', 'one', 'as', 'two', 'of', 'the', 'five', 'pervasive', 'developmental', 'disorders', 'pdd', 'more', 'often', 'referred', 'to', 'today', 'as', 'autism', 'spectrum', 'disorders', 'asd', 'all', 'of', 'these', 'conditions', 'are', 'characterized', 'by', 'varying', 'degrees', 'of', 'difference', 'in', 'communication', 'skills', 'social', 'interactions', 'and', 'restricted', 'repetitive', 'and', 'stereotyped', 'patterns', 'of', 'behavior', 'few', 'clinicians', 'today', 'solely', 'use', 'the', 'dsm', 'iv', 'criteria', 'for', 'determining', 'a', 'diagnosis', 'of', 'autism', 'which', 'are', 'based', 'on', 'the', 'absence', 'or', 'delay', 'of', 'certain', 'developmental', 'milestones', 'many', 'clinicians', 'instead', 'use', 'an', 'alternate', 'means', 'or', 'a', 'combination', 'thereof', 'to', 'more', 'accurately', 'determine', 'a', 'diagnosis', 'terminology', 'when', 'referring', 'to', 'someone', 'diagnosed', 'with', 'autism', 'the', 'term', 'autistic', 'is', 'often', 'used', 'however', 'the', 'term', 'person', 'with', 'autism', 'can', 'be', 'used', 'instead', 'this', 'is', 'referred', 'to', 'as', 'person', 'first', 'terminology', 'the', 'autistic', 'community', 'generally', 'prefers', 'the', 'term', 'autistic', 'for', 'reasons', 'that', 'are', 'fairly', 'controversial', 'this', 'article', 'uses', 'the', 'term', 'autistic', 'see', 'talk', 'page', 'characteristics', 'dr', 'leo', 'kanner', 'introduced', 'the', 'label', 'early', 'infantile', 'autism', 'in', 'one', 'nine', 'four', 'three', 'there', 'is', 'a', 'great', 'diversity', 'in', 'the', 'skills', 'and', 'behaviors', 'of', 'individuals', 'diagnosed', 'as', 'autistic', 'and', 'physicians', 'will', 'often', 'arrive', 'at', 'different', 'conclusions', 'about', 'the', 'appropriate', 'diagnosis', 'much', 'of', 'this', 'is', 'due', 'to', 'the', 'sensory', 'system', 'of', 'an', 'autistic', 'which', 'is', 'quite', 'different', 'from', 'the', 'sensory', 'system', 'of', 'other', 'people', 'since', 'certain', 'stimulations', 'can', 'affect', 'an', 'autistic', 'differently', 'than', 'a', 'non', 'autistic', 'and', 'the', 'degree', 'to', 'which', 'the', 'sensory', 'system', 'is', 'affected', 'varies', 'wildly', 'from', 'one', 'autistic', 'person', 'to', 'another', 'nevertheless', 'professionals', 'within', 'pediatric', 'care', 'and', 'development', 'often', 'look', 'for', 'early', 'indicators', 'of', 'autism', 'in', 'order', 'to', 'initiate', 'treatment', 'as', 'early', 'as', 'possible', 'however', 'some', 'people', 'do', 'not', 'believe', 'in', 'treatment', 'for', 'autism', 'either', 'because', 'they', 'do', 'not', 'believe', 'autism', 'is', 'a', 'disorder', 'or', 'because', 'they', 'believe', 'treatment', 'can', 'do', 'more', 'harm', 'than', 'good', 'social', 'development', 'typically', 'developing', 'infants', 'are', 'social', 'beings', 'early', 'in', 'life', 'they', 'do', 'such', 'things', 'as', 'gaze', 'at', 'people', 'turn', 'toward', 'voices', 'grasp', 'a', 'finger', 'and', 'even', 'smile', 'in', 'contrast', 'most', 'autistic', 'children', 'prefer', 'objects', 'to', 'faces', 'and', 'seem', 'to', 'have', 'tremendous', 'difficulty', 'learning', 'to', 'engage', 'in', 'the', 'give', 'and', 'take', 'of', 'everyday', 'human', 'interaction', 'even', 'in', 'the', 'first', 'few', 'months', 'of', 'life', 'many', 'seem', 'indifferent', 'to', 'other', 'people', 'because', 'they', 'avoid', 'eye', 'contact', 'and', 'do', 'not', 'interact', 'with', 'them', 'as', 'often', 'as', 'non', 'autistic', 'children', 'children', 'with', 'autism', 'often', 'appear', 'to', 'prefer', 'being', 'alone', 'to', 'the', 'company', 'of', 'others', 'and', 'may', 'passively', 'accept', 'such', 'things', 'as', 'hugs', 'and', 'cuddling', 'without', 'reciprocating', 'or', 'resist', 'attention', 'altogether', 'later', 'they', 'seldom', 'seek', 'comfort', 'from', 'others', 'or', 'respond', 'to', 'parents', 'displays', 'of', 'anger', 'or', 'affection', 'in', 'a', 'typical', 'way', 'research', 'has', 'suggested', 'that', 'although', 'autistic', 'children', 'are', 'attached', 'to', 'their', 'parents', 'their', 'expression', 'of', 'this', 'attachment', 'is', 'unusual', 'and', 'difficult', 'to', 'interpret', 'parents', 'who', 'looked', 'forward', 'to', 'the', 'joys', 'of', 'cuddling', 'teaching', 'and', 'playing', 'with', 'their', 'child', 'may', 'feel', 'crushed', 'by', 'this', 'lack', 'of', 'expected', 'attachment', 'behavior', 'children', 'with', 'autism', 'appear', 'to', 'lack', 'theory', 'of', 'mind', 'the', 'ability', 'to', 'see', 'things', 'from', 'another', 'person', 's', 'perspective', 'a', 'behavior', 'cited', 'as', 'exclusive', 'to', 'human', 'beings', 'above', 'the', 'age', 'of', 'five', 'and', 'possibly', 'other', 'higher', 'primates', 'such', 'as', 'adult', 'gorillas', 'chimpanzees', 'and', 'bonobos', 'typical', 'five', 'year', 'olds', 'can', 'develop', 'insights', 'into', 'other', 'people', 's', 'different', 'knowledge', 'feelings', 'and', 'intentions', 'interpretations', 'based', 'upon', 'social', 'cues', 'e', 'g', 'gestures', 'facial', 'expressions', 'an', 'individual', 'with', 'autism', 'seems', 'to', 'lack', 'these', 'interpretation', 'skills', 'an', 'inability', 'that', 'leaves', 'them', 'unable', 'to', 'predict', 'or', 'understand', 'other', 'people', 's', 'actions', 'the', 'social', 'alienation', 'of', 'autistic', 'and', 'asperger', 's', 'people', 'is', 'so', 'intense', 'from', 'childhood', 'that', 'many', 'of', 'them', 'have', 'imaginary', 'friends', 'as', 'companionship', 'however', 'having', 'an', 'imaginary', 'friend', 'is', 'not', 'necessarily', 'a', 'sign', 'of', 'autism', 'and', 'also', 'occurs', 'in', 'non', 'autistic', 'children', 'although', 'not', 'universal', 'it', 'is', 'common', 'for', 'autistic', 'people', 'to', 'not', 'regulate', 'their', 'behavior', 'this', 'can', 'take', 'the', 'form', 'of', 'crying', 'or', 'verbal', 'outbursts', 'that', 'may', 'seem', 'out', 'of', 'proportion', 'to', 'the', 'situation', 'individuals', 'with', 'autism', 'generally', 'prefer', 'consistent', 'routines', 'and', 'environments', 'they', 'may', 'react', 'negatively', 'to', 'changes', 'in', 'them', 'it', 'is', 'not', 'uncommon', 'for', 'these', 'individuals', 'to', 'exhibit', 'aggression', 'increased', 'levels', 'of', 'self', 'stimulatory', 'behavior', 'self', 'injury', 'or', 'extensive', 'withdrawal', 'in', 'overwhelming', 'situations', 'sensory', 'system', 'a', 'key', 'indicator', 'to', 'clinicians', 'making', 'a', 'proper', 'assessment', 'for', 'autism', 'would', 'include', 'looking', 'for', 'symptoms', 'much', 'like', 'those', 'found', 'in', 'sensory', 'integration', 'dysfunction', 'children', 'will', 'exhibit', 'problems', 'coping', 'with', 'the', 'normal', 'sensory', 'input', 'indicators', 'of', 'this', 'disorder', 'include', 'oversensitivity', 'or', 'underreactivity', 'to', 'touch', 'movement', 'sights', 'or', 'sounds', 'physical', 'clumsiness', 'or', 'carelessness', 'poor', 'body', 'awareness', 'a', 'tendency', 'to', 'be', 'easily', 'distracted', 'impulsive', 'physical', 'or', 'verbal', 'behavior', 'an', 'activity', 'level', 'that', 'is', 'unusually', 'high', 'or', 'low', 'not', 'unwinding', 'or', 'calming', 'oneself', 'difficulty', 'learning', 'new', 'movements', 'difficulty', 'in', 'making', 'transitions', 'from', 'one', 'situation', 'to', 'another', 'social', 'and', 'or', 'emotional', 'problems', 'delays', 'in', 'speech', 'language', 'or', 'motor', 'skills', 'specific', 'learning', 'difficulties', 'delays', 'in', 'academic', 'achievement', 'one', 'common', 'example', 'is', 'an', 'individual', 'with', 'autism', 'hearing', 'a', 'person', 'with', 'autism', 'may', 'have', 'trouble', 'hearing', 'certain', 'people', 'while', 'other', 'people', 'are', 'louder', 'than', 'usual', 'or', 'the', 'person', 'with', 'autism', 'may', 'be', 'unable', 'to', 'filter', 'out', 'sounds', 'in', 'certain', 'situations', 'such', 'as', 'in', 'a', 'large', 'crowd', 'of', 'people', 'see', 'cocktail', 'party', 'effect', 'however', 'this', 'is', 'perhaps', 'the', 'part', 'of', 'the', 'autism', 'that', 'tends', 'to', 'vary', 'the', 'most', 'from', 'person', 'to', 'person', 'so', 'these', 'examples', 'may', 'not', 'apply', 'to', 'every', 'autistic', 'it', 'should', 'be', 'noted', 'that', 'sensory', 'difficulties', 'although', 'reportedly', 'common', 'in', 'autistics', 'are', 'not', 'part', 'of', 'the', 'dsm', 'iv', 'diagnostic', 'criteria', 'for', 'autistic', 'disorder', 'communication', 'difficulties', 'by', 'age', 'three', 'typical', 'children', 'have', 'passed', 'predictable', 'language', 'learning', 'milestones', 'one', 'of', 'the', 'earliest', 'is', 'babbling', 'by', 'the', 'first', 'birthday', 'a', 'typical', 'toddler', 'says', 'words', 'turns', 'when', 'he', 'or', 'she', 'hears', 'his', 'or', 'her', 'name', 'points', 'when', 'he', 'or', 'she', 'wants', 'a', 'toy', 'and', 'when', 'offered', 'something', 'distasteful', 'makes', 'it', 'clear', 'that', 'the', 'answer', 'is', 'no', 'speech', 'development', 'in', 'people', 'with', 'autism', 'takes', 'different', 'paths', 'some', 'remain', 'mute', 'throughout', 'their', 'lives', 'while', 'being', 'fully', 'literate', 'and', 'able', 'to', 'communicate', 'in', 'other', 'ways', 'images', 'sign', 'language', 'and', 'typing', 'are', 'far', 'more', 'natural', 'to', 'them', 'some', 'infants', 'who', 'later', 'show', 'signs', 'of', 'autism', 'coo', 'and', 'babble', 'during', 'the', 'first', 'few', 'months', 'of', 'life', 'but', 'stop', 'soon', 'afterwards', 'others', 'may', 'be', 'delayed', 'developing', 'language', 'as', 'late', 'as', 'the', 'teenage', 'years', 'still', 'inability', 'to', 'speak', 'does', 'not', 'mean', 'that', 'people', 'with', 'autism', 'are', 'unintelligent', 'or', 'unaware', 'once', 'given', 'appropriate', 'accommodations', 'many', 'will', 'happily', 'converse', 'for', 'hours', 'and', 'can', 'often', 'be', 'found', 'in', 'online', 'chat', 'rooms', 'discussion', 'boards', 'or', 'websites', 'and', 'even', 'using', 'communication', 'devices', 'at', 'autism', 'community', 'social', 'events', 'such', 'as', 'autreat', 'those', 'who', 'do', 'speak', 'often', 'use', 'language', 'in', 'unusual', 'ways', 'retaining', 'features', 'of', 'earlier', 'stages', 'of', 'language', 'development', 'for', 'long', 'periods', 'or', 'throughout', 'their', 'lives', 'some', 'speak', 'only', 'single', 'words', 'while', 'others', 'repeat', 'the', 'same', 'phrase', 'over', 'and', 'over', 'some', 'repeat', 'what', 'they', 'hear', 'a', 'condition', 'called', 'echolalia', 'sing', 'song', 'repetitions', 'in', 'particular', 'are', 'a', 'calming', 'joyous', 'activity', 'that', 'many', 'autistic', 'adults', 'engage', 'in', 'many', 'people', 'with', 'autism', 'have', 'a', 'strong', 'tonal', 'sense', 'and', 'can', 'often', 'understand', 'spoken', 'language', 'some', 'children', 'may', 'exhibit', 'only', 'slight', 'delays', 'in', 'language', 'or', 'even', 'seem', 'to', 'have', 'precocious', 'language', 'and', 'unusually', 'large', 'vocabularies', 'but', 'have', 'great', 'difficulty', 'in', 'sustaining', 'typical', 'conversations', 'the', 'give', 'and', 'take', 'of', 'non', 'autistic', 'conversation', 'is', 'hard', 'for', 'them', 'although', 'they', 'often', 'carry', 'on', 'a', 'monologue', 'on', 'a', 'favorite', 'subject', 'giving', 'no', 'one', 'else', 'an', 'opportunity', 'to', 'comment', 'when', 'given', 'the', 'chance', 'to', 'converse', 'with', 'other', 'autistics', 'they', 'comfortably', 'do', 'so', 'in', 'parallel', 'monologue', 'taking', 'turns', 'expressing', 'views', 'and', 'information', 'just', 'as', 'neurotypicals', 'people', 'without', 'autism', 'have', 'trouble', 'understanding', 'autistic', 'body', 'languages', 'vocal', 'tones', 'or', 'phraseology', 'people', 'with', 'autism', 'similarly', 'have', 'trouble', 'with', 'such', 'things', 'in', 'people', 'without', 'autism', 'in', 'particular', 'autistic', 'language', 'abilities', 'tend', 'to', 'be', 'highly', 'literal', 'people', 'without', 'autism', 'often', 'inappropriately', 'attribute', 'hidden', 'meaning', 'to', 'what', 'people', 'with', 'autism', 'say', 'or', 'expect', 'the', 'person', 'with', 'autism', 'to', 'sense', 'such', 'unstated', 'meaning', 'in', 'their', 'own', 'words', 'the', 'body', 'language', 'of', 'people', 'with', 'autism', 'can', 'be', 'difficult', 'for', 'other', 'people', 'to', 'understand', 'facial', 'expressions', 'movements', 'and', 'gestures', 'may', 'be', 'easily', 'understood', 'by', 'some', 'other', 'people', 'with', 'autism', 'but', 'do', 'not', 'match', 'those', 'used', 'by', 'other', 'people', 'also', 'their', 'tone', 'of', 'voice', 'has', 'a', 'much', 'more', 'subtle', 'inflection', 'in', 'reflecting', 'their', 'feelings', 'and', 'the', 'auditory', 'system', 'of', 'a', 'person', 'without', 'autism', 'often', 'cannot', 'sense', 'the', 'fluctuations', 'what', 'seems', 'to', 'non', 'autistic', 'people', 'like', 'a', 'high', 'pitched', 'sing', 'song', 'or', 'flat', 'robot', 'like', 'voice', 'is', 'common', 'in', 'autistic', 'children', 'some', 'autistic', 'children', 'with', 'relatively', 'good', 'language', 'skills', 'speak', 'like', 'little', 'adults', 'rather', 'than', 'communicating', 'at', 'their', 'current', 'age', 'level', 'which', 'is', 'one', 'of', 'the', 'things', 'that', 'can', 'lead', 'to', 'problems', 'since', 'non', 'autistic', 'people', 'are', 'often', 'unfamiliar', 'with', 'the', 'autistic', 'body', 'language', 'and', 'since', 'autistic', 'natural', 'language', 'may', 'not', 'tend', 'towards', 'speech', 'autistic', 'people', 'often', 'struggle', 'to', 'let', 'other', 'people', 'know', 'what', 'they', 'need', 'as', 'anybody', 'might', 'do', 'in', 'such', 'a', 'situation', 'they', 'may', 'scream', 'in', 'frustration', 'or', 'resort', 'to', 'grabbing', 'what', 'they', 'want', 'while', 'waiting', 'for', 'non', 'autistic', 'people', 'to', 'learn', 'to', 'communicate', 'with', 'them', 'people', 'with', 'autism', 'do', 'whatever', 'they', 'can', 'to', 'get', 'through', 'to', 'them', 'communication', 'difficulties', 'may', 'contribute', 'to', 'autistic', 'people', 'becoming', 'socially', 'anxious', 'or', 'depressed', 'repetitive', 'behaviors', 'although', 'people', 'with', 'autism', 'usually', 'appear', 'physically', 'normal', 'and', 'have', 'good', 'muscle', 'control', 'unusual', 'repetitive', 'motions', 'known', 'as', 'self', 'stimulation', 'or', 'stimming', 'may', 'set', 'them', 'apart', 'these', 'behaviors', 'might', 'be', 'extreme', 'and', 'highly', 'apparent', 'or', 'more', 'subtle', 'some', 'children', 'and', 'older', 'individuals', 'spend', 'a', 'lot', 'of', 'time', 'repeatedly', 'flapping', 'their', 'arms', 'or', 'wiggling', 'their', 'toes', 'others', 'suddenly', 'freeze', 'in', 'position', 'as', 'children', 'they', 'might', 'spend', 'hours', 'lining', 'up', 'their', 'cars', 'and', 'trains', 'in', 'a', 'certain', 'way', 'not', 'using', 'them', 'for', 'pretend', 'play', 'if', 'someone', 'accidentally', 'moves', 'one', 'of', 'these', 'toys', 'the', 'child', 'may', 'be', 'tremendously', 'upset', 'autistic', 'children', 'often', 'need', 'and', 'demand', 'absolute', 'consistency', 'in', 'their', 'environment', 'a', 'slight', 'change', 'in', 'any', 'routine', 'in', 'mealtimes', 'dressing', 'taking', 'a', 'bath', 'or', 'going', 'to', 'school', 'at', 'a', 'certain', 'time', 'and', 'by', 'the', 'same', 'route', 'can', 'be', 'extremely', 'disturbing', 'people', 'with', 'autism', 'sometimes', 'have', 'a', 'persistent', 'intense', 'preoccupation', 'for', 'example', 'the', 'child', 'might', 'be', 'obsessed', 'with', 'learning', 'all', 'about', 'vacuum', 'cleaners', 'train', 'schedules', 'or', 'lighthouses', 'often', 'they', 'show', 'great', 'interest', 'in', 'different', 'languages', 'numbers', 'symbols', 'or', 'science', 'topics', 'repetitive', 'behaviors', 'can', 'also', 'extend', 'into', 'the', 'spoken', 'word', 'as', 'well', 'perseveration', 'of', 'a', 'single', 'word', 'or', 'phrase', 'even', 'for', 'a', 'specific', 'number', 'of', 'times', 'can', 'also', 'become', 'a', 'part', 'of', 'the', 'child', 's', 'daily', 'routine', 'effects', 'in', 'education', 'children', 'with', 'autism', 'are', 'affected', 'with', 'these', 'symptoms', 'every', 'day', 'these', 'unusual', 'characteristics', 'set', 'them', 'apart', 'from', 'the', 'everyday', 'normal', 'student', 'because', 'they', 'have', 'trouble', 'understanding', 'people', 's', 'thoughts', 'and', 'feelings', 'they', 'have', 'trouble', 'understanding', 'what', 'their', 'teacher', 'may', 'be', 'telling', 'them', 'they', 'do', 'not', 'understand', 'that', 'facial', 'expressions', 'and', 'vocal', 'variations', 'hold', 'meanings', 'and', 'may', 'misinterpret', 'what', 'emotion', 'their', 'instructor', 'is', 'displaying', 'this', 'inability', 'to', 'fully', 'decipher', 'the', 'world', 'around', 'them', 'makes', 'education', 'stressful', 'teachers', 'need', 'to', 'be', 'aware', 'of', 'a', 'student', 's', 'disorder', 'so', 'that', 'they', 'are', 'able', 'to', 'help', 'the', 'student', 'get', 'the', 'best', 'out', 'of', 'the', 'lessons', 'being', 'taught', 'some', 'students', 'learn', 'better', 'with', 'visual', 'aids', 'as', 'they', 'are', 'better', 'able', 'to', 'understand', 'material', 'presented', 'this', 'way', 'because', 'of', 'this', 'many', 'teachers', 'create', 'visual', 'schedules', 'for', 'their', 'autistic', 'students', 'this', 'allows', 'the', 'student', 'to', 'know', 'what', 'is', 'going', 'on', 'throughout', 'the', 'day', 'so', 'they', 'know', 'what', 'to', 'prepare', 'for', 'and', 'what', 'activity', 'they', 'will', 'be', 'doing', 'next', 'some', 'autistic', 'children', 'have', 'trouble', 'going', 'from', 'one', 'activity', 'to', 'the', 'next', 'so', 'this', 'visual', 'schedule', 'can', 'help', 'to', 'reduce', 'stress', 'research', 'has', 'shown', 'that', 'working', 'in', 'pairs', 'may', 'be', 'beneficial', 'to', 'autistic', 'children', 'autistic', 'students', 'have', 'problems', 'in', 'schools', 'not', 'only', 'with', 'language', 'and', 'communication', 'but', 'with', 'socialization', 'as', 'well', 'they', 'feel', 'self', 'conscious', 'about', 'themselves', 'and', 'many', 'feel', 'that', 'they', 'will', 'always', 'be', 'outcasts', 'by', 'allowing', 'them', 'to', 'work', 'with', 'peers', 'they', 'can', 'make', 'friends', 'which', 'in', 'turn', 'can', 'help', 'them', 'cope', 'with', 'the', 'problems', 'that', 'arise', 'by', 'doing', 'so', 'they', 'can', 'become', 'more', 'integrated', 'into', 'the', 'mainstream', 'environment', 'of', 'the', 'classroom', 'a', 'teacher', 's', 'aide', 'can', 'also', 'be', 'useful', 'to', 'the', 'student', 'the', 'aide', 'is', 'able', 'to', 'give', 'more', 'elaborate', 'directions', 'that', 'the', 'teacher', 'may', 'not', 'have', 'time', 'to', 'explain', 'to', 'the', 'autistic', 'child', 'the', 'aide', 'can', 'also', 'facilitate', 'the', 'autistic', 'child', 'in', 'such', 'a', 'way', 'as', 'to', 'allow', 'them', 'to', 'stay', 'at', 'a', 'similar', 'level', 'to', 'the', 'rest', 'of', 'the', 'class', 'this', 'allows', 'a', 'partially', 'one', 'on', 'one', 'lesson', 'structure', 'so', 'that', 'the', 'child', 'is', 'still', 'able', 'to', 'stay', 'in', 'a', 'normal', 'classroom', 'but', 'be', 'given', 'the', 'extra', 'help', 'that', 'they', 'need', 'there', 'are', 'many', 'different', 'techniques', 'that', 'teachers', 'can', 'use', 'to', 'assist', 'their', 'students', 'a', 'teacher', 'needs', 'to', 'become', 'familiar', 'with', 'the', 'child', 's', 'disorder', 'to', 'know', 'what', 'will', 'work', 'best', 'with', 'that', 'particular', 'child', 'every', 'child', 'is', 'going', 'to', 'be', 'different', 'and', 'teachers', 'have', 'to', 'be', 'able', 'to', 'adjust', 'with', 'every', 'one', 'of', 'them', 'students', 'with', 'autism', 'spectrum', 'disorders', 'typically', 'have', 'high', 'levels', 'of', 'anxiety', 'and', 'stress', 'particularly', 'in', 'social', 'environments', 'like', 'school', 'if', 'a', 'student', 'exhibits', 'aggressive', 'or', 'explosive', 'behavior', 'it', 'is', 'important', 'for', 'educational', 'teams', 'to', 'recognize', 'the', 'impact', 'of', 'stress', 'and', 'anxiety', 'preparing', 'students', 'for', 'new', 'situations', 'by', 'writing', 'social', 'stories', 'can', 'lower', 'anxiety', 'teaching', 'social', 'and', 'emotional', 'concepts', 'using', 'systematic', 'teaching', 'approaches', 'such', 'as', 'the', 'incredible', 'five', 'point', 'scale', 'or', 'other', 'cognitive', 'behavioral', 'strategies', 'can', 'increase', 'a', 'student', 's', 'ability', 'to', 'control', 'excessive', 'behavioral', 'reactions', 'dsm', 'definition', 'autism', 'is', 'defined', 'in', 'section', 'two', 'nine', 'nine', 'zero', 'zero', 'of', 'the', 'diagnostic', 'and', 'statistical', 'manual', 'of', 'mental', 'disorders', 'dsm', 'iv', 'as', 'a', 'total', 'of', 'six', 'or', 'more', 'items', 'from', 'one', 'two', 'and', 'three', 'with', 'at', 'least', 'two', 'from', 'one', 'and', 'one', 'each', 'from', 'two', 'and', 'three', 'qualitative', 'impairment', 'in', 'social', 'interaction', 'as', 'manifested', 'by', 'at', 'least', 'two', 'of', 'the', 'following', 'marked', 'impairment', 'in', 'the', 'use', 'of', 'multiple', 'nonverbal', 'behaviors', 'such', 'as', 'eye', 'to', 'eye', 'gaze', 'facial', 'expression', 'body', 'postures', 'and', 'gestures', 'to', 'regulate', 'social', 'interaction', 'failure', 'to', 'develop', 'peer', 'relationships', 'appropriate', 'to', 'developmental', 'level', 'a', 'lack', 'of', 'spontaneous', 'seeking', 'to', 'share', 'enjoyment', 'interests', 'or', 'achievements', 'with', 'other', 'people', 'e', 'g', 'by', 'a', 'lack', 'of', 'showing', 'bringing', 'or', 'pointing', 'out', 'objects', 'of', 'interest', 'lack', 'of', 'social', 'or', 'emotional'], tags=[0])]\n"
     ]
    }
   ],
   "source": [
    "#prepare dataset\n",
    "def create_tagged_document(list_of_list_of_words):\n",
    "    for i, list_of_words in enumerate(list_of_list_of_words):\n",
    "        yield TaggedDocument(list_of_words, [i])\n",
    "\n",
    "dataset = api.load(\"text8\")\n",
    "data = [d for d in dataset]\n",
    "\n",
    "train_data = list(create_tagged_document(data))\n",
    "print(train_data[:1])"
   ]
  },
  {
   "cell_type": "code",
   "execution_count": 50,
   "metadata": {
    "scrolled": true
   },
   "outputs": [
    {
     "name": "stderr",
     "output_type": "stream",
     "text": [
      "WARNING - 22:21:14: consider setting layer size to a multiple of 4 for greater performance\n",
      "INFO - 22:21:14: collecting all words and their counts\n",
      "INFO - 22:21:14: PROGRESS: at example #0, processed 0 words (0/s), 0 word types, 0 tags\n",
      "INFO - 22:21:21: collected 253854 word types and 1701 unique tags from a corpus of 1701 examples and 17005207 words\n",
      "INFO - 22:21:21: Loading a fresh vocabulary\n",
      "INFO - 22:21:35: effective_min_count=1 retains 253854 unique words (100% of original 253854, drops 0)\n",
      "INFO - 22:21:35: effective_min_count=1 leaves 17005207 word corpus (100% of original 17005207, drops 0)\n",
      "INFO - 22:21:37: deleting the raw counts dictionary of 253854 items\n",
      "INFO - 22:21:37: sample=0.001 downsamples 36 most-common words\n",
      "INFO - 22:21:37: downsampling leaves estimated 12819131 word corpus (75.4% of prior 17005207)\n",
      "INFO - 22:21:38: estimated required memory for 253854 words and 50 dimensions: 228808800 bytes\n",
      "INFO - 22:21:38: resetting layer weights\n",
      "INFO - 22:22:53: training model with 3 workers on 253854 vocabulary and 50 features, using sg=0 hs=0 sample=0.001 negative=5 window=5\n",
      "INFO - 22:22:54: EPOCH 1 - PROGRESS: at 5.82% examples, 739344 words/s, in_qsize 5, out_qsize 0\n",
      "INFO - 22:22:56: EPOCH 1 - PROGRESS: at 11.52% examples, 724007 words/s, in_qsize 3, out_qsize 2\n",
      "INFO - 22:22:57: EPOCH 1 - PROGRESS: at 17.28% examples, 725272 words/s, in_qsize 5, out_qsize 0\n",
      "INFO - 22:22:58: EPOCH 1 - PROGRESS: at 22.52% examples, 710915 words/s, in_qsize 3, out_qsize 2\n",
      "INFO - 22:22:59: EPOCH 1 - PROGRESS: at 28.10% examples, 711442 words/s, in_qsize 6, out_qsize 0\n",
      "INFO - 22:23:00: EPOCH 1 - PROGRESS: at 33.74% examples, 714097 words/s, in_qsize 5, out_qsize 0\n",
      "INFO - 22:23:01: EPOCH 1 - PROGRESS: at 39.62% examples, 718524 words/s, in_qsize 5, out_qsize 0\n",
      "INFO - 22:23:02: EPOCH 1 - PROGRESS: at 45.68% examples, 724847 words/s, in_qsize 6, out_qsize 1\n",
      "INFO - 22:23:03: EPOCH 1 - PROGRESS: at 51.26% examples, 724269 words/s, in_qsize 5, out_qsize 0\n",
      "INFO - 22:23:04: EPOCH 1 - PROGRESS: at 56.50% examples, 719500 words/s, in_qsize 5, out_qsize 0\n",
      "INFO - 22:23:05: EPOCH 1 - PROGRESS: at 61.90% examples, 717158 words/s, in_qsize 5, out_qsize 0\n",
      "INFO - 22:23:06: EPOCH 1 - PROGRESS: at 66.31% examples, 704394 words/s, in_qsize 4, out_qsize 1\n",
      "INFO - 22:23:07: EPOCH 1 - PROGRESS: at 71.78% examples, 704132 words/s, in_qsize 5, out_qsize 0\n",
      "INFO - 22:23:08: EPOCH 1 - PROGRESS: at 76.84% examples, 699209 words/s, in_qsize 5, out_qsize 0\n",
      "INFO - 22:23:09: EPOCH 1 - PROGRESS: at 82.19% examples, 697971 words/s, in_qsize 5, out_qsize 0\n",
      "INFO - 22:23:10: EPOCH 1 - PROGRESS: at 87.54% examples, 697128 words/s, in_qsize 5, out_qsize 0\n",
      "INFO - 22:23:11: EPOCH 1 - PROGRESS: at 92.89% examples, 696235 words/s, in_qsize 5, out_qsize 0\n",
      "INFO - 22:23:12: EPOCH 1 - PROGRESS: at 98.00% examples, 693171 words/s, in_qsize 5, out_qsize 0\n",
      "INFO - 22:23:12: worker thread finished; awaiting finish of 2 more threads\n",
      "INFO - 22:23:12: worker thread finished; awaiting finish of 1 more threads\n",
      "INFO - 22:23:12: worker thread finished; awaiting finish of 0 more threads\n",
      "INFO - 22:23:12: EPOCH - 1 : training on 17005207 raw words (12820489 effective words) took 18.5s, 691305 effective words/s\n",
      "INFO - 22:23:13: EPOCH 2 - PROGRESS: at 4.53% examples, 577622 words/s, in_qsize 5, out_qsize 1\n",
      "INFO - 22:23:14: EPOCH 2 - PROGRESS: at 9.82% examples, 621524 words/s, in_qsize 5, out_qsize 0\n",
      "INFO - 22:23:15: EPOCH 2 - PROGRESS: at 14.52% examples, 612510 words/s, in_qsize 5, out_qsize 0\n",
      "INFO - 22:23:16: EPOCH 2 - PROGRESS: at 19.05% examples, 603227 words/s, in_qsize 5, out_qsize 0\n",
      "INFO - 22:23:17: EPOCH 2 - PROGRESS: at 24.28% examples, 615272 words/s, in_qsize 4, out_qsize 1\n",
      "INFO - 22:23:18: EPOCH 2 - PROGRESS: at 29.51% examples, 623205 words/s, in_qsize 4, out_qsize 1\n",
      "INFO - 22:23:19: EPOCH 2 - PROGRESS: at 33.22% examples, 600852 words/s, in_qsize 4, out_qsize 1\n",
      "INFO - 22:23:20: EPOCH 2 - PROGRESS: at 38.27% examples, 606905 words/s, in_qsize 5, out_qsize 0\n",
      "INFO - 22:23:21: EPOCH 2 - PROGRESS: at 44.03% examples, 621429 words/s, in_qsize 6, out_qsize 0\n",
      "INFO - 22:23:22: EPOCH 2 - PROGRESS: at 49.91% examples, 633977 words/s, in_qsize 5, out_qsize 0\n",
      "INFO - 22:23:23: EPOCH 2 - PROGRESS: at 55.73% examples, 644308 words/s, in_qsize 5, out_qsize 0\n",
      "INFO - 22:23:24: EPOCH 2 - PROGRESS: at 61.73% examples, 654601 words/s, in_qsize 5, out_qsize 0\n",
      "INFO - 22:23:25: EPOCH 2 - PROGRESS: at 67.72% examples, 663200 words/s, in_qsize 5, out_qsize 0\n",
      "INFO - 22:23:26: EPOCH 2 - PROGRESS: at 73.78% examples, 671211 words/s, in_qsize 6, out_qsize 0\n",
      "INFO - 22:23:27: EPOCH 2 - PROGRESS: at 80.01% examples, 677911 words/s, in_qsize 5, out_qsize 0\n",
      "INFO - 22:23:28: EPOCH 2 - PROGRESS: at 85.95% examples, 682901 words/s, in_qsize 5, out_qsize 0\n",
      "INFO - 22:23:29: EPOCH 2 - PROGRESS: at 92.12% examples, 688622 words/s, in_qsize 5, out_qsize 0\n",
      "INFO - 22:23:30: EPOCH 2 - PROGRESS: at 98.12% examples, 692746 words/s, in_qsize 5, out_qsize 0\n",
      "INFO - 22:23:30: worker thread finished; awaiting finish of 2 more threads\n",
      "INFO - 22:23:31: worker thread finished; awaiting finish of 1 more threads\n",
      "INFO - 22:23:31: worker thread finished; awaiting finish of 0 more threads\n",
      "INFO - 22:23:31: EPOCH - 2 : training on 17005207 raw words (12819884 effective words) took 18.5s, 694041 effective words/s\n",
      "INFO - 22:23:32: EPOCH 3 - PROGRESS: at 5.94% examples, 758296 words/s, in_qsize 5, out_qsize 0\n",
      "INFO - 22:23:33: EPOCH 3 - PROGRESS: at 12.05% examples, 762301 words/s, in_qsize 5, out_qsize 0\n",
      "INFO - 22:23:34: EPOCH 3 - PROGRESS: at 17.99% examples, 760967 words/s, in_qsize 5, out_qsize 0\n",
      "INFO - 22:23:35: EPOCH 3 - PROGRESS: at 24.04% examples, 762372 words/s, in_qsize 5, out_qsize 0\n",
      "INFO - 22:23:36: EPOCH 3 - PROGRESS: at 29.92% examples, 760222 words/s, in_qsize 5, out_qsize 0\n",
      "INFO - 22:23:37: EPOCH 3 - PROGRESS: at 35.68% examples, 755499 words/s, in_qsize 6, out_qsize 1\n",
      "INFO - 22:23:38: EPOCH 3 - PROGRESS: at 41.09% examples, 745314 words/s, in_qsize 4, out_qsize 1\n",
      "INFO - 22:23:39: EPOCH 3 - PROGRESS: at 45.97% examples, 728569 words/s, in_qsize 6, out_qsize 0\n",
      "INFO - 22:23:40: EPOCH 3 - PROGRESS: at 50.32% examples, 709590 words/s, in_qsize 5, out_qsize 0\n",
      "INFO - 22:23:41: EPOCH 3 - PROGRESS: at 56.14% examples, 713216 words/s, in_qsize 5, out_qsize 0\n",
      "INFO - 22:23:42: EPOCH 3 - PROGRESS: at 62.02% examples, 715590 words/s, in_qsize 4, out_qsize 1\n",
      "INFO - 22:23:43: EPOCH 3 - PROGRESS: at 67.90% examples, 717638 words/s, in_qsize 5, out_qsize 0\n",
      "INFO - 22:23:44: EPOCH 3 - PROGRESS: at 73.90% examples, 721796 words/s, in_qsize 5, out_qsize 0\n",
      "INFO - 22:23:45: EPOCH 3 - PROGRESS: at 80.01% examples, 724425 words/s, in_qsize 5, out_qsize 1\n",
      "INFO - 22:23:46: EPOCH 3 - PROGRESS: at 86.01% examples, 727267 words/s, in_qsize 5, out_qsize 0\n",
      "INFO - 22:23:47: EPOCH 3 - PROGRESS: at 91.83% examples, 728190 words/s, in_qsize 5, out_qsize 0\n",
      "INFO - 22:23:48: EPOCH 3 - PROGRESS: at 97.71% examples, 729081 words/s, in_qsize 5, out_qsize 0\n",
      "INFO - 22:23:48: worker thread finished; awaiting finish of 2 more threads\n",
      "INFO - 22:23:48: worker thread finished; awaiting finish of 1 more threads\n",
      "INFO - 22:23:48: worker thread finished; awaiting finish of 0 more threads\n",
      "INFO - 22:23:48: EPOCH - 3 : training on 17005207 raw words (12821897 effective words) took 17.6s, 729598 effective words/s\n",
      "INFO - 22:23:49: EPOCH 4 - PROGRESS: at 6.00% examples, 763897 words/s, in_qsize 5, out_qsize 0\n",
      "INFO - 22:23:50: EPOCH 4 - PROGRESS: at 12.11% examples, 769140 words/s, in_qsize 5, out_qsize 0\n",
      "INFO - 22:23:51: EPOCH 4 - PROGRESS: at 18.17% examples, 770773 words/s, in_qsize 4, out_qsize 1\n",
      "INFO - 22:23:52: EPOCH 4 - PROGRESS: at 22.75% examples, 719700 words/s, in_qsize 3, out_qsize 2\n",
      "INFO - 22:23:53: EPOCH 4 - PROGRESS: at 28.40% examples, 721376 words/s, in_qsize 6, out_qsize 0\n",
      "INFO - 22:23:54: EPOCH 4 - PROGRESS: at 33.98% examples, 721492 words/s, in_qsize 5, out_qsize 0\n",
      "INFO - 22:23:55: EPOCH 4 - PROGRESS: at 39.74% examples, 723095 words/s, in_qsize 5, out_qsize 0\n",
      "INFO - 22:23:56: EPOCH 4 - PROGRESS: at 45.68% examples, 727447 words/s, in_qsize 5, out_qsize 0\n",
      "INFO - 22:23:57: EPOCH 4 - PROGRESS: at 51.62% examples, 731503 words/s, in_qsize 5, out_qsize 0\n",
      "INFO - 22:23:58: EPOCH 4 - PROGRESS: at 57.55% examples, 734417 words/s, in_qsize 5, out_qsize 0\n"
     ]
    },
    {
     "name": "stderr",
     "output_type": "stream",
     "text": [
      "INFO - 22:23:59: EPOCH 4 - PROGRESS: at 63.49% examples, 736983 words/s, in_qsize 5, out_qsize 0\n",
      "INFO - 22:24:00: EPOCH 4 - PROGRESS: at 69.43% examples, 738596 words/s, in_qsize 5, out_qsize 0\n",
      "INFO - 22:24:01: EPOCH 4 - PROGRESS: at 75.43% examples, 740499 words/s, in_qsize 5, out_qsize 0\n",
      "INFO - 22:24:02: EPOCH 4 - PROGRESS: at 81.48% examples, 741881 words/s, in_qsize 5, out_qsize 0\n",
      "INFO - 22:24:03: EPOCH 4 - PROGRESS: at 87.48% examples, 743220 words/s, in_qsize 5, out_qsize 0\n",
      "INFO - 22:24:04: EPOCH 4 - PROGRESS: at 93.24% examples, 742520 words/s, in_qsize 5, out_qsize 0\n",
      "INFO - 22:24:05: EPOCH 4 - PROGRESS: at 99.12% examples, 742810 words/s, in_qsize 5, out_qsize 0\n",
      "INFO - 22:24:05: worker thread finished; awaiting finish of 2 more threads\n",
      "INFO - 22:24:05: worker thread finished; awaiting finish of 1 more threads\n",
      "INFO - 22:24:05: worker thread finished; awaiting finish of 0 more threads\n",
      "INFO - 22:24:05: EPOCH - 4 : training on 17005207 raw words (12821574 effective words) took 17.3s, 742794 effective words/s\n",
      "INFO - 22:24:06: EPOCH 5 - PROGRESS: at 6.00% examples, 759522 words/s, in_qsize 5, out_qsize 0\n",
      "INFO - 22:24:07: EPOCH 5 - PROGRESS: at 11.88% examples, 746785 words/s, in_qsize 5, out_qsize 0\n",
      "INFO - 22:24:08: EPOCH 5 - PROGRESS: at 17.81% examples, 749190 words/s, in_qsize 5, out_qsize 0\n",
      "INFO - 22:24:09: EPOCH 5 - PROGRESS: at 23.46% examples, 742618 words/s, in_qsize 5, out_qsize 0\n",
      "INFO - 22:24:10: EPOCH 5 - PROGRESS: at 29.45% examples, 748310 words/s, in_qsize 5, out_qsize 0\n",
      "INFO - 22:24:11: EPOCH 5 - PROGRESS: at 35.33% examples, 749636 words/s, in_qsize 6, out_qsize 0\n",
      "INFO - 22:24:12: EPOCH 5 - PROGRESS: at 41.33% examples, 752193 words/s, in_qsize 5, out_qsize 0\n",
      "INFO - 22:24:13: EPOCH 5 - PROGRESS: at 47.33% examples, 754412 words/s, in_qsize 5, out_qsize 0\n",
      "INFO - 22:24:14: EPOCH 5 - PROGRESS: at 53.26% examples, 755243 words/s, in_qsize 5, out_qsize 0\n",
      "INFO - 22:24:15: EPOCH 5 - PROGRESS: at 59.20% examples, 755198 words/s, in_qsize 6, out_qsize 1\n",
      "INFO - 22:24:16: EPOCH 5 - PROGRESS: at 65.20% examples, 755385 words/s, in_qsize 5, out_qsize 0\n",
      "INFO - 22:24:17: EPOCH 5 - PROGRESS: at 70.25% examples, 745160 words/s, in_qsize 5, out_qsize 0\n",
      "INFO - 22:24:19: EPOCH 5 - PROGRESS: at 75.43% examples, 738391 words/s, in_qsize 5, out_qsize 0\n",
      "INFO - 22:24:20: EPOCH 5 - PROGRESS: at 80.36% examples, 729845 words/s, in_qsize 5, out_qsize 0\n",
      "INFO - 22:24:21: EPOCH 5 - PROGRESS: at 84.66% examples, 717312 words/s, in_qsize 6, out_qsize 1\n",
      "INFO - 22:24:22: EPOCH 5 - PROGRESS: at 89.89% examples, 714710 words/s, in_qsize 5, out_qsize 0\n",
      "INFO - 22:24:23: EPOCH 5 - PROGRESS: at 95.94% examples, 717844 words/s, in_qsize 5, out_qsize 0\n",
      "INFO - 22:24:23: worker thread finished; awaiting finish of 2 more threads\n",
      "INFO - 22:24:23: worker thread finished; awaiting finish of 1 more threads\n",
      "INFO - 22:24:23: worker thread finished; awaiting finish of 0 more threads\n",
      "INFO - 22:24:23: EPOCH - 5 : training on 17005207 raw words (12821939 effective words) took 17.8s, 719039 effective words/s\n",
      "INFO - 22:24:24: EPOCH 6 - PROGRESS: at 5.94% examples, 753312 words/s, in_qsize 5, out_qsize 0\n",
      "INFO - 22:24:25: EPOCH 6 - PROGRESS: at 11.99% examples, 761012 words/s, in_qsize 5, out_qsize 0\n",
      "INFO - 22:24:26: EPOCH 6 - PROGRESS: at 17.28% examples, 732206 words/s, in_qsize 5, out_qsize 0\n",
      "INFO - 22:24:27: EPOCH 6 - PROGRESS: at 23.10% examples, 733396 words/s, in_qsize 5, out_qsize 0\n",
      "INFO - 22:24:28: EPOCH 6 - PROGRESS: at 27.98% examples, 712760 words/s, in_qsize 5, out_qsize 0\n",
      "INFO - 22:24:29: EPOCH 6 - PROGRESS: at 32.98% examples, 702110 words/s, in_qsize 3, out_qsize 2\n",
      "INFO - 22:24:30: EPOCH 6 - PROGRESS: at 38.39% examples, 700690 words/s, in_qsize 5, out_qsize 0\n",
      "INFO - 22:24:31: EPOCH 6 - PROGRESS: at 44.09% examples, 702941 words/s, in_qsize 5, out_qsize 0\n",
      "INFO - 22:24:32: EPOCH 6 - PROGRESS: at 50.38% examples, 713355 words/s, in_qsize 6, out_qsize 1\n",
      "INFO - 22:24:33: EPOCH 6 - PROGRESS: at 56.38% examples, 718930 words/s, in_qsize 4, out_qsize 1\n",
      "INFO - 22:24:34: EPOCH 6 - PROGRESS: at 62.43% examples, 723799 words/s, in_qsize 5, out_qsize 0\n",
      "INFO - 22:24:35: EPOCH 6 - PROGRESS: at 68.37% examples, 726844 words/s, in_qsize 5, out_qsize 0\n",
      "INFO - 22:24:36: EPOCH 6 - PROGRESS: at 74.43% examples, 730458 words/s, in_qsize 5, out_qsize 0\n",
      "INFO - 22:24:37: EPOCH 6 - PROGRESS: at 80.60% examples, 733138 words/s, in_qsize 4, out_qsize 1\n",
      "INFO - 22:24:38: EPOCH 6 - PROGRESS: at 86.60% examples, 735288 words/s, in_qsize 5, out_qsize 0\n",
      "INFO - 22:24:39: EPOCH 6 - PROGRESS: at 92.71% examples, 738178 words/s, in_qsize 5, out_qsize 0\n",
      "INFO - 22:24:40: EPOCH 6 - PROGRESS: at 98.82% examples, 740241 words/s, in_qsize 5, out_qsize 0\n",
      "INFO - 22:24:41: worker thread finished; awaiting finish of 2 more threads\n",
      "INFO - 22:24:41: worker thread finished; awaiting finish of 1 more threads\n",
      "INFO - 22:24:41: worker thread finished; awaiting finish of 0 more threads\n",
      "INFO - 22:24:41: EPOCH - 6 : training on 17005207 raw words (12821478 effective words) took 17.3s, 740531 effective words/s\n",
      "INFO - 22:24:42: EPOCH 7 - PROGRESS: at 6.00% examples, 765672 words/s, in_qsize 5, out_qsize 0\n",
      "INFO - 22:24:43: EPOCH 7 - PROGRESS: at 12.11% examples, 768034 words/s, in_qsize 5, out_qsize 0\n",
      "INFO - 22:24:44: EPOCH 7 - PROGRESS: at 17.99% examples, 762101 words/s, in_qsize 5, out_qsize 0\n",
      "INFO - 22:24:45: EPOCH 7 - PROGRESS: at 23.81% examples, 758526 words/s, in_qsize 5, out_qsize 0\n",
      "INFO - 22:24:46: EPOCH 7 - PROGRESS: at 29.98% examples, 765678 words/s, in_qsize 5, out_qsize 0\n",
      "INFO - 22:24:47: EPOCH 7 - PROGRESS: at 35.98% examples, 766809 words/s, in_qsize 5, out_qsize 0\n",
      "INFO - 22:24:48: EPOCH 7 - PROGRESS: at 42.15% examples, 769273 words/s, in_qsize 5, out_qsize 0\n",
      "INFO - 22:24:49: EPOCH 7 - PROGRESS: at 48.21% examples, 770330 words/s, in_qsize 5, out_qsize 0\n",
      "INFO - 22:24:50: EPOCH 7 - PROGRESS: at 54.20% examples, 770055 words/s, in_qsize 5, out_qsize 0\n",
      "INFO - 22:24:51: EPOCH 7 - PROGRESS: at 60.14% examples, 769052 words/s, in_qsize 5, out_qsize 0\n",
      "INFO - 22:24:52: EPOCH 7 - PROGRESS: at 66.31% examples, 770028 words/s, in_qsize 5, out_qsize 0\n",
      "INFO - 22:24:53: EPOCH 7 - PROGRESS: at 72.49% examples, 771561 words/s, in_qsize 5, out_qsize 0\n",
      "INFO - 22:24:54: EPOCH 7 - PROGRESS: at 78.60% examples, 770860 words/s, in_qsize 5, out_qsize 0\n",
      "INFO - 22:24:55: EPOCH 7 - PROGRESS: at 84.36% examples, 768146 words/s, in_qsize 5, out_qsize 0\n",
      "INFO - 22:24:56: EPOCH 7 - PROGRESS: at 89.71% examples, 762666 words/s, in_qsize 6, out_qsize 0\n",
      "INFO - 22:24:57: EPOCH 7 - PROGRESS: at 93.59% examples, 745823 words/s, in_qsize 5, out_qsize 0\n",
      "INFO - 22:24:58: EPOCH 7 - PROGRESS: at 98.77% examples, 740023 words/s, in_qsize 6, out_qsize 1\n",
      "INFO - 22:24:58: worker thread finished; awaiting finish of 2 more threads\n",
      "INFO - 22:24:58: worker thread finished; awaiting finish of 1 more threads\n",
      "INFO - 22:24:58: worker thread finished; awaiting finish of 0 more threads\n",
      "INFO - 22:24:58: EPOCH - 7 : training on 17005207 raw words (12819237 effective words) took 17.3s, 740080 effective words/s\n",
      "INFO - 22:24:59: EPOCH 8 - PROGRESS: at 5.35% examples, 683003 words/s, in_qsize 5, out_qsize 0\n",
      "INFO - 22:25:00: EPOCH 8 - PROGRESS: at 10.76% examples, 683524 words/s, in_qsize 5, out_qsize 0\n",
      "INFO - 22:25:01: EPOCH 8 - PROGRESS: at 15.34% examples, 649823 words/s, in_qsize 6, out_qsize 0\n",
      "INFO - 22:25:02: EPOCH 8 - PROGRESS: at 20.11% examples, 638793 words/s, in_qsize 5, out_qsize 0\n",
      "INFO - 22:25:03: EPOCH 8 - PROGRESS: at 25.10% examples, 638782 words/s, in_qsize 5, out_qsize 0\n",
      "INFO - 22:25:04: EPOCH 8 - PROGRESS: at 30.69% examples, 652592 words/s, in_qsize 6, out_qsize 0\n",
      "INFO - 22:25:05: EPOCH 8 - PROGRESS: at 36.68% examples, 669511 words/s, in_qsize 6, out_qsize 0\n",
      "INFO - 22:25:06: EPOCH 8 - PROGRESS: at 42.68% examples, 682101 words/s, in_qsize 5, out_qsize 0\n",
      "INFO - 22:25:07: EPOCH 8 - PROGRESS: at 48.62% examples, 690385 words/s, in_qsize 5, out_qsize 0\n",
      "INFO - 22:25:08: EPOCH 8 - PROGRESS: at 54.44% examples, 696531 words/s, in_qsize 5, out_qsize 0\n",
      "INFO - 22:25:09: EPOCH 8 - PROGRESS: at 60.44% examples, 702964 words/s, in_qsize 5, out_qsize 0\n",
      "INFO - 22:25:10: EPOCH 8 - PROGRESS: at 66.55% examples, 708913 words/s, in_qsize 5, out_qsize 0\n",
      "INFO - 22:25:11: EPOCH 8 - PROGRESS: at 72.60% examples, 714034 words/s, in_qsize 5, out_qsize 0\n"
     ]
    },
    {
     "name": "stderr",
     "output_type": "stream",
     "text": [
      "INFO - 22:25:12: EPOCH 8 - PROGRESS: at 78.66% examples, 716839 words/s, in_qsize 5, out_qsize 0\n",
      "INFO - 22:25:13: EPOCH 8 - PROGRESS: at 84.71% examples, 720528 words/s, in_qsize 5, out_qsize 0\n",
      "INFO - 22:25:14: EPOCH 8 - PROGRESS: at 90.83% examples, 724312 words/s, in_qsize 5, out_qsize 0\n",
      "INFO - 22:25:15: EPOCH 8 - PROGRESS: at 97.06% examples, 727747 words/s, in_qsize 5, out_qsize 0\n",
      "INFO - 22:25:15: worker thread finished; awaiting finish of 2 more threads\n",
      "INFO - 22:25:15: worker thread finished; awaiting finish of 1 more threads\n",
      "INFO - 22:25:15: worker thread finished; awaiting finish of 0 more threads\n",
      "INFO - 22:25:15: EPOCH - 8 : training on 17005207 raw words (12820754 effective words) took 17.6s, 729222 effective words/s\n",
      "INFO - 22:25:16: EPOCH 9 - PROGRESS: at 6.06% examples, 759399 words/s, in_qsize 5, out_qsize 0\n",
      "INFO - 22:25:17: EPOCH 9 - PROGRESS: at 12.29% examples, 768581 words/s, in_qsize 5, out_qsize 0\n",
      "INFO - 22:25:19: EPOCH 9 - PROGRESS: at 18.52% examples, 777295 words/s, in_qsize 5, out_qsize 0\n",
      "INFO - 22:25:20: EPOCH 9 - PROGRESS: at 24.63% examples, 778506 words/s, in_qsize 5, out_qsize 0\n",
      "INFO - 22:25:21: EPOCH 9 - PROGRESS: at 30.51% examples, 774511 words/s, in_qsize 5, out_qsize 0\n",
      "INFO - 22:25:22: EPOCH 9 - PROGRESS: at 36.45% examples, 773155 words/s, in_qsize 4, out_qsize 1\n",
      "INFO - 22:25:23: EPOCH 9 - PROGRESS: at 42.50% examples, 773228 words/s, in_qsize 5, out_qsize 0\n",
      "INFO - 22:25:24: EPOCH 9 - PROGRESS: at 48.62% examples, 774322 words/s, in_qsize 5, out_qsize 0\n",
      "INFO - 22:25:25: EPOCH 9 - PROGRESS: at 54.61% examples, 773526 words/s, in_qsize 5, out_qsize 0\n",
      "INFO - 22:25:26: EPOCH 9 - PROGRESS: at 60.61% examples, 773121 words/s, in_qsize 5, out_qsize 0\n",
      "INFO - 22:25:27: EPOCH 9 - PROGRESS: at 66.61% examples, 771755 words/s, in_qsize 4, out_qsize 1\n",
      "INFO - 22:25:28: EPOCH 9 - PROGRESS: at 72.60% examples, 771577 words/s, in_qsize 5, out_qsize 0\n",
      "INFO - 22:25:29: EPOCH 9 - PROGRESS: at 78.66% examples, 770590 words/s, in_qsize 5, out_qsize 0\n",
      "INFO - 22:25:30: EPOCH 9 - PROGRESS: at 84.71% examples, 770707 words/s, in_qsize 5, out_qsize 0\n",
      "INFO - 22:25:31: EPOCH 9 - PROGRESS: at 90.77% examples, 770956 words/s, in_qsize 5, out_qsize 0\n",
      "INFO - 22:25:32: EPOCH 9 - PROGRESS: at 96.83% examples, 770344 words/s, in_qsize 5, out_qsize 0\n",
      "INFO - 22:25:32: worker thread finished; awaiting finish of 2 more threads\n",
      "INFO - 22:25:32: worker thread finished; awaiting finish of 1 more threads\n",
      "INFO - 22:25:32: worker thread finished; awaiting finish of 0 more threads\n",
      "INFO - 22:25:32: EPOCH - 9 : training on 17005207 raw words (12821277 effective words) took 16.6s, 770543 effective words/s\n",
      "INFO - 22:25:33: EPOCH 10 - PROGRESS: at 6.00% examples, 761087 words/s, in_qsize 5, out_qsize 0\n",
      "INFO - 22:25:34: EPOCH 10 - PROGRESS: at 12.23% examples, 775598 words/s, in_qsize 5, out_qsize 0\n",
      "INFO - 22:25:35: EPOCH 10 - PROGRESS: at 18.52% examples, 784133 words/s, in_qsize 5, out_qsize 0\n",
      "INFO - 22:25:36: EPOCH 10 - PROGRESS: at 24.63% examples, 782392 words/s, in_qsize 5, out_qsize 0\n",
      "INFO - 22:25:37: EPOCH 10 - PROGRESS: at 30.45% examples, 776713 words/s, in_qsize 5, out_qsize 0\n",
      "INFO - 22:25:38: EPOCH 10 - PROGRESS: at 36.33% examples, 773846 words/s, in_qsize 5, out_qsize 0\n",
      "INFO - 22:25:39: EPOCH 10 - PROGRESS: at 42.45% examples, 774919 words/s, in_qsize 5, out_qsize 0\n",
      "INFO - 22:25:40: EPOCH 10 - PROGRESS: at 48.62% examples, 777107 words/s, in_qsize 5, out_qsize 0\n",
      "INFO - 22:25:41: EPOCH 10 - PROGRESS: at 54.73% examples, 778452 words/s, in_qsize 5, out_qsize 0\n",
      "INFO - 22:25:42: EPOCH 10 - PROGRESS: at 60.85% examples, 778057 words/s, in_qsize 5, out_qsize 0\n",
      "INFO - 22:25:43: EPOCH 10 - PROGRESS: at 66.96% examples, 777449 words/s, in_qsize 5, out_qsize 0\n",
      "INFO - 22:25:44: EPOCH 10 - PROGRESS: at 73.07% examples, 777858 words/s, in_qsize 4, out_qsize 1\n",
      "INFO - 22:25:45: EPOCH 10 - PROGRESS: at 79.42% examples, 778501 words/s, in_qsize 5, out_qsize 0\n",
      "INFO - 22:25:46: EPOCH 10 - PROGRESS: at 85.48% examples, 777962 words/s, in_qsize 5, out_qsize 0\n",
      "INFO - 22:25:47: EPOCH 10 - PROGRESS: at 91.59% examples, 777436 words/s, in_qsize 4, out_qsize 1\n",
      "INFO - 22:25:48: EPOCH 10 - PROGRESS: at 97.71% examples, 776612 words/s, in_qsize 4, out_qsize 1\n",
      "INFO - 22:25:49: worker thread finished; awaiting finish of 2 more threads\n",
      "INFO - 22:25:49: worker thread finished; awaiting finish of 1 more threads\n",
      "INFO - 22:25:49: worker thread finished; awaiting finish of 0 more threads\n",
      "INFO - 22:25:49: EPOCH - 10 : training on 17005207 raw words (12819265 effective words) took 16.5s, 777008 effective words/s\n",
      "INFO - 22:25:50: EPOCH 11 - PROGRESS: at 6.06% examples, 761512 words/s, in_qsize 6, out_qsize 0\n",
      "INFO - 22:25:51: EPOCH 11 - PROGRESS: at 10.64% examples, 669958 words/s, in_qsize 5, out_qsize 0\n",
      "INFO - 22:25:52: EPOCH 11 - PROGRESS: at 16.75% examples, 706101 words/s, in_qsize 5, out_qsize 0\n",
      "INFO - 22:25:53: EPOCH 11 - PROGRESS: at 22.34% examples, 708098 words/s, in_qsize 5, out_qsize 0\n",
      "INFO - 22:25:54: EPOCH 11 - PROGRESS: at 28.22% examples, 717166 words/s, in_qsize 5, out_qsize 0\n",
      "INFO - 22:25:55: EPOCH 11 - PROGRESS: at 34.04% examples, 723228 words/s, in_qsize 5, out_qsize 0\n",
      "INFO - 22:25:56: EPOCH 11 - PROGRESS: at 40.09% examples, 730160 words/s, in_qsize 5, out_qsize 0\n",
      "INFO - 22:25:57: EPOCH 11 - PROGRESS: at 46.15% examples, 734754 words/s, in_qsize 5, out_qsize 0\n",
      "INFO - 22:25:58: EPOCH 11 - PROGRESS: at 52.03% examples, 736275 words/s, in_qsize 5, out_qsize 0\n",
      "INFO - 22:25:59: EPOCH 11 - PROGRESS: at 57.79% examples, 736661 words/s, in_qsize 5, out_qsize 0\n",
      "INFO - 22:26:00: EPOCH 11 - PROGRESS: at 63.73% examples, 738030 words/s, in_qsize 6, out_qsize 0\n",
      "INFO - 22:26:01: EPOCH 11 - PROGRESS: at 69.49% examples, 737717 words/s, in_qsize 5, out_qsize 0\n",
      "INFO - 22:26:02: EPOCH 11 - PROGRESS: at 75.66% examples, 740662 words/s, in_qsize 5, out_qsize 0\n",
      "INFO - 22:26:03: EPOCH 11 - PROGRESS: at 81.42% examples, 739540 words/s, in_qsize 5, out_qsize 0\n",
      "INFO - 22:26:04: EPOCH 11 - PROGRESS: at 87.42% examples, 741371 words/s, in_qsize 5, out_qsize 0\n",
      "INFO - 22:26:05: EPOCH 11 - PROGRESS: at 93.42% examples, 742921 words/s, in_qsize 5, out_qsize 0\n",
      "INFO - 22:26:06: EPOCH 11 - PROGRESS: at 99.35% examples, 743677 words/s, in_qsize 6, out_qsize 0\n",
      "INFO - 22:26:06: worker thread finished; awaiting finish of 2 more threads\n",
      "INFO - 22:26:06: worker thread finished; awaiting finish of 1 more threads\n",
      "INFO - 22:26:06: worker thread finished; awaiting finish of 0 more threads\n",
      "INFO - 22:26:06: EPOCH - 11 : training on 17005207 raw words (12820538 effective words) took 17.2s, 743730 effective words/s\n",
      "INFO - 22:26:07: EPOCH 12 - PROGRESS: at 5.88% examples, 749619 words/s, in_qsize 5, out_qsize 0\n",
      "INFO - 22:26:08: EPOCH 12 - PROGRESS: at 11.93% examples, 756596 words/s, in_qsize 5, out_qsize 0\n",
      "INFO - 22:26:09: EPOCH 12 - PROGRESS: at 18.11% examples, 765016 words/s, in_qsize 5, out_qsize 0\n",
      "INFO - 22:26:10: EPOCH 12 - PROGRESS: at 24.16% examples, 766640 words/s, in_qsize 5, out_qsize 0\n",
      "INFO - 22:26:11: EPOCH 12 - PROGRESS: at 30.28% examples, 771182 words/s, in_qsize 5, out_qsize 0\n",
      "INFO - 22:26:12: EPOCH 12 - PROGRESS: at 36.10% examples, 767453 words/s, in_qsize 5, out_qsize 0\n",
      "INFO - 22:26:13: EPOCH 12 - PROGRESS: at 42.27% examples, 770148 words/s, in_qsize 5, out_qsize 0\n",
      "INFO - 22:26:14: EPOCH 12 - PROGRESS: at 48.38% examples, 772326 words/s, in_qsize 5, out_qsize 0\n",
      "INFO - 22:26:15: EPOCH 12 - PROGRESS: at 54.26% examples, 770403 words/s, in_qsize 4, out_qsize 1\n",
      "INFO - 22:26:16: EPOCH 12 - PROGRESS: at 60.14% examples, 767933 words/s, in_qsize 5, out_qsize 0\n",
      "INFO - 22:26:17: EPOCH 12 - PROGRESS: at 66.26% examples, 768893 words/s, in_qsize 5, out_qsize 0\n",
      "INFO - 22:26:18: EPOCH 12 - PROGRESS: at 72.37% examples, 769041 words/s, in_qsize 5, out_qsize 0\n",
      "INFO - 22:26:19: EPOCH 12 - PROGRESS: at 78.42% examples, 768033 words/s, in_qsize 5, out_qsize 0\n",
      "INFO - 22:26:20: EPOCH 12 - PROGRESS: at 84.48% examples, 768517 words/s, in_qsize 5, out_qsize 0\n",
      "INFO - 22:26:21: EPOCH 12 - PROGRESS: at 90.42% examples, 768229 words/s, in_qsize 5, out_qsize 0\n",
      "INFO - 22:26:22: EPOCH 12 - PROGRESS: at 96.53% examples, 768293 words/s, in_qsize 5, out_qsize 0\n",
      "INFO - 22:26:23: worker thread finished; awaiting finish of 2 more threads\n"
     ]
    },
    {
     "name": "stderr",
     "output_type": "stream",
     "text": [
      "INFO - 22:26:23: worker thread finished; awaiting finish of 1 more threads\n",
      "INFO - 22:26:23: worker thread finished; awaiting finish of 0 more threads\n",
      "INFO - 22:26:23: EPOCH - 12 : training on 17005207 raw words (12819724 effective words) took 16.7s, 768239 effective words/s\n",
      "INFO - 22:26:24: EPOCH 13 - PROGRESS: at 6.06% examples, 768372 words/s, in_qsize 5, out_qsize 0\n",
      "INFO - 22:26:25: EPOCH 13 - PROGRESS: at 12.23% examples, 772560 words/s, in_qsize 5, out_qsize 0\n",
      "INFO - 22:26:26: EPOCH 13 - PROGRESS: at 18.28% examples, 770763 words/s, in_qsize 5, out_qsize 0\n",
      "INFO - 22:26:27: EPOCH 13 - PROGRESS: at 24.22% examples, 767778 words/s, in_qsize 4, out_qsize 1\n",
      "INFO - 22:26:28: EPOCH 13 - PROGRESS: at 30.34% examples, 770588 words/s, in_qsize 5, out_qsize 0\n",
      "INFO - 22:26:29: EPOCH 13 - PROGRESS: at 36.27% examples, 770233 words/s, in_qsize 5, out_qsize 0\n",
      "INFO - 22:26:30: EPOCH 13 - PROGRESS: at 42.39% examples, 771526 words/s, in_qsize 6, out_qsize 0\n",
      "INFO - 22:26:31: EPOCH 13 - PROGRESS: at 48.50% examples, 772708 words/s, in_qsize 4, out_qsize 1\n",
      "INFO - 22:26:32: EPOCH 13 - PROGRESS: at 54.67% examples, 774939 words/s, in_qsize 5, out_qsize 0\n",
      "INFO - 22:26:33: EPOCH 13 - PROGRESS: at 60.73% examples, 774129 words/s, in_qsize 6, out_qsize 0\n",
      "INFO - 22:26:34: EPOCH 13 - PROGRESS: at 66.96% examples, 775570 words/s, in_qsize 5, out_qsize 0\n",
      "INFO - 22:26:35: EPOCH 13 - PROGRESS: at 73.19% examples, 777068 words/s, in_qsize 5, out_qsize 0\n",
      "INFO - 22:26:36: EPOCH 13 - PROGRESS: at 79.42% examples, 777044 words/s, in_qsize 5, out_qsize 0\n",
      "INFO - 22:26:37: EPOCH 13 - PROGRESS: at 85.42% examples, 775740 words/s, in_qsize 5, out_qsize 0\n",
      "INFO - 22:26:38: EPOCH 13 - PROGRESS: at 91.48% examples, 775736 words/s, in_qsize 5, out_qsize 0\n",
      "INFO - 22:26:39: EPOCH 13 - PROGRESS: at 97.53% examples, 775150 words/s, in_qsize 5, out_qsize 0\n",
      "INFO - 22:26:39: worker thread finished; awaiting finish of 2 more threads\n",
      "INFO - 22:26:39: worker thread finished; awaiting finish of 1 more threads\n",
      "INFO - 22:26:39: worker thread finished; awaiting finish of 0 more threads\n",
      "INFO - 22:26:39: EPOCH - 13 : training on 17005207 raw words (12818883 effective words) took 16.5s, 775056 effective words/s\n",
      "INFO - 22:26:40: EPOCH 14 - PROGRESS: at 5.88% examples, 748892 words/s, in_qsize 5, out_qsize 0\n",
      "INFO - 22:26:41: EPOCH 14 - PROGRESS: at 12.11% examples, 769407 words/s, in_qsize 5, out_qsize 0\n",
      "INFO - 22:26:42: EPOCH 14 - PROGRESS: at 18.22% examples, 772721 words/s, in_qsize 5, out_qsize 0\n",
      "INFO - 22:26:43: EPOCH 14 - PROGRESS: at 23.99% examples, 763023 words/s, in_qsize 5, out_qsize 0\n",
      "INFO - 22:26:44: EPOCH 14 - PROGRESS: at 29.98% examples, 765314 words/s, in_qsize 6, out_qsize 0\n",
      "INFO - 22:26:45: EPOCH 14 - PROGRESS: at 35.63% examples, 759425 words/s, in_qsize 4, out_qsize 1\n",
      "INFO - 22:26:46: EPOCH 14 - PROGRESS: at 41.68% examples, 761679 words/s, in_qsize 4, out_qsize 1\n",
      "INFO - 22:26:47: EPOCH 14 - PROGRESS: at 47.80% examples, 764732 words/s, in_qsize 5, out_qsize 0\n",
      "INFO - 22:26:48: EPOCH 14 - PROGRESS: at 53.62% examples, 762927 words/s, in_qsize 5, out_qsize 0\n",
      "INFO - 22:26:49: EPOCH 14 - PROGRESS: at 59.73% examples, 763991 words/s, in_qsize 4, out_qsize 1\n",
      "INFO - 22:26:50: EPOCH 14 - PROGRESS: at 65.90% examples, 765893 words/s, in_qsize 5, out_qsize 0\n",
      "INFO - 22:26:51: EPOCH 14 - PROGRESS: at 71.90% examples, 765693 words/s, in_qsize 5, out_qsize 0\n",
      "INFO - 22:26:52: EPOCH 14 - PROGRESS: at 78.01% examples, 765911 words/s, in_qsize 5, out_qsize 0\n",
      "INFO - 22:26:53: EPOCH 14 - PROGRESS: at 83.95% examples, 765381 words/s, in_qsize 5, out_qsize 0\n",
      "INFO - 22:26:54: EPOCH 14 - PROGRESS: at 90.12% examples, 766490 words/s, in_qsize 4, out_qsize 1\n",
      "INFO - 22:26:55: EPOCH 14 - PROGRESS: at 96.06% examples, 765064 words/s, in_qsize 5, out_qsize 0\n",
      "INFO - 22:26:56: worker thread finished; awaiting finish of 2 more threads\n",
      "INFO - 22:26:56: worker thread finished; awaiting finish of 1 more threads\n",
      "INFO - 22:26:56: worker thread finished; awaiting finish of 0 more threads\n",
      "INFO - 22:26:56: EPOCH - 14 : training on 17005207 raw words (12822175 effective words) took 16.7s, 765898 effective words/s\n",
      "INFO - 22:26:57: EPOCH 15 - PROGRESS: at 6.11% examples, 777619 words/s, in_qsize 5, out_qsize 0\n",
      "INFO - 22:26:58: EPOCH 15 - PROGRESS: at 12.11% examples, 769064 words/s, in_qsize 5, out_qsize 0\n",
      "INFO - 22:26:59: EPOCH 15 - PROGRESS: at 18.40% examples, 779918 words/s, in_qsize 5, out_qsize 0\n",
      "INFO - 22:27:00: EPOCH 15 - PROGRESS: at 24.51% examples, 779872 words/s, in_qsize 5, out_qsize 0\n",
      "INFO - 22:27:01: EPOCH 15 - PROGRESS: at 30.63% examples, 781625 words/s, in_qsize 6, out_qsize 0\n",
      "INFO - 22:27:02: EPOCH 15 - PROGRESS: at 36.33% examples, 773685 words/s, in_qsize 5, out_qsize 0\n",
      "INFO - 22:27:03: EPOCH 15 - PROGRESS: at 42.45% examples, 774942 words/s, in_qsize 5, out_qsize 0\n",
      "INFO - 22:27:04: EPOCH 15 - PROGRESS: at 48.62% examples, 777011 words/s, in_qsize 5, out_qsize 0\n",
      "INFO - 22:27:05: EPOCH 15 - PROGRESS: at 54.38% examples, 773031 words/s, in_qsize 5, out_qsize 0\n",
      "INFO - 22:27:06: EPOCH 15 - PROGRESS: at 60.61% examples, 775095 words/s, in_qsize 5, out_qsize 0\n",
      "INFO - 22:27:07: EPOCH 15 - PROGRESS: at 66.78% examples, 775300 words/s, in_qsize 5, out_qsize 0\n",
      "INFO - 22:27:08: EPOCH 15 - PROGRESS: at 72.90% examples, 775955 words/s, in_qsize 5, out_qsize 0\n",
      "INFO - 22:27:09: EPOCH 15 - PROGRESS: at 79.13% examples, 775464 words/s, in_qsize 5, out_qsize 0\n",
      "INFO - 22:27:10: EPOCH 15 - PROGRESS: at 84.95% examples, 772338 words/s, in_qsize 5, out_qsize 0\n",
      "INFO - 22:27:11: EPOCH 15 - PROGRESS: at 90.71% examples, 770266 words/s, in_qsize 6, out_qsize 1\n",
      "INFO - 22:27:12: EPOCH 15 - PROGRESS: at 96.77% examples, 770013 words/s, in_qsize 4, out_qsize 1\n",
      "INFO - 22:27:12: worker thread finished; awaiting finish of 2 more threads\n",
      "INFO - 22:27:12: worker thread finished; awaiting finish of 1 more threads\n",
      "INFO - 22:27:13: worker thread finished; awaiting finish of 0 more threads\n",
      "INFO - 22:27:13: EPOCH - 15 : training on 17005207 raw words (12820197 effective words) took 16.6s, 770174 effective words/s\n",
      "INFO - 22:27:14: EPOCH 16 - PROGRESS: at 5.94% examples, 751977 words/s, in_qsize 5, out_qsize 0\n",
      "INFO - 22:27:15: EPOCH 16 - PROGRESS: at 11.93% examples, 757041 words/s, in_qsize 4, out_qsize 1\n",
      "INFO - 22:27:16: EPOCH 16 - PROGRESS: at 18.11% examples, 765998 words/s, in_qsize 5, out_qsize 0\n",
      "INFO - 22:27:17: EPOCH 16 - PROGRESS: at 24.28% examples, 770895 words/s, in_qsize 6, out_qsize 1\n",
      "INFO - 22:27:18: EPOCH 16 - PROGRESS: at 30.28% examples, 771639 words/s, in_qsize 5, out_qsize 0\n",
      "INFO - 22:27:19: EPOCH 16 - PROGRESS: at 36.39% examples, 774112 words/s, in_qsize 5, out_qsize 0\n",
      "INFO - 22:27:20: EPOCH 16 - PROGRESS: at 42.39% examples, 773035 words/s, in_qsize 5, out_qsize 0\n",
      "INFO - 22:27:21: EPOCH 16 - PROGRESS: at 48.44% examples, 773106 words/s, in_qsize 4, out_qsize 1\n",
      "INFO - 22:27:22: EPOCH 16 - PROGRESS: at 54.67% examples, 775164 words/s, in_qsize 5, out_qsize 0\n",
      "INFO - 22:27:23: EPOCH 16 - PROGRESS: at 60.61% examples, 773820 words/s, in_qsize 6, out_qsize 0\n",
      "INFO - 22:27:24: EPOCH 16 - PROGRESS: at 66.73% examples, 773767 words/s, in_qsize 5, out_qsize 0\n",
      "INFO - 22:27:25: EPOCH 16 - PROGRESS: at 72.84% examples, 773711 words/s, in_qsize 4, out_qsize 1\n",
      "INFO - 22:27:26: EPOCH 16 - PROGRESS: at 79.01% examples, 773421 words/s, in_qsize 5, out_qsize 0\n",
      "INFO - 22:27:27: EPOCH 16 - PROGRESS: at 85.13% examples, 773611 words/s, in_qsize 5, out_qsize 0\n",
      "INFO - 22:27:28: EPOCH 16 - PROGRESS: at 91.36% examples, 774723 words/s, in_qsize 6, out_qsize 1\n",
      "INFO - 22:27:29: EPOCH 16 - PROGRESS: at 97.41% examples, 774505 words/s, in_qsize 5, out_qsize 0\n",
      "INFO - 22:27:29: worker thread finished; awaiting finish of 2 more threads\n",
      "INFO - 22:27:29: worker thread finished; awaiting finish of 1 more threads\n",
      "INFO - 22:27:29: worker thread finished; awaiting finish of 0 more threads\n",
      "INFO - 22:27:29: EPOCH - 16 : training on 17005207 raw words (12820608 effective words) took 16.6s, 774308 effective words/s\n",
      "INFO - 22:27:30: EPOCH 17 - PROGRESS: at 5.88% examples, 749752 words/s, in_qsize 4, out_qsize 1\n",
      "INFO - 22:27:31: EPOCH 17 - PROGRESS: at 12.11% examples, 764392 words/s, in_qsize 5, out_qsize 0\n",
      "INFO - 22:27:32: EPOCH 17 - PROGRESS: at 18.28% examples, 771362 words/s, in_qsize 6, out_qsize 1\n"
     ]
    },
    {
     "name": "stderr",
     "output_type": "stream",
     "text": [
      "INFO - 22:27:33: EPOCH 17 - PROGRESS: at 24.51% examples, 777816 words/s, in_qsize 5, out_qsize 0\n",
      "INFO - 22:27:34: EPOCH 17 - PROGRESS: at 30.75% examples, 781975 words/s, in_qsize 5, out_qsize 0\n",
      "INFO - 22:27:35: EPOCH 17 - PROGRESS: at 36.74% examples, 780743 words/s, in_qsize 5, out_qsize 2\n",
      "INFO - 22:27:36: EPOCH 17 - PROGRESS: at 42.80% examples, 780279 words/s, in_qsize 5, out_qsize 0\n",
      "INFO - 22:27:37: EPOCH 17 - PROGRESS: at 49.03% examples, 781229 words/s, in_qsize 4, out_qsize 1\n",
      "INFO - 22:27:38: EPOCH 17 - PROGRESS: at 54.97% examples, 779139 words/s, in_qsize 6, out_qsize 0\n",
      "INFO - 22:27:39: EPOCH 17 - PROGRESS: at 60.91% examples, 777276 words/s, in_qsize 5, out_qsize 0\n",
      "INFO - 22:27:40: EPOCH 17 - PROGRESS: at 66.96% examples, 776183 words/s, in_qsize 5, out_qsize 0\n",
      "INFO - 22:27:41: EPOCH 17 - PROGRESS: at 72.96% examples, 775516 words/s, in_qsize 5, out_qsize 0\n",
      "INFO - 22:27:42: EPOCH 17 - PROGRESS: at 79.13% examples, 775255 words/s, in_qsize 5, out_qsize 0\n",
      "INFO - 22:27:43: EPOCH 17 - PROGRESS: at 85.07% examples, 773880 words/s, in_qsize 5, out_qsize 0\n",
      "INFO - 22:27:44: EPOCH 17 - PROGRESS: at 91.12% examples, 773929 words/s, in_qsize 5, out_qsize 0\n",
      "INFO - 22:27:45: EPOCH 17 - PROGRESS: at 97.12% examples, 773106 words/s, in_qsize 5, out_qsize 0\n",
      "INFO - 22:27:46: worker thread finished; awaiting finish of 2 more threads\n",
      "INFO - 22:27:46: worker thread finished; awaiting finish of 1 more threads\n",
      "INFO - 22:27:46: worker thread finished; awaiting finish of 0 more threads\n",
      "INFO - 22:27:46: EPOCH - 17 : training on 17005207 raw words (12820439 effective words) took 16.6s, 773245 effective words/s\n",
      "INFO - 22:27:47: EPOCH 18 - PROGRESS: at 6.06% examples, 764107 words/s, in_qsize 5, out_qsize 0\n",
      "INFO - 22:27:48: EPOCH 18 - PROGRESS: at 12.23% examples, 770832 words/s, in_qsize 5, out_qsize 0\n",
      "INFO - 22:27:49: EPOCH 18 - PROGRESS: at 18.40% examples, 775522 words/s, in_qsize 5, out_qsize 0\n",
      "INFO - 22:27:50: EPOCH 18 - PROGRESS: at 24.40% examples, 773709 words/s, in_qsize 5, out_qsize 0\n",
      "INFO - 22:27:51: EPOCH 18 - PROGRESS: at 30.51% examples, 775943 words/s, in_qsize 5, out_qsize 0\n",
      "INFO - 22:27:52: EPOCH 18 - PROGRESS: at 36.45% examples, 771420 words/s, in_qsize 5, out_qsize 0\n",
      "INFO - 22:27:53: EPOCH 18 - PROGRESS: at 42.21% examples, 766295 words/s, in_qsize 5, out_qsize 0\n",
      "INFO - 22:27:54: EPOCH 18 - PROGRESS: at 48.09% examples, 765016 words/s, in_qsize 5, out_qsize 0\n",
      "INFO - 22:27:55: EPOCH 18 - PROGRESS: at 53.91% examples, 762803 words/s, in_qsize 5, out_qsize 0\n",
      "INFO - 22:27:56: EPOCH 18 - PROGRESS: at 59.91% examples, 763608 words/s, in_qsize 5, out_qsize 0\n",
      "INFO - 22:27:57: EPOCH 18 - PROGRESS: at 65.90% examples, 763253 words/s, in_qsize 5, out_qsize 0\n",
      "INFO - 22:27:58: EPOCH 18 - PROGRESS: at 72.02% examples, 764699 words/s, in_qsize 5, out_qsize 0\n",
      "INFO - 22:27:59: EPOCH 18 - PROGRESS: at 78.19% examples, 765259 words/s, in_qsize 5, out_qsize 0\n",
      "INFO - 22:28:00: EPOCH 18 - PROGRESS: at 84.24% examples, 765719 words/s, in_qsize 5, out_qsize 0\n",
      "INFO - 22:28:01: EPOCH 18 - PROGRESS: at 90.12% examples, 764897 words/s, in_qsize 5, out_qsize 0\n",
      "INFO - 22:28:02: EPOCH 18 - PROGRESS: at 96.36% examples, 766516 words/s, in_qsize 5, out_qsize 0\n",
      "INFO - 22:28:02: worker thread finished; awaiting finish of 2 more threads\n",
      "INFO - 22:28:02: worker thread finished; awaiting finish of 1 more threads\n",
      "INFO - 22:28:02: worker thread finished; awaiting finish of 0 more threads\n",
      "INFO - 22:28:02: EPOCH - 18 : training on 17005207 raw words (12821728 effective words) took 16.7s, 767178 effective words/s\n",
      "INFO - 22:28:03: EPOCH 19 - PROGRESS: at 6.00% examples, 766170 words/s, in_qsize 5, out_qsize 0\n",
      "INFO - 22:28:04: EPOCH 19 - PROGRESS: at 12.11% examples, 771629 words/s, in_qsize 5, out_qsize 0\n",
      "INFO - 22:28:05: EPOCH 19 - PROGRESS: at 18.17% examples, 769734 words/s, in_qsize 5, out_qsize 0\n",
      "INFO - 22:28:06: EPOCH 19 - PROGRESS: at 24.16% examples, 769181 words/s, in_qsize 5, out_qsize 0\n",
      "INFO - 22:28:07: EPOCH 19 - PROGRESS: at 29.98% examples, 758494 words/s, in_qsize 5, out_qsize 0\n",
      "INFO - 22:28:08: EPOCH 19 - PROGRESS: at 33.04% examples, 698479 words/s, in_qsize 5, out_qsize 0\n",
      "INFO - 22:28:09: EPOCH 19 - PROGRESS: at 39.21% examples, 710601 words/s, in_qsize 4, out_qsize 1\n",
      "INFO - 22:28:10: EPOCH 19 - PROGRESS: at 45.09% examples, 715774 words/s, in_qsize 5, out_qsize 0\n",
      "INFO - 22:28:11: EPOCH 19 - PROGRESS: at 51.09% examples, 721963 words/s, in_qsize 6, out_qsize 0\n",
      "INFO - 22:28:12: EPOCH 19 - PROGRESS: at 56.85% examples, 722895 words/s, in_qsize 4, out_qsize 1\n",
      "INFO - 22:28:14: EPOCH 19 - PROGRESS: at 61.55% examples, 711447 words/s, in_qsize 3, out_qsize 2\n",
      "INFO - 22:28:15: EPOCH 19 - PROGRESS: at 67.20% examples, 711909 words/s, in_qsize 5, out_qsize 0\n",
      "INFO - 22:28:16: EPOCH 19 - PROGRESS: at 73.02% examples, 714137 words/s, in_qsize 5, out_qsize 0\n",
      "INFO - 22:28:17: EPOCH 19 - PROGRESS: at 79.13% examples, 717670 words/s, in_qsize 5, out_qsize 0\n",
      "INFO - 22:28:18: EPOCH 19 - PROGRESS: at 85.30% examples, 722281 words/s, in_qsize 5, out_qsize 0\n",
      "INFO - 22:28:19: EPOCH 19 - PROGRESS: at 91.18% examples, 724265 words/s, in_qsize 5, out_qsize 0\n",
      "INFO - 22:28:20: EPOCH 19 - PROGRESS: at 97.18% examples, 726341 words/s, in_qsize 5, out_qsize 0\n",
      "INFO - 22:28:20: worker thread finished; awaiting finish of 2 more threads\n",
      "INFO - 22:28:20: worker thread finished; awaiting finish of 1 more threads\n",
      "INFO - 22:28:20: worker thread finished; awaiting finish of 0 more threads\n",
      "INFO - 22:28:20: EPOCH - 19 : training on 17005207 raw words (12820476 effective words) took 17.7s, 725998 effective words/s\n",
      "INFO - 22:28:21: EPOCH 20 - PROGRESS: at 6.23% examples, 787728 words/s, in_qsize 5, out_qsize 0\n",
      "INFO - 22:28:22: EPOCH 20 - PROGRESS: at 12.52% examples, 791692 words/s, in_qsize 5, out_qsize 0\n",
      "INFO - 22:28:23: EPOCH 20 - PROGRESS: at 18.52% examples, 782977 words/s, in_qsize 5, out_qsize 0\n",
      "INFO - 22:28:24: EPOCH 20 - PROGRESS: at 23.69% examples, 748551 words/s, in_qsize 4, out_qsize 1\n",
      "INFO - 22:28:25: EPOCH 20 - PROGRESS: at 27.92% examples, 708341 words/s, in_qsize 5, out_qsize 0\n",
      "INFO - 22:28:26: EPOCH 20 - PROGRESS: at 31.80% examples, 673509 words/s, in_qsize 5, out_qsize 0\n",
      "INFO - 22:28:27: EPOCH 20 - PROGRESS: at 37.10% examples, 673908 words/s, in_qsize 5, out_qsize 0\n",
      "INFO - 22:28:28: EPOCH 20 - PROGRESS: at 42.97% examples, 683922 words/s, in_qsize 5, out_qsize 0\n",
      "INFO - 22:28:29: EPOCH 20 - PROGRESS: at 48.85% examples, 691681 words/s, in_qsize 5, out_qsize 0\n",
      "INFO - 22:28:30: EPOCH 20 - PROGRESS: at 54.85% examples, 699639 words/s, in_qsize 5, out_qsize 0\n",
      "INFO - 22:28:31: EPOCH 20 - PROGRESS: at 60.96% examples, 706822 words/s, in_qsize 5, out_qsize 0\n",
      "INFO - 22:28:32: EPOCH 20 - PROGRESS: at 67.02% examples, 712197 words/s, in_qsize 5, out_qsize 0\n",
      "INFO - 22:28:33: EPOCH 20 - PROGRESS: at 73.13% examples, 717531 words/s, in_qsize 5, out_qsize 0\n",
      "INFO - 22:28:34: EPOCH 20 - PROGRESS: at 79.25% examples, 720082 words/s, in_qsize 5, out_qsize 0\n",
      "INFO - 22:28:35: EPOCH 20 - PROGRESS: at 85.48% examples, 724923 words/s, in_qsize 5, out_qsize 0\n",
      "INFO - 22:28:36: EPOCH 20 - PROGRESS: at 91.71% examples, 729217 words/s, in_qsize 5, out_qsize 0\n",
      "INFO - 22:28:37: EPOCH 20 - PROGRESS: at 97.77% examples, 731272 words/s, in_qsize 4, out_qsize 1\n",
      "INFO - 22:28:38: worker thread finished; awaiting finish of 2 more threads\n",
      "INFO - 22:28:38: worker thread finished; awaiting finish of 1 more threads\n",
      "INFO - 22:28:38: worker thread finished; awaiting finish of 0 more threads\n",
      "INFO - 22:28:38: EPOCH - 20 : training on 17005207 raw words (12821111 effective words) took 17.5s, 732587 effective words/s\n",
      "INFO - 22:28:39: EPOCH 21 - PROGRESS: at 6.11% examples, 773342 words/s, in_qsize 5, out_qsize 0\n",
      "INFO - 22:28:40: EPOCH 21 - PROGRESS: at 11.88% examples, 745337 words/s, in_qsize 5, out_qsize 0\n",
      "INFO - 22:28:41: EPOCH 21 - PROGRESS: at 17.93% examples, 754596 words/s, in_qsize 6, out_qsize 0\n",
      "INFO - 22:28:42: EPOCH 21 - PROGRESS: at 24.04% examples, 761351 words/s, in_qsize 5, out_qsize 0\n",
      "INFO - 22:28:43: EPOCH 21 - PROGRESS: at 30.16% examples, 765475 words/s, in_qsize 5, out_qsize 0\n",
      "INFO - 22:28:44: EPOCH 21 - PROGRESS: at 36.10% examples, 765499 words/s, in_qsize 5, out_qsize 0\n",
      "INFO - 22:28:45: EPOCH 21 - PROGRESS: at 41.98% examples, 763386 words/s, in_qsize 5, out_qsize 0\n"
     ]
    },
    {
     "name": "stderr",
     "output_type": "stream",
     "text": [
      "INFO - 22:28:46: EPOCH 21 - PROGRESS: at 48.03% examples, 765381 words/s, in_qsize 5, out_qsize 0\n",
      "INFO - 22:28:47: EPOCH 21 - PROGRESS: at 54.03% examples, 766481 words/s, in_qsize 5, out_qsize 0\n",
      "INFO - 22:28:48: EPOCH 21 - PROGRESS: at 59.91% examples, 765068 words/s, in_qsize 4, out_qsize 1\n",
      "INFO - 22:28:49: EPOCH 21 - PROGRESS: at 66.02% examples, 766108 words/s, in_qsize 5, out_qsize 0\n",
      "INFO - 22:28:50: EPOCH 21 - PROGRESS: at 72.02% examples, 766101 words/s, in_qsize 5, out_qsize 0\n",
      "INFO - 22:28:51: EPOCH 21 - PROGRESS: at 78.13% examples, 765972 words/s, in_qsize 5, out_qsize 0\n",
      "INFO - 22:28:52: EPOCH 21 - PROGRESS: at 84.07% examples, 765448 words/s, in_qsize 5, out_qsize 0\n",
      "INFO - 22:28:53: EPOCH 21 - PROGRESS: at 90.30% examples, 767534 words/s, in_qsize 5, out_qsize 0\n",
      "INFO - 22:28:54: EPOCH 21 - PROGRESS: at 96.53% examples, 769020 words/s, in_qsize 5, out_qsize 0\n",
      "INFO - 22:28:54: worker thread finished; awaiting finish of 2 more threads\n",
      "INFO - 22:28:54: worker thread finished; awaiting finish of 1 more threads\n",
      "INFO - 22:28:54: worker thread finished; awaiting finish of 0 more threads\n",
      "INFO - 22:28:54: EPOCH - 21 : training on 17005207 raw words (12821170 effective words) took 16.8s, 765039 effective words/s\n",
      "INFO - 22:28:55: EPOCH 22 - PROGRESS: at 4.94% examples, 631851 words/s, in_qsize 5, out_qsize 0\n",
      "INFO - 22:28:56: EPOCH 22 - PROGRESS: at 11.11% examples, 702028 words/s, in_qsize 5, out_qsize 0\n",
      "INFO - 22:28:57: EPOCH 22 - PROGRESS: at 17.11% examples, 724019 words/s, in_qsize 5, out_qsize 0\n",
      "INFO - 22:28:58: EPOCH 22 - PROGRESS: at 23.22% examples, 736197 words/s, in_qsize 5, out_qsize 0\n",
      "INFO - 22:28:59: EPOCH 22 - PROGRESS: at 29.34% examples, 746258 words/s, in_qsize 5, out_qsize 0\n",
      "INFO - 22:29:00: EPOCH 22 - PROGRESS: at 35.57% examples, 756117 words/s, in_qsize 5, out_qsize 0\n",
      "INFO - 22:29:01: EPOCH 22 - PROGRESS: at 41.56% examples, 757607 words/s, in_qsize 5, out_qsize 0\n",
      "INFO - 22:29:02: EPOCH 22 - PROGRESS: at 47.68% examples, 760055 words/s, in_qsize 5, out_qsize 0\n",
      "INFO - 22:29:03: EPOCH 22 - PROGRESS: at 53.73% examples, 761798 words/s, in_qsize 5, out_qsize 0\n",
      "INFO - 22:29:04: EPOCH 22 - PROGRESS: at 59.91% examples, 764432 words/s, in_qsize 5, out_qsize 0\n",
      "INFO - 22:29:05: EPOCH 22 - PROGRESS: at 65.90% examples, 764724 words/s, in_qsize 5, out_qsize 0\n",
      "INFO - 22:29:06: EPOCH 22 - PROGRESS: at 71.78% examples, 763353 words/s, in_qsize 4, out_qsize 1\n",
      "INFO - 22:29:07: EPOCH 22 - PROGRESS: at 77.95% examples, 764032 words/s, in_qsize 5, out_qsize 0\n",
      "INFO - 22:29:08: EPOCH 22 - PROGRESS: at 83.95% examples, 764075 words/s, in_qsize 5, out_qsize 0\n",
      "INFO - 22:29:09: EPOCH 22 - PROGRESS: at 90.18% examples, 765863 words/s, in_qsize 5, out_qsize 0\n",
      "INFO - 22:29:10: EPOCH 22 - PROGRESS: at 96.36% examples, 766655 words/s, in_qsize 5, out_qsize 0\n",
      "INFO - 22:29:11: worker thread finished; awaiting finish of 2 more threads\n",
      "INFO - 22:29:11: worker thread finished; awaiting finish of 1 more threads\n",
      "INFO - 22:29:11: worker thread finished; awaiting finish of 0 more threads\n",
      "INFO - 22:29:11: EPOCH - 22 : training on 17005207 raw words (12818510 effective words) took 16.7s, 766341 effective words/s\n",
      "INFO - 22:29:12: EPOCH 23 - PROGRESS: at 6.00% examples, 761630 words/s, in_qsize 4, out_qsize 1\n",
      "INFO - 22:29:13: EPOCH 23 - PROGRESS: at 12.29% examples, 772728 words/s, in_qsize 5, out_qsize 0\n",
      "INFO - 22:29:14: EPOCH 23 - PROGRESS: at 18.58% examples, 782779 words/s, in_qsize 5, out_qsize 0\n",
      "INFO - 22:29:15: EPOCH 23 - PROGRESS: at 24.69% examples, 781740 words/s, in_qsize 5, out_qsize 0\n",
      "INFO - 22:29:16: EPOCH 23 - PROGRESS: at 30.81% examples, 782094 words/s, in_qsize 5, out_qsize 0\n",
      "INFO - 22:29:17: EPOCH 23 - PROGRESS: at 36.80% examples, 780756 words/s, in_qsize 6, out_qsize 0\n",
      "INFO - 22:29:18: EPOCH 23 - PROGRESS: at 42.92% examples, 780851 words/s, in_qsize 5, out_qsize 0\n",
      "INFO - 22:29:19: EPOCH 23 - PROGRESS: at 48.97% examples, 779448 words/s, in_qsize 5, out_qsize 0\n",
      "INFO - 22:29:20: EPOCH 23 - PROGRESS: at 55.03% examples, 779547 words/s, in_qsize 5, out_qsize 0\n",
      "INFO - 22:29:21: EPOCH 23 - PROGRESS: at 61.02% examples, 778361 words/s, in_qsize 5, out_qsize 0\n",
      "INFO - 22:29:22: EPOCH 23 - PROGRESS: at 67.08% examples, 777633 words/s, in_qsize 5, out_qsize 0\n",
      "INFO - 22:29:23: EPOCH 23 - PROGRESS: at 73.02% examples, 776455 words/s, in_qsize 5, out_qsize 0\n",
      "INFO - 22:29:24: EPOCH 23 - PROGRESS: at 79.07% examples, 774530 words/s, in_qsize 5, out_qsize 0\n",
      "INFO - 22:29:25: EPOCH 23 - PROGRESS: at 85.24% examples, 775294 words/s, in_qsize 5, out_qsize 0\n",
      "INFO - 22:29:26: EPOCH 23 - PROGRESS: at 91.48% examples, 776244 words/s, in_qsize 5, out_qsize 0\n",
      "INFO - 22:29:27: EPOCH 23 - PROGRESS: at 97.53% examples, 775166 words/s, in_qsize 5, out_qsize 0\n",
      "INFO - 22:29:28: worker thread finished; awaiting finish of 2 more threads\n",
      "INFO - 22:29:28: worker thread finished; awaiting finish of 1 more threads\n",
      "INFO - 22:29:28: worker thread finished; awaiting finish of 0 more threads\n",
      "INFO - 22:29:28: EPOCH - 23 : training on 17005207 raw words (12820801 effective words) took 16.5s, 774845 effective words/s\n",
      "INFO - 22:29:29: EPOCH 24 - PROGRESS: at 6.11% examples, 776328 words/s, in_qsize 6, out_qsize 0\n",
      "INFO - 22:29:30: EPOCH 24 - PROGRESS: at 12.11% examples, 767135 words/s, in_qsize 5, out_qsize 0\n",
      "INFO - 22:29:31: EPOCH 24 - PROGRESS: at 18.40% examples, 776590 words/s, in_qsize 6, out_qsize 1\n",
      "INFO - 22:29:32: EPOCH 24 - PROGRESS: at 24.63% examples, 781322 words/s, in_qsize 5, out_qsize 0\n",
      "INFO - 22:29:33: EPOCH 24 - PROGRESS: at 30.81% examples, 784234 words/s, in_qsize 5, out_qsize 0\n",
      "INFO - 22:29:34: EPOCH 24 - PROGRESS: at 36.68% examples, 779997 words/s, in_qsize 5, out_qsize 0\n",
      "INFO - 22:29:35: EPOCH 24 - PROGRESS: at 42.68% examples, 777285 words/s, in_qsize 5, out_qsize 0\n",
      "INFO - 22:29:36: EPOCH 24 - PROGRESS: at 48.68% examples, 776625 words/s, in_qsize 5, out_qsize 0\n",
      "INFO - 22:29:37: EPOCH 24 - PROGRESS: at 54.67% examples, 776441 words/s, in_qsize 5, out_qsize 0\n",
      "INFO - 22:29:38: EPOCH 24 - PROGRESS: at 60.79% examples, 777142 words/s, in_qsize 5, out_qsize 0\n",
      "INFO - 22:29:39: EPOCH 24 - PROGRESS: at 66.90% examples, 777350 words/s, in_qsize 5, out_qsize 0\n",
      "INFO - 22:29:40: EPOCH 24 - PROGRESS: at 73.07% examples, 778482 words/s, in_qsize 5, out_qsize 0\n",
      "INFO - 22:29:41: EPOCH 24 - PROGRESS: at 79.31% examples, 778273 words/s, in_qsize 5, out_qsize 0\n",
      "INFO - 22:29:42: EPOCH 24 - PROGRESS: at 85.36% examples, 777735 words/s, in_qsize 5, out_qsize 0\n",
      "INFO - 22:29:43: EPOCH 24 - PROGRESS: at 91.30% examples, 776526 words/s, in_qsize 4, out_qsize 1\n",
      "INFO - 22:29:44: EPOCH 24 - PROGRESS: at 97.35% examples, 776014 words/s, in_qsize 5, out_qsize 0\n",
      "INFO - 22:29:44: worker thread finished; awaiting finish of 2 more threads\n",
      "INFO - 22:29:44: worker thread finished; awaiting finish of 1 more threads\n",
      "INFO - 22:29:44: worker thread finished; awaiting finish of 0 more threads\n",
      "INFO - 22:29:44: EPOCH - 24 : training on 17005207 raw words (12821285 effective words) took 16.5s, 776445 effective words/s\n",
      "INFO - 22:29:45: EPOCH 25 - PROGRESS: at 5.94% examples, 755389 words/s, in_qsize 6, out_qsize 0\n",
      "INFO - 22:29:46: EPOCH 25 - PROGRESS: at 11.99% examples, 758949 words/s, in_qsize 5, out_qsize 0\n",
      "INFO - 22:29:47: EPOCH 25 - PROGRESS: at 17.99% examples, 759768 words/s, in_qsize 6, out_qsize 0\n",
      "INFO - 22:29:48: EPOCH 25 - PROGRESS: at 24.16% examples, 766442 words/s, in_qsize 5, out_qsize 0\n",
      "INFO - 22:29:49: EPOCH 25 - PROGRESS: at 30.10% examples, 766303 words/s, in_qsize 5, out_qsize 0\n",
      "INFO - 22:29:50: EPOCH 25 - PROGRESS: at 35.92% examples, 764277 words/s, in_qsize 5, out_qsize 0\n",
      "INFO - 22:29:51: EPOCH 25 - PROGRESS: at 42.21% examples, 768350 words/s, in_qsize 5, out_qsize 0\n",
      "INFO - 22:29:52: EPOCH 25 - PROGRESS: at 47.68% examples, 760348 words/s, in_qsize 5, out_qsize 0\n",
      "INFO - 22:29:53: EPOCH 25 - PROGRESS: at 53.56% examples, 758981 words/s, in_qsize 5, out_qsize 0\n",
      "INFO - 22:29:54: EPOCH 25 - PROGRESS: at 59.26% examples, 755694 words/s, in_qsize 5, out_qsize 0\n",
      "INFO - 22:29:55: EPOCH 25 - PROGRESS: at 65.37% examples, 757557 words/s, in_qsize 5, out_qsize 0\n",
      "INFO - 22:29:56: EPOCH 25 - PROGRESS: at 71.31% examples, 757526 words/s, in_qsize 5, out_qsize 0\n",
      "INFO - 22:29:57: EPOCH 25 - PROGRESS: at 77.66% examples, 760419 words/s, in_qsize 5, out_qsize 0\n"
     ]
    },
    {
     "name": "stderr",
     "output_type": "stream",
     "text": [
      "INFO - 22:29:58: EPOCH 25 - PROGRESS: at 83.77% examples, 761760 words/s, in_qsize 5, out_qsize 0\n",
      "INFO - 22:29:59: EPOCH 25 - PROGRESS: at 89.89% examples, 762338 words/s, in_qsize 5, out_qsize 0\n",
      "INFO - 22:30:00: EPOCH 25 - PROGRESS: at 96.00% examples, 763021 words/s, in_qsize 5, out_qsize 0\n",
      "INFO - 22:30:01: worker thread finished; awaiting finish of 2 more threads\n",
      "INFO - 22:30:01: worker thread finished; awaiting finish of 1 more threads\n",
      "INFO - 22:30:01: worker thread finished; awaiting finish of 0 more threads\n",
      "INFO - 22:30:01: EPOCH - 25 : training on 17005207 raw words (12820973 effective words) took 16.8s, 763256 effective words/s\n",
      "INFO - 22:30:02: EPOCH 26 - PROGRESS: at 6.06% examples, 771920 words/s, in_qsize 5, out_qsize 0\n",
      "INFO - 22:30:03: EPOCH 26 - PROGRESS: at 12.29% examples, 781641 words/s, in_qsize 5, out_qsize 0\n",
      "INFO - 22:30:04: EPOCH 26 - PROGRESS: at 18.28% examples, 775194 words/s, in_qsize 5, out_qsize 0\n",
      "INFO - 22:30:05: EPOCH 26 - PROGRESS: at 24.63% examples, 781684 words/s, in_qsize 5, out_qsize 0\n",
      "INFO - 22:30:06: EPOCH 26 - PROGRESS: at 30.75% examples, 783945 words/s, in_qsize 5, out_qsize 0\n",
      "INFO - 22:30:07: EPOCH 26 - PROGRESS: at 36.74% examples, 781988 words/s, in_qsize 5, out_qsize 0\n",
      "INFO - 22:30:08: EPOCH 26 - PROGRESS: at 42.80% examples, 781489 words/s, in_qsize 3, out_qsize 2\n",
      "INFO - 22:30:09: EPOCH 26 - PROGRESS: at 48.85% examples, 780952 words/s, in_qsize 5, out_qsize 0\n",
      "INFO - 22:30:10: EPOCH 26 - PROGRESS: at 55.03% examples, 782390 words/s, in_qsize 5, out_qsize 0\n",
      "INFO - 22:30:11: EPOCH 26 - PROGRESS: at 61.14% examples, 781937 words/s, in_qsize 5, out_qsize 0\n",
      "INFO - 22:30:12: EPOCH 26 - PROGRESS: at 67.25% examples, 781292 words/s, in_qsize 5, out_qsize 0\n",
      "INFO - 22:30:13: EPOCH 26 - PROGRESS: at 73.25% examples, 779811 words/s, in_qsize 5, out_qsize 0\n",
      "INFO - 22:30:14: EPOCH 26 - PROGRESS: at 79.13% examples, 775862 words/s, in_qsize 5, out_qsize 0\n",
      "INFO - 22:30:15: EPOCH 26 - PROGRESS: at 85.24% examples, 776268 words/s, in_qsize 5, out_qsize 0\n",
      "INFO - 22:30:16: EPOCH 26 - PROGRESS: at 91.48% examples, 777548 words/s, in_qsize 5, out_qsize 0\n",
      "INFO - 22:30:17: EPOCH 26 - PROGRESS: at 97.59% examples, 776346 words/s, in_qsize 5, out_qsize 0\n",
      "INFO - 22:30:17: worker thread finished; awaiting finish of 2 more threads\n",
      "INFO - 22:30:17: worker thread finished; awaiting finish of 1 more threads\n",
      "INFO - 22:30:17: worker thread finished; awaiting finish of 0 more threads\n",
      "INFO - 22:30:17: EPOCH - 26 : training on 17005207 raw words (12820411 effective words) took 16.5s, 775918 effective words/s\n",
      "INFO - 22:30:18: EPOCH 27 - PROGRESS: at 5.82% examples, 735364 words/s, in_qsize 6, out_qsize 0\n",
      "INFO - 22:30:19: EPOCH 27 - PROGRESS: at 11.99% examples, 759536 words/s, in_qsize 5, out_qsize 0\n",
      "INFO - 22:30:20: EPOCH 27 - PROGRESS: at 18.05% examples, 763849 words/s, in_qsize 5, out_qsize 0\n",
      "INFO - 22:30:21: EPOCH 27 - PROGRESS: at 24.22% examples, 769800 words/s, in_qsize 4, out_qsize 1\n",
      "INFO - 22:30:22: EPOCH 27 - PROGRESS: at 30.28% examples, 771706 words/s, in_qsize 5, out_qsize 0\n",
      "INFO - 22:30:23: EPOCH 27 - PROGRESS: at 36.33% examples, 773367 words/s, in_qsize 5, out_qsize 0\n",
      "INFO - 22:30:25: EPOCH 27 - PROGRESS: at 42.56% examples, 776192 words/s, in_qsize 5, out_qsize 0\n",
      "INFO - 22:30:26: EPOCH 27 - PROGRESS: at 48.74% examples, 778001 words/s, in_qsize 6, out_qsize 0\n",
      "INFO - 22:30:27: EPOCH 27 - PROGRESS: at 54.79% examples, 777851 words/s, in_qsize 5, out_qsize 0\n",
      "INFO - 22:30:28: EPOCH 27 - PROGRESS: at 60.67% examples, 775537 words/s, in_qsize 5, out_qsize 0\n",
      "INFO - 22:30:29: EPOCH 27 - PROGRESS: at 66.78% examples, 775626 words/s, in_qsize 5, out_qsize 0\n",
      "INFO - 22:30:30: EPOCH 27 - PROGRESS: at 72.96% examples, 776497 words/s, in_qsize 5, out_qsize 0\n",
      "INFO - 22:30:31: EPOCH 27 - PROGRESS: at 79.13% examples, 776260 words/s, in_qsize 5, out_qsize 0\n",
      "INFO - 22:30:32: EPOCH 27 - PROGRESS: at 84.13% examples, 765069 words/s, in_qsize 6, out_qsize 2\n",
      "INFO - 22:30:33: EPOCH 27 - PROGRESS: at 87.18% examples, 740115 words/s, in_qsize 5, out_qsize 0\n",
      "INFO - 22:30:34: EPOCH 27 - PROGRESS: at 92.53% examples, 736175 words/s, in_qsize 5, out_qsize 0\n",
      "INFO - 22:30:35: EPOCH 27 - PROGRESS: at 98.71% examples, 738435 words/s, in_qsize 5, out_qsize 0\n",
      "INFO - 22:30:35: worker thread finished; awaiting finish of 2 more threads\n",
      "INFO - 22:30:35: worker thread finished; awaiting finish of 1 more threads\n",
      "INFO - 22:30:35: worker thread finished; awaiting finish of 0 more threads\n",
      "INFO - 22:30:35: EPOCH - 27 : training on 17005207 raw words (12820658 effective words) took 17.4s, 738853 effective words/s\n",
      "INFO - 22:30:36: EPOCH 28 - PROGRESS: at 6.23% examples, 790503 words/s, in_qsize 5, out_qsize 0\n",
      "INFO - 22:30:37: EPOCH 28 - PROGRESS: at 12.23% examples, 772602 words/s, in_qsize 5, out_qsize 0\n",
      "INFO - 22:30:38: EPOCH 28 - PROGRESS: at 18.40% examples, 777403 words/s, in_qsize 5, out_qsize 0\n",
      "INFO - 22:30:39: EPOCH 28 - PROGRESS: at 24.63% examples, 781614 words/s, in_qsize 5, out_qsize 0\n",
      "INFO - 22:30:40: EPOCH 28 - PROGRESS: at 30.57% examples, 777361 words/s, in_qsize 5, out_qsize 0\n",
      "INFO - 22:30:41: EPOCH 28 - PROGRESS: at 36.68% examples, 779641 words/s, in_qsize 5, out_qsize 0\n",
      "INFO - 22:30:42: EPOCH 28 - PROGRESS: at 42.74% examples, 779085 words/s, in_qsize 5, out_qsize 0\n",
      "INFO - 22:30:43: EPOCH 28 - PROGRESS: at 48.62% examples, 775641 words/s, in_qsize 5, out_qsize 0\n",
      "INFO - 22:30:44: EPOCH 28 - PROGRESS: at 54.79% examples, 777931 words/s, in_qsize 5, out_qsize 0\n",
      "INFO - 22:30:45: EPOCH 28 - PROGRESS: at 60.49% examples, 772145 words/s, in_qsize 5, out_qsize 0\n",
      "INFO - 22:30:46: EPOCH 28 - PROGRESS: at 66.49% examples, 771240 words/s, in_qsize 5, out_qsize 0\n",
      "INFO - 22:30:47: EPOCH 28 - PROGRESS: at 72.60% examples, 771940 words/s, in_qsize 5, out_qsize 0\n",
      "INFO - 22:30:48: EPOCH 28 - PROGRESS: at 78.66% examples, 770848 words/s, in_qsize 5, out_qsize 0\n",
      "INFO - 22:30:49: EPOCH 28 - PROGRESS: at 84.71% examples, 770610 words/s, in_qsize 5, out_qsize 0\n",
      "INFO - 22:30:50: EPOCH 28 - PROGRESS: at 90.83% examples, 771152 words/s, in_qsize 5, out_qsize 0\n",
      "INFO - 22:30:51: EPOCH 28 - PROGRESS: at 96.65% examples, 768594 words/s, in_qsize 5, out_qsize 0\n",
      "INFO - 22:30:51: worker thread finished; awaiting finish of 2 more threads\n",
      "INFO - 22:30:51: worker thread finished; awaiting finish of 1 more threads\n",
      "INFO - 22:30:51: worker thread finished; awaiting finish of 0 more threads\n",
      "INFO - 22:30:51: EPOCH - 28 : training on 17005207 raw words (12822331 effective words) took 16.7s, 768749 effective words/s\n",
      "INFO - 22:30:53: EPOCH 29 - PROGRESS: at 6.23% examples, 791134 words/s, in_qsize 5, out_qsize 0\n",
      "INFO - 22:30:54: EPOCH 29 - PROGRESS: at 12.46% examples, 788909 words/s, in_qsize 5, out_qsize 0\n",
      "INFO - 22:30:55: EPOCH 29 - PROGRESS: at 18.46% examples, 780135 words/s, in_qsize 5, out_qsize 0\n",
      "INFO - 22:30:56: EPOCH 29 - PROGRESS: at 24.34% examples, 772139 words/s, in_qsize 5, out_qsize 0\n",
      "INFO - 22:30:57: EPOCH 29 - PROGRESS: at 30.22% examples, 769947 words/s, in_qsize 5, out_qsize 0\n",
      "INFO - 22:30:58: EPOCH 29 - PROGRESS: at 36.39% examples, 774107 words/s, in_qsize 5, out_qsize 0\n",
      "INFO - 22:30:59: EPOCH 29 - PROGRESS: at 42.39% examples, 772775 words/s, in_qsize 5, out_qsize 0\n",
      "INFO - 22:31:00: EPOCH 29 - PROGRESS: at 48.15% examples, 768556 words/s, in_qsize 5, out_qsize 0\n",
      "INFO - 22:31:01: EPOCH 29 - PROGRESS: at 54.09% examples, 767680 words/s, in_qsize 5, out_qsize 0\n",
      "INFO - 22:31:02: EPOCH 29 - PROGRESS: at 60.08% examples, 767969 words/s, in_qsize 5, out_qsize 0\n",
      "INFO - 22:31:03: EPOCH 29 - PROGRESS: at 66.20% examples, 768437 words/s, in_qsize 5, out_qsize 0\n",
      "INFO - 22:31:04: EPOCH 29 - PROGRESS: at 72.25% examples, 768442 words/s, in_qsize 5, out_qsize 0\n",
      "INFO - 22:31:05: EPOCH 29 - PROGRESS: at 78.54% examples, 769851 words/s, in_qsize 5, out_qsize 0\n",
      "INFO - 22:31:06: EPOCH 29 - PROGRESS: at 84.60% examples, 769398 words/s, in_qsize 5, out_qsize 0\n",
      "INFO - 22:31:07: EPOCH 29 - PROGRESS: at 90.65% examples, 769616 words/s, in_qsize 5, out_qsize 0\n",
      "INFO - 22:31:08: EPOCH 29 - PROGRESS: at 96.41% examples, 767086 words/s, in_qsize 5, out_qsize 0\n",
      "INFO - 22:31:09: EPOCH 29 - PROGRESS: at 99.47% examples, 743256 words/s, in_qsize 5, out_qsize 0\n",
      "INFO - 22:31:09: worker thread finished; awaiting finish of 2 more threads\n"
     ]
    },
    {
     "name": "stderr",
     "output_type": "stream",
     "text": [
      "INFO - 22:31:09: worker thread finished; awaiting finish of 1 more threads\n",
      "INFO - 22:31:09: worker thread finished; awaiting finish of 0 more threads\n",
      "INFO - 22:31:09: EPOCH - 29 : training on 17005207 raw words (12821869 effective words) took 17.3s, 739975 effective words/s\n",
      "INFO - 22:31:10: EPOCH 30 - PROGRESS: at 4.47% examples, 571252 words/s, in_qsize 5, out_qsize 0\n",
      "INFO - 22:31:11: EPOCH 30 - PROGRESS: at 9.88% examples, 627045 words/s, in_qsize 5, out_qsize 0\n",
      "INFO - 22:31:12: EPOCH 30 - PROGRESS: at 15.46% examples, 654599 words/s, in_qsize 5, out_qsize 0\n",
      "INFO - 22:31:13: EPOCH 30 - PROGRESS: at 21.40% examples, 679108 words/s, in_qsize 6, out_qsize 0\n",
      "INFO - 22:31:14: EPOCH 30 - PROGRESS: at 27.34% examples, 695887 words/s, in_qsize 5, out_qsize 0\n",
      "INFO - 22:31:15: EPOCH 30 - PROGRESS: at 33.27% examples, 708029 words/s, in_qsize 5, out_qsize 0\n",
      "INFO - 22:31:16: EPOCH 30 - PROGRESS: at 39.27% examples, 715804 words/s, in_qsize 4, out_qsize 1\n",
      "INFO - 22:31:17: EPOCH 30 - PROGRESS: at 45.44% examples, 724295 words/s, in_qsize 6, out_qsize 1\n",
      "INFO - 22:31:18: EPOCH 30 - PROGRESS: at 51.68% examples, 732372 words/s, in_qsize 5, out_qsize 0\n",
      "INFO - 22:31:19: EPOCH 30 - PROGRESS: at 57.55% examples, 734401 words/s, in_qsize 5, out_qsize 0\n",
      "INFO - 22:31:20: EPOCH 30 - PROGRESS: at 63.61% examples, 738329 words/s, in_qsize 5, out_qsize 0\n",
      "INFO - 22:31:21: EPOCH 30 - PROGRESS: at 69.66% examples, 741366 words/s, in_qsize 5, out_qsize 0\n",
      "INFO - 22:31:22: EPOCH 30 - PROGRESS: at 75.78% examples, 743423 words/s, in_qsize 4, out_qsize 1\n",
      "INFO - 22:31:23: EPOCH 30 - PROGRESS: at 81.83% examples, 744793 words/s, in_qsize 5, out_qsize 0\n",
      "INFO - 22:31:24: EPOCH 30 - PROGRESS: at 87.48% examples, 743435 words/s, in_qsize 5, out_qsize 0\n",
      "INFO - 22:31:25: EPOCH 30 - PROGRESS: at 93.42% examples, 744001 words/s, in_qsize 5, out_qsize 0\n",
      "INFO - 22:31:26: EPOCH 30 - PROGRESS: at 99.29% examples, 744229 words/s, in_qsize 5, out_qsize 0\n",
      "INFO - 22:31:26: worker thread finished; awaiting finish of 2 more threads\n",
      "INFO - 22:31:26: worker thread finished; awaiting finish of 1 more threads\n",
      "INFO - 22:31:26: worker thread finished; awaiting finish of 0 more threads\n",
      "INFO - 22:31:26: EPOCH - 30 : training on 17005207 raw words (12822099 effective words) took 17.2s, 744430 effective words/s\n",
      "INFO - 22:31:27: EPOCH 31 - PROGRESS: at 5.70% examples, 725209 words/s, in_qsize 4, out_qsize 1\n",
      "INFO - 22:31:28: EPOCH 31 - PROGRESS: at 11.88% examples, 753966 words/s, in_qsize 5, out_qsize 0\n",
      "INFO - 22:31:29: EPOCH 31 - PROGRESS: at 17.99% examples, 761498 words/s, in_qsize 5, out_qsize 0\n",
      "INFO - 22:31:30: EPOCH 31 - PROGRESS: at 23.93% examples, 761310 words/s, in_qsize 6, out_qsize 0\n",
      "INFO - 22:31:31: EPOCH 31 - PROGRESS: at 29.98% examples, 763948 words/s, in_qsize 5, out_qsize 0\n",
      "INFO - 22:31:32: EPOCH 31 - PROGRESS: at 36.10% examples, 767749 words/s, in_qsize 5, out_qsize 0\n",
      "INFO - 22:31:33: EPOCH 31 - PROGRESS: at 42.15% examples, 768324 words/s, in_qsize 6, out_qsize 0\n",
      "INFO - 22:31:34: EPOCH 31 - PROGRESS: at 48.15% examples, 768826 words/s, in_qsize 5, out_qsize 0\n",
      "INFO - 22:31:35: EPOCH 31 - PROGRESS: at 53.26% examples, 752938 words/s, in_qsize 4, out_qsize 1\n",
      "INFO - 22:31:36: EPOCH 31 - PROGRESS: at 58.20% examples, 740987 words/s, in_qsize 5, out_qsize 0\n",
      "INFO - 22:31:37: EPOCH 31 - PROGRESS: at 63.73% examples, 737724 words/s, in_qsize 5, out_qsize 0\n",
      "INFO - 22:31:38: EPOCH 31 - PROGRESS: at 69.61% examples, 737909 words/s, in_qsize 5, out_qsize 0\n",
      "INFO - 22:31:39: EPOCH 31 - PROGRESS: at 75.54% examples, 739168 words/s, in_qsize 5, out_qsize 0\n",
      "INFO - 22:31:40: EPOCH 31 - PROGRESS: at 81.48% examples, 739847 words/s, in_qsize 5, out_qsize 0\n",
      "INFO - 22:31:41: EPOCH 31 - PROGRESS: at 87.24% examples, 738976 words/s, in_qsize 5, out_qsize 0\n",
      "INFO - 22:31:42: EPOCH 31 - PROGRESS: at 93.36% examples, 741521 words/s, in_qsize 5, out_qsize 0\n",
      "INFO - 22:31:43: EPOCH 31 - PROGRESS: at 99.41% examples, 742529 words/s, in_qsize 5, out_qsize 0\n",
      "INFO - 22:31:43: worker thread finished; awaiting finish of 2 more threads\n",
      "INFO - 22:31:43: worker thread finished; awaiting finish of 1 more threads\n",
      "INFO - 22:31:43: worker thread finished; awaiting finish of 0 more threads\n",
      "INFO - 22:31:43: EPOCH - 31 : training on 17005207 raw words (12820693 effective words) took 17.3s, 742670 effective words/s\n",
      "INFO - 22:31:44: EPOCH 32 - PROGRESS: at 6.23% examples, 790632 words/s, in_qsize 5, out_qsize 0\n",
      "INFO - 22:31:45: EPOCH 32 - PROGRESS: at 12.40% examples, 786391 words/s, in_qsize 5, out_qsize 0\n",
      "INFO - 22:31:46: EPOCH 32 - PROGRESS: at 18.34% examples, 775785 words/s, in_qsize 5, out_qsize 0\n",
      "INFO - 22:31:47: EPOCH 32 - PROGRESS: at 24.46% examples, 777716 words/s, in_qsize 6, out_qsize 0\n",
      "INFO - 22:31:48: EPOCH 32 - PROGRESS: at 30.39% examples, 776150 words/s, in_qsize 6, out_qsize 0\n",
      "INFO - 22:31:49: EPOCH 32 - PROGRESS: at 36.27% examples, 773600 words/s, in_qsize 5, out_qsize 0\n",
      "INFO - 22:31:50: EPOCH 32 - PROGRESS: at 42.39% examples, 774914 words/s, in_qsize 5, out_qsize 0\n",
      "INFO - 22:31:51: EPOCH 32 - PROGRESS: at 48.38% examples, 774526 words/s, in_qsize 5, out_qsize 0\n",
      "INFO - 22:31:52: EPOCH 32 - PROGRESS: at 53.56% examples, 761269 words/s, in_qsize 6, out_qsize 0\n",
      "INFO - 22:31:53: EPOCH 32 - PROGRESS: at 59.02% examples, 755427 words/s, in_qsize 5, out_qsize 0\n",
      "INFO - 22:31:54: EPOCH 32 - PROGRESS: at 64.84% examples, 754574 words/s, in_qsize 6, out_qsize 0\n",
      "INFO - 22:31:55: EPOCH 32 - PROGRESS: at 70.96% examples, 756723 words/s, in_qsize 5, out_qsize 0\n",
      "INFO - 22:31:56: EPOCH 32 - PROGRESS: at 77.01% examples, 757026 words/s, in_qsize 5, out_qsize 0\n",
      "INFO - 22:31:57: EPOCH 32 - PROGRESS: at 83.07% examples, 757185 words/s, in_qsize 5, out_qsize 0\n",
      "INFO - 22:31:58: EPOCH 32 - PROGRESS: at 89.24% examples, 759234 words/s, in_qsize 5, out_qsize 0\n",
      "INFO - 22:31:59: EPOCH 32 - PROGRESS: at 95.24% examples, 758709 words/s, in_qsize 5, out_qsize 0\n",
      "INFO - 22:32:00: worker thread finished; awaiting finish of 2 more threads\n",
      "INFO - 22:32:00: worker thread finished; awaiting finish of 1 more threads\n",
      "INFO - 22:32:00: worker thread finished; awaiting finish of 0 more threads\n",
      "INFO - 22:32:00: EPOCH - 32 : training on 17005207 raw words (12818701 effective words) took 16.9s, 758817 effective words/s\n",
      "INFO - 22:32:01: EPOCH 33 - PROGRESS: at 6.11% examples, 775012 words/s, in_qsize 5, out_qsize 0\n",
      "INFO - 22:32:02: EPOCH 33 - PROGRESS: at 12.17% examples, 771871 words/s, in_qsize 5, out_qsize 0\n",
      "INFO - 22:32:03: EPOCH 33 - PROGRESS: at 18.34% examples, 773016 words/s, in_qsize 4, out_qsize 1\n",
      "INFO - 22:32:04: EPOCH 33 - PROGRESS: at 24.57% examples, 777135 words/s, in_qsize 5, out_qsize 0\n",
      "INFO - 22:32:05: EPOCH 33 - PROGRESS: at 30.69% examples, 779732 words/s, in_qsize 5, out_qsize 0\n",
      "INFO - 22:32:06: EPOCH 33 - PROGRESS: at 36.68% examples, 778525 words/s, in_qsize 5, out_qsize 0\n",
      "INFO - 22:32:07: EPOCH 33 - PROGRESS: at 42.80% examples, 778806 words/s, in_qsize 5, out_qsize 0\n",
      "INFO - 22:32:08: EPOCH 33 - PROGRESS: at 48.97% examples, 778916 words/s, in_qsize 5, out_qsize 0\n",
      "INFO - 22:32:09: EPOCH 33 - PROGRESS: at 54.97% examples, 777617 words/s, in_qsize 5, out_qsize 0\n",
      "INFO - 22:32:10: EPOCH 33 - PROGRESS: at 60.96% examples, 776470 words/s, in_qsize 5, out_qsize 0\n",
      "INFO - 22:32:11: EPOCH 33 - PROGRESS: at 66.90% examples, 773926 words/s, in_qsize 5, out_qsize 0\n",
      "INFO - 22:32:12: EPOCH 33 - PROGRESS: at 73.02% examples, 774161 words/s, in_qsize 6, out_qsize 0\n",
      "INFO - 22:32:13: EPOCH 33 - PROGRESS: at 79.25% examples, 774022 words/s, in_qsize 4, out_qsize 1\n",
      "INFO - 22:32:14: EPOCH 33 - PROGRESS: at 85.36% examples, 774205 words/s, in_qsize 5, out_qsize 0\n",
      "INFO - 22:32:15: EPOCH 33 - PROGRESS: at 91.53% examples, 775223 words/s, in_qsize 5, out_qsize 0\n",
      "INFO - 22:32:16: EPOCH 33 - PROGRESS: at 97.77% examples, 775518 words/s, in_qsize 4, out_qsize 1\n",
      "INFO - 22:32:17: worker thread finished; awaiting finish of 2 more threads\n",
      "INFO - 22:32:17: worker thread finished; awaiting finish of 1 more threads\n",
      "INFO - 22:32:17: worker thread finished; awaiting finish of 0 more threads\n",
      "INFO - 22:32:17: EPOCH - 33 : training on 17005207 raw words (12820254 effective words) took 16.5s, 775898 effective words/s\n",
      "INFO - 22:32:18: EPOCH 34 - PROGRESS: at 6.29% examples, 788708 words/s, in_qsize 5, out_qsize 0\n"
     ]
    },
    {
     "name": "stderr",
     "output_type": "stream",
     "text": [
      "INFO - 22:32:19: EPOCH 34 - PROGRESS: at 12.52% examples, 790750 words/s, in_qsize 5, out_qsize 0\n",
      "INFO - 22:32:20: EPOCH 34 - PROGRESS: at 18.64% examples, 786072 words/s, in_qsize 5, out_qsize 0\n",
      "INFO - 22:32:21: EPOCH 34 - PROGRESS: at 24.87% examples, 788002 words/s, in_qsize 5, out_qsize 0\n",
      "INFO - 22:32:22: EPOCH 34 - PROGRESS: at 31.04% examples, 789661 words/s, in_qsize 5, out_qsize 0\n",
      "INFO - 22:32:23: EPOCH 34 - PROGRESS: at 37.10% examples, 787596 words/s, in_qsize 5, out_qsize 0\n",
      "INFO - 22:32:24: EPOCH 34 - PROGRESS: at 43.27% examples, 788060 words/s, in_qsize 5, out_qsize 0\n",
      "INFO - 22:32:25: EPOCH 34 - PROGRESS: at 49.44% examples, 788256 words/s, in_qsize 5, out_qsize 0\n",
      "INFO - 22:32:26: EPOCH 34 - PROGRESS: at 55.44% examples, 785311 words/s, in_qsize 5, out_qsize 0\n",
      "INFO - 22:32:27: EPOCH 34 - PROGRESS: at 61.55% examples, 784677 words/s, in_qsize 5, out_qsize 0\n",
      "INFO - 22:32:28: EPOCH 34 - PROGRESS: at 67.43% examples, 781417 words/s, in_qsize 5, out_qsize 0\n",
      "INFO - 22:32:29: EPOCH 34 - PROGRESS: at 72.31% examples, 768055 words/s, in_qsize 4, out_qsize 1\n",
      "INFO - 22:32:30: EPOCH 34 - PROGRESS: at 77.66% examples, 760271 words/s, in_qsize 5, out_qsize 0\n",
      "INFO - 22:32:31: EPOCH 34 - PROGRESS: at 83.66% examples, 759727 words/s, in_qsize 5, out_qsize 0\n",
      "INFO - 22:32:32: EPOCH 34 - PROGRESS: at 89.65% examples, 760294 words/s, in_qsize 5, out_qsize 0\n",
      "INFO - 22:32:33: EPOCH 34 - PROGRESS: at 95.83% examples, 761485 words/s, in_qsize 4, out_qsize 1\n",
      "INFO - 22:32:34: worker thread finished; awaiting finish of 2 more threads\n",
      "INFO - 22:32:34: worker thread finished; awaiting finish of 1 more threads\n",
      "INFO - 22:32:34: worker thread finished; awaiting finish of 0 more threads\n",
      "INFO - 22:32:34: EPOCH - 34 : training on 17005207 raw words (12820644 effective words) took 16.8s, 762760 effective words/s\n",
      "INFO - 22:32:35: EPOCH 35 - PROGRESS: at 6.17% examples, 785443 words/s, in_qsize 5, out_qsize 0\n",
      "INFO - 22:32:36: EPOCH 35 - PROGRESS: at 12.46% examples, 792307 words/s, in_qsize 5, out_qsize 0\n",
      "INFO - 22:32:37: EPOCH 35 - PROGRESS: at 18.64% examples, 788992 words/s, in_qsize 5, out_qsize 0\n",
      "INFO - 22:32:38: EPOCH 35 - PROGRESS: at 24.69% examples, 785815 words/s, in_qsize 5, out_qsize 0\n",
      "INFO - 22:32:39: EPOCH 35 - PROGRESS: at 30.63% examples, 781512 words/s, in_qsize 5, out_qsize 0\n",
      "INFO - 22:32:40: EPOCH 35 - PROGRESS: at 36.68% examples, 781718 words/s, in_qsize 5, out_qsize 0\n",
      "INFO - 22:32:41: EPOCH 35 - PROGRESS: at 42.68% examples, 779573 words/s, in_qsize 5, out_qsize 0\n",
      "INFO - 22:32:42: EPOCH 35 - PROGRESS: at 48.68% examples, 778097 words/s, in_qsize 5, out_qsize 0\n",
      "INFO - 22:32:43: EPOCH 35 - PROGRESS: at 54.67% examples, 776358 words/s, in_qsize 4, out_qsize 1\n",
      "INFO - 22:32:44: EPOCH 35 - PROGRESS: at 60.49% examples, 773106 words/s, in_qsize 4, out_qsize 1\n",
      "INFO - 22:32:45: EPOCH 35 - PROGRESS: at 66.55% examples, 772750 words/s, in_qsize 5, out_qsize 0\n",
      "INFO - 22:32:46: EPOCH 35 - PROGRESS: at 72.55% examples, 772544 words/s, in_qsize 5, out_qsize 0\n",
      "INFO - 22:32:47: EPOCH 35 - PROGRESS: at 78.84% examples, 773835 words/s, in_qsize 5, out_qsize 0\n",
      "INFO - 22:32:48: EPOCH 35 - PROGRESS: at 85.01% examples, 774154 words/s, in_qsize 5, out_qsize 0\n",
      "INFO - 22:32:49: EPOCH 35 - PROGRESS: at 91.18% examples, 775485 words/s, in_qsize 5, out_qsize 0\n",
      "INFO - 22:32:50: EPOCH 35 - PROGRESS: at 97.35% examples, 775504 words/s, in_qsize 5, out_qsize 0\n",
      "INFO - 22:32:50: worker thread finished; awaiting finish of 2 more threads\n",
      "INFO - 22:32:50: worker thread finished; awaiting finish of 1 more threads\n",
      "INFO - 22:32:50: worker thread finished; awaiting finish of 0 more threads\n",
      "INFO - 22:32:50: EPOCH - 35 : training on 17005207 raw words (12821060 effective words) took 16.5s, 775883 effective words/s\n",
      "INFO - 22:32:51: EPOCH 36 - PROGRESS: at 6.11% examples, 774480 words/s, in_qsize 5, out_qsize 0\n",
      "INFO - 22:32:52: EPOCH 36 - PROGRESS: at 12.40% examples, 785531 words/s, in_qsize 5, out_qsize 0\n",
      "INFO - 22:32:53: EPOCH 36 - PROGRESS: at 18.64% examples, 787282 words/s, in_qsize 5, out_qsize 0\n",
      "INFO - 22:32:54: EPOCH 36 - PROGRESS: at 24.87% examples, 789203 words/s, in_qsize 5, out_qsize 0\n",
      "INFO - 22:32:55: EPOCH 36 - PROGRESS: at 30.69% examples, 778398 words/s, in_qsize 4, out_qsize 1\n",
      "INFO - 22:32:56: EPOCH 36 - PROGRESS: at 36.86% examples, 781771 words/s, in_qsize 5, out_qsize 0\n",
      "INFO - 22:32:57: EPOCH 36 - PROGRESS: at 42.80% examples, 778119 words/s, in_qsize 5, out_qsize 0\n",
      "INFO - 22:32:58: EPOCH 36 - PROGRESS: at 48.91% examples, 778879 words/s, in_qsize 5, out_qsize 0\n",
      "INFO - 22:32:59: EPOCH 36 - PROGRESS: at 54.79% examples, 775790 words/s, in_qsize 5, out_qsize 0\n",
      "INFO - 22:33:00: EPOCH 36 - PROGRESS: at 60.91% examples, 775967 words/s, in_qsize 5, out_qsize 0\n",
      "INFO - 22:33:01: EPOCH 36 - PROGRESS: at 66.96% examples, 775533 words/s, in_qsize 5, out_qsize 0\n",
      "INFO - 22:33:02: EPOCH 36 - PROGRESS: at 72.90% examples, 773928 words/s, in_qsize 5, out_qsize 0\n",
      "INFO - 22:33:03: EPOCH 36 - PROGRESS: at 78.89% examples, 772038 words/s, in_qsize 5, out_qsize 0\n",
      "INFO - 22:33:04: EPOCH 36 - PROGRESS: at 84.83% examples, 770592 words/s, in_qsize 5, out_qsize 0\n",
      "INFO - 22:33:05: EPOCH 36 - PROGRESS: at 90.89% examples, 771111 words/s, in_qsize 5, out_qsize 0\n",
      "INFO - 22:33:06: EPOCH 36 - PROGRESS: at 96.83% examples, 769475 words/s, in_qsize 5, out_qsize 0\n",
      "INFO - 22:33:07: worker thread finished; awaiting finish of 2 more threads\n",
      "INFO - 22:33:07: worker thread finished; awaiting finish of 1 more threads\n",
      "INFO - 22:33:07: worker thread finished; awaiting finish of 0 more threads\n",
      "INFO - 22:33:07: EPOCH - 36 : training on 17005207 raw words (12820960 effective words) took 16.7s, 768462 effective words/s\n",
      "INFO - 22:33:08: EPOCH 37 - PROGRESS: at 5.35% examples, 683807 words/s, in_qsize 6, out_qsize 0\n",
      "INFO - 22:33:09: EPOCH 37 - PROGRESS: at 10.64% examples, 676256 words/s, in_qsize 5, out_qsize 0\n",
      "INFO - 22:33:10: EPOCH 37 - PROGRESS: at 15.34% examples, 648733 words/s, in_qsize 4, out_qsize 1\n",
      "INFO - 22:33:11: EPOCH 37 - PROGRESS: at 19.75% examples, 623093 words/s, in_qsize 5, out_qsize 0\n",
      "INFO - 22:33:12: EPOCH 37 - PROGRESS: at 24.87% examples, 628236 words/s, in_qsize 5, out_qsize 0\n",
      "INFO - 22:33:13: EPOCH 37 - PROGRESS: at 30.98% examples, 654659 words/s, in_qsize 5, out_qsize 0\n",
      "INFO - 22:33:14: EPOCH 37 - PROGRESS: at 37.10% examples, 673497 words/s, in_qsize 5, out_qsize 0\n",
      "INFO - 22:33:15: EPOCH 37 - PROGRESS: at 43.03% examples, 684278 words/s, in_qsize 5, out_qsize 0\n",
      "INFO - 22:33:16: EPOCH 37 - PROGRESS: at 49.09% examples, 694613 words/s, in_qsize 5, out_qsize 0\n",
      "INFO - 22:33:17: EPOCH 37 - PROGRESS: at 55.09% examples, 701848 words/s, in_qsize 5, out_qsize 0\n",
      "INFO - 22:33:18: EPOCH 37 - PROGRESS: at 61.02% examples, 707175 words/s, in_qsize 5, out_qsize 0\n",
      "INFO - 22:33:19: EPOCH 37 - PROGRESS: at 67.02% examples, 711270 words/s, in_qsize 5, out_qsize 0\n",
      "INFO - 22:33:20: EPOCH 37 - PROGRESS: at 73.02% examples, 715571 words/s, in_qsize 5, out_qsize 0\n",
      "INFO - 22:33:21: EPOCH 37 - PROGRESS: at 79.19% examples, 719710 words/s, in_qsize 6, out_qsize 0\n",
      "INFO - 22:33:22: EPOCH 37 - PROGRESS: at 85.30% examples, 723419 words/s, in_qsize 5, out_qsize 0\n",
      "INFO - 22:33:23: EPOCH 37 - PROGRESS: at 91.01% examples, 723887 words/s, in_qsize 5, out_qsize 0\n",
      "INFO - 22:33:24: EPOCH 37 - PROGRESS: at 97.00% examples, 725972 words/s, in_qsize 5, out_qsize 0\n",
      "INFO - 22:33:24: worker thread finished; awaiting finish of 2 more threads\n",
      "INFO - 22:33:24: worker thread finished; awaiting finish of 1 more threads\n",
      "INFO - 22:33:24: worker thread finished; awaiting finish of 0 more threads\n",
      "INFO - 22:33:24: EPOCH - 37 : training on 17005207 raw words (12820503 effective words) took 17.6s, 726592 effective words/s\n",
      "INFO - 22:33:25: EPOCH 38 - PROGRESS: at 6.11% examples, 771465 words/s, in_qsize 5, out_qsize 0\n",
      "INFO - 22:33:26: EPOCH 38 - PROGRESS: at 12.29% examples, 776240 words/s, in_qsize 5, out_qsize 0\n",
      "INFO - 22:33:27: EPOCH 38 - PROGRESS: at 18.40% examples, 777481 words/s, in_qsize 5, out_qsize 0\n",
      "INFO - 22:33:29: EPOCH 38 - PROGRESS: at 24.75% examples, 783216 words/s, in_qsize 5, out_qsize 0\n",
      "INFO - 22:33:30: EPOCH 38 - PROGRESS: at 30.63% examples, 777116 words/s, in_qsize 5, out_qsize 0\n",
      "INFO - 22:33:31: EPOCH 38 - PROGRESS: at 36.74% examples, 778414 words/s, in_qsize 5, out_qsize 0\n"
     ]
    },
    {
     "name": "stderr",
     "output_type": "stream",
     "text": [
      "INFO - 22:33:32: EPOCH 38 - PROGRESS: at 42.68% examples, 775432 words/s, in_qsize 5, out_qsize 0\n",
      "INFO - 22:33:33: EPOCH 38 - PROGRESS: at 48.50% examples, 771552 words/s, in_qsize 5, out_qsize 0\n",
      "INFO - 22:33:34: EPOCH 38 - PROGRESS: at 53.20% examples, 752264 words/s, in_qsize 5, out_qsize 0\n",
      "INFO - 22:33:35: EPOCH 38 - PROGRESS: at 59.02% examples, 751714 words/s, in_qsize 5, out_qsize 0\n",
      "INFO - 22:33:36: EPOCH 38 - PROGRESS: at 63.79% examples, 739006 words/s, in_qsize 6, out_qsize 0\n",
      "INFO - 22:33:37: EPOCH 38 - PROGRESS: at 69.78% examples, 741063 words/s, in_qsize 5, out_qsize 0\n",
      "INFO - 22:33:38: EPOCH 38 - PROGRESS: at 75.90% examples, 743524 words/s, in_qsize 5, out_qsize 0\n",
      "INFO - 22:33:39: EPOCH 38 - PROGRESS: at 82.01% examples, 745479 words/s, in_qsize 5, out_qsize 0\n",
      "INFO - 22:33:40: EPOCH 38 - PROGRESS: at 88.30% examples, 749269 words/s, in_qsize 5, out_qsize 0\n",
      "INFO - 22:33:41: EPOCH 38 - PROGRESS: at 94.47% examples, 751553 words/s, in_qsize 5, out_qsize 0\n",
      "INFO - 22:33:41: worker thread finished; awaiting finish of 2 more threads\n",
      "INFO - 22:33:41: worker thread finished; awaiting finish of 1 more threads\n",
      "INFO - 22:33:41: worker thread finished; awaiting finish of 0 more threads\n",
      "INFO - 22:33:41: EPOCH - 38 : training on 17005207 raw words (12820146 effective words) took 17.0s, 753022 effective words/s\n",
      "INFO - 22:33:43: EPOCH 39 - PROGRESS: at 5.70% examples, 720239 words/s, in_qsize 5, out_qsize 0\n",
      "INFO - 22:33:44: EPOCH 39 - PROGRESS: at 11.17% examples, 706681 words/s, in_qsize 6, out_qsize 1\n",
      "INFO - 22:33:45: EPOCH 39 - PROGRESS: at 17.34% examples, 734624 words/s, in_qsize 5, out_qsize 0\n",
      "INFO - 22:33:46: EPOCH 39 - PROGRESS: at 23.46% examples, 744196 words/s, in_qsize 4, out_qsize 1\n",
      "INFO - 22:33:47: EPOCH 39 - PROGRESS: at 29.63% examples, 754715 words/s, in_qsize 5, out_qsize 0\n",
      "INFO - 22:33:48: EPOCH 39 - PROGRESS: at 35.74% examples, 760302 words/s, in_qsize 5, out_qsize 0\n",
      "INFO - 22:33:49: EPOCH 39 - PROGRESS: at 41.74% examples, 761340 words/s, in_qsize 5, out_qsize 0\n",
      "INFO - 22:33:50: EPOCH 39 - PROGRESS: at 47.91% examples, 764377 words/s, in_qsize 5, out_qsize 0\n",
      "INFO - 22:33:51: EPOCH 39 - PROGRESS: at 53.91% examples, 765022 words/s, in_qsize 5, out_qsize 0\n",
      "INFO - 22:33:52: EPOCH 39 - PROGRESS: at 59.96% examples, 766232 words/s, in_qsize 5, out_qsize 0\n",
      "INFO - 22:33:53: EPOCH 39 - PROGRESS: at 65.55% examples, 761261 words/s, in_qsize 5, out_qsize 0\n",
      "INFO - 22:33:54: EPOCH 39 - PROGRESS: at 71.49% examples, 761529 words/s, in_qsize 5, out_qsize 0\n",
      "INFO - 22:33:55: EPOCH 39 - PROGRESS: at 77.48% examples, 760325 words/s, in_qsize 4, out_qsize 1\n",
      "INFO - 22:33:56: EPOCH 39 - PROGRESS: at 83.54% examples, 760352 words/s, in_qsize 5, out_qsize 0\n",
      "INFO - 22:33:57: EPOCH 39 - PROGRESS: at 89.71% examples, 762279 words/s, in_qsize 5, out_qsize 0\n",
      "INFO - 22:33:58: EPOCH 39 - PROGRESS: at 95.83% examples, 762663 words/s, in_qsize 5, out_qsize 0\n",
      "INFO - 22:33:58: worker thread finished; awaiting finish of 2 more threads\n",
      "INFO - 22:33:58: worker thread finished; awaiting finish of 1 more threads\n",
      "INFO - 22:33:58: worker thread finished; awaiting finish of 0 more threads\n",
      "INFO - 22:33:58: EPOCH - 39 : training on 17005207 raw words (12822616 effective words) took 16.8s, 763811 effective words/s\n",
      "INFO - 22:33:59: EPOCH 40 - PROGRESS: at 5.88% examples, 747351 words/s, in_qsize 5, out_qsize 0\n",
      "INFO - 22:34:00: EPOCH 40 - PROGRESS: at 12.11% examples, 766512 words/s, in_qsize 5, out_qsize 0\n",
      "INFO - 22:34:01: EPOCH 40 - PROGRESS: at 18.22% examples, 767781 words/s, in_qsize 5, out_qsize 0\n",
      "INFO - 22:34:02: EPOCH 40 - PROGRESS: at 24.22% examples, 768156 words/s, in_qsize 5, out_qsize 0\n",
      "INFO - 22:34:03: EPOCH 40 - PROGRESS: at 30.34% examples, 772397 words/s, in_qsize 5, out_qsize 0\n",
      "INFO - 22:34:04: EPOCH 40 - PROGRESS: at 36.39% examples, 773694 words/s, in_qsize 5, out_qsize 0\n",
      "INFO - 22:34:05: EPOCH 40 - PROGRESS: at 42.33% examples, 771061 words/s, in_qsize 5, out_qsize 0\n",
      "INFO - 22:34:06: EPOCH 40 - PROGRESS: at 48.32% examples, 771025 words/s, in_qsize 5, out_qsize 0\n",
      "INFO - 22:34:07: EPOCH 40 - PROGRESS: at 54.50% examples, 772919 words/s, in_qsize 5, out_qsize 0\n",
      "INFO - 22:34:08: EPOCH 40 - PROGRESS: at 60.67% examples, 773696 words/s, in_qsize 5, out_qsize 0\n",
      "INFO - 22:34:09: EPOCH 40 - PROGRESS: at 66.31% examples, 768679 words/s, in_qsize 5, out_qsize 0\n",
      "INFO - 22:34:10: EPOCH 40 - PROGRESS: at 72.49% examples, 770507 words/s, in_qsize 5, out_qsize 0\n",
      "INFO - 22:34:11: EPOCH 40 - PROGRESS: at 78.66% examples, 770306 words/s, in_qsize 5, out_qsize 0\n",
      "INFO - 22:34:12: EPOCH 40 - PROGRESS: at 84.83% examples, 771182 words/s, in_qsize 5, out_qsize 0\n",
      "INFO - 22:34:13: EPOCH 40 - PROGRESS: at 91.06% examples, 772451 words/s, in_qsize 5, out_qsize 0\n",
      "INFO - 22:34:14: EPOCH 40 - PROGRESS: at 97.18% examples, 772449 words/s, in_qsize 5, out_qsize 0\n",
      "INFO - 22:34:15: worker thread finished; awaiting finish of 2 more threads\n",
      "INFO - 22:34:15: worker thread finished; awaiting finish of 1 more threads\n",
      "INFO - 22:34:15: worker thread finished; awaiting finish of 0 more threads\n",
      "INFO - 22:34:15: EPOCH - 40 : training on 17005207 raw words (12821764 effective words) took 16.6s, 772736 effective words/s\n",
      "INFO - 22:34:15: training on a 680208280 raw words (512831121 effective words) took 681.4s, 752604 effective words/s\n"
     ]
    }
   ],
   "source": [
    "#Train model\n",
    "model = Doc2Vec(vector_size=50, min_count=1, epochs=40)\n",
    "model.build_vocab(train_data)\n",
    "model.train(train_data, total_examples=model.corpus_count, epochs=model.epochs)"
   ]
  },
  {
   "cell_type": "code",
   "execution_count": 51,
   "metadata": {},
   "outputs": [
    {
     "name": "stdout",
     "output_type": "stream",
     "text": [
      "[ 0.18035454  0.41629905  0.25469506 -0.22324803 -0.09268823 -0.05151142\n",
      " -0.08480603 -0.00570442  0.08062097  0.00310741  0.17478175 -0.00154936\n",
      " -0.09330877 -0.02339078  0.0199794   0.04549846 -0.04683316 -0.03828195\n",
      " -0.3936776  -0.2056224  -0.04153012 -0.2085073   0.3692062   0.12547413\n",
      " -0.03771724  0.09459786  0.34567693 -0.34003636 -0.14349678  0.0229786\n",
      "  0.1584827   0.02953391  0.13116093  0.02679738  0.02890064  0.06687283\n",
      "  0.2509888   0.15626836 -0.03766628  0.24216698  0.04326655  0.18548243\n",
      "  0.25629497 -0.10298692 -0.3509259  -0.06340942 -0.22913803 -0.14003526\n",
      "  0.04637286 -0.14653628]\n"
     ]
    }
   ],
   "source": [
    "#Get document vector\n",
    "print(model.infer_vector('gensim is really awesome'.split(' ')))"
   ]
  },
  {
   "cell_type": "markdown",
   "metadata": {},
   "source": [
    "Used materials: \n",
    "    \n",
    "- https://www.machinelearningplus.com/nlp/gensim-tutorial/\n",
    "- https://radimrehurek.com/gensim/models/word2vec.html\n",
    "- https://radimrehurek.com/gensim/models/keyedvectors.html\n",
    "- https://rare-technologies.com/word2vec-tutorial/"
   ]
  }
 ],
 "metadata": {
  "kernelspec": {
   "display_name": "Python 3",
   "language": "python",
   "name": "python3"
  },
  "language_info": {
   "codemirror_mode": {
    "name": "ipython",
    "version": 3
   },
   "file_extension": ".py",
   "mimetype": "text/x-python",
   "name": "python",
   "nbconvert_exporter": "python",
   "pygments_lexer": "ipython3",
   "version": "3.6.8rc1"
  }
 },
 "nbformat": 4,
 "nbformat_minor": 2
}
